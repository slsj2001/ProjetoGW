{
 "cells": [
  {
   "cell_type": "code",
   "execution_count": 55,
   "metadata": {},
   "outputs": [],
   "source": [
    "%matplotlib inline\n",
    "\n",
    "# Usual datascience libs below\n",
    "import matplotlib.pyplot as plt\n",
    "import numpy as np\n",
    "import pandas as pd\n",
    "import seaborn as sns\n",
    "import scipy.stats as stats\n",
    "import random\n",
    "import patsy\n",
    "\n",
    "# Import custom libs below\n",
    "import models\n",
    "\n",
    "# Ignore warnings\n",
    "import warnings\n",
    "warnings.filterwarnings('ignore')\n",
    "\n",
    "# Helper functions\n",
    "def set_seed(seed):\n",
    "    np.random.seed(seed)\n",
    "    random.seed(seed)\n",
    "    \n",
    "def rmse( y, y_hat):\n",
    "    return np.sqrt((1.0/len( y)) * np.sum((y - y_hat)**2))"
   ]
  },
  {
   "cell_type": "markdown",
   "metadata": {},
   "source": [
    "# Module 13 Lab - Rule Based Machine Learning - Example\n",
    "\n",
    "## Directions\n",
    "\n",
    "1. Show all work/steps/calculations. Generate a Markdown/code cells for each answer.\n",
    "2. You must submit your lab by the deadline to the Lab section of the Course Module where you downloaded this file from.\n",
    "3. You may use any core Python libraries or Numpy/Scipy. **Additionally, code from the Module notebooks and lectures is fair to use and modify.** You may also consult Stackoverflow (SO). If you use something from SO, please place a comment with the URL to document the code."
   ]
  },
  {
   "cell_type": "markdown",
   "metadata": {},
   "source": [
    "**Pre-Processing**"
   ]
  },
  {
   "cell_type": "code",
   "execution_count": 2,
   "metadata": {},
   "outputs": [
    {
     "data": {
      "text/html": [
       "<div>\n",
       "<style scoped>\n",
       "    .dataframe tbody tr th:only-of-type {\n",
       "        vertical-align: middle;\n",
       "    }\n",
       "\n",
       "    .dataframe tbody tr th {\n",
       "        vertical-align: top;\n",
       "    }\n",
       "\n",
       "    .dataframe thead th {\n",
       "        text-align: right;\n",
       "    }\n",
       "</style>\n",
       "<table border=\"1\" class=\"dataframe\">\n",
       "  <thead>\n",
       "    <tr style=\"text-align: right;\">\n",
       "      <th></th>\n",
       "      <th>age</th>\n",
       "      <th>sex</th>\n",
       "      <th>bmi</th>\n",
       "      <th>children</th>\n",
       "      <th>smoker</th>\n",
       "      <th>region</th>\n",
       "      <th>charges</th>\n",
       "      <th>bmi_above_30</th>\n",
       "      <th>age_sq</th>\n",
       "    </tr>\n",
       "  </thead>\n",
       "  <tbody>\n",
       "    <tr>\n",
       "      <th>0</th>\n",
       "      <td>19</td>\n",
       "      <td>0</td>\n",
       "      <td>27.900</td>\n",
       "      <td>0</td>\n",
       "      <td>1</td>\n",
       "      <td>3</td>\n",
       "      <td>16884.92400</td>\n",
       "      <td>0</td>\n",
       "      <td>41.8</td>\n",
       "    </tr>\n",
       "    <tr>\n",
       "      <th>1</th>\n",
       "      <td>18</td>\n",
       "      <td>1</td>\n",
       "      <td>33.770</td>\n",
       "      <td>1</td>\n",
       "      <td>0</td>\n",
       "      <td>2</td>\n",
       "      <td>1725.55230</td>\n",
       "      <td>1</td>\n",
       "      <td>39.6</td>\n",
       "    </tr>\n",
       "    <tr>\n",
       "      <th>2</th>\n",
       "      <td>28</td>\n",
       "      <td>1</td>\n",
       "      <td>33.000</td>\n",
       "      <td>3</td>\n",
       "      <td>0</td>\n",
       "      <td>2</td>\n",
       "      <td>4449.46200</td>\n",
       "      <td>1</td>\n",
       "      <td>61.6</td>\n",
       "    </tr>\n",
       "    <tr>\n",
       "      <th>3</th>\n",
       "      <td>33</td>\n",
       "      <td>1</td>\n",
       "      <td>22.705</td>\n",
       "      <td>0</td>\n",
       "      <td>0</td>\n",
       "      <td>1</td>\n",
       "      <td>21984.47061</td>\n",
       "      <td>0</td>\n",
       "      <td>72.6</td>\n",
       "    </tr>\n",
       "    <tr>\n",
       "      <th>4</th>\n",
       "      <td>32</td>\n",
       "      <td>1</td>\n",
       "      <td>28.880</td>\n",
       "      <td>0</td>\n",
       "      <td>0</td>\n",
       "      <td>1</td>\n",
       "      <td>3866.85520</td>\n",
       "      <td>0</td>\n",
       "      <td>70.4</td>\n",
       "    </tr>\n",
       "  </tbody>\n",
       "</table>\n",
       "</div>"
      ],
      "text/plain": [
       "   age  sex     bmi  children  smoker  region      charges  bmi_above_30  \\\n",
       "0   19    0  27.900         0       1       3  16884.92400             0   \n",
       "1   18    1  33.770         1       0       2   1725.55230             1   \n",
       "2   28    1  33.000         3       0       2   4449.46200             1   \n",
       "3   33    1  22.705         0       0       1  21984.47061             0   \n",
       "4   32    1  28.880         0       0       1   3866.85520             0   \n",
       "\n",
       "   age_sq  \n",
       "0    41.8  \n",
       "1    39.6  \n",
       "2    61.6  \n",
       "3    72.6  \n",
       "4    70.4  "
      ]
     },
     "execution_count": 2,
     "metadata": {},
     "output_type": "execute_result"
    }
   ],
   "source": [
    "# Import LabelEncoder\n",
    "from sklearn import preprocessing\n",
    "\n",
    "# Creating labelEncoder\n",
    "le = preprocessing.LabelEncoder()\n",
    "\n",
    "# Import insurance dataset\n",
    "df = pd.read_csv( \"insurance.csv\")\n",
    "\n",
    "# Drop Duplicates\n",
    "df = df.drop_duplicates()\n",
    "\n",
    "# Reset Index since we removed duplicates\n",
    "df = df.reset_index(drop=True)\n",
    "\n",
    "# Convert string class to numerical\n",
    "for i in range(0, df.shape[1]):\n",
    "    if df.dtypes[i]=='object':\n",
    "        df[df.columns[i]] = le.fit_transform(df[df.columns[i]])\n",
    "        \n",
    "# Add \"BMI Above 30 feature\"\n",
    "df[\"bmi_above_30\"] = df.bmi.apply(lambda bmi: 1 if bmi > 30.0 else 0)\n",
    "\n",
    "df['age_sq'] = df['age'] * 2.2\n",
    "\n",
    "# Verify steps are done correctly\n",
    "df.head()"
   ]
  },
  {
   "cell_type": "code",
   "execution_count": 3,
   "metadata": {},
   "outputs": [
    {
     "name": "stdout",
     "output_type": "stream",
     "text": [
      "<class 'pandas.core.frame.DataFrame'>\n",
      "RangeIndex: 1337 entries, 0 to 1336\n",
      "Data columns (total 9 columns):\n",
      "age             1337 non-null int64\n",
      "sex             1337 non-null int64\n",
      "bmi             1337 non-null float64\n",
      "children        1337 non-null int64\n",
      "smoker          1337 non-null int64\n",
      "region          1337 non-null int64\n",
      "charges         1337 non-null float64\n",
      "bmi_above_30    1337 non-null int64\n",
      "age_sq          1337 non-null float64\n",
      "dtypes: float64(3), int64(6)\n",
      "memory usage: 94.1 KB\n"
     ]
    }
   ],
   "source": [
    "df.info()"
   ]
  },
  {
   "cell_type": "markdown",
   "metadata": {},
   "source": [
    "We talked about a wide variety of algorithms this module but we're going to concentrate on just two: Decision Trees and Random Forests.\n",
    "\n",
    "> The requested linear regression comparison was omitted so I'm including it here. We need the actual results to calculate an estimate of the difference of means (\"test\") later."
   ]
  },
  {
   "cell_type": "code",
   "execution_count": 37,
   "metadata": {},
   "outputs": [
    {
     "data": {
      "text/html": [
       "<table><tr><th colspan=3>Linear Regression Results</th></tr><th colspan=3>Coefficients</th></tr><tr><th>$\\theta$</th><th></th><th>95% BCI</th></tr><tr><td> ($\\beta_0$)</td><td>-2550.31</td><td>(-3878.46, -1444.99)</td></tr><tr><td> age_sq  ($\\beta_1$)</td><td>120.32</td><td>(112.28, 129.09)</td></tr><tr><td> sex  ($\\beta_2$)</td><td>-388.70</td><td>(-1008.88, 415.33)</td></tr><tr><td> bmi  ($\\beta_3$)</td><td>6.16</td><td>(-31.34, 41.49)</td></tr><tr><td> smoker  ($\\beta_4$)</td><td>1614.31</td><td>(-1953.68, 5031.11)</td></tr><tr><td> smoker:bmi  ($\\beta_5$)</td><td>463.82</td><td>(327.45, 595.68)</td></tr><tr><td> smoker:bmi_above_30  ($\\beta_6$)</td><td>15278.50</td><td>(13946.04, 16934.11)</td></tr><tr><td> children  ($\\beta_7$)</td><td>567.51</td><td>(301.65, 855.12)</td></tr><tr><td> sex:children ($\\beta_8$)</td><td>-111.89</td><td>(-420.97, 256.30)</td></tr><tr><th colspan=3>Metrics</th></tr><tr><td>$\\sigma$</td><td>4419.48</td><td>(4026.71, 4736.66)</td><td></td></tr><tr><td>$R^2$</td><td>0.87</td><td>(0.85, 0.89)</td><td></td></tr></table>"
      ],
      "text/latex": [
       "\\begin{table}[!htbp] \\begin{tabular}{lll} \\hline \\multicolumn{3}{c}{\\textbf{Linear Regression}} \\\\ \\hline \\hline \\multicolumn{3}{l}{\\textbf{Coefficients}}        \\\\ \\hline $\\theta$       &          & 95\\% BCI           \\\\ ($\\beta_0$)      & -2550.31   & (-3878.46, -1444.99)          \\\\ age\\_sq  ($\\beta_1$)      & 120.32   & (112.28, 129.09)          \\\\ sex  ($\\beta_2$)      & -388.70   & (-1008.88, 415.33)          \\\\ bmi  ($\\beta_3$)      & 6.16   & (-31.34, 41.49)          \\\\ smoker  ($\\beta_4$)      & 1614.31   & (-1953.68, 5031.11)          \\\\ smoker:bmi  ($\\beta_5$)      & 463.82   & (327.45, 595.68)          \\\\ smoker:bmi\\_above\\_30  ($\\beta_6$)      & 15278.50   & (13946.04, 16934.11)          \\\\ children  ($\\beta_7$)      & 567.51   & (301.65, 855.12)          \\\\ sex:children ($\\beta_8$)      & -111.89   & (-420.97, 256.30)          \\\\\\hline \\multicolumn{3}{l}{\\textbf{Metrics}}             \\\\ \\hline $\\sigma$      & 4419.48   & (4026.71, 4736.66)          \\\\$R^2$      & 0.87   & (0.85, 0.89)          \\\\\\hline\\end{tabular}\\end{table}"
      ],
      "text/plain": [
       "<models.ResultsView at 0x10eccf1d0>"
      ]
     },
     "execution_count": 37,
     "metadata": {},
     "output_type": "execute_result"
    }
   ],
   "source": [
    "model = \"charges ~ age_sq + sex + bmi + smoker + smoker:bmi + smoker:bmi_above_30 + children + sex:children\"\n",
    "lr_result = models.bootstrap_linear_regression(model, data=df)\n",
    "models.describe_bootstrap_lr(lr_result)"
   ]
  },
  {
   "cell_type": "code",
   "execution_count": 51,
   "metadata": {},
   "outputs": [],
   "source": [
    "def chunk(xs, n):\n",
    "    k, m = divmod(len(xs), n)\n",
    "    return [xs[i * k + min(i, m):(i + 1) * k + min(i + 1, m)] for i in range(n)]\n",
    "\n",
    "def cross_validation(algorithm, formula, data, evaluate, fold_count=10, repetitions=3):\n",
    "    indices = list(range(len( data)))\n",
    "    metrics = []\n",
    "    for _ in range(repetitions):\n",
    "        random.shuffle(indices)\n",
    "        folds = chunk(indices, fold_count)\n",
    "        for fold in folds:\n",
    "            test_data = data.iloc[fold]\n",
    "            train_indices = [idx not in fold for idx in indices]\n",
    "            train_data = data.iloc[train_indices]\n",
    "            result = algorithm(formula, data=train_data)\n",
    "            model = result[\"model\"]\n",
    "            y, X = patsy.dmatrices(formula, test_data, return_type=\"matrix\")\n",
    "            # y = np.ravel( y) # might need for logistic regression\n",
    "            results = models.summarize(formula, X, y, model)\n",
    "            metric = evaluate(results)\n",
    "            metrics.append(metric)\n",
    "    return metrics"
   ]
  },
  {
   "cell_type": "markdown",
   "metadata": {},
   "source": [
    "Here are the cross validation results for this linear regression model:"
   ]
  },
  {
   "cell_type": "code",
   "execution_count": 56,
   "metadata": {},
   "outputs": [],
   "source": [
    "formula = \"charges ~ age_sq + sex + bmi + smoker + smoker:bmi + smoker:bmi_above_30 + children + sex:children\"\n",
    "lr_result = cross_validation(models.linear_regression, formula, df, lambda r: (r[\"sigma\"], r[\"r_squared\"]))"
   ]
  },
  {
   "cell_type": "markdown",
   "metadata": {},
   "source": [
    "**Problem 1.**\n",
    "\n",
    "Using the insurance data set, construct a Decision Tree to estimate charges using the Scikit Learn Library [Decision Tree](https://scikit-learn.org/stable/modules/tree.html). You should use validation curves to estimate the best tree depth. With this tree depth, perform 3 rounds of 10 fold cross validation to get a sense of generalization error and learning curves to estimate bias/variance trade-off.\n",
    "\n",
    "Visualize the tree if possible. \n",
    "\n",
    "Compare with your linear regression results. Use Bayesian inference to test the difference of means."
   ]
  },
  {
   "cell_type": "code",
   "execution_count": 4,
   "metadata": {
    "scrolled": true
   },
   "outputs": [
    {
     "name": "stdout",
     "output_type": "stream",
     "text": [
      "Decision Tree Regressor,  R^2: 0.723599\n",
      "Decision Tree Regressor, RMSE: 6223.656541\n",
      "0.7235989956308251\n",
      "6223.656540709659\n"
     ]
    }
   ],
   "source": [
    "seed = 101\n",
    "set_seed(seed)\n",
    "\n",
    "# Import train_test_split function\n",
    "from sklearn.model_selection import train_test_split\n",
    "\n",
    "features = ['age', 'smoker', 'bmi_above_30', 'sex', 'children', 'region']\n",
    "\n",
    "# Train, test, split the data\n",
    "X = df[features] # Features\n",
    "y = df['charges'] # Labels\n",
    "\n",
    "# Split dataset into training set and test set\n",
    "X_train, X_test, y_train, y_test = train_test_split(X, y, test_size=0.3, random_state=seed) # 70% training and 30% test\n",
    "\n",
    "# Decision Tree Regressor\n",
    "from sklearn.tree import DecisionTreeRegressor\n",
    "regressor = DecisionTreeRegressor(random_state=seed)\n",
    "\n",
    "#Train the model using the training sets \n",
    "regressor.fit(X_train,y_train)\n",
    "y_true = np.array(y_test)\n",
    "y_pred = regressor.predict(X_test)\n",
    "\n",
    "# Print Evaluation Metrics\n",
    "print('Decision Tree Regressor,  R^2: %f' % regressor.score(X_test, y_test))\n",
    "print('Decision Tree Regressor, RMSE: %f' % rmse(y_true, y_pred))\n",
    "from sklearn.metrics import r2_score,mean_squared_error\n",
    "print(r2_score(y_true, y_pred))\n",
    "print(np.sqrt(mean_squared_error(y_true, y_pred)))"
   ]
  },
  {
   "cell_type": "markdown",
   "metadata": {},
   "source": [
    "If we recall previous linear regression model, below are the metrics we got:\n",
    "\n",
    "Linear Regression RMSE: 4404.579005\n",
    "Linear Regression $R^2$: 0.87\n",
    "\n",
    "The current Decision Tree Regression without figuring out the best tree depth is actually doing worse than Linear Regression Model, so now let's find out the best tree depth with validation curve."
   ]
  },
  {
   "cell_type": "code",
   "execution_count": 5,
   "metadata": {},
   "outputs": [],
   "source": [
    "def validation_curve(seed, X, y, min_depth, max_depth, test_size=0.30):\n",
    "    train_scores = []\n",
    "    test_scores = []\n",
    "    \n",
    "    for i in range(min_depth, max_depth + 1):\n",
    "        from sklearn.model_selection import train_test_split\n",
    "        X_train, X_test, y_train, y_test = train_test_split(X, y, test_size=test_size, random_state=seed)\n",
    "        \n",
    "        reg = DecisionTreeRegressor(random_state=seed, max_depth=i)\n",
    "        \n",
    "        reg.fit(X_train, y_train)\n",
    "        y_pred = reg.predict(X_train)\n",
    "        train_scores.append(rmse(y_train, y_pred))\n",
    "        \n",
    "        y_pred = reg.predict(X_test)\n",
    "        test_scores.append(rmse(y_test, y_pred))\n",
    "        \n",
    "    return train_scores, test_scores"
   ]
  },
  {
   "cell_type": "code",
   "execution_count": 6,
   "metadata": {},
   "outputs": [
    {
     "data": {
      "image/png": "[encoded data removed]",
      "text/plain": [
       "<Figure size 720x432 with 1 Axes>"
      ]
     },
     "metadata": {},
     "output_type": "display_data"
    }
   ],
   "source": [
    "seed = 101\n",
    "min_depth = 1\n",
    "max_depth = 8\n",
    "param_range = range(min_depth, max_depth + 1)\n",
    "x_label = 'Tree Depth'\n",
    "y_label = 'RMSE'\n",
    "title = \"Validation Curves for {0} to {1} tree depth\".format(min_depth, max_depth)\n",
    "\n",
    "train_scores, test_scores = validation_curve(seed, X, y, min_depth, max_depth)\n",
    "\n",
    "figure = plt.figure(figsize=(10,6))\n",
    "axes = figure.add_subplot(1, 1, 1)\n",
    "axes.plot(param_range, train_scores, 'o-', color=\"steelblue\", alpha=0.75, label=\"Training score\")\n",
    "axes.plot(param_range, test_scores, \"o-\", color=\"firebrick\", alpha=0.75, label=\"Test score\")\n",
    "axes.set_xlabel(x_label)\n",
    "axes.set_ylabel(y_label)\n",
    "axes.set_title(title)\n",
    "plt.legend(loc=\"best\")\n",
    "plt.show()\n",
    "plt.close()"
   ]
  },
  {
   "cell_type": "markdown",
   "metadata": {},
   "source": [
    "It looks like tree depth of 4 is the sweet spot for best bias/variance trade off, as we increase tree depth we tend to overfit the model."
   ]
  },
  {
   "cell_type": "code",
   "execution_count": 7,
   "metadata": {},
   "outputs": [
    {
     "name": "stdout",
     "output_type": "stream",
     "text": [
      "0.8541995009265271\n"
     ]
    }
   ],
   "source": [
    "# Set Seed first\n",
    "seed = 101\n",
    "\n",
    "# Perform 10 fold CV\n",
    "from sklearn import model_selection\n",
    "kfold = model_selection.KFold(n_splits=10, random_state=seed)\n",
    "\n",
    "#Train the model using the training sets \n",
    "regressor = DecisionTreeRegressor(random_state=seed, max_depth=4)\n",
    "regressor.fit(X_train,y_train)\n",
    "results = model_selection.cross_val_score(regressor, X, y, cv=kfold)\n",
    "print(results.mean())"
   ]
  },
  {
   "cell_type": "markdown",
   "metadata": {},
   "source": [
    "The CV mean results are pretty good.\n",
    "\n",
    "> I asked for 3 rounds of 10 fold cross validation which I am adding here:\n",
    "\n",
    "## Bayesian Inference"
   ]
  },
  {
   "cell_type": "code",
   "execution_count": 41,
   "metadata": {},
   "outputs": [],
   "source": [
    "dt_results = []\n",
    "for i in range(0, 3):\n",
    "    kfold = model_selection.KFold(n_splits=10, random_state=seed)\n",
    "\n",
    "    #Train the model using the training sets \n",
    "    regressor = DecisionTreeRegressor(random_state=seed, max_depth=4)\n",
    "    regressor.fit(X_train,y_train)\n",
    "    results = model_selection.cross_val_score(regressor, X, y, cv=kfold)\n",
    "    dt_results = np.concatenate((dt_results, results), axis=None)"
   ]
  },
  {
   "cell_type": "markdown",
   "metadata": {},
   "source": [
    "The mean results are:"
   ]
  },
  {
   "cell_type": "code",
   "execution_count": 43,
   "metadata": {},
   "outputs": [
    {
     "data": {
      "text/plain": [
       "0.8541995009265271"
      ]
     },
     "execution_count": 43,
     "metadata": {},
     "output_type": "execute_result"
    }
   ],
   "source": [
    "np.mean(dt_results)"
   ]
  },
  {
   "cell_type": "markdown",
   "metadata": {},
   "source": [
    "Now we can use the bootstrap to estimate the difference of means for the two models:"
   ]
  },
  {
   "cell_type": "code",
   "execution_count": 44,
   "metadata": {},
   "outputs": [],
   "source": [
    "def bootstrap_sample( data, f, n=100):\n",
    "    result = []\n",
    "    m = len( data)\n",
    "    for _ in range( n):\n",
    "        sample = np.random.choice( data, len(data), replace=True)\n",
    "        r = f( sample)\n",
    "        result.append( r)\n",
    "    return np.array( result)"
   ]
  },
  {
   "cell_type": "code",
   "execution_count": 57,
   "metadata": {},
   "outputs": [],
   "source": [
    "lr_bootstrap = bootstrap_sample([r[1] for r in lr_result], np.mean)\n",
    "dt_bootstrap = bootstrap_sample(dt_results, np.mean)\n",
    "difference = dt_bootstrap - lr_bootstrap"
   ]
  },
  {
   "cell_type": "code",
   "execution_count": 58,
   "metadata": {},
   "outputs": [
    {
     "data": {
      "image/png": "[encoded data removed]",
      "text/plain": [
       "<Figure size 1440x432 with 3 Axes>"
      ]
     },
     "metadata": {},
     "output_type": "display_data"
    }
   ],
   "source": [
    "figure = plt.figure(figsize=(20, 6)) # first element is width, second is height.\n",
    "\n",
    "axes = figure.add_subplot(1, 3, 1)\n",
    "\n",
    "axes.hist(dt_bootstrap, density=True)\n",
    "axes.set_ylabel( \"Density\")\n",
    "axes.set_xlabel( \"$R^2$\")\n",
    "axes.set_title( \"Posterior Distribution of Decision Tree $R^2$\")\n",
    "\n",
    "axes = figure.add_subplot(1, 3, 2)\n",
    "\n",
    "axes.hist(lr_bootstrap, density=True)\n",
    "axes.set_ylabel( \"Density\")\n",
    "axes.set_xlabel( \"$R^2$\")\n",
    "axes.set_title( \"Posterior Distribution of Linear Regression $R^2$\")\n",
    "\n",
    "axes = figure.add_subplot(1, 3, 3)\n",
    "\n",
    "axes.hist( difference, density=True)\n",
    "axes.set_ylabel( \"Density\")\n",
    "axes.set_xlabel( \"Difference\")\n",
    "axes.set_title( \"Posterior Distribution of Difference in $R^2$\")\n",
    "\n",
    "plt.show()\n",
    "plt.close()"
   ]
  },
  {
   "cell_type": "markdown",
   "metadata": {},
   "source": [
    "It looks like the Decision Tree is a bit worse, what is the probability that it's mean $R^2$ is better than the mean $R^2$ for the linear regression?"
   ]
  },
  {
   "cell_type": "code",
   "execution_count": 60,
   "metadata": {},
   "outputs": [
    {
     "name": "stdout",
     "output_type": "stream",
     "text": [
      "P(DT > LR) 0.24\n",
      "P(LR > DT) 0.76\n"
     ]
    }
   ],
   "source": [
    "print(\"P(DT > LR)\", np.mean(difference >= 0))\n",
    "print(\"P(LR > DT)\", np.mean(difference < 0))"
   ]
  },
  {
   "cell_type": "markdown",
   "metadata": {},
   "source": [
    "There's only a 24% probability, based on the evidence, that the Decision Tree is a better model (with the current features).\n",
    "\n",
    "## Learning Curves\n",
    "\n",
    "What should we do to make the Decision Tree better?"
   ]
  },
  {
   "cell_type": "code",
   "execution_count": 8,
   "metadata": {},
   "outputs": [],
   "source": [
    "# Source: https://scikit-learn.org/stable/auto_examples/model_selection/plot_learning_curve.html#sphx-glr-auto-examples-model-selection-plot-learning-curve-py\n",
    "def plot_learning_curve(estimator, title, X, y, ylim=None, cv=None,\n",
    "                        n_jobs=None, train_sizes=np.linspace(.1, 1.0, 5)):\n",
    "    from sklearn.model_selection import learning_curve\n",
    "    plt.figure(figsize=(10, 6))\n",
    "    plt.title(title)\n",
    "    if ylim is not None:\n",
    "        plt.ylim(*ylim)\n",
    "    plt.xlabel(\"Training examples\")\n",
    "    plt.ylabel(\"Score\")\n",
    "    train_sizes, train_scores, test_scores = learning_curve(\n",
    "        estimator, X, y, cv=cv, n_jobs=n_jobs, train_sizes=train_sizes, scoring='neg_mean_squared_error')\n",
    "    train_scores_mean = np.mean(train_scores, axis=1)\n",
    "    train_scores_std = np.std(train_scores, axis=1)\n",
    "    test_scores_mean = np.mean(test_scores, axis=1)\n",
    "    test_scores_std = np.std(test_scores, axis=1)\n",
    "    plt.grid()\n",
    "\n",
    "    plt.fill_between(train_sizes, train_scores_mean - train_scores_std,\n",
    "                     train_scores_mean + train_scores_std, alpha=0.25,\n",
    "                     color=\"steelblue\")\n",
    "    plt.fill_between(train_sizes, test_scores_mean - test_scores_std,\n",
    "                     test_scores_mean + test_scores_std, alpha=0.25, color=\"firebrick\")\n",
    "    plt.plot(train_sizes, train_scores_mean, 'o-', color=\"steelblue\",\n",
    "             label=\"Training score\")\n",
    "    plt.plot(train_sizes, test_scores_mean, 'o-', color=\"firebrick\",\n",
    "             label=\"Cross-validation score\")\n",
    "\n",
    "    plt.legend(loc=\"best\")\n",
    "    plt.show()\n",
    "    plt.close()"
   ]
  },
  {
   "cell_type": "code",
   "execution_count": 9,
   "metadata": {},
   "outputs": [
    {
     "data": {
      "image/png": "[encoded data removed]",
      "text/plain": [
       "<Figure size 720x432 with 1 Axes>"
      ]
     },
     "metadata": {},
     "output_type": "display_data"
    }
   ],
   "source": [
    "seed = 101\n",
    "title = \"Learning Curves (Decision Regression)\"\n",
    "estimator = DecisionTreeRegressor(random_state=seed, max_depth=4)\n",
    "plot_learning_curve(estimator, title, X, y, cv=10, n_jobs=1)"
   ]
  },
  {
   "cell_type": "markdown",
   "metadata": {},
   "source": [
    "As we discussed in previous labs, increasing training samples doesn't help improve the model, which is clearly seen here in this case.\n",
    "\n",
    "> The scale here is in 1e7! Always look at the scale or you can be deceived."
   ]
  },
  {
   "cell_type": "code",
   "execution_count": 10,
   "metadata": {},
   "outputs": [
    {
     "data": {
      "image/svg+xml": [
       "<svg height=\"458pt\" viewBox=\"0.00 0.00 2377.45 458.00\" width=\"2377pt\" xmlns=\"http://www.w3.org/2000/svg\" xmlns:xlink=\"http://www.w3.org/1999/xlink\">\n",
       "<g class=\"graph\" id=\"graph0\" transform=\"scale(1 1) rotate(0) translate(4 454)\">\n",
       "<title>Tree</title>\n",
       "<polygon fill=\"#ffffff\" points=\"-4,4 -4,-454 2373.4473,-454 2373.4473,4 -4,4\" stroke=\"transparent\"/>\n",
       "<!-- 0 -->\n",
       "<g class=\"node\" id=\"node1\">\n",
       "<title>0</title>\n",
       "<polygon fill=\"#e58139\" fill-opacity=\"0.239216\" points=\"1262.9209,-450 1129.0264,-450 1129.0264,-386 1262.9209,-386 1262.9209,-450\" stroke=\"#000000\"/>\n",
       "<text fill=\"#000000\" font-family=\"Times,serif\" font-size=\"14.00\" text-anchor=\"middle\" x=\"1195.9736\" y=\"-434.8\">smoker &lt;= 0.5</text>\n",
       "<text fill=\"#000000\" font-family=\"Times,serif\" font-size=\"14.00\" text-anchor=\"middle\" x=\"1195.9736\" y=\"-420.8\">mse = 149083225.18</text>\n",
       "<text fill=\"#000000\" font-family=\"Times,serif\" font-size=\"14.00\" text-anchor=\"middle\" x=\"1195.9736\" y=\"-406.8\">samples = 935</text>\n",
       "<text fill=\"#000000\" font-family=\"Times,serif\" font-size=\"14.00\" text-anchor=\"middle\" x=\"1195.9736\" y=\"-392.8\">value = 13539.674</text>\n",
       "</g>\n",
       "<!-- 1 -->\n",
       "<g class=\"node\" id=\"node2\">\n",
       "<title>1</title>\n",
       "<polygon fill=\"#e58139\" fill-opacity=\"0.121569\" points=\"969.9209,-350 836.0264,-350 836.0264,-286 969.9209,-286 969.9209,-350\" stroke=\"#000000\"/>\n",
       "<text fill=\"#000000\" font-family=\"Times,serif\" font-size=\"14.00\" text-anchor=\"middle\" x=\"902.9736\" y=\"-334.8\">age &lt;= 46.5</text>\n",
       "<text fill=\"#000000\" font-family=\"Times,serif\" font-size=\"14.00\" text-anchor=\"middle\" x=\"902.9736\" y=\"-320.8\">mse = 34686136.747</text>\n",
       "<text fill=\"#000000\" font-family=\"Times,serif\" font-size=\"14.00\" text-anchor=\"middle\" x=\"902.9736\" y=\"-306.8\">samples = 727</text>\n",
       "<text fill=\"#000000\" font-family=\"Times,serif\" font-size=\"14.00\" text-anchor=\"middle\" x=\"902.9736\" y=\"-292.8\">value = 8384.686</text>\n",
       "</g>\n",
       "<!-- 0&#45;&gt;1 -->\n",
       "<g class=\"edge\" id=\"edge1\">\n",
       "<title>0-&gt;1</title>\n",
       "<path d=\"M1128.7535,-395.058C1084.3517,-379.9038 1026.0458,-360.0042 979.8082,-344.2234\" fill=\"none\" stroke=\"#000000\"/>\n",
       "<polygon fill=\"#000000\" points=\"980.7287,-340.8394 970.1342,-340.9217 978.4676,-347.4642 980.7287,-340.8394\" stroke=\"#000000\"/>\n",
       "<text fill=\"#000000\" font-family=\"Times,serif\" font-size=\"14.00\" text-anchor=\"middle\" x=\"981.1543\" y=\"-359.1617\">True</text>\n",
       "</g>\n",
       "<!-- 16 -->\n",
       "<g class=\"node\" id=\"node17\">\n",
       "<title>16</title>\n",
       "<polygon fill=\"#e58139\" fill-opacity=\"0.643137\" points=\"1560.9726,-350 1420.9747,-350 1420.9747,-286 1560.9726,-286 1560.9726,-350\" stroke=\"#000000\"/>\n",
       "<text fill=\"#000000\" font-family=\"Times,serif\" font-size=\"14.00\" text-anchor=\"middle\" x=\"1490.9736\" y=\"-334.8\">bmi_above_30 &lt;= 0.5</text>\n",
       "<text fill=\"#000000\" font-family=\"Times,serif\" font-size=\"14.00\" text-anchor=\"middle\" x=\"1490.9736\" y=\"-320.8\">mse = 131405626.61</text>\n",
       "<text fill=\"#000000\" font-family=\"Times,serif\" font-size=\"14.00\" text-anchor=\"middle\" x=\"1490.9736\" y=\"-306.8\">samples = 208</text>\n",
       "<text fill=\"#000000\" font-family=\"Times,serif\" font-size=\"14.00\" text-anchor=\"middle\" x=\"1490.9736\" y=\"-292.8\">value = 31557.347</text>\n",
       "</g>\n",
       "<!-- 0&#45;&gt;16 -->\n",
       "<g class=\"edge\" id=\"edge16\">\n",
       "<title>0-&gt;16</title>\n",
       "<path d=\"M1263.2828,-395.1833C1307.3384,-380.2492 1365.1069,-360.6667 1411.4309,-344.9636\" fill=\"none\" stroke=\"#000000\"/>\n",
       "<polygon fill=\"#000000\" points=\"1412.7862,-348.1999 1421.1332,-341.6747 1410.5389,-341.5704 1412.7862,-348.1999\" stroke=\"#000000\"/>\n",
       "<text fill=\"#000000\" font-family=\"Times,serif\" font-size=\"14.00\" text-anchor=\"middle\" x=\"1410.0665\" y=\"-359.8919\">False</text>\n",
       "</g>\n",
       "<!-- 2 -->\n",
       "<g class=\"node\" id=\"node3\">\n",
       "<title>2</title>\n",
       "<polygon fill=\"#e58139\" fill-opacity=\"0.066667\" points=\"513.9209,-250 380.0264,-250 380.0264,-186 513.9209,-186 513.9209,-250\" stroke=\"#000000\"/>\n",
       "<text fill=\"#000000\" font-family=\"Times,serif\" font-size=\"14.00\" text-anchor=\"middle\" x=\"446.9736\" y=\"-234.8\">age &lt;= 22.5</text>\n",
       "<text fill=\"#000000\" font-family=\"Times,serif\" font-size=\"14.00\" text-anchor=\"middle\" x=\"446.9736\" y=\"-220.8\">mse = 23461697.862</text>\n",
       "<text fill=\"#000000\" font-family=\"Times,serif\" font-size=\"14.00\" text-anchor=\"middle\" x=\"446.9736\" y=\"-206.8\">samples = 464</text>\n",
       "<text fill=\"#000000\" font-family=\"Times,serif\" font-size=\"14.00\" text-anchor=\"middle\" x=\"446.9736\" y=\"-192.8\">value = 5879.385</text>\n",
       "</g>\n",
       "<!-- 1&#45;&gt;2 -->\n",
       "<g class=\"edge\" id=\"edge2\">\n",
       "<title>1-&gt;2</title>\n",
       "<path d=\"M835.6893,-303.2447C752.555,-285.0135 611.4189,-254.0626 524.0212,-234.8964\" fill=\"none\" stroke=\"#000000\"/>\n",
       "<polygon fill=\"#000000\" points=\"524.6799,-231.4577 514.1623,-232.7343 523.1804,-238.2953 524.6799,-231.4577\" stroke=\"#000000\"/>\n",
       "</g>\n",
       "<!-- 9 -->\n",
       "<g class=\"node\" id=\"node10\">\n",
       "<title>9</title>\n",
       "<polygon fill=\"#e58139\" fill-opacity=\"0.223529\" points=\"969.9209,-250 836.0264,-250 836.0264,-186 969.9209,-186 969.9209,-250\" stroke=\"#000000\"/>\n",
       "<text fill=\"#000000\" font-family=\"Times,serif\" font-size=\"14.00\" text-anchor=\"middle\" x=\"902.9736\" y=\"-234.8\">age &lt;= 58.5</text>\n",
       "<text fill=\"#000000\" font-family=\"Times,serif\" font-size=\"14.00\" text-anchor=\"middle\" x=\"902.9736\" y=\"-220.8\">mse = 23879131.691</text>\n",
       "<text fill=\"#000000\" font-family=\"Times,serif\" font-size=\"14.00\" text-anchor=\"middle\" x=\"902.9736\" y=\"-206.8\">samples = 263</text>\n",
       "<text fill=\"#000000\" font-family=\"Times,serif\" font-size=\"14.00\" text-anchor=\"middle\" x=\"902.9736\" y=\"-192.8\">value = 12804.685</text>\n",
       "</g>\n",
       "<!-- 1&#45;&gt;9 -->\n",
       "<g class=\"edge\" id=\"edge9\">\n",
       "<title>1-&gt;9</title>\n",
       "<path d=\"M902.9736,-285.8089C902.9736,-277.6906 902.9736,-268.8517 902.9736,-260.3186\" fill=\"none\" stroke=\"#000000\"/>\n",
       "<polygon fill=\"#000000\" points=\"906.4737,-260.1307 902.9736,-250.1308 899.4737,-260.1308 906.4737,-260.1307\" stroke=\"#000000\"/>\n",
       "</g>\n",
       "<!-- 3 -->\n",
       "<g class=\"node\" id=\"node4\">\n",
       "<title>3</title>\n",
       "<polygon fill=\"#e58139\" fill-opacity=\"0.011765\" points=\"285.9209,-150 152.0264,-150 152.0264,-86 285.9209,-86 285.9209,-150\" stroke=\"#000000\"/>\n",
       "<text fill=\"#000000\" font-family=\"Times,serif\" font-size=\"14.00\" text-anchor=\"middle\" x=\"218.9736\" y=\"-134.8\">children &lt;= 1.5</text>\n",
       "<text fill=\"#000000\" font-family=\"Times,serif\" font-size=\"14.00\" text-anchor=\"middle\" x=\"218.9736\" y=\"-120.8\">mse = 24923769.804</text>\n",
       "<text fill=\"#000000\" font-family=\"Times,serif\" font-size=\"14.00\" text-anchor=\"middle\" x=\"218.9736\" y=\"-106.8\">samples = 122</text>\n",
       "<text fill=\"#000000\" font-family=\"Times,serif\" font-size=\"14.00\" text-anchor=\"middle\" x=\"218.9736\" y=\"-92.8\">value = 3465.15</text>\n",
       "</g>\n",
       "<!-- 2&#45;&gt;3 -->\n",
       "<g class=\"edge\" id=\"edge3\">\n",
       "<title>2-&gt;3</title>\n",
       "<path d=\"M379.7993,-188.5376C353.3613,-176.942 322.8565,-163.5627 295.5678,-151.5939\" fill=\"none\" stroke=\"#000000\"/>\n",
       "<polygon fill=\"#000000\" points=\"296.6252,-148.2359 286.0615,-147.4245 293.8135,-154.6464 296.6252,-148.2359\" stroke=\"#000000\"/>\n",
       "</g>\n",
       "<!-- 6 -->\n",
       "<g class=\"node\" id=\"node7\">\n",
       "<title>6</title>\n",
       "<polygon fill=\"#e58139\" fill-opacity=\"0.086275\" points=\"513.9089,-150 380.0384,-150 380.0384,-86 513.9089,-86 513.9089,-150\" stroke=\"#000000\"/>\n",
       "<text fill=\"#000000\" font-family=\"Times,serif\" font-size=\"14.00\" text-anchor=\"middle\" x=\"446.9736\" y=\"-134.8\">age &lt;= 36.5</text>\n",
       "<text fill=\"#000000\" font-family=\"Times,serif\" font-size=\"14.00\" text-anchor=\"middle\" x=\"446.9736\" y=\"-120.8\">mse = 20119259.522</text>\n",
       "<text fill=\"#000000\" font-family=\"Times,serif\" font-size=\"14.00\" text-anchor=\"middle\" x=\"446.9736\" y=\"-106.8\">samples = 342</text>\n",
       "<text fill=\"#000000\" font-family=\"Times,serif\" font-size=\"14.00\" text-anchor=\"middle\" x=\"446.9736\" y=\"-92.8\">value = 6740.604</text>\n",
       "</g>\n",
       "<!-- 2&#45;&gt;6 -->\n",
       "<g class=\"edge\" id=\"edge6\">\n",
       "<title>2-&gt;6</title>\n",
       "<path d=\"M446.9736,-185.8089C446.9736,-177.6906 446.9736,-168.8517 446.9736,-160.3186\" fill=\"none\" stroke=\"#000000\"/>\n",
       "<polygon fill=\"#000000\" points=\"450.4737,-160.1307 446.9736,-150.1308 443.4737,-160.1308 450.4737,-160.1307\" stroke=\"#000000\"/>\n",
       "</g>\n",
       "<!-- 4 -->\n",
       "<g class=\"node\" id=\"node5\">\n",
       "<title>4</title>\n",
       "<polygon fill=\"transparent\" points=\"133.9209,-50 .0264,-50 .0264,0 133.9209,0 133.9209,-50\" stroke=\"#000000\"/>\n",
       "<text fill=\"#000000\" font-family=\"Times,serif\" font-size=\"14.00\" text-anchor=\"middle\" x=\"66.9736\" y=\"-34.8\">mse = 17791887.504</text>\n",
       "<text fill=\"#000000\" font-family=\"Times,serif\" font-size=\"14.00\" text-anchor=\"middle\" x=\"66.9736\" y=\"-20.8\">samples = 103</text>\n",
       "<text fill=\"#000000\" font-family=\"Times,serif\" font-size=\"14.00\" text-anchor=\"middle\" x=\"66.9736\" y=\"-6.8\">value = 2915.953</text>\n",
       "</g>\n",
       "<!-- 3&#45;&gt;4 -->\n",
       "<g class=\"edge\" id=\"edge4\">\n",
       "<title>3-&gt;4</title>\n",
       "<path d=\"M166.6639,-85.9947C150.4334,-76.0642 132.6013,-65.1538 116.5617,-55.3401\" fill=\"none\" stroke=\"#000000\"/>\n",
       "<polygon fill=\"#000000\" points=\"118.2135,-52.2476 107.8568,-50.014 114.5602,-58.2186 118.2135,-52.2476\" stroke=\"#000000\"/>\n",
       "</g>\n",
       "<!-- 5 -->\n",
       "<g class=\"node\" id=\"node6\">\n",
       "<title>5</title>\n",
       "<polygon fill=\"#e58139\" fill-opacity=\"0.078431\" points=\"285.9209,-50 152.0264,-50 152.0264,0 285.9209,0 285.9209,-50\" stroke=\"#000000\"/>\n",
       "<text fill=\"#000000\" font-family=\"Times,serif\" font-size=\"14.00\" text-anchor=\"middle\" x=\"218.9736\" y=\"-34.8\">mse = 53087097.621</text>\n",
       "<text fill=\"#000000\" font-family=\"Times,serif\" font-size=\"14.00\" text-anchor=\"middle\" x=\"218.9736\" y=\"-20.8\">samples = 19</text>\n",
       "<text fill=\"#000000\" font-family=\"Times,serif\" font-size=\"14.00\" text-anchor=\"middle\" x=\"218.9736\" y=\"-6.8\">value = 6442.38</text>\n",
       "</g>\n",
       "<!-- 3&#45;&gt;5 -->\n",
       "<g class=\"edge\" id=\"edge5\">\n",
       "<title>3-&gt;5</title>\n",
       "<path d=\"M218.9736,-85.9947C218.9736,-77.6273 218.9736,-68.5643 218.9736,-60.0478\" fill=\"none\" stroke=\"#000000\"/>\n",
       "<polygon fill=\"#000000\" points=\"222.4737,-60.014 218.9736,-50.014 215.4737,-60.0141 222.4737,-60.014\" stroke=\"#000000\"/>\n",
       "</g>\n",
       "<!-- 7 -->\n",
       "<g class=\"node\" id=\"node8\">\n",
       "<title>7</title>\n",
       "<polygon fill=\"#e58139\" fill-opacity=\"0.066667\" points=\"437.9209,-50 304.0264,-50 304.0264,0 437.9209,0 437.9209,-50\" stroke=\"#000000\"/>\n",
       "<text fill=\"#000000\" font-family=\"Times,serif\" font-size=\"14.00\" text-anchor=\"middle\" x=\"370.9736\" y=\"-34.8\">mse = 24163106.015</text>\n",
       "<text fill=\"#000000\" font-family=\"Times,serif\" font-size=\"14.00\" text-anchor=\"middle\" x=\"370.9736\" y=\"-20.8\">samples = 199</text>\n",
       "<text fill=\"#000000\" font-family=\"Times,serif\" font-size=\"14.00\" text-anchor=\"middle\" x=\"370.9736\" y=\"-6.8\">value = 5900.765</text>\n",
       "</g>\n",
       "<!-- 6&#45;&gt;7 -->\n",
       "<g class=\"edge\" id=\"edge7\">\n",
       "<title>6-&gt;7</title>\n",
       "<path d=\"M420.8187,-85.9947C413.3798,-76.8917 405.2679,-66.9654 397.7903,-57.8152\" fill=\"none\" stroke=\"#000000\"/>\n",
       "<polygon fill=\"#000000\" points=\"400.4532,-55.5426 391.4152,-50.014 395.0329,-59.9721 400.4532,-55.5426\" stroke=\"#000000\"/>\n",
       "</g>\n",
       "<!-- 8 -->\n",
       "<g class=\"node\" id=\"node9\">\n",
       "<title>8</title>\n",
       "<polygon fill=\"#e58139\" fill-opacity=\"0.113725\" points=\"589.9209,-50 456.0264,-50 456.0264,0 589.9209,0 589.9209,-50\" stroke=\"#000000\"/>\n",
       "<text fill=\"#000000\" font-family=\"Times,serif\" font-size=\"14.00\" text-anchor=\"middle\" x=\"522.9736\" y=\"-34.8\">mse = 12144348.168</text>\n",
       "<text fill=\"#000000\" font-family=\"Times,serif\" font-size=\"14.00\" text-anchor=\"middle\" x=\"522.9736\" y=\"-20.8\">samples = 143</text>\n",
       "<text fill=\"#000000\" font-family=\"Times,serif\" font-size=\"14.00\" text-anchor=\"middle\" x=\"522.9736\" y=\"-6.8\">value = 7909.329</text>\n",
       "</g>\n",
       "<!-- 6&#45;&gt;8 -->\n",
       "<g class=\"edge\" id=\"edge8\">\n",
       "<title>6-&gt;8</title>\n",
       "<path d=\"M473.1285,-85.9947C480.5675,-76.8917 488.6793,-66.9654 496.1569,-57.8152\" fill=\"none\" stroke=\"#000000\"/>\n",
       "<polygon fill=\"#000000\" points=\"498.9143,-59.9721 502.5321,-50.014 493.494,-55.5426 498.9143,-59.9721\" stroke=\"#000000\"/>\n",
       "</g>\n",
       "<!-- 10 -->\n",
       "<g class=\"node\" id=\"node11\">\n",
       "<title>10</title>\n",
       "<polygon fill=\"#e58139\" fill-opacity=\"0.203922\" points=\"893.9209,-150 760.0264,-150 760.0264,-86 893.9209,-86 893.9209,-150\" stroke=\"#000000\"/>\n",
       "<text fill=\"#000000\" font-family=\"Times,serif\" font-size=\"14.00\" text-anchor=\"middle\" x=\"826.9736\" y=\"-134.8\">age &lt;= 51.5</text>\n",
       "<text fill=\"#000000\" font-family=\"Times,serif\" font-size=\"14.00\" text-anchor=\"middle\" x=\"826.9736\" y=\"-120.8\">mse = 20234683.551</text>\n",
       "<text fill=\"#000000\" font-family=\"Times,serif\" font-size=\"14.00\" text-anchor=\"middle\" x=\"826.9736\" y=\"-106.8\">samples = 191</text>\n",
       "<text fill=\"#000000\" font-family=\"Times,serif\" font-size=\"14.00\" text-anchor=\"middle\" x=\"826.9736\" y=\"-92.8\">value = 11915.138</text>\n",
       "</g>\n",
       "<!-- 9&#45;&gt;10 -->\n",
       "<g class=\"edge\" id=\"edge10\">\n",
       "<title>9-&gt;10</title>\n",
       "<path d=\"M878.5084,-185.8089C871.8639,-177.0661 864.5842,-167.4876 857.6437,-158.3553\" fill=\"none\" stroke=\"#000000\"/>\n",
       "<polygon fill=\"#000000\" points=\"860.2305,-155.9746 851.393,-150.1308 854.6573,-160.2102 860.2305,-155.9746\" stroke=\"#000000\"/>\n",
       "</g>\n",
       "<!-- 13 -->\n",
       "<g class=\"node\" id=\"node14\">\n",
       "<title>13</title>\n",
       "<polygon fill=\"#e58139\" fill-opacity=\"0.274510\" points=\"1045.9209,-150 912.0264,-150 912.0264,-86 1045.9209,-86 1045.9209,-150\" stroke=\"#000000\"/>\n",
       "<text fill=\"#000000\" font-family=\"Times,serif\" font-size=\"14.00\" text-anchor=\"middle\" x=\"978.9736\" y=\"-134.8\">children &lt;= 3.5</text>\n",
       "<text fill=\"#000000\" font-family=\"Times,serif\" font-size=\"14.00\" text-anchor=\"middle\" x=\"978.9736\" y=\"-120.8\">mse = 25879389.558</text>\n",
       "<text fill=\"#000000\" font-family=\"Times,serif\" font-size=\"14.00\" text-anchor=\"middle\" x=\"978.9736\" y=\"-106.8\">samples = 72</text>\n",
       "<text fill=\"#000000\" font-family=\"Times,serif\" font-size=\"14.00\" text-anchor=\"middle\" x=\"978.9736\" y=\"-92.8\">value = 15164.457</text>\n",
       "</g>\n",
       "<!-- 9&#45;&gt;13 -->\n",
       "<g class=\"edge\" id=\"edge13\">\n",
       "<title>9-&gt;13</title>\n",
       "<path d=\"M927.4388,-185.8089C934.0834,-177.0661 941.363,-167.4876 948.3036,-158.3553\" fill=\"none\" stroke=\"#000000\"/>\n",
       "<polygon fill=\"#000000\" points=\"951.29,-160.2102 954.5543,-150.1308 945.7168,-155.9746 951.29,-160.2102\" stroke=\"#000000\"/>\n",
       "</g>\n",
       "<!-- 11 -->\n",
       "<g class=\"node\" id=\"node12\">\n",
       "<title>11</title>\n",
       "<polygon fill=\"#e58139\" fill-opacity=\"0.180392\" points=\"741.9209,-50 608.0264,-50 608.0264,0 741.9209,0 741.9209,-50\" stroke=\"#000000\"/>\n",
       "<text fill=\"#000000\" font-family=\"Times,serif\" font-size=\"14.00\" text-anchor=\"middle\" x=\"674.9736\" y=\"-34.8\">mse = 21923551.565</text>\n",
       "<text fill=\"#000000\" font-family=\"Times,serif\" font-size=\"14.00\" text-anchor=\"middle\" x=\"674.9736\" y=\"-20.8\">samples = 82</text>\n",
       "<text fill=\"#000000\" font-family=\"Times,serif\" font-size=\"14.00\" text-anchor=\"middle\" x=\"674.9736\" y=\"-6.8\">value = 10900.68</text>\n",
       "</g>\n",
       "<!-- 10&#45;&gt;11 -->\n",
       "<g class=\"edge\" id=\"edge11\">\n",
       "<title>10-&gt;11</title>\n",
       "<path d=\"M774.6639,-85.9947C758.4334,-76.0642 740.6013,-65.1538 724.5617,-55.3401\" fill=\"none\" stroke=\"#000000\"/>\n",
       "<polygon fill=\"#000000\" points=\"726.2135,-52.2476 715.8568,-50.014 722.5602,-58.2186 726.2135,-52.2476\" stroke=\"#000000\"/>\n",
       "</g>\n",
       "<!-- 12 -->\n",
       "<g class=\"node\" id=\"node13\">\n",
       "<title>12</title>\n",
       "<polygon fill=\"#e58139\" fill-opacity=\"0.219608\" points=\"893.9209,-50 760.0264,-50 760.0264,0 893.9209,0 893.9209,-50\" stroke=\"#000000\"/>\n",
       "<text fill=\"#000000\" font-family=\"Times,serif\" font-size=\"14.00\" text-anchor=\"middle\" x=\"826.9736\" y=\"-34.8\">mse = 17607527.464</text>\n",
       "<text fill=\"#000000\" font-family=\"Times,serif\" font-size=\"14.00\" text-anchor=\"middle\" x=\"826.9736\" y=\"-20.8\">samples = 109</text>\n",
       "<text fill=\"#000000\" font-family=\"Times,serif\" font-size=\"14.00\" text-anchor=\"middle\" x=\"826.9736\" y=\"-6.8\">value = 12678.307</text>\n",
       "</g>\n",
       "<!-- 10&#45;&gt;12 -->\n",
       "<g class=\"edge\" id=\"edge12\">\n",
       "<title>10-&gt;12</title>\n",
       "<path d=\"M826.9736,-85.9947C826.9736,-77.6273 826.9736,-68.5643 826.9736,-60.0478\" fill=\"none\" stroke=\"#000000\"/>\n",
       "<polygon fill=\"#000000\" points=\"830.4737,-60.014 826.9736,-50.014 823.4737,-60.0141 830.4737,-60.014\" stroke=\"#000000\"/>\n",
       "</g>\n",
       "<!-- 14 -->\n",
       "<g class=\"node\" id=\"node15\">\n",
       "<title>14</title>\n",
       "<polygon fill=\"#e58139\" fill-opacity=\"0.266667\" points=\"1045.9209,-50 912.0264,-50 912.0264,0 1045.9209,0 1045.9209,-50\" stroke=\"#000000\"/>\n",
       "<text fill=\"#000000\" font-family=\"Times,serif\" font-size=\"14.00\" text-anchor=\"middle\" x=\"978.9736\" y=\"-34.8\">mse = 19693222.593</text>\n",
       "<text fill=\"#000000\" font-family=\"Times,serif\" font-size=\"14.00\" text-anchor=\"middle\" x=\"978.9736\" y=\"-20.8\">samples = 71</text>\n",
       "<text fill=\"#000000\" font-family=\"Times,serif\" font-size=\"14.00\" text-anchor=\"middle\" x=\"978.9736\" y=\"-6.8\">value = 14862.826</text>\n",
       "</g>\n",
       "<!-- 13&#45;&gt;14 -->\n",
       "<g class=\"edge\" id=\"edge14\">\n",
       "<title>13-&gt;14</title>\n",
       "<path d=\"M978.9736,-85.9947C978.9736,-77.6273 978.9736,-68.5643 978.9736,-60.0478\" fill=\"none\" stroke=\"#000000\"/>\n",
       "<polygon fill=\"#000000\" points=\"982.4737,-60.014 978.9736,-50.014 975.4737,-60.0141 982.4737,-60.014\" stroke=\"#000000\"/>\n",
       "</g>\n",
       "<!-- 15 -->\n",
       "<g class=\"node\" id=\"node16\">\n",
       "<title>15</title>\n",
       "<polygon fill=\"#e58139\" fill-opacity=\"0.756863\" points=\"1184.1869,-50 1063.7604,-50 1063.7604,0 1184.1869,0 1184.1869,-50\" stroke=\"#000000\"/>\n",
       "<text fill=\"#000000\" font-family=\"Times,serif\" font-size=\"14.00\" text-anchor=\"middle\" x=\"1123.9736\" y=\"-34.8\">mse = 0.0</text>\n",
       "<text fill=\"#000000\" font-family=\"Times,serif\" font-size=\"14.00\" text-anchor=\"middle\" x=\"1123.9736\" y=\"-20.8\">samples = 1</text>\n",
       "<text fill=\"#000000\" font-family=\"Times,serif\" font-size=\"14.00\" text-anchor=\"middle\" x=\"1123.9736\" y=\"-6.8\">value = 36580.282</text>\n",
       "</g>\n",
       "<!-- 13&#45;&gt;15 -->\n",
       "<g class=\"edge\" id=\"edge15\">\n",
       "<title>13-&gt;15</title>\n",
       "<path d=\"M1028.8744,-85.9947C1044.214,-76.1562 1061.0534,-65.3558 1076.2437,-55.613\" fill=\"none\" stroke=\"#000000\"/>\n",
       "<polygon fill=\"#000000\" points=\"1078.4454,-58.359 1084.9733,-50.014 1074.6662,-52.4667 1078.4454,-58.359\" stroke=\"#000000\"/>\n",
       "</g>\n",
       "<!-- 17 -->\n",
       "<g class=\"node\" id=\"node18\">\n",
       "<title>17</title>\n",
       "<polygon fill=\"#e58139\" fill-opacity=\"0.407843\" points=\"1557.9209,-250 1424.0264,-250 1424.0264,-186 1557.9209,-186 1557.9209,-250\" stroke=\"#000000\"/>\n",
       "<text fill=\"#000000\" font-family=\"Times,serif\" font-size=\"14.00\" text-anchor=\"middle\" x=\"1490.9736\" y=\"-234.8\">age &lt;= 42.5</text>\n",
       "<text fill=\"#000000\" font-family=\"Times,serif\" font-size=\"14.00\" text-anchor=\"middle\" x=\"1490.9736\" y=\"-220.8\">mse = 21931387.317</text>\n",
       "<text fill=\"#000000\" font-family=\"Times,serif\" font-size=\"14.00\" text-anchor=\"middle\" x=\"1490.9736\" y=\"-206.8\">samples = 102</text>\n",
       "<text fill=\"#000000\" font-family=\"Times,serif\" font-size=\"14.00\" text-anchor=\"middle\" x=\"1490.9736\" y=\"-192.8\">value = 21059.098</text>\n",
       "</g>\n",
       "<!-- 16&#45;&gt;17 -->\n",
       "<g class=\"edge\" id=\"edge17\">\n",
       "<title>16-&gt;17</title>\n",
       "<path d=\"M1490.9736,-285.8089C1490.9736,-277.6906 1490.9736,-268.8517 1490.9736,-260.3186\" fill=\"none\" stroke=\"#000000\"/>\n",
       "<polygon fill=\"#000000\" points=\"1494.4737,-260.1307 1490.9736,-250.1308 1487.4737,-260.1308 1494.4737,-260.1307\" stroke=\"#000000\"/>\n",
       "</g>\n",
       "<!-- 24 -->\n",
       "<g class=\"node\" id=\"node25\">\n",
       "<title>24</title>\n",
       "<polygon fill=\"#e58139\" fill-opacity=\"0.870588\" points=\"1998.9209,-250 1865.0264,-250 1865.0264,-186 1998.9209,-186 1998.9209,-250\" stroke=\"#000000\"/>\n",
       "<text fill=\"#000000\" font-family=\"Times,serif\" font-size=\"14.00\" text-anchor=\"middle\" x=\"1931.9736\" y=\"-234.8\">age &lt;= 41.5</text>\n",
       "<text fill=\"#000000\" font-family=\"Times,serif\" font-size=\"14.00\" text-anchor=\"middle\" x=\"1931.9736\" y=\"-220.8\">mse = 28642338.097</text>\n",
       "<text fill=\"#000000\" font-family=\"Times,serif\" font-size=\"14.00\" text-anchor=\"middle\" x=\"1931.9736\" y=\"-206.8\">samples = 106</text>\n",
       "<text fill=\"#000000\" font-family=\"Times,serif\" font-size=\"14.00\" text-anchor=\"middle\" x=\"1931.9736\" y=\"-192.8\">value = 41659.435</text>\n",
       "</g>\n",
       "<!-- 16&#45;&gt;24 -->\n",
       "<g class=\"edge\" id=\"edge24\">\n",
       "<title>16-&gt;24</title>\n",
       "<path d=\"M1560.8514,-302.1547C1641.0188,-283.9762 1772.0682,-254.2597 1855.0734,-235.4377\" fill=\"none\" stroke=\"#000000\"/>\n",
       "<polygon fill=\"#000000\" points=\"1855.9728,-238.8227 1864.9512,-233.1978 1854.4248,-231.996 1855.9728,-238.8227\" stroke=\"#000000\"/>\n",
       "</g>\n",
       "<!-- 18 -->\n",
       "<g class=\"node\" id=\"node19\">\n",
       "<title>18</title>\n",
       "<polygon fill=\"#e58139\" fill-opacity=\"0.345098\" points=\"1481.9209,-150 1348.0264,-150 1348.0264,-86 1481.9209,-86 1481.9209,-150\" stroke=\"#000000\"/>\n",
       "<text fill=\"#000000\" font-family=\"Times,serif\" font-size=\"14.00\" text-anchor=\"middle\" x=\"1414.9736\" y=\"-134.8\">age &lt;= 29.5</text>\n",
       "<text fill=\"#000000\" font-family=\"Times,serif\" font-size=\"14.00\" text-anchor=\"middle\" x=\"1414.9736\" y=\"-120.8\">mse = 10055862.164</text>\n",
       "<text fill=\"#000000\" font-family=\"Times,serif\" font-size=\"14.00\" text-anchor=\"middle\" x=\"1414.9736\" y=\"-106.8\">samples = 59</text>\n",
       "<text fill=\"#000000\" font-family=\"Times,serif\" font-size=\"14.00\" text-anchor=\"middle\" x=\"1414.9736\" y=\"-92.8\">value = 18229.072</text>\n",
       "</g>\n",
       "<!-- 17&#45;&gt;18 -->\n",
       "<g class=\"edge\" id=\"edge18\">\n",
       "<title>17-&gt;18</title>\n",
       "<path d=\"M1466.5084,-185.8089C1459.8639,-177.0661 1452.5842,-167.4876 1445.6437,-158.3553\" fill=\"none\" stroke=\"#000000\"/>\n",
       "<polygon fill=\"#000000\" points=\"1448.2305,-155.9746 1439.393,-150.1308 1442.6573,-160.2102 1448.2305,-155.9746\" stroke=\"#000000\"/>\n",
       "</g>\n",
       "<!-- 21 -->\n",
       "<g class=\"node\" id=\"node22\">\n",
       "<title>21</title>\n",
       "<polygon fill=\"#e58139\" fill-opacity=\"0.494118\" points=\"1633.9209,-150 1500.0264,-150 1500.0264,-86 1633.9209,-86 1633.9209,-150\" stroke=\"#000000\"/>\n",
       "<text fill=\"#000000\" font-family=\"Times,serif\" font-size=\"14.00\" text-anchor=\"middle\" x=\"1566.9736\" y=\"-134.8\">age &lt;= 56.5</text>\n",
       "<text fill=\"#000000\" font-family=\"Times,serif\" font-size=\"14.00\" text-anchor=\"middle\" x=\"1566.9736\" y=\"-120.8\">mse = 12158405.645</text>\n",
       "<text fill=\"#000000\" font-family=\"Times,serif\" font-size=\"14.00\" text-anchor=\"middle\" x=\"1566.9736\" y=\"-106.8\">samples = 43</text>\n",
       "<text fill=\"#000000\" font-family=\"Times,serif\" font-size=\"14.00\" text-anchor=\"middle\" x=\"1566.9736\" y=\"-92.8\">value = 24942.157</text>\n",
       "</g>\n",
       "<!-- 17&#45;&gt;21 -->\n",
       "<g class=\"edge\" id=\"edge21\">\n",
       "<title>17-&gt;21</title>\n",
       "<path d=\"M1515.4388,-185.8089C1522.0834,-177.0661 1529.363,-167.4876 1536.3036,-158.3553\" fill=\"none\" stroke=\"#000000\"/>\n",
       "<polygon fill=\"#000000\" points=\"1539.29,-160.2102 1542.5543,-150.1308 1533.7168,-155.9746 1539.29,-160.2102\" stroke=\"#000000\"/>\n",
       "</g>\n",
       "<!-- 19 -->\n",
       "<g class=\"node\" id=\"node20\">\n",
       "<title>19</title>\n",
       "<polygon fill=\"#e58139\" fill-opacity=\"0.317647\" points=\"1335.9209,-50 1202.0264,-50 1202.0264,0 1335.9209,0 1335.9209,-50\" stroke=\"#000000\"/>\n",
       "<text fill=\"#000000\" font-family=\"Times,serif\" font-size=\"14.00\" text-anchor=\"middle\" x=\"1268.9736\" y=\"-34.8\">mse = 12467789.182</text>\n",
       "<text fill=\"#000000\" font-family=\"Times,serif\" font-size=\"14.00\" text-anchor=\"middle\" x=\"1268.9736\" y=\"-20.8\">samples = 35</text>\n",
       "<text fill=\"#000000\" font-family=\"Times,serif\" font-size=\"14.00\" text-anchor=\"middle\" x=\"1268.9736\" y=\"-6.8\">value = 17152.352</text>\n",
       "</g>\n",
       "<!-- 18&#45;&gt;19 -->\n",
       "<g class=\"edge\" id=\"edge19\">\n",
       "<title>18-&gt;19</title>\n",
       "<path d=\"M1364.7287,-85.9947C1349.2833,-76.1562 1332.3278,-65.3558 1317.0327,-55.613\" fill=\"none\" stroke=\"#000000\"/>\n",
       "<polygon fill=\"#000000\" points=\"1318.5576,-52.4346 1308.243,-50.014 1314.7968,-58.3386 1318.5576,-52.4346\" stroke=\"#000000\"/>\n",
       "</g>\n",
       "<!-- 20 -->\n",
       "<g class=\"node\" id=\"node21\">\n",
       "<title>20</title>\n",
       "<polygon fill=\"#e58139\" fill-opacity=\"0.380392\" points=\"1480.4209,-50 1353.5264,-50 1353.5264,0 1480.4209,0 1480.4209,-50\" stroke=\"#000000\"/>\n",
       "<text fill=\"#000000\" font-family=\"Times,serif\" font-size=\"14.00\" text-anchor=\"middle\" x=\"1416.9736\" y=\"-34.8\">mse = 2382205.651</text>\n",
       "<text fill=\"#000000\" font-family=\"Times,serif\" font-size=\"14.00\" text-anchor=\"middle\" x=\"1416.9736\" y=\"-20.8\">samples = 24</text>\n",
       "<text fill=\"#000000\" font-family=\"Times,serif\" font-size=\"14.00\" text-anchor=\"middle\" x=\"1416.9736\" y=\"-6.8\">value = 19799.289</text>\n",
       "</g>\n",
       "<!-- 18&#45;&gt;20 -->\n",
       "<g class=\"edge\" id=\"edge20\">\n",
       "<title>18-&gt;20</title>\n",
       "<path d=\"M1415.6619,-85.9947C1415.8419,-77.6273 1416.0368,-68.5643 1416.2199,-60.0478\" fill=\"none\" stroke=\"#000000\"/>\n",
       "<polygon fill=\"#000000\" points=\"1419.7198,-60.087 1416.4357,-50.014 1412.7214,-59.9364 1419.7198,-60.087\" stroke=\"#000000\"/>\n",
       "</g>\n",
       "<!-- 22 -->\n",
       "<g class=\"node\" id=\"node23\">\n",
       "<title>22</title>\n",
       "<polygon fill=\"#e58139\" fill-opacity=\"0.462745\" points=\"1631.9209,-50 1498.0264,-50 1498.0264,0 1631.9209,0 1631.9209,-50\" stroke=\"#000000\"/>\n",
       "<text fill=\"#000000\" font-family=\"Times,serif\" font-size=\"14.00\" text-anchor=\"middle\" x=\"1564.9736\" y=\"-34.8\">mse = 10267703.738</text>\n",
       "<text fill=\"#000000\" font-family=\"Times,serif\" font-size=\"14.00\" text-anchor=\"middle\" x=\"1564.9736\" y=\"-20.8\">samples = 30</text>\n",
       "<text fill=\"#000000\" font-family=\"Times,serif\" font-size=\"14.00\" text-anchor=\"middle\" x=\"1564.9736\" y=\"-6.8\">value = 23540.253</text>\n",
       "</g>\n",
       "<!-- 21&#45;&gt;22 -->\n",
       "<g class=\"edge\" id=\"edge22\">\n",
       "<title>21-&gt;22</title>\n",
       "<path d=\"M1566.2853,-85.9947C1566.1054,-77.6273 1565.9105,-68.5643 1565.7273,-60.0478\" fill=\"none\" stroke=\"#000000\"/>\n",
       "<polygon fill=\"#000000\" points=\"1569.2259,-59.9364 1565.5116,-50.014 1562.2275,-60.087 1569.2259,-59.9364\" stroke=\"#000000\"/>\n",
       "</g>\n",
       "<!-- 23 -->\n",
       "<g class=\"node\" id=\"node24\">\n",
       "<title>23</title>\n",
       "<polygon fill=\"#e58139\" fill-opacity=\"0.568627\" points=\"1776.4209,-50 1649.5264,-50 1649.5264,0 1776.4209,0 1776.4209,-50\" stroke=\"#000000\"/>\n",
       "<text fill=\"#000000\" font-family=\"Times,serif\" font-size=\"14.00\" text-anchor=\"middle\" x=\"1712.9736\" y=\"-34.8\">mse = 1519876.077</text>\n",
       "<text fill=\"#000000\" font-family=\"Times,serif\" font-size=\"14.00\" text-anchor=\"middle\" x=\"1712.9736\" y=\"-20.8\">samples = 13</text>\n",
       "<text fill=\"#000000\" font-family=\"Times,serif\" font-size=\"14.00\" text-anchor=\"middle\" x=\"1712.9736\" y=\"-6.8\">value = 28177.323</text>\n",
       "</g>\n",
       "<!-- 21&#45;&gt;23 -->\n",
       "<g class=\"edge\" id=\"edge23\">\n",
       "<title>21-&gt;23</title>\n",
       "<path d=\"M1617.2186,-85.9947C1632.664,-76.1562 1649.6194,-65.3558 1664.9146,-55.613\" fill=\"none\" stroke=\"#000000\"/>\n",
       "<polygon fill=\"#000000\" points=\"1667.1504,-58.3386 1673.7043,-50.014 1663.3897,-52.4346 1667.1504,-58.3386\" stroke=\"#000000\"/>\n",
       "</g>\n",
       "<!-- 25 -->\n",
       "<g class=\"node\" id=\"node26\">\n",
       "<title>25</title>\n",
       "<polygon fill=\"#e58139\" fill-opacity=\"0.800000\" points=\"1998.9209,-150 1865.0264,-150 1865.0264,-86 1998.9209,-86 1998.9209,-150\" stroke=\"#000000\"/>\n",
       "<text fill=\"#000000\" font-family=\"Times,serif\" font-size=\"14.00\" text-anchor=\"middle\" x=\"1931.9736\" y=\"-134.8\">age &lt;= 28.0</text>\n",
       "<text fill=\"#000000\" font-family=\"Times,serif\" font-size=\"14.00\" text-anchor=\"middle\" x=\"1931.9736\" y=\"-120.8\">mse = 20485858.312</text>\n",
       "<text fill=\"#000000\" font-family=\"Times,serif\" font-size=\"14.00\" text-anchor=\"middle\" x=\"1931.9736\" y=\"-106.8\">samples = 56</text>\n",
       "<text fill=\"#000000\" font-family=\"Times,serif\" font-size=\"14.00\" text-anchor=\"middle\" x=\"1931.9736\" y=\"-92.8\">value = 38530.598</text>\n",
       "</g>\n",
       "<!-- 24&#45;&gt;25 -->\n",
       "<g class=\"edge\" id=\"edge25\">\n",
       "<title>24-&gt;25</title>\n",
       "<path d=\"M1931.9736,-185.8089C1931.9736,-177.6906 1931.9736,-168.8517 1931.9736,-160.3186\" fill=\"none\" stroke=\"#000000\"/>\n",
       "<polygon fill=\"#000000\" points=\"1935.4737,-160.1307 1931.9736,-150.1308 1928.4737,-160.1308 1935.4737,-160.1307\" stroke=\"#000000\"/>\n",
       "</g>\n",
       "<!-- 28 -->\n",
       "<g class=\"node\" id=\"node29\">\n",
       "<title>28</title>\n",
       "<polygon fill=\"#e58139\" fill-opacity=\"0.949020\" points=\"2224.9209,-150 2091.0264,-150 2091.0264,-86 2224.9209,-86 2224.9209,-150\" stroke=\"#000000\"/>\n",
       "<text fill=\"#000000\" font-family=\"Times,serif\" font-size=\"14.00\" text-anchor=\"middle\" x=\"2157.9736\" y=\"-134.8\">age &lt;= 56.5</text>\n",
       "<text fill=\"#000000\" font-family=\"Times,serif\" font-size=\"14.00\" text-anchor=\"middle\" x=\"2157.9736\" y=\"-120.8\">mse = 14533120.615</text>\n",
       "<text fill=\"#000000\" font-family=\"Times,serif\" font-size=\"14.00\" text-anchor=\"middle\" x=\"2157.9736\" y=\"-106.8\">samples = 50</text>\n",
       "<text fill=\"#000000\" font-family=\"Times,serif\" font-size=\"14.00\" text-anchor=\"middle\" x=\"2157.9736\" y=\"-92.8\">value = 45163.733</text>\n",
       "</g>\n",
       "<!-- 24&#45;&gt;28 -->\n",
       "<g class=\"edge\" id=\"edge28\">\n",
       "<title>24-&gt;28</title>\n",
       "<path d=\"M1999.1692,-188.2675C2025.0081,-176.8343 2054.6933,-163.6993 2081.3539,-151.9025\" fill=\"none\" stroke=\"#000000\"/>\n",
       "<polygon fill=\"#000000\" points=\"2082.9182,-155.0378 2090.6467,-147.7907 2080.0857,-148.6364 2082.9182,-155.0378\" stroke=\"#000000\"/>\n",
       "</g>\n",
       "<!-- 26 -->\n",
       "<g class=\"node\" id=\"node27\">\n",
       "<title>26</title>\n",
       "<polygon fill=\"#e58139\" fill-opacity=\"0.752941\" points=\"1921.4209,-50 1794.5264,-50 1794.5264,0 1921.4209,0 1921.4209,-50\" stroke=\"#000000\"/>\n",
       "<text fill=\"#000000\" font-family=\"Times,serif\" font-size=\"14.00\" text-anchor=\"middle\" x=\"1857.9736\" y=\"-34.8\">mse = 8243032.613</text>\n",
       "<text fill=\"#000000\" font-family=\"Times,serif\" font-size=\"14.00\" text-anchor=\"middle\" x=\"1857.9736\" y=\"-20.8\">samples = 28</text>\n",
       "<text fill=\"#000000\" font-family=\"Times,serif\" font-size=\"14.00\" text-anchor=\"middle\" x=\"1857.9736\" y=\"-6.8\">value = 36463.759</text>\n",
       "</g>\n",
       "<!-- 25&#45;&gt;26 -->\n",
       "<g class=\"edge\" id=\"edge26\">\n",
       "<title>25-&gt;26</title>\n",
       "<path d=\"M1906.507,-85.9947C1899.337,-76.9837 1891.5249,-67.1658 1884.3054,-58.0927\" fill=\"none\" stroke=\"#000000\"/>\n",
       "<polygon fill=\"#000000\" points=\"1886.8425,-55.6599 1877.8773,-50.014 1881.3649,-60.0184 1886.8425,-55.6599\" stroke=\"#000000\"/>\n",
       "</g>\n",
       "<!-- 27 -->\n",
       "<g class=\"node\" id=\"node28\">\n",
       "<title>27</title>\n",
       "<polygon fill=\"#e58139\" fill-opacity=\"0.847059\" points=\"2072.9209,-50 1939.0264,-50 1939.0264,0 2072.9209,0 2072.9209,-50\" stroke=\"#000000\"/>\n",
       "<text fill=\"#000000\" font-family=\"Times,serif\" font-size=\"14.00\" text-anchor=\"middle\" x=\"2005.9736\" y=\"-34.8\">mse = 24185036.554</text>\n",
       "<text fill=\"#000000\" font-family=\"Times,serif\" font-size=\"14.00\" text-anchor=\"middle\" x=\"2005.9736\" y=\"-20.8\">samples = 28</text>\n",
       "<text fill=\"#000000\" font-family=\"Times,serif\" font-size=\"14.00\" text-anchor=\"middle\" x=\"2005.9736\" y=\"-6.8\">value = 40597.437</text>\n",
       "</g>\n",
       "<!-- 25&#45;&gt;27 -->\n",
       "<g class=\"edge\" id=\"edge27\">\n",
       "<title>25-&gt;27</title>\n",
       "<path d=\"M1957.4402,-85.9947C1964.6103,-76.9837 1972.4223,-67.1658 1979.6418,-58.0927\" fill=\"none\" stroke=\"#000000\"/>\n",
       "<polygon fill=\"#000000\" points=\"1982.5823,-60.0184 1986.07,-50.014 1977.1048,-55.6599 1982.5823,-60.0184\" stroke=\"#000000\"/>\n",
       "</g>\n",
       "<!-- 29 -->\n",
       "<g class=\"node\" id=\"node30\">\n",
       "<title>29</title>\n",
       "<polygon fill=\"#e58139\" fill-opacity=\"0.925490\" points=\"2224.9089,-50 2091.0384,-50 2091.0384,0 2224.9089,0 2224.9089,-50\" stroke=\"#000000\"/>\n",
       "<text fill=\"#000000\" font-family=\"Times,serif\" font-size=\"14.00\" text-anchor=\"middle\" x=\"2157.9736\" y=\"-34.8\">mse = 16711767.009</text>\n",
       "<text fill=\"#000000\" font-family=\"Times,serif\" font-size=\"14.00\" text-anchor=\"middle\" x=\"2157.9736\" y=\"-20.8\">samples = 34</text>\n",
       "<text fill=\"#000000\" font-family=\"Times,serif\" font-size=\"14.00\" text-anchor=\"middle\" x=\"2157.9736\" y=\"-6.8\">value = 44080.289</text>\n",
       "</g>\n",
       "<!-- 28&#45;&gt;29 -->\n",
       "<g class=\"edge\" id=\"edge29\">\n",
       "<title>28-&gt;29</title>\n",
       "<path d=\"M2157.9736,-85.9947C2157.9736,-77.6273 2157.9736,-68.5643 2157.9736,-60.0478\" fill=\"none\" stroke=\"#000000\"/>\n",
       "<polygon fill=\"#000000\" points=\"2161.4737,-60.014 2157.9736,-50.014 2154.4737,-60.0141 2161.4737,-60.014\" stroke=\"#000000\"/>\n",
       "</g>\n",
       "<!-- 30 -->\n",
       "<g class=\"node\" id=\"node31\">\n",
       "<title>30</title>\n",
       "<polygon fill=\"#e58139\" points=\"2369.4209,-50 2242.5264,-50 2242.5264,0 2369.4209,0 2369.4209,-50\" stroke=\"#000000\"/>\n",
       "<text fill=\"#000000\" font-family=\"Times,serif\" font-size=\"14.00\" text-anchor=\"middle\" x=\"2305.9736\" y=\"-34.8\">mse = 2108399.571</text>\n",
       "<text fill=\"#000000\" font-family=\"Times,serif\" font-size=\"14.00\" text-anchor=\"middle\" x=\"2305.9736\" y=\"-20.8\">samples = 16</text>\n",
       "<text fill=\"#000000\" font-family=\"Times,serif\" font-size=\"14.00\" text-anchor=\"middle\" x=\"2305.9736\" y=\"-6.8\">value = 47466.05</text>\n",
       "</g>\n",
       "<!-- 28&#45;&gt;30 -->\n",
       "<g class=\"edge\" id=\"edge30\">\n",
       "<title>28-&gt;30</title>\n",
       "<path d=\"M2208.9068,-85.9947C2224.7102,-76.0642 2242.073,-65.1538 2257.6905,-55.3401\" fill=\"none\" stroke=\"#000000\"/>\n",
       "<polygon fill=\"#000000\" points=\"2259.5614,-58.2981 2266.1664,-50.014 2255.837,-52.3711 2259.5614,-58.2981\" stroke=\"#000000\"/>\n",
       "</g>\n",
       "</g>\n",
       "</svg>"
      ],
      "text/plain": [
       "<IPython.core.display.SVG object>"
      ]
     },
     "metadata": {},
     "output_type": "display_data"
    }
   ],
   "source": [
    "from sklearn import tree\n",
    "from sklearn.tree import export_graphviz, DecisionTreeRegressor\n",
    "from IPython.display import SVG\n",
    "from graphviz import Source\n",
    "from IPython.display import display\n",
    "\n",
    "features = ['age', 'smoker', 'bmi_above_30', 'sex', 'children', 'region']\n",
    "regressor = DecisionTreeRegressor(random_state=seed, max_depth=4)\n",
    "regressor.fit(X_train,y_train)\n",
    "graph = Source(tree.export_graphviz(regressor, out_file=None, filled = True, feature_names=features))\n",
    "display(SVG(graph.pipe(format='svg')))"
   ]
  },
  {
   "cell_type": "markdown",
   "metadata": {},
   "source": [
    "** Problem 2.**\n",
    "\n",
    "Now use the [Random Forest](https://scikit-learn.org/stable/modules/generated/sklearn.ensemble.RandomForestRegressor.html) on the insurance data set. Use validation curves to optimize the hyperparameters. Estimate generalization error on 3 rounds of 10 fold cross validation. Instead of learning curves, examine the importance of the features. How does this compare with your linear regression from before?"
   ]
  },
  {
   "cell_type": "code",
   "execution_count": 11,
   "metadata": {},
   "outputs": [
    {
     "name": "stdout",
     "output_type": "stream",
     "text": [
      "Decision Tree Regressor,  R^2: 0.802658\n",
      "Decision Tree Regressor, RMSE: 5258.792263\n"
     ]
    }
   ],
   "source": [
    "seed = 101\n",
    "set_seed(seed)\n",
    "\n",
    "features = ['age', 'smoker', 'bmi_above_30', 'sex', 'children', 'region']\n",
    "\n",
    "# Train, test, split the data\n",
    "X = df[features] # Features\n",
    "y = df['charges'] # Labels\n",
    "\n",
    "# Split dataset into training set and test set\n",
    "X_train, X_test, y_train, y_test = train_test_split(X, y, test_size=0.3) # 70% training and 30% test\n",
    "\n",
    "from sklearn.ensemble import RandomForestRegressor\n",
    "\n",
    "rfc=RandomForestRegressor(random_state=seed)\n",
    "\n",
    "#Train the model using the training sets \n",
    "rfc.fit(X_train,y_train)\n",
    "y_true = np.array(y_test)\n",
    "y_pred = rfc.predict(X_test)\n",
    "\n",
    "# Print Evaluation Metrics\n",
    "print('Decision Tree Regressor,  R^2: %f' % rfc.score(X_test, y_test))\n",
    "print('Decision Tree Regressor, RMSE: %f' % rmse(y_true, y_pred))"
   ]
  },
  {
   "cell_type": "code",
   "execution_count": 12,
   "metadata": {},
   "outputs": [],
   "source": [
    "def validation_curve(seed, X, y, min_val, max_val, step, test_size=0.30):\n",
    "    train_scores = []\n",
    "    test_scores = []\n",
    "    \n",
    "    for i in range(min_val, max_val + 10):\n",
    "        from sklearn.model_selection import train_test_split\n",
    "        X_train, X_test, y_train, y_test = train_test_split(X, y, test_size=test_size, random_state=seed)\n",
    "        reg = RandomForestRegressor(random_state=seed, n_estimators=i)\n",
    "        reg.fit(X_train, y_train)\n",
    "        y_pred = reg.predict(X_train)\n",
    "        train_scores.append(rmse(y_train, y_pred))\n",
    "        y_pred = reg.predict(X_test)\n",
    "        test_scores.append(rmse(y_test, y_pred))\n",
    "    return train_scores, test_scores\n",
    "\n",
    "seed = 101\n",
    "min_val = 10\n",
    "max_val = 100\n",
    "step = 10\n",
    "param_range = range(min_val, max_val + step)\n",
    "x_label = 'No. of Trees in RandomForest'\n",
    "y_label = 'RMSE'\n",
    "title = \"Validation Curves for {0} to {1} trees in forest\".format(min_val, max_val)\n",
    "\n",
    "train_scores, test_scores = validation_curve(seed, X, y, min_val, max_val, step=200)"
   ]
  },
  {
   "cell_type": "code",
   "execution_count": 13,
   "metadata": {},
   "outputs": [
    {
     "data": {
      "image/png": "[encoded data removed]",
      "text/plain": [
       "<Figure size 720x432 with 1 Axes>"
      ]
     },
     "metadata": {},
     "output_type": "display_data"
    }
   ],
   "source": [
    "figure = plt.figure(figsize=(10,6))\n",
    "axes = figure.add_subplot(1, 1, 1)\n",
    "axes.plot(param_range, train_scores, 'o-', color=\"steelblue\", alpha=0.75, label=\"Training score\")\n",
    "axes.plot(param_range, test_scores, \"o-\", color=\"firebrick\", alpha=0.75, label=\"Test score\")\n",
    "axes.set_xlabel(x_label)\n",
    "axes.set_ylabel(y_label)\n",
    "axes.set_title(title)\n",
    "plt.legend(loc=\"best\")\n",
    "plt.show()\n",
    "plt.close()"
   ]
  },
  {
   "cell_type": "markdown",
   "metadata": {},
   "source": [
    "There is no difference when it comes to increasing number of trees in random forest, so tuning this hyperparameter won't help.\n",
    "\n",
    "> This was missing from the submission.\n",
    "\n",
    "## Feature Importance\n",
    "\n",
    "Let's look at the feature importance:"
   ]
  },
  {
   "cell_type": "code",
   "execution_count": 31,
   "metadata": {},
   "outputs": [
    {
     "data": {
      "image/png": "[encoded data removed]",
      "text/plain": [
       "<Figure size 720x432 with 1 Axes>"
      ]
     },
     "metadata": {},
     "output_type": "display_data"
    }
   ],
   "source": [
    "figure = plt.figure(figsize=(10,6))\n",
    "\n",
    "axes = figure.add_subplot(1, 1, 1)\n",
    "\n",
    "\n",
    "\n",
    "axes.bar(list(range(0, len(features))), rfc.feature_importances_)\n",
    "axes.set_xticks(np.arange(len(features)))\n",
    "axes.set_xticklabels(features, rotation = 45)\n",
    "\n",
    "axes.set_ylabel(\"Weight\")\n",
    "axes.set_title(\"Feature Importance Weights from Random Forest\")\n",
    "\n",
    "plt.show()\n",
    "plt.close()"
   ]
  },
  {
   "cell_type": "markdown",
   "metadata": {},
   "source": [
    "Although the importance is similar to what we saw for regression\n",
    "\n",
    "\n",
    "> Remember what classification/regression is. We have observations (X, y). We believe there is a relationship f(X) and we want to learn it but we have no idea of knowing what shape f(X) has. We use an algorithm G(X, y) to learn an approximation of f(X), which we call F(X). G(X,  y) is a *specific* algorithm so it might be CART or C4.5 or it could be Ordinary Least Squares or Stochastic Gradient Descent. The result is a model F(X) we can use to make estimates/predictions. F(X) has a representation bias. f(X) is probably *not* \"really\" a decision tree but it can be approximated by a decision tree or perhaps a linear model approximates it better.\n",
    "\n",
    "> Because of the representation bias, the features determined to be important by a, say, Random Forest may not be the same features identified to be important by a Linear Regression (and confidence intervals)."
   ]
  }
 ],
 "metadata": {
  "kernelspec": {
   "display_name": "Python 3",
   "language": "python",
   "name": "python3"
  },
  "language_info": {
   "codemirror_mode": {
    "name": "ipython",
    "version": 3
   },
   "file_extension": ".py",
   "mimetype": "text/x-python",
   "name": "python",
   "nbconvert_exporter": "python",
   "pygments_lexer": "ipython3",
   "version": "3.7.1"
  },
  "toc": {
   "colors": {
    "hover_highlight": "#DAA520",
    "navigate_num": "#000000",
    "navigate_text": "#333333",
    "running_highlight": "#FF0000",
    "selected_highlight": "#FFD700",
    "sidebar_border": "#EEEEEE",
    "wrapper_background": "#FFFFFF"
   },
   "moveMenuLeft": true,
   "nav_menu": {
    "height": "63px",
    "width": "252px"
   },
   "navigate_menu": true,
   "number_sections": true,
   "sideBar": true,
   "threshold": 4,
   "toc_cell": false,
   "toc_section_display": "block",
   "toc_window_display": false,
   "widenNotebook": false
  }
 },
 "nbformat": 4,
 "nbformat_minor": 1
}
