{
 "cells": [
  {
   "cell_type": "code",
   "execution_count": 1,
   "metadata": {},
   "outputs": [],
   "source": [
    "%matplotlib inline"
   ]
  },
  {
   "cell_type": "code",
   "execution_count": 2,
   "metadata": {},
   "outputs": [],
   "source": [
    "from IPython.display import YouTubeVideo, Image"
   ]
  },
  {
   "cell_type": "markdown",
   "metadata": {},
   "source": [
    "# Problem Set 2\n",
    "\n",
    "## Directions\n",
    "\n",
    "1. Show all work/steps/calculations. Your submission should be a zip file named according to your JHED id ` <JHED>.zip` with the following contents:\n",
    "    1. the .ipynb version of the notebook.\n",
    "    2. the database, `contracts.db`\n",
    "    3. the DDL file, `contracts.sql`\n",
    "    3. your ETL code as `contracts.py`\n",
    "2. **All** work is to be your own. This is not a group project. You may, however, use code from the lectures and labs. Provide citations for any code that is not your own. You may also consult Stackoverflow, etc. This is not by any means \"closed book\" or anything like that. Basically, I need to see if *you* learned the concepts from the Labs.\n",
    "3. Add whatever markdown or code cells you need in each part to explain and calculate your answers. Don't just provide answers but explain them as well. **Explain and interpret your results. Explain your decisions.**"
   ]
  },
  {
   "cell_type": "markdown",
   "metadata": {
    "collapsed": true
   },
   "source": [
    "## Question 1 - Bad Charts\n",
    "\n",
    "**Part 1.**\n",
    "\n",
    "Based on the principles discussed in the Visualization Module and the Rules presented,\n",
    "\n",
    "1. What do you think the main message or story of the chart is?\n",
    "2. What are the chief problems with the following chart (what visualization principles does it violate)?\n",
    "3. Present an alternative and describe why it is better (what visualization principles does your version follow)?"
   ]
  },
  {
   "cell_type": "code",
   "execution_count": 3,
   "metadata": {},
   "outputs": [
    {
     "data": {
      "text/html": [
       "<img src=\"http://skepchick.org/wp-content/uploads/2015/06/CNN-weed-chart.jpg\"/>"
      ],
      "text/plain": [
       "<IPython.core.display.Image object>"
      ]
     },
     "execution_count": 3,
     "metadata": {},
     "output_type": "execute_result"
    }
   ],
   "source": [
    "Image(url=\"http://skepchick.org/wp-content/uploads/2015/06/CNN-weed-chart.jpg\")"
   ]
  },
  {
   "cell_type": "markdown",
   "metadata": {},
   "source": [
    "*answer*"
   ]
  },
  {
   "cell_type": "code",
   "execution_count": null,
   "metadata": {},
   "outputs": [],
   "source": []
  },
  {
   "cell_type": "markdown",
   "metadata": {},
   "source": [
    "**Part 2.**\n",
    "\n",
    "Based on the principles discussed in the Visualization Module and the Rules presented,\n",
    "\n",
    "1. What are the chief problems with the following chart (what visualization principles does it violate)?\n",
    "2. Present an alternative(s). Make whatever assumptions you need to make but explain them."
   ]
  },
  {
   "cell_type": "code",
   "execution_count": 4,
   "metadata": {},
   "outputs": [
    {
     "data": {
      "text/html": [
       "<img src=\"http://www.essexrecordofficeblog.co.uk/wp-content/uploads/2015/01/Death-pie-chart.jpg\"/>"
      ],
      "text/plain": [
       "<IPython.core.display.Image object>"
      ]
     },
     "execution_count": 4,
     "metadata": {},
     "output_type": "execute_result"
    }
   ],
   "source": [
    "Image(url=\"http://www.essexrecordofficeblog.co.uk/wp-content/uploads/2015/01/Death-pie-chart.jpg\")"
   ]
  },
  {
   "cell_type": "markdown",
   "metadata": {},
   "source": [
    "*answer*"
   ]
  },
  {
   "cell_type": "code",
   "execution_count": null,
   "metadata": {},
   "outputs": [],
   "source": []
  },
  {
   "cell_type": "markdown",
   "metadata": {},
   "source": [
    "## Question 2 - Obtaining and Querying Data\n",
    "\n",
    "In Lab 4, we obtained data from a Wikipedia page. This time we're going to start with a Wikipedia page but obtain and transform the supporting data.\n",
    "\n",
    "1. View [Top 100 Contractors of the U.S. federal government](https://en.wikipedia.org/wiki/Top_100_Contractors_of_the_U.S._federal_government).\n",
    "2. If you follow footnote 6, you can obtain the raw data for FY2015 which is an Excel file. The Excel file is divided into tabs. The first tab covers all the Federal government while the remaining tabs cover departments and sub-departments. **We are only interested in departments** which means we don't want spending from the first tab (although you may want the contractor information) and we don't want sub-departments. A department will have a code that ends with \"00\". For example, \"9700\" is the Defense Department but \"9761\" is \"Defense Threat Reduction\". We're not interested in the latter.\n",
    "3. Create a SQLite3 database, `contracts.db`, of the department specific actions (contracts) and dollar amounts. It should have **two** tables. The first, `contractors`, should have an id (as a primary key) and a global_vendor_name (as a varchar). The second, `actions`, should include an id (primary key), department, actions (number of actions), dollars (dollars obligated) and contractor_id as a foreign key to the contractors table. Follow the same pattern as in the Lab. All your database and table creation (DDL) commands will be in `contracts.sql`.\n",
    "4. Reading the Excel file and creating the database should be automated with no cutting and pasting so that you could regenerate the database for a corrected file or for FY2016 (assuming it had the same format). Both `xlrd` and `openpyxl` are included in Anaconda. (Translating the file from .xls to .xlsx *is* permitted but may not be required). Place this \"ETL\" code in a separate `contracts.py` file and include it with your submission.\n",
    "5. After generating the database, connect to it and answer the 3 questions:"
   ]
  },
  {
   "cell_type": "code",
   "execution_count": null,
   "metadata": {},
   "outputs": [],
   "source": []
  },
  {
   "cell_type": "markdown",
   "metadata": {},
   "source": [
    "**Questions**\n",
    "\n",
    "1. What are the total actions and dollars obligated by department?\n",
    "2. What is Johns Hopkins University's number of actions and dollars by department?\n",
    "3. How many vendors received contracts from 1 department, 2 departments, etc? In other words, I want a table that looks like the following (numbers are absolutely made up):\n",
    "\n",
    "| # Departments | Vendors |\n",
    "|-------------|-----------|\n",
    "| 1           | 1238      |\n",
    "| 2           | 525       |\n",
    "| 3           | 275       |\n",
    "| ...         |           |\n",
    "| n           | 2         |\n",
    "\n",
    "Interpret the first two rows in words. What is the overall story? Now, using *percentages* (instead of these raw counts), make a chart that shows this story using the principles explored in class."
   ]
  },
  {
   "cell_type": "code",
   "execution_count": null,
   "metadata": {},
   "outputs": [],
   "source": []
  }
 ],
 "metadata": {
  "kernelspec": {
   "display_name": "Python 3",
   "language": "python",
   "name": "python3"
  },
  "language_info": {
   "codemirror_mode": {
    "name": "ipython",
    "version": 3
   },
   "file_extension": ".py",
   "mimetype": "text/x-python",
   "name": "python",
   "nbconvert_exporter": "python",
   "pygments_lexer": "ipython3",
   "version": "3.7.1"
  },
  "toc": {
   "colors": {
    "hover_highlight": "#DAA520",
    "navigate_num": "#000000",
    "navigate_text": "#333333",
    "running_highlight": "#FF0000",
    "selected_highlight": "#FFD700",
    "sidebar_border": "#EEEEEE",
    "wrapper_background": "#FFFFFF"
   },
   "moveMenuLeft": true,
   "nav_menu": {
    "height": "99px",
    "width": "252px"
   },
   "navigate_menu": true,
   "number_sections": true,
   "sideBar": true,
   "threshold": 4.0,
   "toc_cell": false,
   "toc_section_display": "block",
   "toc_window_display": false,
   "widenNotebook": false
  }
 },
 "nbformat": 4,
 "nbformat_minor": 1
}
