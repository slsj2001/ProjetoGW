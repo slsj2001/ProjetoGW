{
 "cells": [
  {
   "cell_type": "markdown",
   "metadata": {},
   "source": [
    "# Module 12 Lab - Distance Based Machine Learning\n",
    "\n",
    "## Directions\n",
    "\n",
    "1. Show all work/steps/calculations. If it is easier to write it out by hand, do so and submit a scanned PDF in addition to this notebook. Otherwise, generate a Markdown cell for each answer.\n",
    "2. You must submit to **two** places by the deadline:\n",
    "    1. In the Lab section of the Course Module where you downloaded this file from, and\n",
    "    2. In your Lab Discussion Group, in the forum for the appropriate Module.\n",
    "3. You may use any core Python libraries or Numpy/Scipy. **Additionally, code from the Module notebooks and lectures is fair to use and modify.** You may also consult Stackoverflow (SO). If you use something from SO, please place a comment with the URL to document the code."
   ]
  },
  {
   "cell_type": "markdown",
   "metadata": {},
   "source": [
    "We're getting to the point in the semester where you should be know the drill.\n",
    "\n",
    "This module covered 3 basic problems: supervised learning (classification, regression), unsupervised learning (clustering) and recommenders (collaborative filtering based systems related to missing value imputation) using distance/similarity. We're only going to cover the first 2 in this lab.\n",
    "\n",
    "You should definitely use [Scikit Learn](http://scikit-learn.org/stable/) and refer to the documentation for this assignment.\n",
    "\n",
    "Remember to create a new random seed for each experiment (if needed) and save it."
   ]
  },
  {
   "cell_type": "markdown",
   "metadata": {},
   "source": [
    "**Problem 1. kNN Regression**\n",
    "\n",
    "Use k-Nearest Neighbors *regression* for the insurance data set. Make sure you do the following:\n",
    "\n",
    "1. Pick an appropriate evaluation metric.\n",
    "2. Validation curves to find the best value of k.\n",
    "3. Learning curves to see if we are high bias or high variance and suggest ways to improve the model.\n",
    "4. 10 fold cross validation to estimate the mean metric and its credible interval.\n",
    "5. Was this better than the best linear regression model you estimated in Lab 11? Use Bayesian statistical inference to generate and evaluate the posterior distribution of the difference of means."
   ]
  },
  {
   "cell_type": "code",
   "execution_count": null,
   "metadata": {
    "collapsed": true
   },
   "outputs": [],
   "source": []
  },
  {
   "cell_type": "markdown",
   "metadata": {},
   "source": [
    "** Problem 2. Clustering **\n",
    "\n",
    "Use k-Means Clustering on clustering problems of your own creation in two dimensions ($x_1$ and $x_2$). You should explore the following points: \n",
    "\n",
    "1. What if the data has no clusters (there are no hidden categorical variables)?\n",
    "2. Now assume that you have some \"hidden\" categorical variable and the clusters are compact and distinct as well as having the same variance? What does the Elbow Method show for the k you should use?\n",
    "3. Now assume that you have some \"hidden\" categorical variable and the clusters are disperse? Different variances? What does the Elbow Method show for the k you should use?"
   ]
  },
  {
   "cell_type": "code",
   "execution_count": null,
   "metadata": {
    "collapsed": true
   },
   "outputs": [],
   "source": []
  }
 ],
 "metadata": {
  "kernelspec": {
   "display_name": "Python 3",
   "language": "python",
   "name": "python3"
  },
  "language_info": {
   "codemirror_mode": {
    "name": "ipython",
    "version": 3
   },
   "file_extension": ".py",
   "mimetype": "text/x-python",
   "name": "python",
   "nbconvert_exporter": "python",
   "pygments_lexer": "ipython3",
   "version": "3.7.0"
  },
  "toc": {
   "colors": {
    "hover_highlight": "#DAA520",
    "navigate_num": "#000000",
    "navigate_text": "#333333",
    "running_highlight": "#FF0000",
    "selected_highlight": "#FFD700",
    "sidebar_border": "#EEEEEE",
    "wrapper_background": "#FFFFFF"
   },
   "moveMenuLeft": true,
   "nav_menu": {
    "height": "63px",
    "width": "252px"
   },
   "navigate_menu": true,
   "number_sections": true,
   "sideBar": true,
   "threshold": 4,
   "toc_cell": false,
   "toc_section_display": "block",
   "toc_window_display": false,
   "widenNotebook": false
  }
 },
 "nbformat": 4,
 "nbformat_minor": 1
}
