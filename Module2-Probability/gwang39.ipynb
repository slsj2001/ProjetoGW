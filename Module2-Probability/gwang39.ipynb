{
 "cells": [
  {
   "cell_type": "markdown",
   "metadata": {},
   "source": [
    "# Module 2 Lab - Probability"
   ]
  },
  {
   "cell_type": "markdown",
   "metadata": {},
   "source": [
    "## Directions\n",
    "\n",
    "**Failure to follow the directions will result in a \"0\"**\n",
    "\n",
    "The due dates for each are indicated in the Syllabus and the course calendar. If anything is unclear, please email EN605.448@gmail.com the official email for the course or ask questions in the Lab discussion area on Blackboard.\n",
    "\n",
    "The Labs also present technical material that augments the lectures and \"book\".  You should read through the entire lab at the start of each module.\n",
    "\n",
    "### General Instructions\n",
    "\n",
    "1.  You will be submitting your assignment to Blackboard. If there are no accompanying files, you should submit *only* your notebook and it should be named using *only* your JHED id: fsmith79.ipynb for example if your JHED id were \"fsmith79\". If the assignment requires additional files, you should name the *folder/directory* your JHED id and put all items in that folder/directory, ZIP it up (only ZIP...no other compression), and submit it to Blackboard.\n",
    "    \n",
    "    * do **not** use absolute paths in your notebooks. All resources should appear in the same directory as the rest of your assignments.\n",
    "    * the directory **must** be named your JHED id and **only** your JHED id.\n",
    "    \n",
    "2. Data Science is as much about what you write (communicating) as the code you execute (researching). In many places, you will be required to execute code and discuss both the purpose and the result. Additionally, Data Science is about reproducibility and transparency. This includes good communication with your team and possibly with yourself. Therefore, you must show **all** work.\n",
    "\n",
    "3. Avail yourself of the Markdown/Codecell nature of the notebook. If you don't know about Markdown, look it up. Your notebooks should not look like ransom notes. Don't make everything bold. Clearly indicate what question you are answering.\n",
    "\n",
    "4. Submit a cleanly executed notebook. It should say `In [1]` for the first codecell and increase by 1 throughout."
   ]
  },
  {
   "cell_type": "markdown",
   "metadata": {},
   "source": [
    "## Manipulating and Interpreting Probability\n",
    "\n",
    "Given the following *joint probability distribution*, $P(A,B)$, for $A$ and $B$,\n",
    "\n",
    "\n",
    "|    | a1   | a2   |\n",
    "|----|------|------|\n",
    "\n",
    "| **b1** | 0.37 | 0.16 |\n",
    "\n",
    "| **b2** | 0.23 | ?    |\n",
    "\n",
    "Answer the following questions.\n",
    "\n",
    "**1\\. What is $P(A=a2, B=b2)$?**"
   ]
  },
  {
   "cell_type": "code",
   "execution_count": 1,
   "metadata": {},
   "outputs": [
    {
     "name": "stdout",
     "output_type": "stream",
     "text": [
      "P(A=a2,B=b2) = 1 - 0.37  - 0.16 - 0.23 = 0.24\n"
     ]
    }
   ],
   "source": [
    "print(\"P(A=a2,B=b2) = 1 - 0.37  - 0.16 - 0.23 = %.2f\" %(1 - 0.37 - 0.16 - 0.23))"
   ]
  },
  {
   "cell_type": "code",
   "execution_count": null,
   "metadata": {},
   "outputs": [],
   "source": [
    "P = {\"a1\":{\"b1\":0.37,\"b2\"=0.23},\"a2\":{\"b1\":0.,\"b2\"=0.05}}"
   ]
  },
  {
   "cell_type": "markdown",
   "metadata": {},
   "source": [
    "**2\\. If I observe events from this probability distribution, what is the probability of seeing (a1, b1) then (a2, b2)?**"
   ]
  },
  {
   "cell_type": "code",
   "execution_count": 2,
   "metadata": {},
   "outputs": [
    {
     "name": "stdout",
     "output_type": "stream",
     "text": [
      "P((a1,b1)then(a2,b2)) = P(a1,b1) * P(a2,b2) = 0.37 * 0.24= 0.09\n"
     ]
    }
   ],
   "source": [
    "print(\"P((a1,b1)then(a2,b2)) = P(a1,b1) * P(a2,b2) = 0.37 * 0.24= %.2f\" %(0.37*0.24))"
   ]
  },
  {
   "cell_type": "markdown",
   "metadata": {},
   "source": [
    "**3\\. Calculate the marginal probability distribution, $P(A)$.**"
   ]
  },
  {
   "cell_type": "code",
   "execution_count": 3,
   "metadata": {},
   "outputs": [
    {
     "name": "stdout",
     "output_type": "stream",
     "text": [
      "P(a1) = P(a1,b1) + P(a1,b2) = 0.37 + 0.23 = 0.60\n",
      "P(a2) = P(a2,b1) + P(a2,b2) = 0.16 + 0.24 = 0.40\n"
     ]
    }
   ],
   "source": [
    "print(\"P(a1) = P(a1,b1) + P(a1,b2) = 0.37 + 0.23 = %.2f\" %(0.37+0.23))\n",
    "print(\"P(a2) = P(a2,b1) + P(a2,b2) = 0.16 + 0.24 = %.2f\" %(0.16+0.24))"
   ]
  },
  {
   "cell_type": "markdown",
   "metadata": {},
   "source": [
    "**4\\. Calculate the marginal probability distribution, $P(B)$.**"
   ]
  },
  {
   "cell_type": "code",
   "execution_count": 4,
   "metadata": {},
   "outputs": [
    {
     "name": "stdout",
     "output_type": "stream",
     "text": [
      "P(b1) = P(b1,a1) + P(b1,a2) = 0.37 + 0.23 = 0.53\n",
      "P(b2) = P(b2,a1) + P(b2,a2) = 0.23 + 0.24 = 0.47\n"
     ]
    }
   ],
   "source": [
    "print(\"P(b1) = P(b1,a1) + P(b1,a2) = 0.37 + 0.23 = %.2f\" %(0.37+0.16))\n",
    "print(\"P(b2) = P(b2,a1) + P(b2,a2) = 0.23 + 0.24 = %.2f\" %(0.23+0.24))"
   ]
  },
  {
   "cell_type": "markdown",
   "metadata": {},
   "source": [
    "**5\\. Calculate the conditional probability distribution, $P(A|B)$.**"
   ]
  },
  {
   "cell_type": "code",
   "execution_count": 5,
   "metadata": {},
   "outputs": [
    {
     "name": "stdout",
     "output_type": "stream",
     "text": [
      "P(a1|b1) = P(a1,b1)/P(b1) = 0.37/0.53 = 0.70\n",
      "P(a1|b2) = P(a1,b2)/P(b2) = 0.23/0.47 = 0.49\n",
      "P(a2|b1) = P(a2,b1)/P(b1) = 0.16/0.53 = 0.30\n",
      "P(a2|b2) = P(a2,b2)/P(b2) = 0.0.24/0.47 = 0.51\n"
     ]
    }
   ],
   "source": [
    "print(\"P(a1|b1) = P(a1,b1)/P(b1) = 0.37/0.53 = %.2f\" %(0.37/0.53))\n",
    "print(\"P(a1|b2) = P(a1,b2)/P(b2) = 0.23/0.47 = %.2f\" %(0.23/0.47))\n",
    "print(\"P(a2|b1) = P(a2,b1)/P(b1) = 0.16/0.53 = %.2f\" %(0.16/0.53))\n",
    "print(\"P(a2|b2) = P(a2,b2)/P(b2) = 0.0.24/0.47 = %.2f\" %(0.24/0.47))"
   ]
  },
  {
   "cell_type": "markdown",
   "metadata": {},
   "source": [
    "**6\\. Calculate the conditional probability distribution, $P(B|A)$.**"
   ]
  },
  {
   "cell_type": "code",
   "execution_count": 6,
   "metadata": {},
   "outputs": [
    {
     "name": "stdout",
     "output_type": "stream",
     "text": [
      "P(b1|a1) = P(b1,a1)/P(a1) = 0.37/0.60 = 0.62\n",
      "P(b1|a2) = P(b1,a2)/P(a2) = 0.16/0.40 = 0.40\n",
      "P(b2|a1) = P(b2,a1)/P(a1) = 0.23/0.60 = 0.38\n",
      "P(b2|a2) = P(b2,a2)/P(a2) = 0.24/0.40 = 0.60\n"
     ]
    }
   ],
   "source": [
    "print(\"P(b1|a1) = P(b1,a1)/P(a1) = 0.37/0.60 = %.2f\" %(0.37/0.60))\n",
    "print(\"P(b1|a2) = P(b1,a2)/P(a2) = 0.16/0.40 = %.2f\" %(0.16/0.40))\n",
    "print(\"P(b2|a1) = P(b2,a1)/P(a1) = 0.23/0.60 = %.2f\" %(0.23/0.60))\n",
    "print(\"P(b2|a2) = P(b2,a2)/P(a2) = 0.24/0.40 = %.2f\" %(0.24/0.40))\n"
   ]
  },
  {
   "cell_type": "markdown",
   "metadata": {},
   "source": [
    "**7\\. Does $P(A|B) = P(B|A)$? What do we call the belief that these are always equal?**"
   ]
  },
  {
   "cell_type": "markdown",
   "metadata": {},
   "source": [
    "Based on answers to Question 5 and 6, P(A|B) does not equal to P(B|A)\n",
    "The belief that these are always equal is called inverse probability fallacy\n"
   ]
  },
  {
   "cell_type": "markdown",
   "metadata": {},
   "source": [
    "**8\\. Does $P(A) = P(A|B)$? What does that mean about the independence of $A$ and $B$?**"
   ]
  },
  {
   "cell_type": "markdown",
   "metadata": {},
   "source": [
    "Based on answers to Question 3 and 5\n",
    "\n",
    "P(a1)=0.60 whereas P(a1|b1)=0.70 and p(a1|b2)=0.49\n",
    "\n",
    "P(a2)=0.40 whereas P(a2|b1)=0.53 and p(a2|b2)=0.47\n",
    "\n",
    "Therefore, P(A) does not euqal to P(A|B) and they are not independent"
   ]
  },
  {
   "cell_type": "markdown",
   "metadata": {},
   "source": [
    "**9\\. Using $P(A)$, $P(B|A)$, $P(B)$ from above, calculate,**\n",
    "\n",
    "$P(A|B) = \\frac{P(B|A)P(A)}{P(B)}$\n",
    "\n",
    "Does it match your previous calculation for $P(A|B)$?"
   ]
  },
  {
   "cell_type": "code",
   "execution_count": 7,
   "metadata": {},
   "outputs": [
    {
     "name": "stdout",
     "output_type": "stream",
     "text": [
      "Yes, all calculations match previous results. See below for details:\n",
      "P(a1|b1) = (P(b1|a1)*P(a1))/P(b1) = (0.62*0.60)/0.53 = 0.70\n",
      "P(a1|b2) = (P(b2|a1)*P(a1))/P(b2) = (0.38*0.60)/0.47 = 0.49\n",
      "P(a2|b1) = (P(b1|a2)*P(a2))/P(b1) = (0.40*0.40)/0.53 = 0.30\n",
      "P(a2|b2) = (P(b2|a2)*P(a2))/P(b2) = (0.60*0.40)/0.47 = 0.51\n"
     ]
    }
   ],
   "source": [
    "print(\"Yes, all calculations match previous results. See below for details:\")\n",
    "print(\"P(a1|b1) = (P(b1|a1)*P(a1))/P(b1) = (0.62*0.60)/0.53 = %.2f\" %((0.62*0.60)/0.53))\n",
    "print(\"P(a1|b2) = (P(b2|a1)*P(a1))/P(b2) = (0.38*0.60)/0.47 = %.2f\" %((0.38*0.60)/0.47))\n",
    "print(\"P(a2|b1) = (P(b1|a2)*P(a2))/P(b1) = (0.40*0.40)/0.53 = %.2f\" %((0.40*0.40)/0.53))\n",
    "print(\"P(a2|b2) = (P(b2|a2)*P(a2))/P(b2) = (0.60*0.40)/0.47 = %.2f\" %((0.60*0.40)/0.47))\n"
   ]
  },
  {
   "cell_type": "markdown",
   "metadata": {},
   "source": [
    "**10\\. If we let A = H (some condition, characteristic, hypothesis) and B = D (some data, evidence, a test result), then how do we interpret each of the following: $P(H)$, $P(D)$, $P(H|D)$, $P(D|H)$, $P(H, D)$?**"
   ]
  },
  {
   "cell_type": "markdown",
   "metadata": {},
   "source": [
    "Referring to **Fundamental Chapter 5, Secsion 5.5.5**, each of these should be interpreted as:\n",
    "- P(H) = prior probability\n",
    "- P(D) = normalizer\n",
    "- P(H|D) = posterior probability\n",
    "- P(D|H) = likelihood\n",
    "- P(H,D) = joint probability"
   ]
  },
  {
   "cell_type": "markdown",
   "metadata": {},
   "source": [
    "## Bayes Rule\n",
    "\n",
    "Bayes Rule will be an important part of our toolset in the weeks to come, especially in terms of Bayesian Inference. Work through the following problems in Bayes Rule."
   ]
  },
  {
   "cell_type": "markdown",
   "metadata": {},
   "source": [
    "### Problem 1\n",
    "\n",
    "You might be interested in finding out a patient’s probability of having liver disease if they are an alcoholic. “Being an alcoholic” is the test (kind of like a litmus test) for liver disease.\n",
    "\n",
    "Let `A` be the presence or absence of liver disease (`a` is that they have it; `~a`, \"not a\", is that they don't). Past data tells you that 10% of patients entering your clinic have liver disease.\n",
    "\n",
    "Let `B` be alcoholic (`b`) or not alcoholic (`~b`). 5% of the clinic’s patients are alcoholics.\n",
    "\n",
    "You might also know that among those patients diagnosed with liver disease, 7% are alcoholics.\n",
    "\n",
    "What is P(A|B)? (Remember this is a number of probability distributions, not just a probability)."
   ]
  },
  {
   "cell_type": "markdown",
   "metadata": {},
   "source": [
    "Given P(b)=0.05, P(~b)=0.95, P(a)=0.10, p(~a)=0.90, p(b|a)=0.07,p(~b|a)=0.93\n",
    "\n",
    "Using Bayes rule, we can get P(A|B) as:\n"
   ]
  },
  {
   "cell_type": "code",
   "execution_count": 8,
   "metadata": {},
   "outputs": [
    {
     "name": "stdout",
     "output_type": "stream",
     "text": [
      "P(a|b) = (P(b|a)*P(a))/P(b) = 0.07*0.10/0.05 = 0.14\n",
      "P(~a|b) = 1-P(a|b) = 0.86\n",
      "P(a|~b) = (P(~b|a)*P(a))/P(~b) = 0.93*0.10/0.95 = 0.10\n",
      "P(~a|~b) = 1-P(~b|a) = 0.90\n",
      "P(b|a) = P(a|b)*P(b)/P(a) = 0.14*0.05/0.10 = 0.07\n",
      "P(~b|a) = 1-P(b|a) = 1-0.14*0.05/0.10 = 0.93\n",
      "P(b|~a) = P(~a|b)*P(b)/P(~a) = 0.86*0.05/0.90 = 0.05\n",
      "P(~b|~a) = 1-P(b|~a) = 0.95\n"
     ]
    }
   ],
   "source": [
    "print(\"P(a|b) = (P(b|a)*P(a))/P(b) = 0.07*0.10/0.05 = %.2f\" %((0.07*0.10)/0.05))\n",
    "print(\"P(~a|b) = 1-P(a|b) = %.2f\" %(1-(0.07*0.10)/0.05))\n",
    "print(\"P(a|~b) = (P(~b|a)*P(a))/P(~b) = 0.93*0.10/0.95 = %.2f\" %((0.93*0.10)/0.95))\n",
    "print(\"P(~a|~b) = 1-P(~b|a) = %.2f\" %(1-((0.93*0.10)/0.95)))\n",
    "print(\"P(b|a) = P(a|b)*P(b)/P(a) = 0.14*0.05/0.10 = %.2f\" %((0.14*0.05)/0.10))\n",
    "print(\"P(~b|a) = 1-P(b|a) = 1-0.14*0.05/0.10 = %.2f\" %(1-0.14*0.05/0.10))     \n",
    "print(\"P(b|~a) = P(~a|b)*P(b)/P(~a) = 0.86*0.05/0.90 = %.2f\" %(0.86*0.05/0.90))\n",
    "print(\"P(~b|~a) = 1-P(b|~a) = %.2f\" %(1-0.86*0.05/0.90))\n"
   ]
  },
  {
   "cell_type": "markdown",
   "metadata": {},
   "source": [
    "### Problem 2\n",
    "\n",
    "In a particular pain clinic, 10% of patients are prescribed narcotic pain killers. Overall, five percent of the clinic’s patients are addicted to narcotics (including pain killers and illegal substances). Out of all the people prescribed pain pills, 8% are addicts. If a patient is an addict, what is the probability that they will be prescribed pain pills?"
   ]
  },
  {
   "cell_type": "markdown",
   "metadata": {},
   "source": [
    "Let N be the presence or absence of pain killer prescribtion (n is that they have it; ~n, \"not n\", is that they don't)\n",
    "\n",
    "Let A be addict (a) or not addict (~a)\n",
    "\n",
    "Given P(n)=0.10, P(a)=0.05, P(a|n)=0.08\n",
    "\n",
    "Using Bayes rule, we can get:\n"
   ]
  },
  {
   "cell_type": "code",
   "execution_count": 9,
   "metadata": {},
   "outputs": [
    {
     "name": "stdout",
     "output_type": "stream",
     "text": [
      "P(n|a) = (P(a|n)*P(n))/P(a) = (0.08*0.10)/0.05 = 0.16\n"
     ]
    }
   ],
   "source": [
    "print(\"P(n|a) = (P(a|n)*P(n))/P(a) = (0.08*0.10)/0.05 = %.2f\" %((0.08*0.10)/0.05))"
   ]
  },
  {
   "cell_type": "markdown",
   "metadata": {},
   "source": [
    "Therefore, if a patient is an addict, the probability that they will be prescribed pain pills is 16%"
   ]
  }
 ],
 "metadata": {
  "kernelspec": {
   "display_name": "Python 3",
   "language": "python",
   "name": "python3"
  },
  "language_info": {
   "codemirror_mode": {
    "name": "ipython",
    "version": 3
   },
   "file_extension": ".py",
   "mimetype": "text/x-python",
   "name": "python",
   "nbconvert_exporter": "python",
   "pygments_lexer": "ipython3",
   "version": "3.7.1"
  },
  "toc": {
   "colors": {
    "hover_highlight": "#DAA520",
    "navigate_num": "#000000",
    "navigate_text": "#333333",
    "running_highlight": "#FF0000",
    "selected_highlight": "#FFD700",
    "sidebar_border": "#EEEEEE",
    "wrapper_background": "#FFFFFF"
   },
   "moveMenuLeft": true,
   "nav_menu": {
    "height": "207px",
    "width": "252px"
   },
   "navigate_menu": true,
   "number_sections": true,
   "sideBar": true,
   "threshold": 4,
   "toc_cell": false,
   "toc_section_display": "block",
   "toc_window_display": false,
   "widenNotebook": false
  }
 },
 "nbformat": 4,
 "nbformat_minor": 1
}
