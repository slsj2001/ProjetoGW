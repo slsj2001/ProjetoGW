{
 "cells": [
  {
   "cell_type": "markdown",
   "metadata": {},
   "source": [
    "# Definition of Probability\n",
    "\n",
    "Data is ultimately evidence for a claim. In Data Science, we want to use data to establish claims that answer a question or solve a problem. The *degree* to which data is supports a claim could be called the claim's *plausibilty*. As we gather data, some claims will be more plausible than others.\n",
    "\n",
    "Our tool for dealing with plausibility is *probability*. Following [Edwin Jaynes](https://en.wikipedia.org/wiki/Edwin_Thompson_Jaynes), we see probability as an extension of logic from claims that are true or false to claims that have different degrees of support.\n",
    "\n",
    "Consider the following syllogism in logic:\n",
    "\n",
    "1. If something is a person, it is mortal.\n",
    "2. Socrates is a person.\n",
    "3. Socrates is mortal.\n",
    "\n",
    "This is an example of *modus ponens*. Now consider the following syllogism:\n",
    "\n",
    "1. If something is a swan, it is white.\n",
    "2. This animal is a swan.\n",
    "3. This animal is white.\n",
    "\n",
    "Of course, when this syllogism was framed, Australia had not yet been discovered by Europeans. However, when the Europeans arrived, they found black swans. The syllogism is now false because the first statement is false. In logic, veracity is an all or nothing quality. Statements are true or false.\n",
    "\n",
    "While there are various methods of handling degrees of truth, we will focus in this text on probability. Probability permits us to work with statements like the following:\n",
    "\n",
    "1. If something is a swan, it is likely to be white.\n",
    "2. This animal is a swan.\n",
    "3. It is likely to be white.\n",
    "\n",
    "Probability enables us to work in a world where the evidence is not clear cut and only lends partial support--plausibility--to a claim. The evidence might also support multiple claims to varying degrees preventing us from being absolutely certain in our decisions.\n",
    "\n",
    "In this chapter we will discuss the basics of probability. In the next chapter, we will combine probability and systems thinking to talk about *stochastic processes*. In a later chapter, we will return to probability and talk about the continuous version of *modus ponens*, Bayes Rule and statistical inference.\n",
    "\n"
   ]
  }
 ],
 "metadata": {
  "kernelspec": {
   "display_name": "Python 3",
   "language": "python",
   "name": "python3"
  },
  "language_info": {
   "codemirror_mode": {
    "name": "ipython",
    "version": 3
   },
   "file_extension": ".py",
   "mimetype": "text/x-python",
   "name": "python",
   "nbconvert_exporter": "python",
   "pygments_lexer": "ipython3",
   "version": "3.7.0"
  },
  "toc": {
   "colors": {
    "hover_highlight": "#DAA520",
    "navigate_num": "#000000",
    "navigate_text": "#333333",
    "running_highlight": "#FF0000",
    "selected_highlight": "#FFD700",
    "sidebar_border": "#EEEEEE",
    "wrapper_background": "#FFFFFF"
   },
   "moveMenuLeft": true,
   "nav_menu": {
    "height": "30px",
    "width": "252px"
   },
   "navigate_menu": true,
   "number_sections": true,
   "sideBar": true,
   "threshold": 4,
   "toc_cell": false,
   "toc_section_display": "block",
   "toc_window_display": false,
   "widenNotebook": false
  }
 },
 "nbformat": 4,
 "nbformat_minor": 2
}
