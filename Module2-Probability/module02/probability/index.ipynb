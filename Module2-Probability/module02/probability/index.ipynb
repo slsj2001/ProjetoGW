{
 "cells": [
  {
   "cell_type": "markdown",
   "metadata": {},
   "source": [
    "# Probability\n",
    "\n",
    "In this chapter we will discuss the probability as a framework for working with uncertainty. We'll start by defining probability then move to the *axioms* of probability. We'll talk about different *types* of probability that cover scenarios for complex events when some characteristics of the outcome are known. We'll then move on to *rules* of probability that permit us to manipulate probabilities.\n",
    "\n",
    "Probability is used to talk about the plausibility of events. Sometimes the co-occurrence of events gives us additional information (if someone one is wealthy, they may also wear designer labels). However, sometimes the co-occurrence gives us no additional information. We will talk about *independence* and *conditional independence*.\n",
    "\n",
    "Probability is tricky and associated with a number of *fallacies*, which we will discuss. This forms a subset of fallacies associated with data analysis in general which we will cover in a later chapter. Finally, we'll go over some applications of probability and the role of *simulation* in solving problems involving probability."
   ]
  },
  {
   "cell_type": "markdown",
   "metadata": {
    "nbsphinx-toctree": {}
   },
   "source": [
    "* [Systems Thinking to Probability](systems.ipynb)\n",
    "* [Definition of Probability](definition.ipynb)\n",
    "* [Axioms of Probability](axioms.ipynb)\n",
    "* [Types of Probability](types.ipynb)\n",
    "* [Rules of Probability](rules.ipynb)\n",
    "* [Independence and Conditional Independence](independence.ipynb)\n",
    "* [Fallacies](fallacies.ipynb)\n",
    "* [Applications](applications.ipynb)\n",
    "* [Probability and Simulation](cities.ipynb)\n",
    "* [Conclusion](conclusion.ipynb)"
   ]
  }
 ],
 "metadata": {
  "celltoolbar": "Edit Metadata",
  "kernelspec": {
   "display_name": "Python 3",
   "language": "python",
   "name": "python3"
  },
  "language_info": {
   "codemirror_mode": {
    "name": "ipython",
    "version": 3
   },
   "file_extension": ".py",
   "mimetype": "text/x-python",
   "name": "python",
   "nbconvert_exporter": "python",
   "pygments_lexer": "ipython3",
   "version": "3.7.0"
  },
  "toc": {
   "colors": {
    "hover_highlight": "#DAA520",
    "navigate_num": "#000000",
    "navigate_text": "#333333",
    "running_highlight": "#FF0000",
    "selected_highlight": "#FFD700",
    "sidebar_border": "#EEEEEE",
    "wrapper_background": "#FFFFFF"
   },
   "moveMenuLeft": true,
   "nav_menu": {
    "height": "30px",
    "width": "252px"
   },
   "navigate_menu": true,
   "number_sections": true,
   "sideBar": true,
   "threshold": 4,
   "toc_cell": false,
   "toc_section_display": "block",
   "toc_window_display": false,
   "widenNotebook": false
  }
 },
 "nbformat": 4,
 "nbformat_minor": 2
}
