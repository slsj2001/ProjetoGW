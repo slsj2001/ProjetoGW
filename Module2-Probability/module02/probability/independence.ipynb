{
 "cells": [
  {
   "cell_type": "markdown",
   "metadata": {},
   "source": [
    "# Independence and Conditional Independence\n",
    "\n",
    "From before, we manipulated the definition of conditional probability as follows:\n",
    "\n",
    "$P(A|B) = \\frac{P(A,B)}{P(B)}$\n",
    "\n",
    "and re-arrange:\n",
    "\n",
    "$P(A,B) = P(A|B)P(B)$\n",
    "\n",
    "Remember our interpretation of conditional probability: knowing what event in B happened gives us additional information that influences our expectations about which event in A will happen. If it doesn't, then:\n",
    "\t\n",
    "$P(A, B) = P(A)P(B)$\n",
    "\n",
    "in which case A and B are said to be independent. This is known as the Multiplication Rule of Probability.\n",
    "\n",
    "In the previous section on Probability Rules, we introduced the Chain Rule. The Chain Rule basically gives us permission to factor a joint probability distribution however we please. For example, we might have:\n",
    "\n",
    "$P(A, B, C) = P(A|B, C)P(B|C)P(C)$\n",
    "\n",
    "we can also do the same with a conditional *joint* probability:\n",
    "\n",
    "$P(A,B| C) = P(A|B, C)P(B|C)$\n",
    "\n",
    "This says we can factor our uncertainty in the joint events of A and B given some known event in C into two parts: the uncertainty over an event in A given events in B and C are known times the uncertainty in an event in B given the event in C is known.\n",
    "\n",
    "For a concrete example, consider a joint probability of Religion, Party and Wealth. That's $P(A, B, C)$ or $P(Party, Wealth, Religion)$. Now suppose we condition on $Religion$ so we have $P(Party, Wealth | Religion)$. We're now describing our uncertainty over someone's Party and Wealth given we know their Religion. What the above says is that we can factor that into two parts. The first part is the probability of Party given we know their Wealth and Religion and the second part is the probability of Wealth given we know their Religion.\n",
    "\n",
    "Returning to the example, however, if the following is true:\n",
    "\t\n",
    "$P(A,B|C) = P(A|C)P(B|C)$\n",
    "\n",
    "then we can say that A and B are conditionally independent given C. Note that the above can be true and that the following is also true:\n",
    "\n",
    "$P(A, B) \\neq P(A)P(B)$\n",
    "\n",
    "The one does not imply the other.\n",
    "\n",
    "There are many applications in statistics and machine learning that either require or assume independence or conditional independence."
   ]
  }
 ],
 "metadata": {
  "kernelspec": {
   "display_name": "Python 3",
   "language": "python",
   "name": "python3"
  },
  "language_info": {
   "codemirror_mode": {
    "name": "ipython",
    "version": 3
   },
   "file_extension": ".py",
   "mimetype": "text/x-python",
   "name": "python",
   "nbconvert_exporter": "python",
   "pygments_lexer": "ipython3",
   "version": "3.7.0"
  },
  "toc": {
   "colors": {
    "hover_highlight": "#DAA520",
    "navigate_num": "#000000",
    "navigate_text": "#333333",
    "running_highlight": "#FF0000",
    "selected_highlight": "#FFD700",
    "sidebar_border": "#EEEEEE",
    "wrapper_background": "#FFFFFF"
   },
   "moveMenuLeft": true,
   "nav_menu": {
    "height": "45px",
    "width": "252px"
   },
   "navigate_menu": true,
   "number_sections": true,
   "sideBar": true,
   "threshold": 4,
   "toc_cell": false,
   "toc_section_display": "block",
   "toc_window_display": false,
   "widenNotebook": false
  }
 },
 "nbformat": 4,
 "nbformat_minor": 2
}
