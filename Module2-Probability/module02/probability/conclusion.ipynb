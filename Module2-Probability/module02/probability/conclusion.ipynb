{
 "cells": [
  {
   "cell_type": "markdown",
   "metadata": {},
   "source": [
    "# Conclusion\n",
    "\n",
    "We covered a lot of ground in this chapter from the basic ideas of probability to fallacies in probabilistic reasoning. Still, probability is a fundamental tool in data science. Returning to our definition of data science, it says:\n",
    "\n",
    "> Data science is the application of math and computers to solve problems that stem from a lack of knowledge, constrained by the small number of people with any interest in the answers.\n",
    "\n",
    "The fundamental problem of Science is extrapolating general conclusions from specific data sets. That is, inference. Probability is our fundamental tool for dealing with the problem of inference because it allows us to model our uncertainty in a very rigorous way. Still...it's not a panacea. It does not magically make inference deductive instead of inductive.\n",
    "\n",
    "Although the types, rules and laws of probability are important, the most important part of this chapter is Bayes Rule (or Theorem). Bayes Rule allows us tells us how to update our beliefs based on evidence and forms the basis for Statistical Inference discussed in this book."
   ]
  },
  {
   "cell_type": "markdown",
   "metadata": {},
   "source": [
    "## Review\n",
    "\n",
    "*When asked to give an example, do not use dice, coins or cards (or any gambling device).*\n",
    "\n",
    "1. Why is a coin flip deterministic but we still need probability to model it?\n",
    "2. What is our working definition of probability?\n",
    "3. If $A = {a_1, a_2, a_3}$ and $B = {b_1, b_2}$, then answer the following questions:\n",
    "    1. What does $P(A, B)$ denote?\n",
    "    2. What does $P(A)$ denote? How did we arrive at it from $P(A, B)$?\n",
    "    3. What does $P(A=a_1$) denote?\n",
    "    4. What does $P(a_1)$ denote? Why should we be careful when using a \"shorthand\"?\n",
    "    5. What does $P(A|B)$ denote? How many probability distributions does it represent?\n",
    "    6. What does $P(A|B)P(B)$ denote? Write it out.\n",
    "    7. Express $P(A)$ using the Total Probability.\n",
    "4. What is the difference between an **outcome** and an **event**? Give an example not shown elsewhere.\n",
    "5. Give an example of the **independence** of two outcomes.\n",
    "6. Give an example of **conditional independence** of three outcomes.\n",
    "7. What is the **Gambler's Fallacy**?\n",
    "8. What is the **Inverse Probability Fallacy**?\n",
    "9. What is the **Prosecutor's Fallacy**?\n",
    "10. Joe has been randomly selected for drug testing from a population that has about 3% heroin use.  Joe tests positive for heroin use ($u$). The test used correctly identifies users 95% of the time $P(+|u) = 0.95$ and correctly identifies non-users 90% of the time $P(-|c) = 0.90$ ($c$ for \"clean\"). What is the probability that Joe is using heroin $P(u|+)$? What are the increment and total evidences in this problem?"
   ]
  }
 ],
 "metadata": {
  "kernelspec": {
   "display_name": "Python 3",
   "language": "python",
   "name": "python3"
  },
  "language_info": {
   "codemirror_mode": {
    "name": "ipython",
    "version": 3
   },
   "file_extension": ".py",
   "mimetype": "text/x-python",
   "name": "python",
   "nbconvert_exporter": "python",
   "pygments_lexer": "ipython3",
   "version": "3.6.1"
  }
 },
 "nbformat": 4,
 "nbformat_minor": 2
}
