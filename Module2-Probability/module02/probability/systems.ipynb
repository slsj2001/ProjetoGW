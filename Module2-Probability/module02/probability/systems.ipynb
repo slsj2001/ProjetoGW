{
 "cells": [
  {
   "cell_type": "markdown",
   "metadata": {},
   "source": [
    "# From Systems Thinking to Probability\n",
    "\n",
    "It may not be intuitive but the use of probability as a tool to model plausibility arises naturally out of systems thinking. To explain how, we consider the canonical example of probability: flipping a coin.\n",
    "\n",
    "If we think about a Coin Flipping System, what are the elements of this \"flipping a coin\" system?  Obviously, the coin has something to do with it, maybe its shape, size, weight, balance, etc. Coins will behave differently on the Earth than on the Moon or elsewhere in the universe so the gravity, atmosphere, etc. all play a role. There's the size and shape of the hand, location of the coin, and the force applied. Finally, there's this universe's general laws of physics. So \"flipping a coin\" is a system and, more specifically, it is a deterministic system.\n",
    "\n",
    "But it turns out that we cannot actually measure most of the variables that influence the outcome (whether the coin is heads or tails) and because of this, even though there is no actual variable called \"chance\", it's easier to model the variable \"coin flip\" as being *random*. The key point, though, is that it is not \"arbitrary\". We're using probability to model the system of flipping a coin because it's a great way of working with *uncertainty* (the opposite of plausibility, we'll use both terms).\n",
    "\n",
    "It is perhaps unfortunate that the theory of probability was developed around gambling because the whole idea of \"games of chance\" biases our views about what probability is and what it can be used for. The concept of \"probability\" thus becomes associated with some fuzzy ideas about \"chance\", \"randomness\" and \"arbitrariness\". Throughout this text, we just take probability to mean a measure of plausibility or uncertainty...and usually that uncertainty comes from ignorance. *Not* from some inherent, mysterious \"randomness\" in the process.\n",
    "\n",
    "On the other hand, we do have everyday notions and ideas about probability. We often say that things are \"probable\" or \"likely\" and we'll talk about the \"probability\" of something happening or the \"likelihood\" of something happening. These actually fit very well with our idea of probability as measuring uncertainty. However, we need to bear in mind that although we will often use the colloquial \"likelihood\" now and again, \"likelihood\", as we will see, has a technical meaning as well. In general, this should not be a problem as the context will tell us which meaning of likelihood is being used. It's just something we need to be aware of.\n",
    "\n",
    "Long story short, when we flip a coin, and we don't know about or we simply ignore all of those factors we cannot measure, we need a way of working with the resulting uncertainty over the outcomes. Probability allows us to do that.\n",
    "\n",
    "As a side note, if you don't believe there isn't at least one deterministic coin flipping system, researchers have built a [coin flipping machine](https://www.npr.org/templates/story/story.php?storyId=1697475) that can reliably make a coin always come up heads."
   ]
  }
 ],
 "metadata": {
  "kernelspec": {
   "display_name": "Python 3",
   "language": "python",
   "name": "python3"
  },
  "language_info": {
   "codemirror_mode": {
    "name": "ipython",
    "version": 3
   },
   "file_extension": ".py",
   "mimetype": "text/x-python",
   "name": "python",
   "nbconvert_exporter": "python",
   "pygments_lexer": "ipython3",
   "version": "3.7.0"
  },
  "toc": {
   "colors": {
    "hover_highlight": "#DAA520",
    "navigate_num": "#000000",
    "navigate_text": "#333333",
    "running_highlight": "#FF0000",
    "selected_highlight": "#FFD700",
    "sidebar_border": "#EEEEEE",
    "wrapper_background": "#FFFFFF"
   },
   "moveMenuLeft": true,
   "nav_menu": {
    "height": "30px",
    "width": "252px"
   },
   "navigate_menu": true,
   "number_sections": true,
   "sideBar": true,
   "threshold": 4,
   "toc_cell": false,
   "toc_section_display": "block",
   "toc_window_display": false,
   "widenNotebook": false
  }
 },
 "nbformat": 4,
 "nbformat_minor": 2
}
