{
 "cells": [
  {
   "cell_type": "markdown",
   "metadata": {},
   "source": [
    "# Problem Set 3\n",
    "\n",
    "## Directions\n",
    "\n",
    "1. Show all work/steps/calculations using a combination of code and Markdown. You will submit only this notebook named: [jhed_id].ipynb back to Blackboard from whence you downloaded it. Do not return the data to me.\n",
    "2. **All** work is to be your own. This is not a group project. You may, however, use code from the lectures and labs. Provide citations for any code that is not your own. You may also consult Stackoverflow, etc. This is not by any means \"closed book\" or anything like that. Basically, I need to see if *you* learned the concepts from the Lectures, *Fundamentals*, and Labs.\n",
    "3. Add whatever markdown or code cells you need in each part to explain and calculate your answers. Don't just provide answers but explain them as well. **Explain and interpret your results.**"
   ]
  },
  {
   "cell_type": "markdown",
   "metadata": {},
   "source": [
    "## Abalone\n",
    "\n",
    "This is a problem about Abalone...but not really. You should be able to use common knowledge to work with the data in this problem.\n",
    "\n",
    "```\n",
    "Description of fields in abalone data.\n",
    "\n",
    "Name            Data Type    Meas.    Description\n",
    "----            ---------    -----    -----------\n",
    "Sex             nominal               M, F, and I (infant)\n",
    "Length          continuous    mm      Longest shell measurement\n",
    "Diameter        continuous    mm      perpendicular to length\n",
    "Height          continuous    mm      with meat in shell\n",
    "Whole weight    continuous    grams   whole abalone\n",
    "Shucked weight  continuous    grams   weight of meat\n",
    "Viscera weight  continuous    grams   gut weight (after bleeding)\n",
    "Shell weight    continuous    grams   after being dried\n",
    "Rings           integer               +1.5 gives the age in years\n",
    "```\n",
    "\n",
    "The target variable is Rings because it is a predictor of age. You can take this as your problem, \"How do we estimate the age of an abalone from the available data?\"\n",
    "\n",
    "At a high level you have:\n",
    "\n",
    "1. Question/Problem\n",
    "2. ETL\n",
    "3. EDA\n",
    "4. Statistical and Mathematical Modeling.\n",
    "\n",
    "Of necessity, there is very little ETL here except to verify that the data has loaded correctly and with the correct types. For the EDA and Modeling parts, follow the guidelines in *Fundamentals*.\n",
    "\n",
    "\n",
    "**Begin**"
   ]
  },
  {
   "cell_type": "code",
   "execution_count": null,
   "metadata": {},
   "outputs": [],
   "source": []
  }
 ],
 "metadata": {
  "kernelspec": {
   "display_name": "Python 3",
   "language": "python",
   "name": "python3"
  },
  "language_info": {
   "codemirror_mode": {
    "name": "ipython",
    "version": 3
   },
   "file_extension": ".py",
   "mimetype": "text/x-python",
   "name": "python",
   "nbconvert_exporter": "python",
   "pygments_lexer": "ipython3",
   "version": "3.7.1"
  },
  "toc": {
   "colors": {
    "hover_highlight": "#DAA520",
    "navigate_num": "#000000",
    "navigate_text": "#333333",
    "running_highlight": "#FF0000",
    "selected_highlight": "#FFD700",
    "sidebar_border": "#EEEEEE",
    "wrapper_background": "#FFFFFF"
   },
   "moveMenuLeft": true,
   "nav_menu": {
    "height": "66px",
    "width": "252px"
   },
   "navigate_menu": true,
   "number_sections": true,
   "sideBar": true,
   "threshold": 4,
   "toc_cell": false,
   "toc_section_display": "block",
   "toc_window_display": false,
   "widenNotebook": false
  }
 },
 "nbformat": 4,
 "nbformat_minor": 2
}
