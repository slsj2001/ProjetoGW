{
 "cells": [
  {
   "cell_type": "markdown",
   "metadata": {},
   "source": [
    "# Two Cultures\n",
    "\n",
    "Although previously we looked at the problem of model evaluation from the statistician's point of view, we're now going to look at the problem from the machine learning researcher's (\"machine learning\") point of view. As Data Scientists, we must be familiar with both and know when each is appropriate, even using one when a \"true believer\" might use another. One of the larger failings of current Data Science is to exclude the statistical view entirely.\n",
    "\n",
    "I don't want to overstate the differences, however.\n",
    "Many of the techniques from Machine Learning have found their way into the Statistician's toolbox.\n",
    "The lines have definitely started to blur in recent years.\n",
    "However, they were remarkably different for a long time and as late as 2014, Hal Varian talked about what Econometrics and Machine Learning could learn from each other. These points of view don't change overnight. This goes back to the exchange we have already quoted between Bloomberg and Gelman. Although Gelman is a statistician and his views often straddle the worlds, we're going to move full on into the Machine Learning approach starting with this chapter.\n",
    "\n",
    "Take the case of linear regression. Whereas a statistician might ask:\n",
    "\n",
    "1. What is the $R^2$ (or null deviance or whatever)? What is $\\sigma$?\n",
    "2. Are the coefficients statistically significant (or credible)?\n",
    "3. Do we need to worry about multicollinearity? heteroskedascity?\n",
    "4. What do the residuals look like?\n",
    "5. Does the domain offer any suggestions about additional or missing variables, transformations, interaction terms?\n",
    "\n",
    "A machine learning engineer will ask:\n",
    "\n",
    "1. What is the likely error of my model when I apply it to *new* data (generalization performance/error)?\n",
    "2. How can I make my model better? Where \"better\" might mean an improvement in some metric and the \"how\" might mean:\n",
    "    1. Get more observations (this doesn't always work).\n",
    "    2. Get more variables (you might actually need fewer variables) or variable transformations.\n",
    "    3. Apply regularization (or remove it).\n",
    "    4. Set a different value for the model's *metaparameters* (parameters of the model not set by using data).\n",
    "    5. Switch to a different model.\n",
    "3. Once my model is deployed, how can I evaluate it \"in the wild\"?\n",
    "\n",
    "Although we won't leave the Statistician's view entirely behind, it is with this latter set of questions that we will concern ourselves in this chapter. Let's start at the start."
   ]
  }
 ],
 "metadata": {
  "kernelspec": {
   "display_name": "Python (en685648)",
   "language": "python",
   "name": "en685648"
  },
  "language_info": {
   "codemirror_mode": {
    "name": "ipython",
    "version": 3
   },
   "file_extension": ".py",
   "mimetype": "text/x-python",
   "name": "python",
   "nbconvert_exporter": "python",
   "pygments_lexer": "ipython3",
   "version": "3.7.1"
  },
  "toc": {
   "colors": {
    "hover_highlight": "#DAA520",
    "navigate_num": "#000000",
    "navigate_text": "#333333",
    "running_highlight": "#FF0000",
    "selected_highlight": "#FFD700",
    "sidebar_border": "#EEEEEE",
    "wrapper_background": "#FFFFFF"
   },
   "moveMenuLeft": true,
   "nav_menu": {
    "height": "30px",
    "width": "252px"
   },
   "navigate_menu": true,
   "number_sections": true,
   "sideBar": true,
   "threshold": 4,
   "toc_cell": false,
   "toc_section_display": "block",
   "toc_window_display": false,
   "widenNotebook": false
  }
 },
 "nbformat": 4,
 "nbformat_minor": 2
}
