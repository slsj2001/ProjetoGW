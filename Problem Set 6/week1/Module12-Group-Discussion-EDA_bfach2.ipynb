{
 "cells": [
  {
   "cell_type": "markdown",
   "metadata": {},
   "source": [
    "# Module Twelve Group Discussion, House Sales EDA"
   ]
  },
  {
   "cell_type": "code",
   "execution_count": 1,
   "metadata": {},
   "outputs": [],
   "source": [
    "import numpy as np\n",
    "import random as py_random\n",
    "import numpy.random as np_random\n",
    "import time\n",
    "import seaborn as sns\n",
    "import matplotlib.pyplot as plt\n",
    "import pandas as pd\n",
    "import scipy.stats as stats\n",
    "import sys\n",
    "\n",
    "%alias head powershell -command \"& {Get-Content %s -Head 10}\"\n",
    "\n",
    "%alias tail powershell -command \"& {Get-Content %s -Tail 10}\"\n",
    "\n",
    "sns.set(style=\"whitegrid\")"
   ]
  },
  {
   "cell_type": "markdown",
   "metadata": {},
   "source": [
    "Let's start by taking a peak at the data and any descriptive headers that may be included:"
   ]
  },
  {
   "cell_type": "code",
   "execution_count": 2,
   "metadata": {},
   "outputs": [
    {
     "name": "stdout",
     "output_type": "stream",
     "text": [
      "date,price,bedrooms,bathrooms,sqft_living,sqft_lot,floors,waterfront,view,condition,sqft_above,sqft_basement,yr_built,yr_renovated,street,city,statezip,country\n",
      "2014-05-02 00:00:00,313000.0,3.0,1.5,1340,7912,1.5,0,0,3,1340,0,1955,2005,18810 Densmore Ave N,Shoreline,WA 98133,USA\n",
      "2014-05-02 00:00:00,2384000.0,5.0,2.5,3650,9050,2.0,0,4,5,3370,280,1921,0,709 W Blaine St,Seattle,WA 98119,USA\n",
      "2014-05-02 00:00:00,342000.0,3.0,2.0,1930,11947,1.0,0,0,4,1930,0,1966,0,26206-26214 143rd Ave SE,Kent,WA 98042,USA\n",
      "2014-05-02 00:00:00,420000.0,3.0,2.25,2000,8030,1.0,0,0,4,1000,1000,1963,0,857 170th Pl NE,Bellevue,WA 98008,USA\n",
      "2014-05-02 00:00:00,550000.0,4.0,2.5,1940,10500,1.0,0,0,4,1140,800,1976,1992,9105 170th Ave NE,Redmond,WA 98052,USA\n",
      "2014-05-02 00:00:00,490000.0,2.0,1.0,880,6380,1.0,0,0,3,880,0,1938,1994,522 NE 88th St,Seattle,WA 98115,USA\n",
      "2014-05-02 00:00:00,335000.0,2.0,2.0,1350,2560,1.0,0,0,3,1350,0,1976,0,2616 174th Ave NE,Redmond,WA 98052,USA\n",
      "2014-05-02 00:00:00,482000.0,4.0,2.5,2710,35868,2.0,0,0,3,2710,0,1989,0,23762 SE 253rd Pl,Maple Valley,WA 98038,USA\n",
      "2014-05-02 00:00:00,452500.0,3.0,2.5,2430,88426,1.0,0,0,4,1570,860,1985,0,46611-46625 SE 129th St,North Bend,WA 98045,USA\n"
     ]
    }
   ],
   "source": [
    "%head 'real-estate-data.csv'"
   ]
  },
  {
   "cell_type": "markdown",
   "metadata": {},
   "source": [
    "For single variable EDA, start by looking at sqft_living, condition, city, bathrooms, and floors."
   ]
  },
  {
   "cell_type": "code",
   "execution_count": 3,
   "metadata": {},
   "outputs": [
    {
     "data": {
      "text/html": [
       "<div>\n",
       "<style scoped>\n",
       "    .dataframe tbody tr th:only-of-type {\n",
       "        vertical-align: middle;\n",
       "    }\n",
       "\n",
       "    .dataframe tbody tr th {\n",
       "        vertical-align: top;\n",
       "    }\n",
       "\n",
       "    .dataframe thead th {\n",
       "        text-align: right;\n",
       "    }\n",
       "</style>\n",
       "<table border=\"1\" class=\"dataframe\">\n",
       "  <thead>\n",
       "    <tr style=\"text-align: right;\">\n",
       "      <th></th>\n",
       "      <th>date</th>\n",
       "      <th>price</th>\n",
       "      <th>bedrooms</th>\n",
       "      <th>bathrooms</th>\n",
       "      <th>sqft_living</th>\n",
       "      <th>sqft_lot</th>\n",
       "      <th>floors</th>\n",
       "      <th>waterfront</th>\n",
       "      <th>view</th>\n",
       "      <th>condition</th>\n",
       "      <th>sqft_above</th>\n",
       "      <th>sqft_basement</th>\n",
       "      <th>yr_built</th>\n",
       "      <th>yr_renovated</th>\n",
       "      <th>street</th>\n",
       "      <th>city</th>\n",
       "      <th>statezip</th>\n",
       "      <th>country</th>\n",
       "    </tr>\n",
       "  </thead>\n",
       "  <tbody>\n",
       "    <tr>\n",
       "      <th>0</th>\n",
       "      <td>2014-05-02 00:00:00</td>\n",
       "      <td>313000.0</td>\n",
       "      <td>3.0</td>\n",
       "      <td>1.50</td>\n",
       "      <td>1340</td>\n",
       "      <td>7912</td>\n",
       "      <td>1.5</td>\n",
       "      <td>0</td>\n",
       "      <td>0</td>\n",
       "      <td>3</td>\n",
       "      <td>1340</td>\n",
       "      <td>0</td>\n",
       "      <td>1955</td>\n",
       "      <td>2005</td>\n",
       "      <td>18810 Densmore Ave N</td>\n",
       "      <td>Shoreline</td>\n",
       "      <td>WA 98133</td>\n",
       "      <td>USA</td>\n",
       "    </tr>\n",
       "    <tr>\n",
       "      <th>1</th>\n",
       "      <td>2014-05-02 00:00:00</td>\n",
       "      <td>2384000.0</td>\n",
       "      <td>5.0</td>\n",
       "      <td>2.50</td>\n",
       "      <td>3650</td>\n",
       "      <td>9050</td>\n",
       "      <td>2.0</td>\n",
       "      <td>0</td>\n",
       "      <td>4</td>\n",
       "      <td>5</td>\n",
       "      <td>3370</td>\n",
       "      <td>280</td>\n",
       "      <td>1921</td>\n",
       "      <td>0</td>\n",
       "      <td>709 W Blaine St</td>\n",
       "      <td>Seattle</td>\n",
       "      <td>WA 98119</td>\n",
       "      <td>USA</td>\n",
       "    </tr>\n",
       "    <tr>\n",
       "      <th>2</th>\n",
       "      <td>2014-05-02 00:00:00</td>\n",
       "      <td>342000.0</td>\n",
       "      <td>3.0</td>\n",
       "      <td>2.00</td>\n",
       "      <td>1930</td>\n",
       "      <td>11947</td>\n",
       "      <td>1.0</td>\n",
       "      <td>0</td>\n",
       "      <td>0</td>\n",
       "      <td>4</td>\n",
       "      <td>1930</td>\n",
       "      <td>0</td>\n",
       "      <td>1966</td>\n",
       "      <td>0</td>\n",
       "      <td>26206-26214 143rd Ave SE</td>\n",
       "      <td>Kent</td>\n",
       "      <td>WA 98042</td>\n",
       "      <td>USA</td>\n",
       "    </tr>\n",
       "    <tr>\n",
       "      <th>3</th>\n",
       "      <td>2014-05-02 00:00:00</td>\n",
       "      <td>420000.0</td>\n",
       "      <td>3.0</td>\n",
       "      <td>2.25</td>\n",
       "      <td>2000</td>\n",
       "      <td>8030</td>\n",
       "      <td>1.0</td>\n",
       "      <td>0</td>\n",
       "      <td>0</td>\n",
       "      <td>4</td>\n",
       "      <td>1000</td>\n",
       "      <td>1000</td>\n",
       "      <td>1963</td>\n",
       "      <td>0</td>\n",
       "      <td>857 170th Pl NE</td>\n",
       "      <td>Bellevue</td>\n",
       "      <td>WA 98008</td>\n",
       "      <td>USA</td>\n",
       "    </tr>\n",
       "    <tr>\n",
       "      <th>4</th>\n",
       "      <td>2014-05-02 00:00:00</td>\n",
       "      <td>550000.0</td>\n",
       "      <td>4.0</td>\n",
       "      <td>2.50</td>\n",
       "      <td>1940</td>\n",
       "      <td>10500</td>\n",
       "      <td>1.0</td>\n",
       "      <td>0</td>\n",
       "      <td>0</td>\n",
       "      <td>4</td>\n",
       "      <td>1140</td>\n",
       "      <td>800</td>\n",
       "      <td>1976</td>\n",
       "      <td>1992</td>\n",
       "      <td>9105 170th Ave NE</td>\n",
       "      <td>Redmond</td>\n",
       "      <td>WA 98052</td>\n",
       "      <td>USA</td>\n",
       "    </tr>\n",
       "  </tbody>\n",
       "</table>\n",
       "</div>"
      ],
      "text/plain": [
       "                  date      price  bedrooms  bathrooms  sqft_living  sqft_lot  \\\n",
       "0  2014-05-02 00:00:00   313000.0       3.0       1.50         1340      7912   \n",
       "1  2014-05-02 00:00:00  2384000.0       5.0       2.50         3650      9050   \n",
       "2  2014-05-02 00:00:00   342000.0       3.0       2.00         1930     11947   \n",
       "3  2014-05-02 00:00:00   420000.0       3.0       2.25         2000      8030   \n",
       "4  2014-05-02 00:00:00   550000.0       4.0       2.50         1940     10500   \n",
       "\n",
       "   floors  waterfront  view  condition  sqft_above  sqft_basement  yr_built  \\\n",
       "0     1.5           0     0          3        1340              0      1955   \n",
       "1     2.0           0     4          5        3370            280      1921   \n",
       "2     1.0           0     0          4        1930              0      1966   \n",
       "3     1.0           0     0          4        1000           1000      1963   \n",
       "4     1.0           0     0          4        1140            800      1976   \n",
       "\n",
       "   yr_renovated                    street       city  statezip country  \n",
       "0          2005      18810 Densmore Ave N  Shoreline  WA 98133     USA  \n",
       "1             0           709 W Blaine St    Seattle  WA 98119     USA  \n",
       "2             0  26206-26214 143rd Ave SE       Kent  WA 98042     USA  \n",
       "3             0           857 170th Pl NE   Bellevue  WA 98008     USA  \n",
       "4          1992         9105 170th Ave NE    Redmond  WA 98052     USA  "
      ]
     },
     "execution_count": 3,
     "metadata": {},
     "output_type": "execute_result"
    }
   ],
   "source": [
    "data = pd.read_csv(\"real-estate-data.csv\")\n",
    "data.head()"
   ]
  },
  {
   "cell_type": "markdown",
   "metadata": {},
   "source": [
    "The data types for the variables look to be self-explanatory, but just in case, enumerate the types."
   ]
  },
  {
   "cell_type": "code",
   "execution_count": 4,
   "metadata": {},
   "outputs": [
    {
     "name": "stdout",
     "output_type": "stream",
     "text": [
      "<class 'pandas.core.frame.DataFrame'>\n",
      "RangeIndex: 4600 entries, 0 to 4599\n",
      "Data columns (total 6 columns):\n",
      "sqft_living    4600 non-null int64\n",
      "condition      4600 non-null int64\n",
      "city           4600 non-null object\n",
      "bathrooms      4600 non-null float64\n",
      "floors         4600 non-null float64\n",
      "price          4600 non-null float64\n",
      "dtypes: float64(3), int64(2), object(1)\n",
      "memory usage: 215.7+ KB\n"
     ]
    }
   ],
   "source": [
    "eda_data = data[[\"sqft_living\", \"condition\", \"city\", \"bathrooms\", \"floors\", \"price\"]]\n",
    "eda_data.info()"
   ]
  },
  {
   "cell_type": "markdown",
   "metadata": {},
   "source": [
    "Here's what was gleaned from initial inspection of the data."
   ]
  },
  {
   "cell_type": "markdown",
   "metadata": {},
   "source": [
    "<table class=\"variable-table\">\n",
    "            <thead>\n",
    "                <tr>\n",
    "                    <th><center>Variable Name</center></th>\n",
    "                    <th><center>Variable Type</center></th>\n",
    "                    <th><center>Computer Data Type</center></th>\n",
    "                    <th><center>Description</center></th>\n",
    "                </tr>\n",
    "            </thead>\n",
    "            <tbody>\n",
    "                <tr>\n",
    "                    <td>sqft_living</td>\n",
    "                    <td>Numerical</td>\n",
    "                    <td>Integer</td>\n",
    "                    <td>Square footage of the house</td>\n",
    "                </tr>\n",
    "                <tr>\n",
    "                    <td>Condition</td>\n",
    "                    <td>Numerical</td>\n",
    "                    <td>Integer</td>\n",
    "                    <td>Numerical grading of the condition of the property</td>\n",
    "                </tr>\n",
    "                <tr>\n",
    "                    <td>City</td>\n",
    "                    <td>Categorical</td>\n",
    "                    <td>Object - String</td>\n",
    "                    <td>Name of the city where the property is located</td>\n",
    "                </tr>\n",
    "                <tr>\n",
    "                    <td>Bathrooms</td>\n",
    "                    <td>Numerical</td>\n",
    "                    <td>Float</td>\n",
    "                    <td>Number of bathrooms (including half baths) in the house </td>\n",
    "                </tr>\n",
    "                <tr>\n",
    "                    <td>Floors</td>\n",
    "                    <td>Numerical</td>\n",
    "                    <td>Float</td>\n",
    "                    <td>Number of floors (including half floors) in the house </td>\n",
    "                </tr>\n",
    "                <tr>\n",
    "                    <td>Price</td>\n",
    "                    <td>Numerical</td>\n",
    "                    <td>Float</td>\n",
    "                    <td>Price the property sold for in USD</td>\n",
    "                </tr>\n",
    "            </tbody>\n",
    "        </table>"
   ]
  },
  {
   "cell_type": "markdown",
   "metadata": {},
   "source": [
    "## Single Variable EDA\n",
    "\n",
    "### Sqft_living"
   ]
  },
  {
   "cell_type": "markdown",
   "metadata": {},
   "source": [
    "With this numerical variable, looking to have enough values across the distribution to provide accurate predictions for houses of all sizes. Knowing what distribution could be used to model it will also be helpful in analysis down the road."
   ]
  },
  {
   "cell_type": "code",
   "execution_count": 5,
   "metadata": {},
   "outputs": [
    {
     "data": {
      "text/plain": [
       "count     4600.000000\n",
       "mean      2139.346957\n",
       "std        963.206916\n",
       "min        370.000000\n",
       "25%       1460.000000\n",
       "50%       1980.000000\n",
       "75%       2620.000000\n",
       "max      13540.000000\n",
       "Name: sqft_living, dtype: float64"
      ]
     },
     "execution_count": 5,
     "metadata": {},
     "output_type": "execute_result"
    }
   ],
   "source": [
    "eda_data[\"sqft_living\"].describe()"
   ]
  },
  {
   "cell_type": "markdown",
   "metadata": {},
   "source": [
    "It looks like there may be some very large homes in this data set. This may overinflate price values because of how different it is in terms of magnitude."
   ]
  },
  {
   "cell_type": "markdown",
   "metadata": {},
   "source": [
    "### Condition\n",
    "\n",
    "There wasn't a definition of condition provided with the data, but it can be assumed that higher condition values means the home is in better condition."
   ]
  },
  {
   "cell_type": "code",
   "execution_count": 6,
   "metadata": {},
   "outputs": [
    {
     "data": {
      "image/png": "[encoded data removed]",
      "text/plain": [
       "<Figure size 1440x432 with 1 Axes>"
      ]
     },
     "metadata": {},
     "output_type": "display_data"
    }
   ],
   "source": [
    "condition_counts = eda_data[\"condition\"].value_counts().sort_index()\n",
    "x = range( len( condition_counts))\n",
    "width = 1/1.5\n",
    "\n",
    "figure = plt.figure(figsize=(20, 6))\n",
    "\n",
    "axes = figure.add_subplot(1, 1, 1)\n",
    "axes.bar(x, condition_counts, width, color=\"dimgray\", align=\"center\")\n",
    "axes.set_xticks(x)\n",
    "axes.set_xticklabels(condition_counts.axes[0])\n",
    "axes.set_title( \"Distribution of condition values for properties\")\n",
    "axes.set_xlabel(\"Condition value\")\n",
    "axes.set_ylabel( \"Count\")\n",
    "axes.xaxis.grid(False)\n",
    "\n",
    "plt.show()\n",
    "plt.close()"
   ]
  },
  {
   "cell_type": "markdown",
   "metadata": {},
   "source": [
    "There is definitely a shortage of poorer conditioned homes that were evaluated. There is also a massive spike of fair conditioned homes. Models built on this data may overvalue poor conditioned homes and undervalue good/great conditioned homes."
   ]
  },
  {
   "cell_type": "markdown",
   "metadata": {},
   "source": [
    "### City\n",
    "\n",
    "It may be helpful to convert this variable later on to some sort of numeric variable; lat/lon coordinates maybe. Then some more in-depth analysis of proximity to other location's effect on price. For now, just looking at the distribution of evaluated properties across the cities."
   ]
  },
  {
   "cell_type": "code",
   "execution_count": 7,
   "metadata": {},
   "outputs": [
    {
     "data": {
      "text/html": [
       "<div>\n",
       "<style scoped>\n",
       "    .dataframe tbody tr th:only-of-type {\n",
       "        vertical-align: middle;\n",
       "    }\n",
       "\n",
       "    .dataframe tbody tr th {\n",
       "        vertical-align: top;\n",
       "    }\n",
       "\n",
       "    .dataframe thead th {\n",
       "        text-align: right;\n",
       "    }\n",
       "</style>\n",
       "<table border=\"1\" class=\"dataframe\">\n",
       "  <thead>\n",
       "    <tr style=\"text-align: right;\">\n",
       "      <th></th>\n",
       "      <th>city</th>\n",
       "    </tr>\n",
       "  </thead>\n",
       "  <tbody>\n",
       "    <tr>\n",
       "      <th>Algona</th>\n",
       "      <td>5</td>\n",
       "    </tr>\n",
       "    <tr>\n",
       "      <th>Auburn</th>\n",
       "      <td>176</td>\n",
       "    </tr>\n",
       "    <tr>\n",
       "      <th>Beaux Arts Village</th>\n",
       "      <td>1</td>\n",
       "    </tr>\n",
       "    <tr>\n",
       "      <th>Bellevue</th>\n",
       "      <td>286</td>\n",
       "    </tr>\n",
       "    <tr>\n",
       "      <th>Black Diamond</th>\n",
       "      <td>9</td>\n",
       "    </tr>\n",
       "    <tr>\n",
       "      <th>Bothell</th>\n",
       "      <td>33</td>\n",
       "    </tr>\n",
       "    <tr>\n",
       "      <th>Burien</th>\n",
       "      <td>74</td>\n",
       "    </tr>\n",
       "    <tr>\n",
       "      <th>Carnation</th>\n",
       "      <td>22</td>\n",
       "    </tr>\n",
       "    <tr>\n",
       "      <th>Clyde Hill</th>\n",
       "      <td>11</td>\n",
       "    </tr>\n",
       "    <tr>\n",
       "      <th>Covington</th>\n",
       "      <td>43</td>\n",
       "    </tr>\n",
       "    <tr>\n",
       "      <th>Des Moines</th>\n",
       "      <td>58</td>\n",
       "    </tr>\n",
       "    <tr>\n",
       "      <th>Duvall</th>\n",
       "      <td>42</td>\n",
       "    </tr>\n",
       "    <tr>\n",
       "      <th>Enumclaw</th>\n",
       "      <td>28</td>\n",
       "    </tr>\n",
       "    <tr>\n",
       "      <th>Fall City</th>\n",
       "      <td>11</td>\n",
       "    </tr>\n",
       "    <tr>\n",
       "      <th>Federal Way</th>\n",
       "      <td>148</td>\n",
       "    </tr>\n",
       "    <tr>\n",
       "      <th>Inglewood-Finn Hill</th>\n",
       "      <td>1</td>\n",
       "    </tr>\n",
       "    <tr>\n",
       "      <th>Issaquah</th>\n",
       "      <td>187</td>\n",
       "    </tr>\n",
       "    <tr>\n",
       "      <th>Kenmore</th>\n",
       "      <td>66</td>\n",
       "    </tr>\n",
       "    <tr>\n",
       "      <th>Kent</th>\n",
       "      <td>185</td>\n",
       "    </tr>\n",
       "    <tr>\n",
       "      <th>Kirkland</th>\n",
       "      <td>187</td>\n",
       "    </tr>\n",
       "    <tr>\n",
       "      <th>Lake Forest Park</th>\n",
       "      <td>36</td>\n",
       "    </tr>\n",
       "    <tr>\n",
       "      <th>Maple Valley</th>\n",
       "      <td>96</td>\n",
       "    </tr>\n",
       "    <tr>\n",
       "      <th>Medina</th>\n",
       "      <td>11</td>\n",
       "    </tr>\n",
       "    <tr>\n",
       "      <th>Mercer Island</th>\n",
       "      <td>86</td>\n",
       "    </tr>\n",
       "    <tr>\n",
       "      <th>Milton</th>\n",
       "      <td>2</td>\n",
       "    </tr>\n",
       "    <tr>\n",
       "      <th>Newcastle</th>\n",
       "      <td>33</td>\n",
       "    </tr>\n",
       "    <tr>\n",
       "      <th>Normandy Park</th>\n",
       "      <td>18</td>\n",
       "    </tr>\n",
       "    <tr>\n",
       "      <th>North Bend</th>\n",
       "      <td>50</td>\n",
       "    </tr>\n",
       "    <tr>\n",
       "      <th>Pacific</th>\n",
       "      <td>6</td>\n",
       "    </tr>\n",
       "    <tr>\n",
       "      <th>Preston</th>\n",
       "      <td>2</td>\n",
       "    </tr>\n",
       "    <tr>\n",
       "      <th>Ravensdale</th>\n",
       "      <td>7</td>\n",
       "    </tr>\n",
       "    <tr>\n",
       "      <th>Redmond</th>\n",
       "      <td>235</td>\n",
       "    </tr>\n",
       "    <tr>\n",
       "      <th>Renton</th>\n",
       "      <td>293</td>\n",
       "    </tr>\n",
       "    <tr>\n",
       "      <th>Sammamish</th>\n",
       "      <td>175</td>\n",
       "    </tr>\n",
       "    <tr>\n",
       "      <th>SeaTac</th>\n",
       "      <td>29</td>\n",
       "    </tr>\n",
       "    <tr>\n",
       "      <th>Seattle</th>\n",
       "      <td>1573</td>\n",
       "    </tr>\n",
       "    <tr>\n",
       "      <th>Shoreline</th>\n",
       "      <td>123</td>\n",
       "    </tr>\n",
       "    <tr>\n",
       "      <th>Skykomish</th>\n",
       "      <td>3</td>\n",
       "    </tr>\n",
       "    <tr>\n",
       "      <th>Snoqualmie</th>\n",
       "      <td>71</td>\n",
       "    </tr>\n",
       "    <tr>\n",
       "      <th>Snoqualmie Pass</th>\n",
       "      <td>1</td>\n",
       "    </tr>\n",
       "    <tr>\n",
       "      <th>Tukwila</th>\n",
       "      <td>29</td>\n",
       "    </tr>\n",
       "    <tr>\n",
       "      <th>Vashon</th>\n",
       "      <td>29</td>\n",
       "    </tr>\n",
       "    <tr>\n",
       "      <th>Woodinville</th>\n",
       "      <td>115</td>\n",
       "    </tr>\n",
       "    <tr>\n",
       "      <th>Yarrow Point</th>\n",
       "      <td>4</td>\n",
       "    </tr>\n",
       "  </tbody>\n",
       "</table>\n",
       "</div>"
      ],
      "text/plain": [
       "                     city\n",
       "Algona                  5\n",
       "Auburn                176\n",
       "Beaux Arts Village      1\n",
       "Bellevue              286\n",
       "Black Diamond           9\n",
       "Bothell                33\n",
       "Burien                 74\n",
       "Carnation              22\n",
       "Clyde Hill             11\n",
       "Covington              43\n",
       "Des Moines             58\n",
       "Duvall                 42\n",
       "Enumclaw               28\n",
       "Fall City              11\n",
       "Federal Way           148\n",
       "Inglewood-Finn Hill     1\n",
       "Issaquah              187\n",
       "Kenmore                66\n",
       "Kent                  185\n",
       "Kirkland              187\n",
       "Lake Forest Park       36\n",
       "Maple Valley           96\n",
       "Medina                 11\n",
       "Mercer Island          86\n",
       "Milton                  2\n",
       "Newcastle              33\n",
       "Normandy Park          18\n",
       "North Bend             50\n",
       "Pacific                 6\n",
       "Preston                 2\n",
       "Ravensdale              7\n",
       "Redmond               235\n",
       "Renton                293\n",
       "Sammamish             175\n",
       "SeaTac                 29\n",
       "Seattle              1573\n",
       "Shoreline             123\n",
       "Skykomish               3\n",
       "Snoqualmie             71\n",
       "Snoqualmie Pass         1\n",
       "Tukwila                29\n",
       "Vashon                 29\n",
       "Woodinville           115\n",
       "Yarrow Point            4"
      ]
     },
     "execution_count": 7,
     "metadata": {},
     "output_type": "execute_result"
    }
   ],
   "source": [
    "pd.DataFrame(eda_data[\"city\"].value_counts().sort_index())"
   ]
  },
  {
   "cell_type": "markdown",
   "metadata": {},
   "source": [
    "It makes sense that at first glance the number of evaluated properties is higher in urban areas than in rural areas. It may follow that the model is better at predictions for properties located in cities than it is for properties in rural areas."
   ]
  },
  {
   "cell_type": "markdown",
   "metadata": {},
   "source": [
    "### Bathrooms\n",
    "\n",
    "All of these values should be in half increments, and the spread of the number of bathrooms should roughly coincide with how the square footage of homes is distributed. So there should only be a handful of properties with a large amount of bathrooms."
   ]
  },
  {
   "cell_type": "code",
   "execution_count": 8,
   "metadata": {},
   "outputs": [
    {
     "data": {
      "image/png": "[encoded data removed]",
      "text/plain": [
       "<Figure size 1440x432 with 1 Axes>"
      ]
     },
     "metadata": {},
     "output_type": "display_data"
    }
   ],
   "source": [
    "bathroom_counts = eda_data[\"bathrooms\"].value_counts().sort_index()\n",
    "x = range( len( bathroom_counts))\n",
    "width = 1/1.5\n",
    "\n",
    "figure = plt.figure(figsize=(20, 6))\n",
    "\n",
    "axes = figure.add_subplot(1, 1, 1)\n",
    "axes.bar(x, bathroom_counts, width, color=\"dimgray\", align=\"center\")\n",
    "axes.set_xticks(x)\n",
    "axes.set_xticklabels(bathroom_counts.axes[0])\n",
    "axes.set_title( \"Distribution of number of bathrooms for properties\")\n",
    "axes.set_xlabel(\"Number of bathrooms\")\n",
    "axes.set_ylabel( \"Count\")\n",
    "axes.xaxis.grid(False)\n",
    "\n",
    "plt.show()\n",
    "plt.close()"
   ]
  },
  {
   "cell_type": "markdown",
   "metadata": {},
   "source": [
    "As expected the counts tail off at larger number of bathrooms. 2.5 bathrooms definitely dominates the data set but a normal model still could feasibly model this distribution; the only problem is with the count of properies with only one bathroom."
   ]
  },
  {
   "cell_type": "markdown",
   "metadata": {},
   "source": [
    "### Floors\n",
    "\n",
    "Domain knowledge doesn't tell us much to expect for this distribution of values other than to expect the data set to be dominated by one and two floor homes. However, not certain if this should coincide with the distribution of square footage because a large home could techinically be a one-story rancher."
   ]
  },
  {
   "cell_type": "code",
   "execution_count": 9,
   "metadata": {},
   "outputs": [
    {
     "data": {
      "image/png": "[encoded data removed]",
      "text/plain": [
       "<Figure size 1440x432 with 1 Axes>"
      ]
     },
     "metadata": {},
     "output_type": "display_data"
    }
   ],
   "source": [
    "floor_counts = eda_data[\"floors\"].value_counts().sort_index()\n",
    "x = range( len( floor_counts))\n",
    "width = 1/1.5\n",
    "\n",
    "figure = plt.figure(figsize=(20, 6))\n",
    "\n",
    "axes = figure.add_subplot(1, 1, 1)\n",
    "axes.bar(x, floor_counts, width, color=\"dimgray\", align=\"center\")\n",
    "axes.set_xticks(x)\n",
    "axes.set_xticklabels(floor_counts.axes[0])\n",
    "axes.set_title( \"Distribution of number of floors for properties\")\n",
    "axes.set_xlabel(\"Number of floors\")\n",
    "axes.set_ylabel( \"Count\")\n",
    "axes.xaxis.grid(False)\n",
    "\n",
    "plt.show()\n",
    "plt.close()"
   ]
  },
  {
   "cell_type": "markdown",
   "metadata": {},
   "source": [
    "Appears that this is best modeled by some form of bimodal distribution. Definitely follows the assumption of being dominated by values of one and two floor homes."
   ]
  },
  {
   "cell_type": "markdown",
   "metadata": {},
   "source": [
    "### Price\n",
    "\n",
    "Expect to see all positive values here with a distribution that can be well modeled by a normal distribution. This comes from domain knowledge about real estate prices in a small fixed area."
   ]
  },
  {
   "cell_type": "code",
   "execution_count": 10,
   "metadata": {},
   "outputs": [
    {
     "data": {
      "text/plain": [
       "count    4.600000e+03\n",
       "mean     5.519630e+05\n",
       "std      5.638347e+05\n",
       "min      0.000000e+00\n",
       "25%      3.228750e+05\n",
       "50%      4.609435e+05\n",
       "75%      6.549625e+05\n",
       "max      2.659000e+07\n",
       "Name: price, dtype: float64"
      ]
     },
     "execution_count": 10,
     "metadata": {},
     "output_type": "execute_result"
    },
    {
     "data": {
      "image/png": "[encoded data removed]",
      "text/plain": [
       "<Figure size 432x288 with 1 Axes>"
      ]
     },
     "metadata": {},
     "output_type": "display_data"
    }
   ],
   "source": [
    "prices = eda_data[\"price\"]\n",
    "bins = np.histogram_bin_edges(prices, bins='fd')\n",
    "plt.hist(prices, bins=bins)\n",
    "prices.describe()"
   ]
  },
  {
   "cell_type": "markdown",
   "metadata": {},
   "source": [
    "The large difference in magnitudes of some of the homes makes the histogram not such a great representation of this subset of the data. The data description gives some insight into the values; particulary that some zero vales do exist in the data set and that the large difference of magnitudes doesn't drive up the mean that much."
   ]
  },
  {
   "cell_type": "markdown",
   "metadata": {},
   "source": [
    "## Pairwise EDA\n",
    "\n",
    "### Functions\n",
    "\n",
    "Module 5 provided some helpful functions which are included here for future usage."
   ]
  },
  {
   "cell_type": "code",
   "execution_count": 11,
   "metadata": {},
   "outputs": [],
   "source": [
    "def display_dict(m, precision = 3):\n",
    "    table = \"<table>\"\n",
    "    for item in m.items():\n",
    "        table += (\"<tr><th>{0}</th><td>{1:.\" + str(precision) + \"f}</td></tr>\").format(*item)\n",
    "    table += \"</table>\"\n",
    "    return display(HTML(table))\n",
    "\n",
    "def calculate_tukey_five(data):\n",
    "    min, q1, q2, q3, max = np.concatenate([[np.min(data)], stats.mstats.mquantiles( data, [0.25, 0.5, 0.75]),[np.max(data)]])\n",
    "    data = {\"Min\": min, \"Q1\": q1, \"Q2\": q2, \"Q3\": q3, \"Max\": max}\n",
    "    return data\n",
    "\n",
    "def calculate_tukey_dispersion(five):\n",
    "    data = {\n",
    "        \"Range\": five[\"Max\"] - five[\"Min\"],\n",
    "        \"IQR\": five[\"Q3\"] - five[\"Q1\"],\n",
    "        \"QCV\": (five[\"Q3\"] - five[\"Q1\"]) / five[\"Q2\"]\n",
    "    }\n",
    "    return data\n",
    "\n",
    "def restyle_boxplot(patch):\n",
    "    ## change color and linewidth of the whiskers\n",
    "    for whisker in patch['whiskers']:\n",
    "        whisker.set(color='#000000', linewidth=1)\n",
    "\n",
    "    ## change color and linewidth of the caps\n",
    "    for cap in patch['caps']:\n",
    "        cap.set(color='#000000', linewidth=1)\n",
    "\n",
    "    ## change color and linewidth of the medians\n",
    "    for median in patch['medians']:\n",
    "        median.set(color='#000000', linewidth=2)\n",
    "\n",
    "    ## change the style of fliers and their fill\n",
    "    for flier in patch['fliers']:\n",
    "        flier.set(marker='o', color='#000000', alpha=0.2)\n",
    "\n",
    "    for box in patch[\"boxes\"]:\n",
    "        box.set( facecolor='#FFFFFF', alpha=0.5)"
   ]
  },
  {
   "cell_type": "code",
   "execution_count": 12,
   "metadata": {},
   "outputs": [],
   "source": [
    "def correlation(data, x, y):\n",
    "    print(\"Correlation coefficients:\")\n",
    "    print( \"r   =\", stats.pearsonr(data[x], data[y])[0])\n",
    "    print( \"rho =\", stats.spearmanr(data[x], data[y])[0])"
   ]
  },
  {
   "cell_type": "code",
   "execution_count": 13,
   "metadata": {},
   "outputs": [],
   "source": [
    "def describe_by_category(data, numeric, categorical):\n",
    "    grouped = data.groupby(categorical)\n",
    "    grouped_y = grouped[numeric].describe()\n",
    "    print(grouped_y)"
   ]
  },
  {
   "cell_type": "code",
   "execution_count": 14,
   "metadata": {},
   "outputs": [],
   "source": [
    "def lowess_scatter(data, x, y, jitter=0.0, skip_lowess=False):\n",
    "\n",
    "    if skip_lowess:\n",
    "        fit = np.polyfit(data[x], data[y], 1)\n",
    "        line_x = np.linspace(data[x].min(), data[x].max(), 10)\n",
    "        line = np.poly1d(fit)\n",
    "        line_y = list(map(line, line_x))\n",
    "    else:\n",
    "        lowess = sm.nonparametric.lowess(data[y], data[x], frac=.3)\n",
    "        line_x = list(zip(*lowess))[0]\n",
    "        line_y = list(zip(*lowess))[1]\n",
    "\n",
    "    figure = plt.figure(figsize=(10, 6))\n",
    "\n",
    "    axes = figure.add_subplot(1, 1, 1)\n",
    "\n",
    "    xs = data[x]\n",
    "    if jitter > 0.0:\n",
    "        xs = data[x] + stats.norm.rvs( 0, 0.5, data[x].size)\n",
    "\n",
    "    axes.scatter(xs, data[y], marker=\"o\", color=\"DimGray\", alpha=0.5)\n",
    "    axes.plot(line_x, line_y, color=\"DarkRed\")\n",
    "\n",
    "    title = \"Plot of {0} v. {1}\".format(x, y)\n",
    "    if not skip_lowess:\n",
    "        title += \" with LOWESS\"\n",
    "    axes.set_title(title)\n",
    "    axes.set_xlabel(x)\n",
    "    axes.set_ylabel(y)\n",
    "\n",
    "    plt.show()\n",
    "    plt.close()"
   ]
  },
  {
   "cell_type": "code",
   "execution_count": 15,
   "metadata": {},
   "outputs": [],
   "source": [
    "def multiboxplot(data, numeric, categorical, skip_data_points=True):\n",
    "    figure = plt.figure(figsize=(10, 6))\n",
    "\n",
    "    axes = figure.add_subplot(1, 1, 1)\n",
    "\n",
    "    grouped = data.groupby(categorical)\n",
    "    labels = pd.unique(data[categorical].values)\n",
    "    labels.sort()\n",
    "    grouped_data = [grouped[numeric].get_group( k) for k in labels]\n",
    "    patch = axes.boxplot( grouped_data, labels=labels, patch_artist=True, zorder=1)\n",
    "    restyle_boxplot( patch)\n",
    "\n",
    "    if not skip_data_points:\n",
    "        for i, k in enumerate(labels):\n",
    "            subdata = grouped[numeric].get_group( k)\n",
    "            x = np.random.normal(i + 1, 0.01, size=len(subdata))\n",
    "            axes.plot(x, subdata, 'o', alpha=0.4, color=\"DimGray\", zorder=2)\n",
    "\n",
    "    axes.set_xlabel(categorical)\n",
    "    axes.set_ylabel(numeric)\n",
    "    axes.set_title(\"Distribution of {0} by {1}\".format(numeric, categorical))\n",
    "\n",
    "    plt.show()\n",
    "    plt.close()"
   ]
  },
  {
   "cell_type": "markdown",
   "metadata": {},
   "source": [
    "### Sqft_living and Price\n",
    "\n",
    "There should be a clear positive correlation between sqft living and price"
   ]
  },
  {
   "cell_type": "code",
   "execution_count": 16,
   "metadata": {},
   "outputs": [
    {
     "name": "stdout",
     "output_type": "stream",
     "text": [
      "Correlation coefficients:\n",
      "r   = 0.43041002543262796\n",
      "rho = 0.6312642936337916\n"
     ]
    }
   ],
   "source": [
    "correlation(eda_data, 'sqft_living', 'price')"
   ]
  },
  {
   "cell_type": "markdown",
   "metadata": {},
   "source": [
    "There's evidence of a positive correlation between the two, but it may not necessarily be linear based on the difference between the Spearman's and Pearson's coefficients."
   ]
  },
  {
   "cell_type": "markdown",
   "metadata": {},
   "source": [
    "### Condition and Price\n",
    "\n",
    "This too should show evidence of a positive correlation. However, a mixture of variables could play a role in this because it's possible that, for example, larger homes are more valuable and thus more care is put into maintaining them."
   ]
  },
  {
   "cell_type": "code",
   "execution_count": 17,
   "metadata": {},
   "outputs": [
    {
     "name": "stdout",
     "output_type": "stream",
     "text": [
      "Correlation coefficients:\n",
      "r   = 0.03491453732641412\n",
      "rho = 0.023843042493851222\n"
     ]
    }
   ],
   "source": [
    "correlation(eda_data, 'condition', 'price')"
   ]
  },
  {
   "cell_type": "markdown",
   "metadata": {},
   "source": [
    "Interestingly enough this is a very weak correlation. This could be based on what was described above or because there isn't a near even representation of different condition values in this data set, as pointed out in single EDA."
   ]
  },
  {
   "cell_type": "markdown",
   "metadata": {},
   "source": [
    "### City and Price\n",
    "\n",
    "I don't have any domain knowledge about how property value is driven by location in Washington; it's possible that city is an indicator of things like crime rate and school district which could influence property price. A good way to evaulate this is with a multi box plot"
   ]
  },
  {
   "cell_type": "code",
   "execution_count": 18,
   "metadata": {},
   "outputs": [
    {
     "data": {
      "image/png": "[encoded data removed]",
      "text/plain": [
       "<Figure size 720x432 with 1 Axes>"
      ]
     },
     "metadata": {},
     "output_type": "display_data"
    }
   ],
   "source": [
    "multiboxplot(eda_data, \"price\", \"city\")"
   ]
  },
  {
   "cell_type": "markdown",
   "metadata": {},
   "source": [
    "The number of different cities in this data set makes it difficult to deep dive into this relationship, but the height of the box and whisker plots gives a good indication that certain cities drive a higher property price."
   ]
  },
  {
   "cell_type": "markdown",
   "metadata": {},
   "source": [
    "### Bathrooms vs. Price\n",
    "\n",
    "There should be a clear positive correlation between number of bathrooms in a property and its sale price."
   ]
  },
  {
   "cell_type": "code",
   "execution_count": 19,
   "metadata": {},
   "outputs": [
    {
     "name": "stdout",
     "output_type": "stream",
     "text": [
      "Correlation coefficients:\n",
      "r   = 0.3271099182877348\n",
      "rho = 0.49245128595002247\n"
     ]
    }
   ],
   "source": [
    "correlation(eda_data, \"bathrooms\", \"price\")"
   ]
  },
  {
   "cell_type": "markdown",
   "metadata": {},
   "source": [
    "A moderately strengthed correlation. Expected this to be stronger but there could be multicolinearity at play here."
   ]
  },
  {
   "cell_type": "markdown",
   "metadata": {},
   "source": [
    "### Floors vs. Price\n",
    "\n",
    "As discussed briefly in single variable EDA, the distribution of this variable may or may not be influenced by the square footage distribution. It'll be important to check out multicolinearity between the two but this relationship should be positive."
   ]
  },
  {
   "cell_type": "code",
   "execution_count": 20,
   "metadata": {},
   "outputs": [
    {
     "name": "stdout",
     "output_type": "stream",
     "text": [
      "Correlation coefficients:\n",
      "r   = 0.15146080053677774\n",
      "rho = 0.3209291991145739\n"
     ]
    }
   ],
   "source": [
    "correlation(eda_data, \"floors\", \"price\")"
   ]
  },
  {
   "cell_type": "code",
   "execution_count": 21,
   "metadata": {},
   "outputs": [
    {
     "data": {
      "image/png": "[encoded data removed]",
      "text/plain": [
       "<Figure size 720x432 with 1 Axes>"
      ]
     },
     "metadata": {},
     "output_type": "display_data"
    }
   ],
   "source": [
    "multiboxplot(eda_data, \"price\", \"floors\")"
   ]
  },
  {
   "cell_type": "markdown",
   "metadata": {},
   "source": [
    "The outliers are impacted how these distributions are analyzed. Removing them should clean it up and help yield some insight."
   ]
  },
  {
   "cell_type": "code",
   "execution_count": 22,
   "metadata": {},
   "outputs": [],
   "source": [
    "eda_data = eda_data[eda_data.price < 2000000]"
   ]
  },
  {
   "cell_type": "code",
   "execution_count": 23,
   "metadata": {},
   "outputs": [
    {
     "data": {
      "image/png": "[encoded data removed]",
      "text/plain": [
       "<Figure size 720x432 with 1 Axes>"
      ]
     },
     "metadata": {},
     "output_type": "display_data"
    }
   ],
   "source": [
    "multiboxplot(eda_data, \"price\", \"floors\")"
   ]
  },
  {
   "cell_type": "markdown",
   "metadata": {},
   "source": [
    "That's much better. It looks like 2.5 floors is dominating in terms of yielding a higher price. That is a relationship that should be looked into."
   ]
  }
 ],
 "metadata": {
  "kernelspec": {
   "display_name": "Python 3",
   "language": "python",
   "name": "python3"
  },
  "language_info": {
   "codemirror_mode": {
    "name": "ipython",
    "version": 3
   },
   "file_extension": ".py",
   "mimetype": "text/x-python",
   "name": "python",
   "nbconvert_exporter": "python",
   "pygments_lexer": "ipython3",
   "version": "3.6.5"
  }
 },
 "nbformat": 4,
 "nbformat_minor": 2
}
