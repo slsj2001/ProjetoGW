{
 "cells": [
  {
   "cell_type": "markdown",
   "metadata": {},
   "source": [
    "# Problem Set Six\n",
    "\n",
    "## Table of Contents\n",
    "<a href=\"#exec-summ\">Executive Summary</a> <br/>\n",
    "<a href=\"#data-set\">Data Set</a> <br/>\n",
    "<a href=\"#ETL\">ETL</a> <br/>\n",
    "<a href=\"#s-eda\">Single Variable EDA</a> <br/>\n",
    "<a href=\"#p-eda\">Pairwise EDA</a> <br/>\n",
    "<a href=\"#linear-models\">Linear Models</a> <br/>\n",
    "<a href=\"#eval\">Linear Model Evaluation</a> <br/>\n",
    "<a href=\"#ml-model\">Machine Learning Model</a> <br/>"
   ]
  },
  {
   "cell_type": "markdown",
   "metadata": {},
   "source": [
    "## Executive Summary\n",
    "\n",
    "<a id=\"exec-summ\"></a>\n",
    "\n",
    "We were able to build a model with a 0.83 r-squared value using a random forest machine learning model with 100 trees and a tree depth of 16. This model was built to predict real estate sales prices based on a data set of real estate sales in Washington state. Single variable EDA revealed that in general the data under represented high-value and large properties, so the model is probably best applied to small-to-mid-sized properties. The linear regression model was lackluster, topping out at an r-squared value of 0.62. Learning curves showed that more data wouldn't help improve the model, so unless another feature could be collected and added into the model (e.g. school district), there wasn't much room for improvement."
   ]
  },
  {
   "cell_type": "markdown",
   "metadata": {},
   "source": [
    "## Data Set\n",
    "\n",
    "<a id=\"data-set\"></a>\n",
    "Our group chose to analyze a data set consisting of real estate sale information. This data set came from Kaggle and can be found here: <a href=\"https://www.kaggle.com/shree1992/housedata/version/2#\"> House Price Predicition Data Set </a>. Each entry represents a real estate sale in the state of Washington real estate market. The table below describes the attributes recorded for each sale."
   ]
  },
  {
   "cell_type": "markdown",
   "metadata": {},
   "source": [
    "<table class=\"variable-table\">\n",
    "            <thead>\n",
    "                <tr>\n",
    "                    <th><center>Variable Name</center></th>\n",
    "                    <th><center>Variable Type</center></th>\n",
    "                    <th><center>Computer Data Type</center></th>\n",
    "                    <th><center>Description</center></th>\n",
    "                </tr>\n",
    "            </thead>\n",
    "            <tbody>\n",
    "                <tr>\n",
    "                    <td>Bathrooms</td>\n",
    "                    <td>Numerical</td>\n",
    "                    <td>Float</td>\n",
    "                    <td>Number of bathrooms (including half baths) in the house </td>\n",
    "                </tr>\n",
    "                <tr>\n",
    "                    <td>City</td>\n",
    "                    <td>Categorical</td>\n",
    "                    <td>Object - String</td>\n",
    "                    <td>Name of the city where the property is located</td>\n",
    "                </tr>\n",
    "                <tr>\n",
    "                    <td>Country</td>\n",
    "                    <td>Categorical</td>\n",
    "                    <td>Object - String</td>\n",
    "                    <td>Name of the country where the property is located</td>\n",
    "                </tr>\n",
    "                <tr>\n",
    "                    <td>Condition</td>\n",
    "                    <td>Numerical</td>\n",
    "                    <td>Integer</td>\n",
    "                    <td>Numerical grading of the condition of the property</td>\n",
    "                </tr>\n",
    "                <tr>\n",
    "                    <td>Date</td>\n",
    "                    <td>Numerical</td>\n",
    "                    <td>Ordinal</td>\n",
    "                    <td>Date the property was sold</td>\n",
    "                </tr>\n",
    "                <tr>\n",
    "                    <td>Floors</td>\n",
    "                    <td>Numerical</td>\n",
    "                    <td>Float</td>\n",
    "                    <td>Number of floors (including half floors) in the house </td>\n",
    "                </tr>\n",
    "                <tr>\n",
    "                    <td>Statezip</td>\n",
    "                    <td>Categorical</td>\n",
    "                    <td>Object - String</td>\n",
    "                    <td>A concatentation of the state and the zipcode where the house is located</td>\n",
    "                </tr>\n",
    "                <tr>\n",
    "                    <td>Street</td>\n",
    "                    <td>Categorical</td>\n",
    "                    <td>Object - String</td>\n",
    "                    <td>Street name and house number where the house is located</td>\n",
    "                </tr>\n",
    "                <tr>\n",
    "                    <td>sqft_above</td>\n",
    "                    <td>Numerical</td>\n",
    "                    <td>Integer</td>\n",
    "                    <td>Square footage of the house that exists above ground level</td>\n",
    "                </tr>\n",
    "                <tr>\n",
    "                    <td>sqft_basement</td>\n",
    "                    <td>Numerical</td>\n",
    "                    <td>Integer</td>\n",
    "                    <td>Square footage of the house that exists below ground level</td>\n",
    "                </tr>\n",
    "                <tr>\n",
    "                    <td>sqft_living</td>\n",
    "                    <td>Numerical</td>\n",
    "                    <td>Integer</td>\n",
    "                    <td>Square footage of the house</td>\n",
    "                </tr>\n",
    "                <tr>\n",
    "                    <td>sqft_lot</td>\n",
    "                    <td>Numerical</td>\n",
    "                    <td>Integer</td>\n",
    "                    <td>Square footage of the entire lot that the house exists on</td>\n",
    "                </tr>\n",
    "                <tr>\n",
    "                    <td>Waterfront</td>\n",
    "                    <td>Numerical</td>\n",
    "                    <td>Binary</td>\n",
    "                    <td>Indicator if the property is a waterfront property</td>\n",
    "                </tr>\n",
    "                <tr>\n",
    "                    <td>View</td>\n",
    "                    <td>Numerical</td>\n",
    "                    <td>Integer</td>\n",
    "                    <td>Numerical grading of the view from the house</td>\n",
    "                </tr>\n",
    "                <tr>\n",
    "                    <td>yr_build</td>\n",
    "                    <td>Numerical</td>\n",
    "                    <td>Integer</td>\n",
    "                    <td>Year that the house was built</td>\n",
    "                </tr>\n",
    "                <tr>\n",
    "                    <td>yr_renovation</td>\n",
    "                    <td>Numerical</td>\n",
    "                    <td>Integer</td>\n",
    "                    <td>Year that the house last underwent a renovation</td>\n",
    "                </tr>\n",
    "                <tr>\n",
    "                    <td>Price</td>\n",
    "                    <td>Numerical</td>\n",
    "                    <td>Float</td>\n",
    "                    <td>Price the property sold for in USD</td>\n",
    "                </tr>\n",
    "            </tbody>\n",
    "        </table>"
   ]
  },
  {
   "cell_type": "markdown",
   "metadata": {},
   "source": [
    "To go along with the defintions, here's a quick look at what the data looks like in file. In the ETL section of the notebook we'll load in the data and get a cleaner look with how Pandas output is formatted."
   ]
  },
  {
   "cell_type": "code",
   "execution_count": 1,
   "metadata": {},
   "outputs": [
    {
     "name": "stdout",
     "output_type": "stream",
     "text": [
      "date,price,bedrooms,bathrooms,sqft_living,sqft_lot,floors,waterfront,view,condition,sqft_above,sqft_basement,yr_built,yr_renovated,street,city,statezip,country\n",
      "2014-05-02 00:00:00,313000.0,3.0,1.5,1340,7912,1.5,0,0,3,1340,0,1955,2005,18810 Densmore Ave N,Shoreline,WA 98133,USA\n",
      "2014-05-02 00:00:00,2384000.0,5.0,2.5,3650,9050,2.0,0,4,5,3370,280,1921,0,709 W Blaine St,Seattle,WA 98119,USA\n",
      "2014-05-02 00:00:00,342000.0,3.0,2.0,1930,11947,1.0,0,0,4,1930,0,1966,0,26206-26214 143rd Ave SE,Kent,WA 98042,USA\n",
      "2014-05-02 00:00:00,420000.0,3.0,2.25,2000,8030,1.0,0,0,4,1000,1000,1963,0,857 170th Pl NE,Bellevue,WA 98008,USA\n",
      "2014-05-02 00:00:00,550000.0,4.0,2.5,1940,10500,1.0,0,0,4,1140,800,1976,1992,9105 170th Ave NE,Redmond,WA 98052,USA\n",
      "2014-05-02 00:00:00,490000.0,2.0,1.0,880,6380,1.0,0,0,3,880,0,1938,1994,522 NE 88th St,Seattle,WA 98115,USA\n",
      "2014-05-02 00:00:00,335000.0,2.0,2.0,1350,2560,1.0,0,0,3,1350,0,1976,0,2616 174th Ave NE,Redmond,WA 98052,USA\n",
      "2014-05-02 00:00:00,482000.0,4.0,2.5,2710,35868,2.0,0,0,3,2710,0,1989,0,23762 SE 253rd Pl,Maple Valley,WA 98038,USA\n",
      "2014-05-02 00:00:00,452500.0,3.0,2.5,2430,88426,1.0,0,0,4,1570,860,1985,0,46611-46625 SE 129th St,North Bend,WA 98045,USA\n"
     ]
    }
   ],
   "source": [
    "%alias head powershell -command \"& {Get-Content %s -Head 10}\"\n",
    "\n",
    "%alias tail powershell -command \"& {Get-Content %s -Tail 10}\"\n",
    "\n",
    "%head 'real-estate-data.csv'"
   ]
  },
  {
   "cell_type": "markdown",
   "metadata": {},
   "source": [
    "## ETL\n",
    "\n",
    "This data set was pretty clean, so there wasn't much work in terms of de-duping or data cleaning. There were some sales that were marked with a sales price of $0; these were removed and nothing was done in an attempt to impute to missing value. Also, all float values in the data set are no more precise than two digits after the decimal point, so all formatting for display of float values was defaulted to this."
   ]
  },
  {
   "cell_type": "code",
   "execution_count": 2,
   "metadata": {},
   "outputs": [
    {
     "data": {
      "text/html": [
       "<div>\n",
       "<style scoped>\n",
       "    .dataframe tbody tr th:only-of-type {\n",
       "        vertical-align: middle;\n",
       "    }\n",
       "\n",
       "    .dataframe tbody tr th {\n",
       "        vertical-align: top;\n",
       "    }\n",
       "\n",
       "    .dataframe thead th {\n",
       "        text-align: right;\n",
       "    }\n",
       "</style>\n",
       "<table border=\"1\" class=\"dataframe\">\n",
       "  <thead>\n",
       "    <tr style=\"text-align: right;\">\n",
       "      <th></th>\n",
       "      <th>date</th>\n",
       "      <th>price</th>\n",
       "      <th>bedrooms</th>\n",
       "      <th>bathrooms</th>\n",
       "      <th>sqft_living</th>\n",
       "      <th>sqft_lot</th>\n",
       "      <th>floors</th>\n",
       "      <th>waterfront</th>\n",
       "      <th>view</th>\n",
       "      <th>condition</th>\n",
       "      <th>sqft_above</th>\n",
       "      <th>sqft_basement</th>\n",
       "      <th>yr_built</th>\n",
       "      <th>yr_renovated</th>\n",
       "      <th>street</th>\n",
       "      <th>city</th>\n",
       "      <th>statezip</th>\n",
       "      <th>country</th>\n",
       "    </tr>\n",
       "  </thead>\n",
       "  <tbody>\n",
       "    <tr>\n",
       "      <th>0</th>\n",
       "      <td>2014-05-02 00:00:00</td>\n",
       "      <td>313000.00</td>\n",
       "      <td>3.00</td>\n",
       "      <td>1.50</td>\n",
       "      <td>1340</td>\n",
       "      <td>7912</td>\n",
       "      <td>1.50</td>\n",
       "      <td>0</td>\n",
       "      <td>0</td>\n",
       "      <td>3</td>\n",
       "      <td>1340</td>\n",
       "      <td>0</td>\n",
       "      <td>1955</td>\n",
       "      <td>2005</td>\n",
       "      <td>18810 Densmore Ave N</td>\n",
       "      <td>Shoreline</td>\n",
       "      <td>WA 98133</td>\n",
       "      <td>USA</td>\n",
       "    </tr>\n",
       "    <tr>\n",
       "      <th>1</th>\n",
       "      <td>2014-05-02 00:00:00</td>\n",
       "      <td>2384000.00</td>\n",
       "      <td>5.00</td>\n",
       "      <td>2.50</td>\n",
       "      <td>3650</td>\n",
       "      <td>9050</td>\n",
       "      <td>2.00</td>\n",
       "      <td>0</td>\n",
       "      <td>4</td>\n",
       "      <td>5</td>\n",
       "      <td>3370</td>\n",
       "      <td>280</td>\n",
       "      <td>1921</td>\n",
       "      <td>0</td>\n",
       "      <td>709 W Blaine St</td>\n",
       "      <td>Seattle</td>\n",
       "      <td>WA 98119</td>\n",
       "      <td>USA</td>\n",
       "    </tr>\n",
       "    <tr>\n",
       "      <th>2</th>\n",
       "      <td>2014-05-02 00:00:00</td>\n",
       "      <td>342000.00</td>\n",
       "      <td>3.00</td>\n",
       "      <td>2.00</td>\n",
       "      <td>1930</td>\n",
       "      <td>11947</td>\n",
       "      <td>1.00</td>\n",
       "      <td>0</td>\n",
       "      <td>0</td>\n",
       "      <td>4</td>\n",
       "      <td>1930</td>\n",
       "      <td>0</td>\n",
       "      <td>1966</td>\n",
       "      <td>0</td>\n",
       "      <td>26206-26214 143rd Ave SE</td>\n",
       "      <td>Kent</td>\n",
       "      <td>WA 98042</td>\n",
       "      <td>USA</td>\n",
       "    </tr>\n",
       "    <tr>\n",
       "      <th>3</th>\n",
       "      <td>2014-05-02 00:00:00</td>\n",
       "      <td>420000.00</td>\n",
       "      <td>3.00</td>\n",
       "      <td>2.25</td>\n",
       "      <td>2000</td>\n",
       "      <td>8030</td>\n",
       "      <td>1.00</td>\n",
       "      <td>0</td>\n",
       "      <td>0</td>\n",
       "      <td>4</td>\n",
       "      <td>1000</td>\n",
       "      <td>1000</td>\n",
       "      <td>1963</td>\n",
       "      <td>0</td>\n",
       "      <td>857 170th Pl NE</td>\n",
       "      <td>Bellevue</td>\n",
       "      <td>WA 98008</td>\n",
       "      <td>USA</td>\n",
       "    </tr>\n",
       "    <tr>\n",
       "      <th>4</th>\n",
       "      <td>2014-05-02 00:00:00</td>\n",
       "      <td>550000.00</td>\n",
       "      <td>4.00</td>\n",
       "      <td>2.50</td>\n",
       "      <td>1940</td>\n",
       "      <td>10500</td>\n",
       "      <td>1.00</td>\n",
       "      <td>0</td>\n",
       "      <td>0</td>\n",
       "      <td>4</td>\n",
       "      <td>1140</td>\n",
       "      <td>800</td>\n",
       "      <td>1976</td>\n",
       "      <td>1992</td>\n",
       "      <td>9105 170th Ave NE</td>\n",
       "      <td>Redmond</td>\n",
       "      <td>WA 98052</td>\n",
       "      <td>USA</td>\n",
       "    </tr>\n",
       "  </tbody>\n",
       "</table>\n",
       "</div>"
      ],
      "text/plain": [
       "                  date      price  bedrooms  bathrooms  sqft_living  sqft_lot  \\\n",
       "0  2014-05-02 00:00:00  313000.00      3.00       1.50         1340      7912   \n",
       "1  2014-05-02 00:00:00 2384000.00      5.00       2.50         3650      9050   \n",
       "2  2014-05-02 00:00:00  342000.00      3.00       2.00         1930     11947   \n",
       "3  2014-05-02 00:00:00  420000.00      3.00       2.25         2000      8030   \n",
       "4  2014-05-02 00:00:00  550000.00      4.00       2.50         1940     10500   \n",
       "\n",
       "   floors  waterfront  view  condition  sqft_above  sqft_basement  yr_built  \\\n",
       "0    1.50           0     0          3        1340              0      1955   \n",
       "1    2.00           0     4          5        3370            280      1921   \n",
       "2    1.00           0     0          4        1930              0      1966   \n",
       "3    1.00           0     0          4        1000           1000      1963   \n",
       "4    1.00           0     0          4        1140            800      1976   \n",
       "\n",
       "   yr_renovated                    street       city  statezip country  \n",
       "0          2005      18810 Densmore Ave N  Shoreline  WA 98133     USA  \n",
       "1             0           709 W Blaine St    Seattle  WA 98119     USA  \n",
       "2             0  26206-26214 143rd Ave SE       Kent  WA 98042     USA  \n",
       "3             0           857 170th Pl NE   Bellevue  WA 98008     USA  \n",
       "4          1992         9105 170th Ave NE    Redmond  WA 98052     USA  "
      ]
     },
     "execution_count": 2,
     "metadata": {},
     "output_type": "execute_result"
    }
   ],
   "source": [
    "import pandas as pd\n",
    "\n",
    "data = pd.read_csv(\"real-estate-data.csv\")\n",
    "\n",
    "#  remove any sale that went for $0\n",
    "data = data[data.price != 0]\n",
    "\n",
    "#  remove large outliers\n",
    "data = data[data.price < 10000000]\n",
    "\n",
    "#  default to only showing two digits of precision\n",
    "pd.set_option('display.float_format', lambda x: '%.2f' % x)\n",
    "data.head()"
   ]
  },
  {
   "cell_type": "markdown",
   "metadata": {},
   "source": [
    "## Single Variable EDA\n",
    "\n",
    "<a id=\"s-eda\"></a>\n",
    "\n",
    "The groups members split up this task during the second week of the group discussion mini-project. I was responsible for the variables in the list below. I have directly included what the other group members put in their notebooks for the variables they were assigned.\n",
    "\n",
    "<ul>\n",
    "    <li>Bathrooms</li>\n",
    "    <li>City</li>\n",
    "    <li>Condition</li>\n",
    "    <li>Floors</li>\n",
    "    <li>sqft_living</li>\n",
    "</ul>"
   ]
  },
  {
   "cell_type": "code",
   "execution_count": 3,
   "metadata": {},
   "outputs": [],
   "source": [
    "import bfach2_lib as utils\n",
    "import matplotlib.pyplot as plt\n",
    "import numpy as np\n",
    "import scipy.stats as stats\n",
    "import warnings\n",
    "warnings.filterwarnings('ignore')"
   ]
  },
  {
   "cell_type": "markdown",
   "metadata": {},
   "source": [
    "### Bathrooms\n",
    "\n",
    "All of these values should be in half increments, and the spread of the number of bathrooms should roughly coincide with how the square footage of homes is distributed. So there should only be a handful of properties with a large amount of bathrooms."
   ]
  },
  {
   "cell_type": "code",
   "execution_count": 4,
   "metadata": {},
   "outputs": [
    {
     "data": {
      "image/png": "[encoded data removed]",
      "text/plain": [
       "<Figure size 1440x432 with 1 Axes>"
      ]
     },
     "metadata": {
      "needs_background": "light"
     },
     "output_type": "display_data"
    }
   ],
   "source": [
    "bathroom_counts = data[\"bathrooms\"].value_counts().sort_index()\n",
    "x = range( len( bathroom_counts))\n",
    "width = 1/1.5\n",
    "\n",
    "figure = plt.figure(figsize=(20, 6))\n",
    "\n",
    "axes = figure.add_subplot(1, 1, 1)\n",
    "axes.bar(x, bathroom_counts, width, color=\"dimgray\", align=\"center\")\n",
    "axes.set_xticks(x)\n",
    "axes.set_xticklabels(bathroom_counts.axes[0])\n",
    "axes.set_title( \"Distribution of number of bathrooms for properties\")\n",
    "axes.set_xlabel(\"Number of bathrooms\")\n",
    "axes.set_ylabel( \"Count\")\n",
    "axes.xaxis.grid(False)\n",
    "\n",
    "plt.show()\n",
    "plt.close()"
   ]
  },
  {
   "cell_type": "markdown",
   "metadata": {},
   "source": [
    "As expected the counts tail off at larger number of bathrooms. 2.5 bathrooms definitely dominates the data set but a normal model still could feasibly model this distribution; the only problem is with the count of properies with only one bathroom."
   ]
  },
  {
   "cell_type": "markdown",
   "metadata": {},
   "source": [
    "### Bedrooms"
   ]
  },
  {
   "cell_type": "code",
   "execution_count": 5,
   "metadata": {},
   "outputs": [
    {
     "name": "stdout",
     "output_type": "stream",
     "text": [
      "Variable: bedrooms\n",
      "count   4549.00\n",
      "mean       3.39\n",
      "std        0.90\n",
      "min        0.00\n",
      "25%        3.00\n",
      "50%        3.00\n",
      "75%        4.00\n",
      "max        9.00\n",
      "Name: bedrooms, dtype: float64\n",
      "\n"
     ]
    }
   ],
   "source": [
    "col = 'bedrooms'\n",
    "print(\"Variable: {:}\\n{:}\\n\".format(col, data[col].describe()))"
   ]
  },
  {
   "cell_type": "markdown",
   "metadata": {},
   "source": [
    "The variable for bedrooms appears to be roughly normally distributed. Three or four bedrooms appears to be the norm. There are some strange outliers, like at least one 9 room mansion, and a zero bedroom. Maybe the zero bedroom is a typo."
   ]
  },
  {
   "cell_type": "markdown",
   "metadata": {},
   "source": [
    "### City\n",
    "\n",
    "It may be helpful to convert this variable later on to some sort of numeric variable; lat/lon coordinates maybe. Then some more in-depth analysis of proximity to other location's effect on price. For now, just looking at the distribution of evaluated properties across the cities."
   ]
  },
  {
   "cell_type": "code",
   "execution_count": 6,
   "metadata": {},
   "outputs": [
    {
     "data": {
      "text/html": [
       "<div>\n",
       "<style scoped>\n",
       "    .dataframe tbody tr th:only-of-type {\n",
       "        vertical-align: middle;\n",
       "    }\n",
       "\n",
       "    .dataframe tbody tr th {\n",
       "        vertical-align: top;\n",
       "    }\n",
       "\n",
       "    .dataframe thead th {\n",
       "        text-align: right;\n",
       "    }\n",
       "</style>\n",
       "<table border=\"1\" class=\"dataframe\">\n",
       "  <thead>\n",
       "    <tr style=\"text-align: right;\">\n",
       "      <th></th>\n",
       "      <th>city</th>\n",
       "    </tr>\n",
       "  </thead>\n",
       "  <tbody>\n",
       "    <tr>\n",
       "      <th>Algona</th>\n",
       "      <td>5</td>\n",
       "    </tr>\n",
       "    <tr>\n",
       "      <th>Auburn</th>\n",
       "      <td>175</td>\n",
       "    </tr>\n",
       "    <tr>\n",
       "      <th>Beaux Arts Village</th>\n",
       "      <td>1</td>\n",
       "    </tr>\n",
       "    <tr>\n",
       "      <th>Bellevue</th>\n",
       "      <td>281</td>\n",
       "    </tr>\n",
       "    <tr>\n",
       "      <th>Black Diamond</th>\n",
       "      <td>8</td>\n",
       "    </tr>\n",
       "    <tr>\n",
       "      <th>Bothell</th>\n",
       "      <td>33</td>\n",
       "    </tr>\n",
       "    <tr>\n",
       "      <th>Burien</th>\n",
       "      <td>72</td>\n",
       "    </tr>\n",
       "    <tr>\n",
       "      <th>Carnation</th>\n",
       "      <td>22</td>\n",
       "    </tr>\n",
       "    <tr>\n",
       "      <th>Clyde Hill</th>\n",
       "      <td>9</td>\n",
       "    </tr>\n",
       "    <tr>\n",
       "      <th>Covington</th>\n",
       "      <td>42</td>\n",
       "    </tr>\n",
       "    <tr>\n",
       "      <th>Des Moines</th>\n",
       "      <td>58</td>\n",
       "    </tr>\n",
       "    <tr>\n",
       "      <th>Duvall</th>\n",
       "      <td>42</td>\n",
       "    </tr>\n",
       "    <tr>\n",
       "      <th>Enumclaw</th>\n",
       "      <td>27</td>\n",
       "    </tr>\n",
       "    <tr>\n",
       "      <th>Fall City</th>\n",
       "      <td>11</td>\n",
       "    </tr>\n",
       "    <tr>\n",
       "      <th>Federal Way</th>\n",
       "      <td>145</td>\n",
       "    </tr>\n",
       "    <tr>\n",
       "      <th>Inglewood-Finn Hill</th>\n",
       "      <td>1</td>\n",
       "    </tr>\n",
       "    <tr>\n",
       "      <th>Issaquah</th>\n",
       "      <td>186</td>\n",
       "    </tr>\n",
       "    <tr>\n",
       "      <th>Kenmore</th>\n",
       "      <td>65</td>\n",
       "    </tr>\n",
       "    <tr>\n",
       "      <th>Kent</th>\n",
       "      <td>183</td>\n",
       "    </tr>\n",
       "    <tr>\n",
       "      <th>Kirkland</th>\n",
       "      <td>187</td>\n",
       "    </tr>\n",
       "    <tr>\n",
       "      <th>Lake Forest Park</th>\n",
       "      <td>34</td>\n",
       "    </tr>\n",
       "    <tr>\n",
       "      <th>Maple Valley</th>\n",
       "      <td>95</td>\n",
       "    </tr>\n",
       "    <tr>\n",
       "      <th>Medina</th>\n",
       "      <td>11</td>\n",
       "    </tr>\n",
       "    <tr>\n",
       "      <th>Mercer Island</th>\n",
       "      <td>82</td>\n",
       "    </tr>\n",
       "    <tr>\n",
       "      <th>Milton</th>\n",
       "      <td>2</td>\n",
       "    </tr>\n",
       "    <tr>\n",
       "      <th>Newcastle</th>\n",
       "      <td>33</td>\n",
       "    </tr>\n",
       "    <tr>\n",
       "      <th>Normandy Park</th>\n",
       "      <td>17</td>\n",
       "    </tr>\n",
       "    <tr>\n",
       "      <th>North Bend</th>\n",
       "      <td>50</td>\n",
       "    </tr>\n",
       "    <tr>\n",
       "      <th>Pacific</th>\n",
       "      <td>6</td>\n",
       "    </tr>\n",
       "    <tr>\n",
       "      <th>Preston</th>\n",
       "      <td>2</td>\n",
       "    </tr>\n",
       "    <tr>\n",
       "      <th>Ravensdale</th>\n",
       "      <td>7</td>\n",
       "    </tr>\n",
       "    <tr>\n",
       "      <th>Redmond</th>\n",
       "      <td>235</td>\n",
       "    </tr>\n",
       "    <tr>\n",
       "      <th>Renton</th>\n",
       "      <td>291</td>\n",
       "    </tr>\n",
       "    <tr>\n",
       "      <th>Sammamish</th>\n",
       "      <td>171</td>\n",
       "    </tr>\n",
       "    <tr>\n",
       "      <th>SeaTac</th>\n",
       "      <td>28</td>\n",
       "    </tr>\n",
       "    <tr>\n",
       "      <th>Seattle</th>\n",
       "      <td>1560</td>\n",
       "    </tr>\n",
       "    <tr>\n",
       "      <th>Shoreline</th>\n",
       "      <td>123</td>\n",
       "    </tr>\n",
       "    <tr>\n",
       "      <th>Skykomish</th>\n",
       "      <td>3</td>\n",
       "    </tr>\n",
       "    <tr>\n",
       "      <th>Snoqualmie</th>\n",
       "      <td>69</td>\n",
       "    </tr>\n",
       "    <tr>\n",
       "      <th>Snoqualmie Pass</th>\n",
       "      <td>1</td>\n",
       "    </tr>\n",
       "    <tr>\n",
       "      <th>Tukwila</th>\n",
       "      <td>29</td>\n",
       "    </tr>\n",
       "    <tr>\n",
       "      <th>Vashon</th>\n",
       "      <td>29</td>\n",
       "    </tr>\n",
       "    <tr>\n",
       "      <th>Woodinville</th>\n",
       "      <td>114</td>\n",
       "    </tr>\n",
       "    <tr>\n",
       "      <th>Yarrow Point</th>\n",
       "      <td>4</td>\n",
       "    </tr>\n",
       "  </tbody>\n",
       "</table>\n",
       "</div>"
      ],
      "text/plain": [
       "                     city\n",
       "Algona                  5\n",
       "Auburn                175\n",
       "Beaux Arts Village      1\n",
       "Bellevue              281\n",
       "Black Diamond           8\n",
       "Bothell                33\n",
       "Burien                 72\n",
       "Carnation              22\n",
       "Clyde Hill              9\n",
       "Covington              42\n",
       "Des Moines             58\n",
       "Duvall                 42\n",
       "Enumclaw               27\n",
       "Fall City              11\n",
       "Federal Way           145\n",
       "Inglewood-Finn Hill     1\n",
       "Issaquah              186\n",
       "Kenmore                65\n",
       "Kent                  183\n",
       "Kirkland              187\n",
       "Lake Forest Park       34\n",
       "Maple Valley           95\n",
       "Medina                 11\n",
       "Mercer Island          82\n",
       "Milton                  2\n",
       "Newcastle              33\n",
       "Normandy Park          17\n",
       "North Bend             50\n",
       "Pacific                 6\n",
       "Preston                 2\n",
       "Ravensdale              7\n",
       "Redmond               235\n",
       "Renton                291\n",
       "Sammamish             171\n",
       "SeaTac                 28\n",
       "Seattle              1560\n",
       "Shoreline             123\n",
       "Skykomish               3\n",
       "Snoqualmie             69\n",
       "Snoqualmie Pass         1\n",
       "Tukwila                29\n",
       "Vashon                 29\n",
       "Woodinville           114\n",
       "Yarrow Point            4"
      ]
     },
     "execution_count": 6,
     "metadata": {},
     "output_type": "execute_result"
    }
   ],
   "source": [
    "pd.DataFrame(data[\"city\"].value_counts().sort_index())"
   ]
  },
  {
   "cell_type": "markdown",
   "metadata": {},
   "source": [
    "It makes sense that at first glance the number of evaluated properties is higher in urban areas than in rural areas. It may follow that the model is better at predictions for properties located in cities than it is for properties in rural areas."
   ]
  },
  {
   "cell_type": "markdown",
   "metadata": {},
   "source": [
    "### Condition\n",
    "\n",
    "There wasn't a definition of condition provided with the data, but it can be assumed that higher condition values means the home is in better condition."
   ]
  },
  {
   "cell_type": "code",
   "execution_count": 7,
   "metadata": {},
   "outputs": [
    {
     "data": {
      "image/png": "[encoded data removed]",
      "text/plain": [
       "<Figure size 1440x432 with 1 Axes>"
      ]
     },
     "metadata": {
      "needs_background": "light"
     },
     "output_type": "display_data"
    }
   ],
   "source": [
    "condition_counts = data[\"condition\"].value_counts().sort_index()\n",
    "x = range( len( condition_counts))\n",
    "width = 1/1.5\n",
    "\n",
    "figure = plt.figure(figsize=(20, 6))\n",
    "\n",
    "axes = figure.add_subplot(1, 1, 1)\n",
    "axes.bar(x, condition_counts, width, color=\"dimgray\", align=\"center\")\n",
    "axes.set_xticks(x)\n",
    "axes.set_xticklabels(condition_counts.axes[0])\n",
    "axes.set_title( \"Distribution of condition values for properties\")\n",
    "axes.set_xlabel(\"Condition value\")\n",
    "axes.set_ylabel( \"Count\")\n",
    "axes.xaxis.grid(False)\n",
    "\n",
    "plt.show()\n",
    "plt.close()"
   ]
  },
  {
   "cell_type": "markdown",
   "metadata": {},
   "source": [
    "There is definitely a shortage of poorer conditioned homes that were evaluated. There is also a massive spike of fair conditioned homes. Models built on this data may overvalue poor conditioned homes and undervalue good/great conditioned homes."
   ]
  },
  {
   "cell_type": "markdown",
   "metadata": {},
   "source": [
    "### Floors\n",
    "\n",
    "Domain knowledge doesn't tell us much to expect for this distribution of values other than to expect the data set to be dominated by one and two floor homes. However, not certain if this should coincide with the distribution of square footage because a large home could techinically be a one-story rancher."
   ]
  },
  {
   "cell_type": "code",
   "execution_count": 8,
   "metadata": {},
   "outputs": [
    {
     "data": {
      "image/png": "[encoded data removed]",
      "text/plain": [
       "<Figure size 1440x432 with 1 Axes>"
      ]
     },
     "metadata": {
      "needs_background": "light"
     },
     "output_type": "display_data"
    }
   ],
   "source": [
    "floor_counts = data[\"floors\"].value_counts().sort_index()\n",
    "x = range( len( floor_counts))\n",
    "width = 1/1.5\n",
    "\n",
    "figure = plt.figure(figsize=(20, 6))\n",
    "\n",
    "axes = figure.add_subplot(1, 1, 1)\n",
    "axes.bar(x, floor_counts, width, color=\"dimgray\", align=\"center\")\n",
    "axes.set_xticks(x)\n",
    "axes.set_xticklabels(floor_counts.axes[0])\n",
    "axes.set_title( \"Distribution of number of floors for properties\")\n",
    "axes.set_xlabel(\"Number of floors\")\n",
    "axes.set_ylabel( \"Count\")\n",
    "axes.xaxis.grid(False)\n",
    "\n",
    "plt.show()\n",
    "plt.close()"
   ]
  },
  {
   "cell_type": "markdown",
   "metadata": {},
   "source": [
    "### Location\n",
    "\n",
    "The state-zip is used here as the indicator of location because the street address are too unique to the observation and country is too broad for this dataset. The reason that we don't use city as location is that different cities can share the same name."
   ]
  },
  {
   "cell_type": "code",
   "execution_count": 9,
   "metadata": {},
   "outputs": [
    {
     "data": {
      "text/html": [
       "<div>\n",
       "<style scoped>\n",
       "    .dataframe tbody tr th:only-of-type {\n",
       "        vertical-align: middle;\n",
       "    }\n",
       "\n",
       "    .dataframe tbody tr th {\n",
       "        vertical-align: top;\n",
       "    }\n",
       "\n",
       "    .dataframe thead th {\n",
       "        text-align: right;\n",
       "    }\n",
       "</style>\n",
       "<table border=\"1\" class=\"dataframe\">\n",
       "  <thead>\n",
       "    <tr style=\"text-align: right;\">\n",
       "      <th></th>\n",
       "      <th>statezip</th>\n",
       "    </tr>\n",
       "  </thead>\n",
       "  <tbody>\n",
       "    <tr>\n",
       "      <th>WA 98001</th>\n",
       "      <td>0.01</td>\n",
       "    </tr>\n",
       "    <tr>\n",
       "      <th>WA 98002</th>\n",
       "      <td>0.01</td>\n",
       "    </tr>\n",
       "    <tr>\n",
       "      <th>WA 98003</th>\n",
       "      <td>0.01</td>\n",
       "    </tr>\n",
       "    <tr>\n",
       "      <th>WA 98004</th>\n",
       "      <td>0.02</td>\n",
       "    </tr>\n",
       "    <tr>\n",
       "      <th>WA 98005</th>\n",
       "      <td>0.01</td>\n",
       "    </tr>\n",
       "  </tbody>\n",
       "</table>\n",
       "</div>"
      ],
      "text/plain": [
       "          statezip\n",
       "WA 98001      0.01\n",
       "WA 98002      0.01\n",
       "WA 98003      0.01\n",
       "WA 98004      0.02\n",
       "WA 98005      0.01"
      ]
     },
     "execution_count": 9,
     "metadata": {},
     "output_type": "execute_result"
    }
   ],
   "source": [
    "pd.DataFrame(data.statezip.value_counts(normalize=True).sort_index()).head()"
   ]
  },
  {
   "cell_type": "markdown",
   "metadata": {},
   "source": [
    "### Sqft_above\n",
    "\n",
    "Sqft_above is the living space above the basement. For analysis the variable, sqft_basement has to be considered along with this as these two variable together contribute to the sqft_living. "
   ]
  },
  {
   "cell_type": "code",
   "execution_count": 10,
   "metadata": {},
   "outputs": [
    {
     "name": "stdout",
     "output_type": "stream",
     "text": [
      "Variable: sqft_above\n",
      "count   4549.00\n",
      "mean    1822.42\n",
      "std      854.58\n",
      "min      370.00\n",
      "25%     1190.00\n",
      "50%     1590.00\n",
      "75%     2300.00\n",
      "max     9410.00\n",
      "Name: sqft_above, dtype: float64\n",
      "\n"
     ]
    }
   ],
   "source": [
    "col = 'sqft_above'\n",
    "print(\"Variable: {:}\\n{:}\\n\".format(col, data[col].describe()))"
   ]
  },
  {
   "cell_type": "markdown",
   "metadata": {},
   "source": [
    "The Square Feet Above appears to be approximately log normally distributed. We'll probably have to model this one as log(sqft_above).  \n",
    "\n",
    "Half of the house has above/below 1590 sqft above ground. while there is one tiny home with only 370 and a mansion with 9410.  \n",
    "\n",
    "In general, there is going to be a lot of correlation among sqft_lot, \\_above, \\_basement, & \\_living. We'll just have to see which one is the best fit and use it for our model.\n",
    "\n",
    "- - -\n",
    "\n",
    "The minimum sqft_above is 370 sq.ft and the maximum value is 9410 sq.ft where 50% of the houses in our dataset has sqft_above below 1590 sq.ft.Let's take the log transformation of this variable as well as per the values shown above the data is not distributed normally"
   ]
  },
  {
   "cell_type": "code",
   "execution_count": 11,
   "metadata": {},
   "outputs": [
    {
     "data": {
      "image/png": "[encoded data removed]",
      "text/plain": [
       "<Figure size 1440x432 with 1 Axes>"
      ]
     },
     "metadata": {
      "needs_background": "light"
     },
     "output_type": "display_data"
    }
   ],
   "source": [
    "data[\"log_sqft_above\"] = data[ \"sqft_above\"].apply(lambda x: np.log10(x))\n",
    "\n",
    "feature = \"log_sqft_above\"\n",
    "\n",
    "figure = plt.figure(figsize=(20, 6))\n",
    "\n",
    "axes = figure.add_subplot(1, 1, 1)\n",
    "axes.hist(data[feature], color=\"DimGray\")\n",
    "axes.set_xlabel(feature)\n",
    "axes.set_ylabel(\"Count\")\n",
    "axes.set_title(\"Count Histogram of \" + feature + \"; default bins\")\n",
    "\n",
    "plt.show()\n",
    "plt.close()"
   ]
  },
  {
   "cell_type": "markdown",
   "metadata": {},
   "source": [
    "There is still some skewness attached to the data which in my opinon might be due to the bias in the data set.. "
   ]
  },
  {
   "cell_type": "markdown",
   "metadata": {},
   "source": [
    "### Sqft_basement"
   ]
  },
  {
   "cell_type": "code",
   "execution_count": 12,
   "metadata": {},
   "outputs": [
    {
     "data": {
      "text/plain": [
       "count   4549.00\n",
       "mean     310.15\n",
       "std      462.04\n",
       "min        0.00\n",
       "25%        0.00\n",
       "50%        0.00\n",
       "75%      600.00\n",
       "max     4820.00\n",
       "Name: sqft_basement, dtype: float64"
      ]
     },
     "metadata": {},
     "output_type": "display_data"
    },
    {
     "data": {
      "image/png": "[encoded data removed]",
      "text/plain": [
       "<Figure size 720x432 with 1 Axes>"
      ]
     },
     "metadata": {
      "needs_background": "light"
     },
     "output_type": "display_data"
    }
   ],
   "source": [
    "display(data.sqft_basement.describe())\n",
    "figure = plt.figure(figsize=(10, 6))\n",
    "axes = figure.add_subplot(1, 1, 1)\n",
    "axes.hist(data.sqft_basement, color=\"steelblue\")\n",
    "axes.set_title(\"Distribution of sqft_basement\")\n",
    "axes.set_xlabel(\"sqft_basement\")\n",
    "axes.set_ylabel(\"Counts\")\n",
    "axes.yaxis.grid( b=True, which=\"major\")\n",
    "axes.xaxis.grid(False)\n",
    "plt.show()\n",
    "plt.close()"
   ]
  },
  {
   "cell_type": "markdown",
   "metadata": {},
   "source": [
    "### Sqft_living\n",
    "\n",
    "With this numerical variable, looking to have enough values across the distribution to provide accurate predictions for houses of all sizes. Knowing what distribution could be used to model it will also be helpful in analysis down the road."
   ]
  },
  {
   "cell_type": "code",
   "execution_count": 13,
   "metadata": {},
   "outputs": [
    {
     "data": {
      "text/plain": [
       "count    4549.00\n",
       "mean     2132.57\n",
       "std       956.06\n",
       "min       370.00\n",
       "25%      1460.00\n",
       "50%      1970.00\n",
       "75%      2610.00\n",
       "max     13540.00\n",
       "Name: sqft_living, dtype: float64"
      ]
     },
     "execution_count": 13,
     "metadata": {},
     "output_type": "execute_result"
    }
   ],
   "source": [
    "data[\"sqft_living\"].describe()"
   ]
  },
  {
   "cell_type": "markdown",
   "metadata": {},
   "source": [
    "It looks like there may be some very large homes in this data set. This may overinflate price values because of how different it is in terms of magnitude."
   ]
  },
  {
   "cell_type": "markdown",
   "metadata": {},
   "source": [
    "### Sqft_lot"
   ]
  },
  {
   "cell_type": "code",
   "execution_count": 14,
   "metadata": {},
   "outputs": [
    {
     "name": "stdout",
     "output_type": "stream",
     "text": [
      "Variable: sqft_lot\n",
      "count      4549.00\n",
      "mean      14837.59\n",
      "std       35971.80\n",
      "min         638.00\n",
      "25%        5000.00\n",
      "50%        7680.00\n",
      "75%       10970.00\n",
      "max     1074218.00\n",
      "Name: sqft_lot, dtype: float64\n",
      "\n"
     ]
    }
   ],
   "source": [
    "col = 'sqft_lot'\n",
    "print(\"Variable: {:}\\n{:}\\n\".format(col, data[col].describe()))"
   ]
  },
  {
   "cell_type": "markdown",
   "metadata": {},
   "source": [
    "Lot size is a pretty strange distribution. Maybe log normal? maybe pareto? The smallest lot is only 638 sqft, while the largest is over 1 million. However, most lots (50%) are in the 5,000 to 7,700 sqft range.\n",
    "\n",
    "Maybe the lot size will be more independent of the other sqft measures than I thought.\n",
    "\n",
    "- - -\n",
    "\n",
    "The smallest lot is 638 square feet. The largest lot is 1,074,218 square feet. We can perform a log transformation on sqft_lot to scale these values."
   ]
  },
  {
   "cell_type": "code",
   "execution_count": 15,
   "metadata": {},
   "outputs": [
    {
     "data": {
      "image/png": "[encoded data removed]",
      "text/plain": [
       "<Figure size 1440x432 with 1 Axes>"
      ]
     },
     "metadata": {
      "needs_background": "light"
     },
     "output_type": "display_data"
    }
   ],
   "source": [
    "data[\"log_sqft_lot\"] = data[ \"sqft_lot\"].apply(lambda x: np.log10(x))\n",
    "\n",
    "feature = \"log_sqft_lot\"\n",
    "\n",
    "figure = plt.figure(figsize=(20, 6))\n",
    "\n",
    "axes = figure.add_subplot(1, 1, 1)\n",
    "axes.hist(data[feature], color=\"DimGray\")\n",
    "axes.set_xlabel(\"log_sqft_lot\")\n",
    "axes.set_ylabel(\"Count\")\n",
    "axes.set_title(\"Count Histogram of \" + feature + \"; default bins\")\n",
    "\n",
    "plt.show()\n",
    "plt.close()"
   ]
  },
  {
   "cell_type": "markdown",
   "metadata": {},
   "source": [
    "The distribution is fairly normal with apparent skewness. "
   ]
  },
  {
   "cell_type": "code",
   "execution_count": 16,
   "metadata": {},
   "outputs": [
    {
     "data": {
      "image/png": "[encoded data removed]",
      "text/plain": [
       "<Figure size 1440x432 with 1 Axes>"
      ]
     },
     "metadata": {
      "needs_background": "light"
     },
     "output_type": "display_data"
    }
   ],
   "source": [
    "figure = plt.figure(figsize=(20, 6))\n",
    "\n",
    "axes = figure.add_subplot(1, 1, 1)\n",
    "patch = axes.boxplot(data[ \"log_sqft_lot\"], labels=[\"\"], \\\n",
    "                     showfliers=True, patch_artist=True, zorder=1)\n",
    "axes.set_title(\"Distribution of Sqft_lot (Log Scale)\")\n",
    "axes.set_ylabel(\"Log(Sqft_lot)\")\n",
    "\n",
    "plt.show()\n",
    "plt.close()"
   ]
  },
  {
   "cell_type": "markdown",
   "metadata": {},
   "source": [
    "There appears to be a large variability on the higher range of the sqft_lot which is common as most of the houses will be of average lot size with few houses being very big."
   ]
  },
  {
   "cell_type": "markdown",
   "metadata": {},
   "source": [
    "### Waterfront"
   ]
  },
  {
   "cell_type": "code",
   "execution_count": 17,
   "metadata": {},
   "outputs": [
    {
     "name": "stdout",
     "output_type": "stream",
     "text": [
      "Variable: waterfront\n",
      "count   4549.00\n",
      "mean       0.01\n",
      "std        0.08\n",
      "min        0.00\n",
      "25%        0.00\n",
      "50%        0.00\n",
      "75%        0.00\n",
      "max        1.00\n",
      "Name: waterfront, dtype: float64\n",
      "\n"
     ]
    }
   ],
   "source": [
    "col = 'waterfront'\n",
    "print(\"Variable: {:}\\n{:}\\n\".format(col, data[col].describe()))"
   ]
  },
  {
   "cell_type": "markdown",
   "metadata": {},
   "source": [
    "Waterfront is pretty predictable, where only 0.7% of the homes have water front property. That's only 33 homes, and might not be a large enough sample size to draw many meaningful conclusions."
   ]
  },
  {
   "cell_type": "markdown",
   "metadata": {},
   "source": [
    "### View"
   ]
  },
  {
   "cell_type": "code",
   "execution_count": 18,
   "metadata": {},
   "outputs": [
    {
     "data": {
      "text/html": [
       "<div>\n",
       "<style scoped>\n",
       "    .dataframe tbody tr th:only-of-type {\n",
       "        vertical-align: middle;\n",
       "    }\n",
       "\n",
       "    .dataframe tbody tr th {\n",
       "        vertical-align: top;\n",
       "    }\n",
       "\n",
       "    .dataframe thead th {\n",
       "        text-align: right;\n",
       "    }\n",
       "</style>\n",
       "<table border=\"1\" class=\"dataframe\">\n",
       "  <thead>\n",
       "    <tr style=\"text-align: right;\">\n",
       "      <th></th>\n",
       "      <th>view</th>\n",
       "    </tr>\n",
       "  </thead>\n",
       "  <tbody>\n",
       "    <tr>\n",
       "      <th>0</th>\n",
       "      <td>0.90</td>\n",
       "    </tr>\n",
       "    <tr>\n",
       "      <th>1</th>\n",
       "      <td>0.02</td>\n",
       "    </tr>\n",
       "    <tr>\n",
       "      <th>2</th>\n",
       "      <td>0.04</td>\n",
       "    </tr>\n",
       "    <tr>\n",
       "      <th>3</th>\n",
       "      <td>0.03</td>\n",
       "    </tr>\n",
       "    <tr>\n",
       "      <th>4</th>\n",
       "      <td>0.01</td>\n",
       "    </tr>\n",
       "  </tbody>\n",
       "</table>\n",
       "</div>"
      ],
      "text/plain": [
       "   view\n",
       "0  0.90\n",
       "1  0.02\n",
       "2  0.04\n",
       "3  0.03\n",
       "4  0.01"
      ]
     },
     "metadata": {},
     "output_type": "display_data"
    },
    {
     "data": {
      "image/png": "[encoded data removed]",
      "text/plain": [
       "<Figure size 720x864 with 2 Axes>"
      ]
     },
     "metadata": {
      "needs_background": "light"
     },
     "output_type": "display_data"
    }
   ],
   "source": [
    "data.view = data.view.astype('category')\n",
    "display(pd.DataFrame(data.view.value_counts(normalize=True).sort_index()))\n",
    "\n",
    "# Plot the histogram\n",
    "counts = data.view.value_counts().sort_index()\n",
    "proportions = data.view.value_counts(normalize=True).sort_index()\n",
    "x = range(len(counts))\n",
    "width = 1/1.5\n",
    "figure = plt.figure(figsize=(10, 12))\n",
    "axes = figure.add_subplot(2, 1, 1)\n",
    "axes.bar(x, counts, width, align='center')\n",
    "axes.set_xticks([0, 1])\n",
    "axes.set_xticklabels(counts.axes[0])\n",
    "axes.set_title('Counts for View')\n",
    "axes.set_ylabel('Counts')\n",
    "axes.xaxis.grid(False)\n",
    "axes = figure.add_subplot(2, 1, 2)\n",
    "axes.bar(x, proportions, width, align=\"center\")\n",
    "axes.axhline(1/len(counts), 0, 4, lw=1, color=\"DarkRed\")\n",
    "axes.set_xticks([0, 1])\n",
    "axes.set_xticklabels(proportions.axes[0])\n",
    "axes.set_title('Relative Frequency of View')\n",
    "axes.set_ylabel('Percent')\n",
    "axes.xaxis.grid(False)"
   ]
  },
  {
   "cell_type": "markdown",
   "metadata": {},
   "source": [
    "### Year Built"
   ]
  },
  {
   "cell_type": "code",
   "execution_count": 19,
   "metadata": {},
   "outputs": [
    {
     "name": "stdout",
     "output_type": "stream",
     "text": [
      "Variable: yr_built\n",
      "count   4549.00\n",
      "mean    1970.79\n",
      "std       29.76\n",
      "min     1900.00\n",
      "25%     1951.00\n",
      "50%     1976.00\n",
      "75%     1997.00\n",
      "max     2014.00\n",
      "Name: yr_built, dtype: float64\n",
      "\n",
      "Value Counts:\n",
      "2006    109\n",
      "2005    103\n",
      "2004     92\n",
      "2007     92\n",
      "1978     90\n",
      "2003     89\n",
      "2008     88\n",
      "1967     82\n",
      "1977     79\n",
      "2014     78\n",
      "Name: yr_built, dtype: int64\n"
     ]
    }
   ],
   "source": [
    "col = 'yr_built'\n",
    "print(\"Variable: {:}\\n{:}\\n\".format(col, data[col].describe()))\n",
    "print(\"Value Counts:\\n{:}\" .format( data[col].value_counts().head(10)) )"
   ]
  },
  {
   "cell_type": "markdown",
   "metadata": {},
   "source": [
    "Overall, there is growth in the number of house built per year. 50% of the houses were build after 1976, where the first one was built in 1900. Well, it's likely that 1900 is an approximation because they don't know how old the house is, that might need to be taken into account in the model somehow.\n",
    "\n",
    "Anyway,there seem to be periods of high growth interspersed. While most of the 'top spots' for homes built are in the 2000's, there are a couple in the 60's and 70's."
   ]
  },
  {
   "cell_type": "markdown",
   "metadata": {},
   "source": [
    "### Year Renovated"
   ]
  },
  {
   "cell_type": "code",
   "execution_count": 20,
   "metadata": {},
   "outputs": [
    {
     "name": "stdout",
     "output_type": "stream",
     "text": [
      "min = 0.00\n",
      "Q1 = 0.00\n",
      "mean = 808.48\n",
      "median (Q2) = 0.00\n",
      "Q3 = 1999.00\n",
      "max = 2014.00\n",
      "range = 2014.00\n",
      "IQR = 1999.00\n",
      "variance (std) = 959021.02 (979.30)\n",
      "COV = 121.13%\n"
     ]
    },
    {
     "data": {
      "image/png": "[encoded data removed]",
      "text/plain": [
       "<Figure size 432x288 with 1 Axes>"
      ]
     },
     "metadata": {
      "needs_background": "light"
     },
     "output_type": "display_data"
    }
   ],
   "source": [
    "utils.helper_describe_numerical_variable(data, 'yr_renovated')"
   ]
  },
  {
   "cell_type": "markdown",
   "metadata": {},
   "source": [
    "### Price\n",
    "\n",
    "Expect to see all positive values here with a distribution that can be well modeled by a normal distribution. This comes from domain knowledge about real estate prices in a small fixed area."
   ]
  },
  {
   "cell_type": "code",
   "execution_count": 21,
   "metadata": {},
   "outputs": [
    {
     "data": {
      "text/plain": [
       "count      4549.00\n",
       "mean     549470.38\n",
       "std      368230.65\n",
       "min        7800.00\n",
       "25%      326100.00\n",
       "50%      465000.00\n",
       "75%      657500.00\n",
       "max     7062500.00\n",
       "Name: price, dtype: float64"
      ]
     },
     "execution_count": 21,
     "metadata": {},
     "output_type": "execute_result"
    },
    {
     "data": {
      "image/png": "[encoded data removed]",
      "text/plain": [
       "<Figure size 432x288 with 1 Axes>"
      ]
     },
     "metadata": {
      "needs_background": "light"
     },
     "output_type": "display_data"
    }
   ],
   "source": [
    "prices = data[\"price\"]\n",
    "bins = np.histogram_bin_edges(prices, bins='fd')\n",
    "plt.hist(prices, bins=bins)\n",
    "prices.describe()"
   ]
  },
  {
   "cell_type": "markdown",
   "metadata": {},
   "source": [
    "The large difference in magnitudes of some of the homes makes the histogram not such a great representation of this subset of the data. The data description gives some insight into the values; particulary that some zero vales do exist in the data set and that the large difference of magnitudes doesn't drive up the mean that much."
   ]
  },
  {
   "cell_type": "markdown",
   "metadata": {},
   "source": [
    "## Pairwise EDA\n",
    "\n",
    "<a id=\"p-eda\"></a>\n",
    "\n",
    "The group did numerous Pairwise EDA examples across the submitted notebooks in week 2. I've attempted to choose the most valuable ones based on discussion posted in the group discussion board and based on the correlation statistics based on the two variables. Choice of pairwise EDA also takes into account limitations that may have been discovered in single variable EDA which could cast doubt on the impressions given from pairwise."
   ]
  },
  {
   "cell_type": "markdown",
   "metadata": {},
   "source": [
    "### Sqft_Above vs. Price\n",
    "\n",
    "Based on all of the pairwise EDA's conducted across all square foot measurements and price, sqft_above seemed to have the highest correlation with price. Why it is higher than other square foot measurements, including the composite measurement of sqft_living, is unclear but it may be because housing above ground level is usually liveable and may be of higher importance to customers (typically don't have sleeping areas in below ground areas, like in colonials)."
   ]
  },
  {
   "cell_type": "code",
   "execution_count": 22,
   "metadata": {},
   "outputs": [
    {
     "data": {
      "image/png": "[encoded data removed]",
      "text/plain": [
       "<Figure size 720x432 with 1 Axes>"
      ]
     },
     "metadata": {
      "needs_background": "light"
     },
     "output_type": "display_data"
    }
   ],
   "source": [
    "utils.lowess_scatter(data, 'sqft_above', 'price')"
   ]
  },
  {
   "cell_type": "markdown",
   "metadata": {},
   "source": [
    "### Location (Statezip) vs. Price\n",
    "\n",
    "I believe some of the group members did various transformations on the statezip field to get a better nominal representation of property location, but even just using statezip to view how it relates to price shows a strong correlation. The boxplots of price in the below figure clearly shift in magnitude based on the location."
   ]
  },
  {
   "cell_type": "code",
   "execution_count": 23,
   "metadata": {},
   "outputs": [
    {
     "data": {
      "image/png": "[encoded data removed]",
      "text/plain": [
       "<Figure size 1440x864 with 1 Axes>"
      ]
     },
     "metadata": {
      "needs_background": "light"
     },
     "output_type": "display_data"
    }
   ],
   "source": [
    "groups = data.groupby('statezip')\n",
    "groups = sorted(groups, key=lambda x: np.median(x[1].price))\n",
    "figure = plt.figure(figsize=(20, 12))\n",
    "axes = figure.add_subplot(1, 1, 1)\n",
    "axes.boxplot(\n",
    "    [group.price for name, group in groups],\n",
    "    patch_artist=True,\n",
    "    zorder=1)\n",
    "axes.set_xlabel('Location')\n",
    "axes.set_ylabel('Price')\n",
    "axes.set_title('Correlation between Location and Price')\n",
    "axes.set_ylim(stats.mstats.mquantiles(data.price, [0.001, 0.999]))\n",
    "plt.show()\n",
    "plt.close()"
   ]
  },
  {
   "cell_type": "markdown",
   "metadata": {},
   "source": [
    "### Floors vs. Price\n",
    "\n",
    "I found an interesting relationship in the data where the sales price of homes with 2.5 floors had a significantly greater Q3 than all other floor amounts. 2.5 floors also had about the same median sales price as houses with 3.5 floors. Based on the sample sizes it didn't seem to be due to an under representative sample of 2.5 floor homes. It could be that homes with 2.5 floors were highly associated with some other variable like location (e.g. 2.5 floor homes were common in recent developments in locations that drove a higher price)."
   ]
  },
  {
   "cell_type": "markdown",
   "metadata": {},
   "source": [
    "<img src=\"resources/floors_multibox.png\">"
   ]
  },
  {
   "cell_type": "markdown",
   "metadata": {},
   "source": [
    "### Bedrooms vs. Price\n",
    "\n",
    "This one seemed rather intuitive; houses with more bedrooms often drive a higher price. This may be because bedrooms acts simply as a stepwise representation of sqft_liveable or sqft_above; there are only so many bedrooms you can fit in a finite space and as bedrooms goes up, so must living space to accomodate for the larger amount of people that will be inhabiting the house at a given time. However, the dot plot shows more of a normal distribution of prices, centering on 4 bedrooms. It would be interesting to see why the price tapers off after 4 bedrooms."
   ]
  },
  {
   "cell_type": "code",
   "execution_count": 24,
   "metadata": {},
   "outputs": [
    {
     "data": {
      "image/png": "[encoded data removed]",
      "text/plain": [
       "<Figure size 720x432 with 1 Axes>"
      ]
     },
     "metadata": {
      "needs_background": "light"
     },
     "output_type": "display_data"
    }
   ],
   "source": [
    "figure = plt.figure(figsize=(10, 6))\n",
    "\n",
    "axes = figure.add_subplot(1, 1, 1)\n",
    "axes.scatter(data.bedrooms, data.price, marker=\"o\", color=\"steelblue\")\n",
    "\n",
    "axes.set_ylabel(\"price\")\n",
    "axes.set_xlabel(\"bedrooms\")\n",
    "axes.set_title(\"Scatter Plot of price vs. bedrooms\")\n",
    "\n",
    "plt.show()\n",
    "plt.close()"
   ]
  },
  {
   "cell_type": "markdown",
   "metadata": {},
   "source": [
    "We were able to identify four fairly strong variable relationships with the target variables (price) through pairwise EDA. Interestingly enough, some of the variables that we thought (through domain knowledge) would strongly correlate with sales price seemed to show extremely weak correlations. These include condition, view, and waterfront. In some instances, doing transformations on the variables prior to pairwise EDA comparisons yielded smoother results. One such case was plotting log_price against log_sqft_above. The existence of a relationship was slightly clearer, but not enough that the same message wasn't conveyed without being on a logarithmic scale."
   ]
  },
  {
   "cell_type": "markdown",
   "metadata": {},
   "source": [
    "## Linear Models\n",
    "\n",
    "<a id=\"linear-models\"></a>\n",
    "\n",
    "We now have a strong idea as to which variables we'd like to include in our prediction model. Our target variable is price, and the variables we want to include in our model are:\n",
    "\n",
    "<ul>\n",
    "    <li>Bathrooms</li>\n",
    "    <li>Bedrooms</li>\n",
    "    <li>Floors</li>\n",
    "    <li>Location</li>\n",
    "    <li>Sqft_above</li>\n",
    "</ul>\n",
    "\n",
    "One of our teammates had the idea of converting the zipcodes to two separate attributes of latitude, longitude. This gave a slight improvement in the r-squared of the linear regression model, so I decided to go with that for our linear regression model."
   ]
  },
  {
   "cell_type": "code",
   "execution_count": 25,
   "metadata": {},
   "outputs": [
    {
     "data": {
      "text/html": [
       "<table><tr><th colspan=3>Linear Regression Results</th></tr><th colspan=3>Coefficients</th></tr><tr><th>$\\theta$</th><th></th><th>95% BCI</th></tr><tr><td> ($\\beta_0$)</td><td>-63403985.27</td><td>(-68704800.38, -58368232.34)</td></tr><tr><td> bedrooms  ($\\beta_1$)</td><td>-49514.84</td><td>(-64405.51, -34399.03)</td></tr><tr><td> floors  ($\\beta_2$)</td><td>1939.42</td><td>(-15697.88, 19319.48)</td></tr><tr><td> bathrooms  ($\\beta_3$)</td><td>9216.69</td><td>(-13358.26, 30826.19)</td></tr><tr><td> sqft_living  ($\\beta_4$)</td><td>296.26</td><td>(268.55, 328.42)</td></tr><tr><td> lat  ($\\beta_5$)</td><td>623370.63</td><td>(575916.71, 679424.72)</td></tr><tr><td> long ($\\beta_6$)</td><td>-276749.61</td><td>(-325919.01, -230168.34)</td></tr><tr><th colspan=3>Metrics</th></tr><tr><td>$\\sigma$</td><td>240380.97</td><td>(222536.88, 265851.40)</td><td></td></tr><tr><td>$R^2$</td><td>0.57</td><td>(0.55, 0.60)</td><td></td></tr></table>"
      ],
      "text/latex": [
       "\\begin{table}[!htbp] \\begin{tabular}{lll} \\hline \\multicolumn{3}{c}{\\textbf{Linear Regression}} \\\\ \\hline \\hline \\multicolumn{3}{l}{\\textbf{Coefficients}}        \\\\ \\hline $\\theta$       &          & 95\\% BCI           \\\\ ($\\beta_0$)      & -63403985.27   & (-68704800.38, -58368232.34)          \\\\ bedrooms  ($\\beta_1$)      & -49514.84   & (-64405.51, -34399.03)          \\\\ floors  ($\\beta_2$)      & 1939.42   & (-15697.88, 19319.48)          \\\\ bathrooms  ($\\beta_3$)      & 9216.69   & (-13358.26, 30826.19)          \\\\ sqft\\_living  ($\\beta_4$)      & 296.26   & (268.55, 328.42)          \\\\ lat  ($\\beta_5$)      & 623370.63   & (575916.71, 679424.72)          \\\\ long ($\\beta_6$)      & -276749.61   & (-325919.01, -230168.34)          \\\\\\hline \\multicolumn{3}{l}{\\textbf{Metrics}}             \\\\ \\hline $\\sigma$      & 240380.97   & (222536.88, 265851.40)          \\\\$R^2$      & 0.57   & (0.55, 0.60)          \\\\\\hline\\end{tabular}\\end{table}"
      ],
      "text/plain": [
       "<bfach2_lib.ResultsView at 0x20aba1f6ef0>"
      ]
     },
     "execution_count": 25,
     "metadata": {},
     "output_type": "execute_result"
    }
   ],
   "source": [
    "import zipcodes as zcs\n",
    "\n",
    "#replace location data with latlong, remove other data\n",
    "if \"statezip\" in data:\n",
    "    latlong = [ zcs.matching(z.split(' ')[1])[0] for z in data['statezip'] ]\n",
    "    data['lat'] = [ x['lat'] for x in latlong ]\n",
    "    data['long'] = [ x['long'] for x in latlong ]\n",
    "    data.drop(['statezip'], axis=1)\n",
    "\n",
    "model = \"price ~ bedrooms + floors + bathrooms + sqft_living + lat + long\"\n",
    "result1 = utils.bootstrap_linear_regression(model, data=data)\n",
    "utils.describe_bootstrap_lr(result1)"
   ]
  },
  {
   "cell_type": "markdown",
   "metadata": {},
   "source": [
    "The results of the model are OK. Before evaluation, let's see if adding in other sqft measurements improves the model. We went with sqft_above simply because it provided the best correlation with price of all of the sqft measurements."
   ]
  },
  {
   "cell_type": "code",
   "execution_count": 26,
   "metadata": {},
   "outputs": [
    {
     "data": {
      "text/html": [
       "<table><tr><th colspan=3>Linear Regression Results</th></tr><th colspan=3>Coefficients</th></tr><tr><th>$\\theta$</th><th></th><th>95% BCI</th></tr><tr><td> ($\\beta_0$)</td><td>-63490804.90</td><td>(-69442781.00, -57458574.60)</td></tr><tr><td> bedrooms  ($\\beta_1$)</td><td>-49809.05</td><td>(-66587.93, -36516.50)</td></tr><tr><td> floors  ($\\beta_2$)</td><td>-8262.68</td><td>(-25862.21, 6344.28)</td></tr><tr><td> bathrooms  ($\\beta_3$)</td><td>10164.93</td><td>(-11262.86, 29044.62)</td></tr><tr><td> sqft_living  ($\\beta_4$)</td><td>283.83</td><td>(237.41, 337.11)</td></tr><tr><td> sqft_above  ($\\beta_5$)</td><td>20.91</td><td>(-16.90, 50.75)</td></tr><tr><td> sqft_lot  ($\\beta_6$)</td><td>-0.29</td><td>(-0.56, -0.07)</td></tr><tr><td> lat  ($\\beta_7$)</td><td>622790.12</td><td>(577380.70, 668823.03)</td></tr><tr><td> long ($\\beta_8$)</td><td>-277744.23</td><td>(-323481.43, -228094.67)</td></tr><tr><th colspan=3>Metrics</th></tr><tr><td>$\\sigma$</td><td>240137.14</td><td>(220677.19, 263480.49)</td><td></td></tr><tr><td>$R^2$</td><td>0.58</td><td>(0.55, 0.60)</td><td></td></tr></table>"
      ],
      "text/latex": [
       "\\begin{table}[!htbp] \\begin{tabular}{lll} \\hline \\multicolumn{3}{c}{\\textbf{Linear Regression}} \\\\ \\hline \\hline \\multicolumn{3}{l}{\\textbf{Coefficients}}        \\\\ \\hline $\\theta$       &          & 95\\% BCI           \\\\ ($\\beta_0$)      & -63490804.90   & (-69442781.00, -57458574.60)          \\\\ bedrooms  ($\\beta_1$)      & -49809.05   & (-66587.93, -36516.50)          \\\\ floors  ($\\beta_2$)      & -8262.68   & (-25862.21, 6344.28)          \\\\ bathrooms  ($\\beta_3$)      & 10164.93   & (-11262.86, 29044.62)          \\\\ sqft\\_living  ($\\beta_4$)      & 283.83   & (237.41, 337.11)          \\\\ sqft\\_above  ($\\beta_5$)      & 20.91   & (-16.90, 50.75)          \\\\ sqft\\_lot  ($\\beta_6$)      & -0.29   & (-0.56, -0.07)          \\\\ lat  ($\\beta_7$)      & 622790.12   & (577380.70, 668823.03)          \\\\ long ($\\beta_8$)      & -277744.23   & (-323481.43, -228094.67)          \\\\\\hline \\multicolumn{3}{l}{\\textbf{Metrics}}             \\\\ \\hline $\\sigma$      & 240137.14   & (220677.19, 263480.49)          \\\\$R^2$      & 0.58   & (0.55, 0.60)          \\\\\\hline\\end{tabular}\\end{table}"
      ],
      "text/plain": [
       "<bfach2_lib.ResultsView at 0x20abcd6c2b0>"
      ]
     },
     "execution_count": 26,
     "metadata": {},
     "output_type": "execute_result"
    }
   ],
   "source": [
    "model = \"price ~ bedrooms + floors + bathrooms + sqft_living + sqft_above + sqft_lot + lat + long\"\n",
    "result2 = utils.bootstrap_linear_regression(model, data=data)\n",
    "utils.describe_bootstrap_lr(result2)"
   ]
  },
  {
   "cell_type": "markdown",
   "metadata": {},
   "source": [
    "A very slight improvement in both the sigma and the r-squared values, but still not a model that will provide much predictability. Let's evaluate the model and see if any transformations will help us out."
   ]
  },
  {
   "cell_type": "markdown",
   "metadata": {},
   "source": [
    "## Linear Model Evaluation\n",
    "\n",
    "<a id=\"eval\"></a>"
   ]
  },
  {
   "cell_type": "markdown",
   "metadata": {},
   "source": [
    "### Linear Model Two Residual Plots\n",
    "\n",
    "Let's start by taking a look at the residual plots for the second model we created. Some of the group members saw better results with transformations on the price and sqft variables, so let's see how the residuals support that."
   ]
  },
  {
   "cell_type": "code",
   "execution_count": 27,
   "metadata": {},
   "outputs": [
    {
     "data": {
      "image/png": "[encoded data removed]",
      "text/plain": [
       "<Figure size 1440x432 with 8 Axes>"
      ]
     },
     "metadata": {
      "needs_background": "light"
     },
     "output_type": "display_data"
    }
   ],
   "source": [
    "residuals2 = utils.plot_residuals(result2, [\"bedrooms\", \"floors\", \"bathrooms\", \"sqft_living\", \"sqft_above\", \"sqft_lot\", \"lat\", \"long\"], data)"
   ]
  },
  {
   "cell_type": "markdown",
   "metadata": {},
   "source": [
    "All-in-all these residual plots aren't too bad. We don't have any banding, but there are a few residual plots that show we're increasing variability as a function of the value of x. This is OK since we're building a predicitve model and not an explanatory model. The only transformation that pops out at me is the slight bend in the latitiude residual plot."
   ]
  },
  {
   "cell_type": "code",
   "execution_count": 28,
   "metadata": {},
   "outputs": [
    {
     "data": {
      "text/html": [
       "<table><tr><th colspan=3>Linear Regression Results</th></tr><th colspan=3>Coefficients</th></tr><tr><th>$\\theta$</th><th></th><th>95% BCI</th></tr><tr><td> ($\\beta_0$)</td><td>-148235598.06</td><td>(-160690955.39, -139068836.13)</td></tr><tr><td> bedrooms  ($\\beta_1$)</td><td>-49794.88</td><td>(-64693.11, -35310.27)</td></tr><tr><td> floors  ($\\beta_2$)</td><td>-8298.71</td><td>(-28445.47, 10413.02)</td></tr><tr><td> bathrooms  ($\\beta_3$)</td><td>10165.79</td><td>(-14401.45, 34481.60)</td></tr><tr><td> sqft_living  ($\\beta_4$)</td><td>283.78</td><td>(239.62, 323.13)</td></tr><tr><td> sqft_above  ($\\beta_5$)</td><td>20.95</td><td>(-7.86, 55.48)</td></tr><tr><td> sqft_lot  ($\\beta_6$)</td><td>-0.29</td><td>(-0.65, -0.06)</td></tr><tr><td> log_lat  ($\\beta_7$)</td><td>29616127.84</td><td>(27375993.14, 31735523.88)</td></tr><tr><td> long ($\\beta_8$)</td><td>-277642.71</td><td>(-339659.06, -234801.20)</td></tr><tr><th colspan=3>Metrics</th></tr><tr><td>$\\sigma$</td><td>240117.43</td><td>(222320.16, 263272.11)</td><td></td></tr><tr><td>$R^2$</td><td>0.58</td><td>(0.54, 0.60)</td><td></td></tr></table>"
      ],
      "text/latex": [
       "\\begin{table}[!htbp] \\begin{tabular}{lll} \\hline \\multicolumn{3}{c}{\\textbf{Linear Regression}} \\\\ \\hline \\hline \\multicolumn{3}{l}{\\textbf{Coefficients}}        \\\\ \\hline $\\theta$       &          & 95\\% BCI           \\\\ ($\\beta_0$)      & -148235598.06   & (-160690955.39, -139068836.13)          \\\\ bedrooms  ($\\beta_1$)      & -49794.88   & (-64693.11, -35310.27)          \\\\ floors  ($\\beta_2$)      & -8298.71   & (-28445.47, 10413.02)          \\\\ bathrooms  ($\\beta_3$)      & 10165.79   & (-14401.45, 34481.60)          \\\\ sqft\\_living  ($\\beta_4$)      & 283.78   & (239.62, 323.13)          \\\\ sqft\\_above  ($\\beta_5$)      & 20.95   & (-7.86, 55.48)          \\\\ sqft\\_lot  ($\\beta_6$)      & -0.29   & (-0.65, -0.06)          \\\\ log\\_lat  ($\\beta_7$)      & 29616127.84   & (27375993.14, 31735523.88)          \\\\ long ($\\beta_8$)      & -277642.71   & (-339659.06, -234801.20)          \\\\\\hline \\multicolumn{3}{l}{\\textbf{Metrics}}             \\\\ \\hline $\\sigma$      & 240117.43   & (222320.16, 263272.11)          \\\\$R^2$      & 0.58   & (0.54, 0.60)          \\\\\\hline\\end{tabular}\\end{table}"
      ],
      "text/plain": [
       "<bfach2_lib.ResultsView at 0x20abbcf96d8>"
      ]
     },
     "execution_count": 28,
     "metadata": {},
     "output_type": "execute_result"
    }
   ],
   "source": [
    "data[\"log_lat\"] = np.log(data[\"lat\"])\n",
    "model = \"price ~ bedrooms + floors + bathrooms + sqft_living + sqft_above + sqft_lot + log_lat + long\"\n",
    "result3 = utils.bootstrap_linear_regression(model, data=data)\n",
    "utils.describe_bootstrap_lr(result3)"
   ]
  },
  {
   "cell_type": "markdown",
   "metadata": {},
   "source": [
    "A very small improvement in our sigma. Perhaps all of the square foot measurements are interacting with each other?"
   ]
  },
  {
   "cell_type": "code",
   "execution_count": 29,
   "metadata": {},
   "outputs": [
    {
     "data": {
      "text/html": [
       "<table><tr><th colspan=3>Linear Regression Results</th></tr><th colspan=3>Coefficients</th></tr><tr><th>$\\theta$</th><th></th><th>95% BCI</th></tr><tr><td> ($\\beta_0$)</td><td>-146649006.27</td><td>(-158008096.99, -134936424.76)</td></tr><tr><td> bedrooms  ($\\beta_1$)</td><td>-31347.24</td><td>(-40640.00, -18228.19)</td></tr><tr><td> floors  ($\\beta_2$)</td><td>12250.35</td><td>(-11283.96, 30638.27)</td></tr><tr><td> bathrooms   ($\\beta_3$)</td><td>23217.23</td><td>(7043.22, 40980.67)</td></tr><tr><td> sqft_living ($\\beta_4$)</td><td>178.32</td><td>(120.35, 227.63)</td></tr><tr><td> sqft_above  ($\\beta_5$)</td><td>-142.69</td><td>(-212.35, -65.42)</td></tr><tr><td> sqft_living:sqft_above  ($\\beta_6$)</td><td>0.05</td><td>(0.03, 0.08)</td></tr><tr><td> sqft_lot  ($\\beta_7$)</td><td>3.81</td><td>(2.19, 5.01)</td></tr><tr><td> sqft_living:sqft_lot  ($\\beta_8$)</td><td>-0.00</td><td>(-0.00, -0.00)</td></tr><tr><td> sqft_lot:sqft_above  ($\\beta_9$)</td><td>0.00</td><td>(-0.00, 0.00)</td></tr><tr><td> log_lat  ($\\beta_10$)</td><td>30214576.61</td><td>(27836876.60, 32203390.96)</td></tr><tr><td> long ($\\beta_11$)</td><td>-246961.65</td><td>(-300150.93, -196974.69)</td></tr><tr><th colspan=3>Metrics</th></tr><tr><td>$\\sigma$</td><td>228606.50</td><td>(216286.57, 243250.52)</td><td></td></tr><tr><td>$R^2$</td><td>0.62</td><td>(0.57, 0.68)</td><td></td></tr></table>"
      ],
      "text/latex": [
       "\\begin{table}[!htbp] \\begin{tabular}{lll} \\hline \\multicolumn{3}{c}{\\textbf{Linear Regression}} \\\\ \\hline \\hline \\multicolumn{3}{l}{\\textbf{Coefficients}}        \\\\ \\hline $\\theta$       &          & 95\\% BCI           \\\\ ($\\beta_0$)      & -146649006.27   & (-158008096.99, -134936424.76)          \\\\ bedrooms  ($\\beta_1$)      & -31347.24   & (-40640.00, -18228.19)          \\\\ floors  ($\\beta_2$)      & 12250.35   & (-11283.96, 30638.27)          \\\\ bathrooms   ($\\beta_3$)      & 23217.23   & (7043.22, 40980.67)          \\\\ sqft\\_living ($\\beta_4$)      & 178.32   & (120.35, 227.63)          \\\\ sqft\\_above  ($\\beta_5$)      & -142.69   & (-212.35, -65.42)          \\\\ sqft\\_living:sqft\\_above  ($\\beta_6$)      & 0.05   & (0.03, 0.08)          \\\\ sqft\\_lot  ($\\beta_7$)      & 3.81   & (2.19, 5.01)          \\\\ sqft\\_living:sqft\\_lot  ($\\beta_8$)      & -0.00   & (-0.00, -0.00)          \\\\ sqft\\_lot:sqft\\_above  ($\\beta_9$)      & 0.00   & (-0.00, 0.00)          \\\\ log\\_lat  ($\\beta_10$)      & 30214576.61   & (27836876.60, 32203390.96)          \\\\ long ($\\beta_11$)      & -246961.65   & (-300150.93, -196974.69)          \\\\\\hline \\multicolumn{3}{l}{\\textbf{Metrics}}             \\\\ \\hline $\\sigma$      & 228606.50   & (216286.57, 243250.52)          \\\\$R^2$      & 0.62   & (0.57, 0.68)          \\\\\\hline\\end{tabular}\\end{table}"
      ],
      "text/plain": [
       "<bfach2_lib.ResultsView at 0x20ab68ddd30>"
      ]
     },
     "execution_count": 29,
     "metadata": {},
     "output_type": "execute_result"
    }
   ],
   "source": [
    "model = \"price ~ bedrooms + floors + bathrooms  + sqft_living+ sqft_above + sqft_living:sqft_above + sqft_lot + sqft_living:sqft_lot + sqft_lot:sqft_above + log_lat + long\"\n",
    "    \n",
    "result4 = utils.bootstrap_linear_regression(model, data=data)\n",
    "utils.describe_bootstrap_lr(result4)"
   ]
  },
  {
   "cell_type": "markdown",
   "metadata": {},
   "source": [
    "That's a big improvment! The model still isn't ideal for predictions; we'd like to at least get the r-squared value up into the .8 - .9 range. My initial assumption is that more data won't help with this. The sample size is pretty good, single-variable EDA showed that we had a solid distribution of values across the range of potential values, and we eliminated any outliers or null values dragging the model down. To make certain of this, I'll generate learning curves and see where the model is at on the bias-variance spectrum."
   ]
  },
  {
   "cell_type": "markdown",
   "metadata": {},
   "source": [
    "### Learning Curves\n",
    "\n",
    "Will more data help improve this model?"
   ]
  },
  {
   "cell_type": "code",
   "execution_count": 30,
   "metadata": {},
   "outputs": [],
   "source": [
    "results = utils.learning_curves(utils.linear_regression, model, data, utils.sse)"
   ]
  },
  {
   "cell_type": "code",
   "execution_count": 31,
   "metadata": {},
   "outputs": [
    {
     "data": {
      "image/png": "[encoded data removed]",
      "text/plain": [
       "<Figure size 720x432 with 1 Axes>"
      ]
     },
     "metadata": {
      "needs_background": "light"
     },
     "output_type": "display_data"
    }
   ],
   "source": [
    "utils.plot_learning_curves(results, r\"SSE\", desired=(38, 42), zoom=True, credible=False)"
   ]
  },
  {
   "cell_type": "markdown",
   "metadata": {},
   "source": [
    "As expected, the lines converge and we won't get much use out of adding more data to our model. The only other thing I could think of to increase the performance of our linear model is to somehow perform a valuable transformation from the attributes we already have. My first thought was to try and convert the location attribute to a categorical variables of school district rating. I've noticed that similar properties will be priced much differently according to the school district the property belongs to. Unfortunately I couldn't find any reliable library or API to make this transformation. I'm hoping with the use of a machine learning model we can create a model that will predict price a little better."
   ]
  },
  {
   "cell_type": "markdown",
   "metadata": {},
   "source": [
    "## ML Model\n",
    "\n",
    "<a id=\"ml-model\"></a>"
   ]
  },
  {
   "cell_type": "markdown",
   "metadata": {},
   "source": [
    "Our group focused on three different machine learning models: Decision Trees, Random Forests, and k-Nearest Neighbors. We saw a large improvement from our linear model using a random forest with tree depths of 16 and 100 trees. One of our group members did great analysis on the optimal tree depth and number of trees, which is included below. As more variables were added (beyond those included in the linear regression model) we noticed diminishing returns. However the increase in r-squared value as these additional variables were added displayed minimal performance degradation of the model, so it was definitely worth it to add these features in the final model."
   ]
  },
  {
   "cell_type": "code",
   "execution_count": 32,
   "metadata": {},
   "outputs": [],
   "source": [
    "import graphviz\n",
    "from sklearn import preprocessing\n",
    "from sklearn import tree\n",
    "from sklearn.ensemble import RandomForestRegressor as RFR"
   ]
  },
  {
   "cell_type": "markdown",
   "metadata": {},
   "source": [
    "### Data Cleanup for ML Model\n",
    "\n",
    "We include renovation year in this model, so we clean up the data to find null or zero values for year renovated. If there is nothing listed we assign the year built as the last renovation year. This could be misleading, because technically the initial build isn't a renovation and we could be muddying the effect that the fact-of a renovation occuring has on the value of the house. We also take the liberty of making our target variable the price per square foot of liveable space. This could throw off our predictions for houses with a large lot with a small liveable space (e.g. rural property)."
   ]
  },
  {
   "cell_type": "code",
   "execution_count": 33,
   "metadata": {},
   "outputs": [
    {
     "name": "stdout",
     "output_type": "stream",
     "text": [
      "number of rows: 4549\n",
      "price     \t0 less than or equal to zero\n",
      "bedrooms  \t2 less than or equal to zero\n",
      "bathrooms \t2 less than or equal to zero\n",
      "sqft_living\t2 less than or equal to zero\n",
      "sqft_lot  \t2 less than or equal to zero\n",
      "floors    \t2 less than or equal to zero\n",
      "yr_built  \t2 less than or equal to zero\n",
      "\tAfter removal\n",
      "\tnumber of rows: 4547\n"
     ]
    }
   ],
   "source": [
    "##do some data clean up, remove ill-formed entries\n",
    "greater_than_zero = ['price', 'bedrooms', 'bathrooms', 'sqft_living', 'sqft_lot',\n",
    "                     'floors', 'yr_built']\n",
    "(n_rows,_) = data.shape\n",
    "mask = np.zeros(n_rows ) > 0\n",
    "print(\"number of rows: {:}\".format(n_rows))\n",
    "for col in greater_than_zero:\n",
    "    cur_mask = data[col] <= 0\n",
    "    mask = mask | cur_mask\n",
    "    print(\"{:<10}\\t{:} less than or equal to zero\".format(col, np.sum(mask)))\n",
    "\n",
    "data.drop( data[mask].index, axis=0, inplace=True)   \n",
    "(n_rows,_) = data.shape\n",
    "print(\"\\tAfter removal\")\n",
    "print(\"\\tnumber of rows: {:}\".format(n_rows))\n",
    "\n",
    "#if no date is listed for renovation, assume last 'renovation' was when it was built\n",
    "temp = [reno if reno > 0 else built for reno,built in zip(data['yr_renovated'], data['yr_built'])]\n",
    "data['yr_renovated'] = temp\n",
    "\n",
    "#replace location data with latlong, remove other data\n",
    "if \"statezip\" in data:\n",
    "    latlong = [ zcs.matching(z.split(' ')[1])[0] for z in data['statezip'] ]\n",
    "    data['lat'] = [ x['lat'] for x in latlong ]\n",
    "    data['long'] = [ x['long'] for x in latlong ]\n",
    "    data.drop(['statezip'], axis=1)\n",
    "    \n",
    "data['price/living'] = [p/r for p,r in zip(data['price'],data['sqft_living'])]\n",
    "\n",
    "#drop column country because it's all USA, drop street because it's two unique. Very few repeats\n",
    "if \"country\" in data or \"street\" in data or \"city\" in data or \"statezip\" in data or \"data\" in data:\n",
    "    data.drop(['country','street','city','statezip','date'],axis=1,  inplace=True)\n",
    "\n",
    "#an outlier!\n",
    "mask = data['price/living'] > 1000 \n",
    "data[ mask ]\n",
    "data.drop( data[mask].index, axis=0, inplace=True)   \n",
    "d = data.values\n",
    "scaler = preprocessing.RobustScaler()\n",
    "data_scaled = scaler.fit_transform(d)\n",
    "df_scaled = pd.DataFrame(data_scaled, columns=list(data))\n",
    "\n",
    "x_str = list(data)\n",
    "x_str.remove('price')\n",
    "x_str.remove('price/living')\n",
    "X = df_scaled[x_str]\n",
    "Y = df_scaled['price/living']\n"
   ]
  },
  {
   "cell_type": "markdown",
   "metadata": {},
   "source": [
    "Just running an initial decision tree with a depth of 5 to see how this might work and which factors might be important."
   ]
  },
  {
   "cell_type": "code",
   "execution_count": 34,
   "metadata": {},
   "outputs": [
    {
     "name": "stdout",
     "output_type": "stream",
     "text": [
      "MSE:\t0.306\n",
      "Var:\t0.648\n",
      "R^2:\t0.527040762546874\n"
     ]
    },
    {
     "data": {
      "image/png": "[encoded data removed]",
      "text/plain": [
       "<Figure size 432x288 with 1 Axes>"
      ]
     },
     "metadata": {
      "needs_background": "light"
     },
     "output_type": "display_data"
    }
   ],
   "source": [
    "from sklearn.ensemble import RandomForestRegressor as RFR\n",
    "np.random.seed(8675309)\n",
    "\n",
    "clf = tree.DecisionTreeRegressor(max_depth=4)\n",
    "clf = clf.fit(X,Y)\n",
    "yhat_clf = clf.predict(X)\n",
    "residual_clf = Y - yhat_clf\n",
    "\n",
    "plt.figure()\n",
    "plt.hist(  residual_clf )\n",
    "mse = np.mean( residual_clf**2)\n",
    "print(\"MSE:\\t{:.3f}\".format(mse))\n",
    "print(\"Var:\\t{:.3f}\".format(np.var(Y)))\n",
    "print(\"R^2:\\t{:}\".format(1 - mse/np.var(Y)) )"
   ]
  },
  {
   "cell_type": "code",
   "execution_count": 35,
   "metadata": {},
   "outputs": [
    {
     "data": {
      "image/svg+xml": [
       "<?xml version=\"1.0\" encoding=\"UTF-8\" standalone=\"no\"?>\r\n",
       "<!DOCTYPE svg PUBLIC \"-//W3C//DTD SVG 1.1//EN\"\r\n",
       " \"http://www.w3.org/Graphics/SVG/1.1/DTD/svg11.dtd\">\r\n",
       "<!-- Generated by graphviz version 2.38.0 (20140413.2041)\r\n",
       " -->\r\n",
       "<!-- Title: Tree Pages: 1 -->\r\n",
       "<svg width=\"1590pt\" height=\"477pt\"\r\n",
       " viewBox=\"0.00 0.00 1589.50 477.00\" xmlns=\"http://www.w3.org/2000/svg\" xmlns:xlink=\"http://www.w3.org/1999/xlink\">\r\n",
       "<g id=\"graph0\" class=\"graph\" transform=\"scale(1 1) rotate(0) translate(4 473)\">\r\n",
       "<title>Tree</title>\r\n",
       "<polygon fill=\"white\" stroke=\"none\" points=\"-4,4 -4,-473 1585.5,-473 1585.5,4 -4,4\"/>\r\n",
       "<!-- 0 -->\r\n",
       "<g id=\"node1\" class=\"node\"><title>0</title>\r\n",
       "<polygon fill=\"none\" stroke=\"black\" points=\"727,-469 623,-469 623,-401 727,-401 727,-469\"/>\r\n",
       "<text text-anchor=\"middle\" x=\"675\" y=\"-453.8\" font-family=\"Times New Roman,serif\" font-size=\"14.00\">lat &lt;= &#45;0.333</text>\r\n",
       "<text text-anchor=\"middle\" x=\"675\" y=\"-438.8\" font-family=\"Times New Roman,serif\" font-size=\"14.00\">mse = 0.648</text>\r\n",
       "<text text-anchor=\"middle\" x=\"675\" y=\"-423.8\" font-family=\"Times New Roman,serif\" font-size=\"14.00\">samples = 4544</text>\r\n",
       "<text text-anchor=\"middle\" x=\"675\" y=\"-408.8\" font-family=\"Times New Roman,serif\" font-size=\"14.00\">value = 0.124</text>\r\n",
       "</g>\r\n",
       "<!-- 1 -->\r\n",
       "<g id=\"node2\" class=\"node\"><title>1</title>\r\n",
       "<polygon fill=\"none\" stroke=\"black\" points=\"512,-365 408,-365 408,-297 512,-297 512,-365\"/>\r\n",
       "<text text-anchor=\"middle\" x=\"460\" y=\"-349.8\" font-family=\"Times New Roman,serif\" font-size=\"14.00\">lat &lt;= &#45;0.944</text>\r\n",
       "<text text-anchor=\"middle\" x=\"460\" y=\"-334.8\" font-family=\"Times New Roman,serif\" font-size=\"14.00\">mse = 0.203</text>\r\n",
       "<text text-anchor=\"middle\" x=\"460\" y=\"-319.8\" font-family=\"Times New Roman,serif\" font-size=\"14.00\">samples = 1509</text>\r\n",
       "<text text-anchor=\"middle\" x=\"460\" y=\"-304.8\" font-family=\"Times New Roman,serif\" font-size=\"14.00\">value = &#45;0.492</text>\r\n",
       "</g>\r\n",
       "<!-- 0&#45;&gt;1 -->\r\n",
       "<g id=\"edge1\" class=\"edge\"><title>0&#45;&gt;1</title>\r\n",
       "<path fill=\"none\" stroke=\"black\" d=\"M622.954,-409.309C592.414,-394.82 553.651,-376.43 521.594,-361.221\"/>\r\n",
       "<polygon fill=\"black\" stroke=\"black\" points=\"522.846,-357.942 512.311,-356.818 519.846,-364.266 522.846,-357.942\"/>\r\n",
       "<text text-anchor=\"middle\" x=\"520.706\" y=\"-376.666\" font-family=\"Times New Roman,serif\" font-size=\"14.00\">True</text>\r\n",
       "</g>\r\n",
       "<!-- 14 -->\r\n",
       "<g id=\"node15\" class=\"node\"><title>14</title>\r\n",
       "<polygon fill=\"none\" stroke=\"black\" points=\"971.5,-365 862.5,-365 862.5,-297 971.5,-297 971.5,-365\"/>\r\n",
       "<text text-anchor=\"middle\" x=\"917\" y=\"-349.8\" font-family=\"Times New Roman,serif\" font-size=\"14.00\">log_lat &lt;= 0.638</text>\r\n",
       "<text text-anchor=\"middle\" x=\"917\" y=\"-334.8\" font-family=\"Times New Roman,serif\" font-size=\"14.00\">mse = 0.586</text>\r\n",
       "<text text-anchor=\"middle\" x=\"917\" y=\"-319.8\" font-family=\"Times New Roman,serif\" font-size=\"14.00\">samples = 3035</text>\r\n",
       "<text text-anchor=\"middle\" x=\"917\" y=\"-304.8\" font-family=\"Times New Roman,serif\" font-size=\"14.00\">value = 0.43</text>\r\n",
       "</g>\r\n",
       "<!-- 0&#45;&gt;14 -->\r\n",
       "<g id=\"edge14\" class=\"edge\"><title>0&#45;&gt;14</title>\r\n",
       "<path fill=\"none\" stroke=\"black\" d=\"M727.212,-411.993C764.131,-396.432 813.842,-375.48 853.127,-358.922\"/>\r\n",
       "<polygon fill=\"black\" stroke=\"black\" points=\"854.507,-362.138 862.362,-355.029 851.788,-355.688 854.507,-362.138\"/>\r\n",
       "<text text-anchor=\"middle\" x=\"852.938\" y=\"-374.485\" font-family=\"Times New Roman,serif\" font-size=\"14.00\">False</text>\r\n",
       "</g>\r\n",
       "<!-- 2 -->\r\n",
       "<g id=\"node3\" class=\"node\"><title>2</title>\r\n",
       "<polygon fill=\"none\" stroke=\"black\" points=\"244,-261 110,-261 110,-193 244,-193 244,-261\"/>\r\n",
       "<text text-anchor=\"middle\" x=\"177\" y=\"-245.8\" font-family=\"Times New Roman,serif\" font-size=\"14.00\">sqft_living &lt;= &#45;1.174</text>\r\n",
       "<text text-anchor=\"middle\" x=\"177\" y=\"-230.8\" font-family=\"Times New Roman,serif\" font-size=\"14.00\">mse = 0.099</text>\r\n",
       "<text text-anchor=\"middle\" x=\"177\" y=\"-215.8\" font-family=\"Times New Roman,serif\" font-size=\"14.00\">samples = 750</text>\r\n",
       "<text text-anchor=\"middle\" x=\"177\" y=\"-200.8\" font-family=\"Times New Roman,serif\" font-size=\"14.00\">value = &#45;0.666</text>\r\n",
       "</g>\r\n",
       "<!-- 1&#45;&gt;2 -->\r\n",
       "<g id=\"edge2\" class=\"edge\"><title>1&#45;&gt;2</title>\r\n",
       "<path fill=\"none\" stroke=\"black\" d=\"M407.764,-311.173C364.567,-295.604 302.612,-273.274 253.772,-255.67\"/>\r\n",
       "<polygon fill=\"black\" stroke=\"black\" points=\"254.782,-252.314 244.188,-252.216 252.409,-258.9 254.782,-252.314\"/>\r\n",
       "</g>\r\n",
       "<!-- 7 -->\r\n",
       "<g id=\"node8\" class=\"node\"><title>7</title>\r\n",
       "<polygon fill=\"none\" stroke=\"black\" points=\"517.5,-261 402.5,-261 402.5,-193 517.5,-193 517.5,-261\"/>\r\n",
       "<text text-anchor=\"middle\" x=\"460\" y=\"-245.8\" font-family=\"Times New Roman,serif\" font-size=\"14.00\">waterfront &lt;= 0.5</text>\r\n",
       "<text text-anchor=\"middle\" x=\"460\" y=\"-230.8\" font-family=\"Times New Roman,serif\" font-size=\"14.00\">mse = 0.246</text>\r\n",
       "<text text-anchor=\"middle\" x=\"460\" y=\"-215.8\" font-family=\"Times New Roman,serif\" font-size=\"14.00\">samples = 759</text>\r\n",
       "<text text-anchor=\"middle\" x=\"460\" y=\"-200.8\" font-family=\"Times New Roman,serif\" font-size=\"14.00\">value = &#45;0.32</text>\r\n",
       "</g>\r\n",
       "<!-- 1&#45;&gt;7 -->\r\n",
       "<g id=\"edge7\" class=\"edge\"><title>1&#45;&gt;7</title>\r\n",
       "<path fill=\"none\" stroke=\"black\" d=\"M460,-296.884C460,-288.778 460,-279.982 460,-271.472\"/>\r\n",
       "<polygon fill=\"black\" stroke=\"black\" points=\"463.5,-271.299 460,-261.299 456.5,-271.299 463.5,-271.299\"/>\r\n",
       "</g>\r\n",
       "<!-- 3 -->\r\n",
       "<g id=\"node4\" class=\"node\"><title>3</title>\r\n",
       "<polygon fill=\"none\" stroke=\"black\" points=\"92,-149.5 0,-149.5 0,-96.5 92,-96.5 92,-149.5\"/>\r\n",
       "<text text-anchor=\"middle\" x=\"46\" y=\"-134.3\" font-family=\"Times New Roman,serif\" font-size=\"14.00\">mse = 0.0</text>\r\n",
       "<text text-anchor=\"middle\" x=\"46\" y=\"-119.3\" font-family=\"Times New Roman,serif\" font-size=\"14.00\">samples = 1</text>\r\n",
       "<text text-anchor=\"middle\" x=\"46\" y=\"-104.3\" font-family=\"Times New Roman,serif\" font-size=\"14.00\">value = 3.235</text>\r\n",
       "</g>\r\n",
       "<!-- 2&#45;&gt;3 -->\r\n",
       "<g id=\"edge3\" class=\"edge\"><title>2&#45;&gt;3</title>\r\n",
       "<path fill=\"none\" stroke=\"black\" d=\"M134.468,-192.884C119.213,-181.006 102.056,-167.646 86.9388,-155.876\"/>\r\n",
       "<polygon fill=\"black\" stroke=\"black\" points=\"88.8162,-152.902 78.7756,-149.52 84.5156,-158.425 88.8162,-152.902\"/>\r\n",
       "</g>\r\n",
       "<!-- 4 -->\r\n",
       "<g id=\"node5\" class=\"node\"><title>4</title>\r\n",
       "<polygon fill=\"none\" stroke=\"black\" points=\"244,-157 110,-157 110,-89 244,-89 244,-157\"/>\r\n",
       "<text text-anchor=\"middle\" x=\"177\" y=\"-141.8\" font-family=\"Times New Roman,serif\" font-size=\"14.00\">sqft_living &lt;= &#45;0.387</text>\r\n",
       "<text text-anchor=\"middle\" x=\"177\" y=\"-126.8\" font-family=\"Times New Roman,serif\" font-size=\"14.00\">mse = 0.078</text>\r\n",
       "<text text-anchor=\"middle\" x=\"177\" y=\"-111.8\" font-family=\"Times New Roman,serif\" font-size=\"14.00\">samples = 749</text>\r\n",
       "<text text-anchor=\"middle\" x=\"177\" y=\"-96.8\" font-family=\"Times New Roman,serif\" font-size=\"14.00\">value = &#45;0.671</text>\r\n",
       "</g>\r\n",
       "<!-- 2&#45;&gt;4 -->\r\n",
       "<g id=\"edge4\" class=\"edge\"><title>2&#45;&gt;4</title>\r\n",
       "<path fill=\"none\" stroke=\"black\" d=\"M177,-192.884C177,-184.778 177,-175.982 177,-167.472\"/>\r\n",
       "<polygon fill=\"black\" stroke=\"black\" points=\"180.5,-167.299 177,-157.299 173.5,-167.299 180.5,-167.299\"/>\r\n",
       "</g>\r\n",
       "<!-- 5 -->\r\n",
       "<g id=\"node6\" class=\"node\"><title>5</title>\r\n",
       "<polygon fill=\"none\" stroke=\"black\" points=\"110,-53 12,-53 12,-0 110,-0 110,-53\"/>\r\n",
       "<text text-anchor=\"middle\" x=\"61\" y=\"-37.8\" font-family=\"Times New Roman,serif\" font-size=\"14.00\">mse = 0.1</text>\r\n",
       "<text text-anchor=\"middle\" x=\"61\" y=\"-22.8\" font-family=\"Times New Roman,serif\" font-size=\"14.00\">samples = 200</text>\r\n",
       "<text text-anchor=\"middle\" x=\"61\" y=\"-7.8\" font-family=\"Times New Roman,serif\" font-size=\"14.00\">value = &#45;0.505</text>\r\n",
       "</g>\r\n",
       "<!-- 4&#45;&gt;5 -->\r\n",
       "<g id=\"edge5\" class=\"edge\"><title>4&#45;&gt;5</title>\r\n",
       "<path fill=\"none\" stroke=\"black\" d=\"M136.429,-88.9485C124.75,-79.4346 112.033,-69.074 100.425,-59.6175\"/>\r\n",
       "<polygon fill=\"black\" stroke=\"black\" points=\"102.556,-56.8392 92.5921,-53.2367 98.1345,-62.2663 102.556,-56.8392\"/>\r\n",
       "</g>\r\n",
       "<!-- 6 -->\r\n",
       "<g id=\"node7\" class=\"node\"><title>6</title>\r\n",
       "<polygon fill=\"none\" stroke=\"black\" points=\"226,-53 128,-53 128,-0 226,-0 226,-53\"/>\r\n",
       "<text text-anchor=\"middle\" x=\"177\" y=\"-37.8\" font-family=\"Times New Roman,serif\" font-size=\"14.00\">mse = 0.057</text>\r\n",
       "<text text-anchor=\"middle\" x=\"177\" y=\"-22.8\" font-family=\"Times New Roman,serif\" font-size=\"14.00\">samples = 549</text>\r\n",
       "<text text-anchor=\"middle\" x=\"177\" y=\"-7.8\" font-family=\"Times New Roman,serif\" font-size=\"14.00\">value = &#45;0.732</text>\r\n",
       "</g>\r\n",
       "<!-- 4&#45;&gt;6 -->\r\n",
       "<g id=\"edge6\" class=\"edge\"><title>4&#45;&gt;6</title>\r\n",
       "<path fill=\"none\" stroke=\"black\" d=\"M177,-88.9485C177,-80.7153 177,-71.848 177,-63.4814\"/>\r\n",
       "<polygon fill=\"black\" stroke=\"black\" points=\"180.5,-63.2367 177,-53.2367 173.5,-63.2367 180.5,-63.2367\"/>\r\n",
       "</g>\r\n",
       "<!-- 8 -->\r\n",
       "<g id=\"node9\" class=\"node\"><title>8</title>\r\n",
       "<polygon fill=\"none\" stroke=\"black\" points=\"450,-157 316,-157 316,-89 450,-89 450,-157\"/>\r\n",
       "<text text-anchor=\"middle\" x=\"383\" y=\"-141.8\" font-family=\"Times New Roman,serif\" font-size=\"14.00\">sqft_living &lt;= &#45;0.909</text>\r\n",
       "<text text-anchor=\"middle\" x=\"383\" y=\"-126.8\" font-family=\"Times New Roman,serif\" font-size=\"14.00\">mse = 0.206</text>\r\n",
       "<text text-anchor=\"middle\" x=\"383\" y=\"-111.8\" font-family=\"Times New Roman,serif\" font-size=\"14.00\">samples = 746</text>\r\n",
       "<text text-anchor=\"middle\" x=\"383\" y=\"-96.8\" font-family=\"Times New Roman,serif\" font-size=\"14.00\">value = &#45;0.344</text>\r\n",
       "</g>\r\n",
       "<!-- 7&#45;&gt;8 -->\r\n",
       "<g id=\"edge8\" class=\"edge\"><title>7&#45;&gt;8</title>\r\n",
       "<path fill=\"none\" stroke=\"black\" d=\"M435,-192.884C428.411,-184.154 421.217,-174.625 414.339,-165.514\"/>\r\n",
       "<polygon fill=\"black\" stroke=\"black\" points=\"416.956,-163.172 408.138,-157.299 411.369,-167.389 416.956,-163.172\"/>\r\n",
       "</g>\r\n",
       "<!-- 11 -->\r\n",
       "<g id=\"node12\" class=\"node\"><title>11</title>\r\n",
       "<polygon fill=\"none\" stroke=\"black\" points=\"604,-157 468,-157 468,-89 604,-89 604,-157\"/>\r\n",
       "<text text-anchor=\"middle\" x=\"536\" y=\"-141.8\" font-family=\"Times New Roman,serif\" font-size=\"14.00\">bathrooms &lt;= &#45;1.833</text>\r\n",
       "<text text-anchor=\"middle\" x=\"536\" y=\"-126.8\" font-family=\"Times New Roman,serif\" font-size=\"14.00\">mse = 0.711</text>\r\n",
       "<text text-anchor=\"middle\" x=\"536\" y=\"-111.8\" font-family=\"Times New Roman,serif\" font-size=\"14.00\">samples = 13</text>\r\n",
       "<text text-anchor=\"middle\" x=\"536\" y=\"-96.8\" font-family=\"Times New Roman,serif\" font-size=\"14.00\">value = 1.04</text>\r\n",
       "</g>\r\n",
       "<!-- 7&#45;&gt;11 -->\r\n",
       "<g id=\"edge11\" class=\"edge\"><title>7&#45;&gt;11</title>\r\n",
       "<path fill=\"none\" stroke=\"black\" d=\"M484.675,-192.884C491.179,-184.154 498.28,-174.625 505.068,-165.514\"/>\r\n",
       "<polygon fill=\"black\" stroke=\"black\" points=\"508.02,-167.409 511.189,-157.299 502.407,-163.227 508.02,-167.409\"/>\r\n",
       "</g>\r\n",
       "<!-- 9 -->\r\n",
       "<g id=\"node10\" class=\"node\"><title>9</title>\r\n",
       "<polygon fill=\"none\" stroke=\"black\" points=\"336,-53 244,-53 244,-0 336,-0 336,-53\"/>\r\n",
       "<text text-anchor=\"middle\" x=\"290\" y=\"-37.8\" font-family=\"Times New Roman,serif\" font-size=\"14.00\">mse = 0.574</text>\r\n",
       "<text text-anchor=\"middle\" x=\"290\" y=\"-22.8\" font-family=\"Times New Roman,serif\" font-size=\"14.00\">samples = 48</text>\r\n",
       "<text text-anchor=\"middle\" x=\"290\" y=\"-7.8\" font-family=\"Times New Roman,serif\" font-size=\"14.00\">value = 0.179</text>\r\n",
       "</g>\r\n",
       "<!-- 8&#45;&gt;9 -->\r\n",
       "<g id=\"edge9\" class=\"edge\"><title>8&#45;&gt;9</title>\r\n",
       "<path fill=\"none\" stroke=\"black\" d=\"M350.473,-88.9485C341.38,-79.709 331.502,-69.671 322.415,-60.4381\"/>\r\n",
       "<polygon fill=\"black\" stroke=\"black\" points=\"324.837,-57.9091 315.328,-53.2367 319.848,-62.8191 324.837,-57.9091\"/>\r\n",
       "</g>\r\n",
       "<!-- 10 -->\r\n",
       "<g id=\"node11\" class=\"node\"><title>10</title>\r\n",
       "<polygon fill=\"none\" stroke=\"black\" points=\"452,-53 354,-53 354,-0 452,-0 452,-53\"/>\r\n",
       "<text text-anchor=\"middle\" x=\"403\" y=\"-37.8\" font-family=\"Times New Roman,serif\" font-size=\"14.00\">mse = 0.16</text>\r\n",
       "<text text-anchor=\"middle\" x=\"403\" y=\"-22.8\" font-family=\"Times New Roman,serif\" font-size=\"14.00\">samples = 698</text>\r\n",
       "<text text-anchor=\"middle\" x=\"403\" y=\"-7.8\" font-family=\"Times New Roman,serif\" font-size=\"14.00\">value = &#45;0.38</text>\r\n",
       "</g>\r\n",
       "<!-- 8&#45;&gt;10 -->\r\n",
       "<g id=\"edge10\" class=\"edge\"><title>8&#45;&gt;10</title>\r\n",
       "<path fill=\"none\" stroke=\"black\" d=\"M389.995,-88.9485C391.757,-80.6238 393.656,-71.6509 395.444,-63.2027\"/>\r\n",
       "<polygon fill=\"black\" stroke=\"black\" points=\"398.907,-63.7447 397.553,-53.2367 392.058,-62.2953 398.907,-63.7447\"/>\r\n",
       "</g>\r\n",
       "<!-- 12 -->\r\n",
       "<g id=\"node13\" class=\"node\"><title>12</title>\r\n",
       "<polygon fill=\"none\" stroke=\"black\" points=\"562,-53 470,-53 470,-0 562,-0 562,-53\"/>\r\n",
       "<text text-anchor=\"middle\" x=\"516\" y=\"-37.8\" font-family=\"Times New Roman,serif\" font-size=\"14.00\">mse = 0.0</text>\r\n",
       "<text text-anchor=\"middle\" x=\"516\" y=\"-22.8\" font-family=\"Times New Roman,serif\" font-size=\"14.00\">samples = 1</text>\r\n",
       "<text text-anchor=\"middle\" x=\"516\" y=\"-7.8\" font-family=\"Times New Roman,serif\" font-size=\"14.00\">value = 2.889</text>\r\n",
       "</g>\r\n",
       "<!-- 11&#45;&gt;12 -->\r\n",
       "<g id=\"edge12\" class=\"edge\"><title>11&#45;&gt;12</title>\r\n",
       "<path fill=\"none\" stroke=\"black\" d=\"M529.005,-88.9485C527.243,-80.6238 525.344,-71.6509 523.556,-63.2027\"/>\r\n",
       "<polygon fill=\"black\" stroke=\"black\" points=\"526.942,-62.2953 521.447,-53.2367 520.093,-63.7447 526.942,-62.2953\"/>\r\n",
       "</g>\r\n",
       "<!-- 13 -->\r\n",
       "<g id=\"node14\" class=\"node\"><title>13</title>\r\n",
       "<polygon fill=\"none\" stroke=\"black\" points=\"672,-53 580,-53 580,-0 672,-0 672,-53\"/>\r\n",
       "<text text-anchor=\"middle\" x=\"626\" y=\"-37.8\" font-family=\"Times New Roman,serif\" font-size=\"14.00\">mse = 0.461</text>\r\n",
       "<text text-anchor=\"middle\" x=\"626\" y=\"-22.8\" font-family=\"Times New Roman,serif\" font-size=\"14.00\">samples = 12</text>\r\n",
       "<text text-anchor=\"middle\" x=\"626\" y=\"-7.8\" font-family=\"Times New Roman,serif\" font-size=\"14.00\">value = 0.886</text>\r\n",
       "</g>\r\n",
       "<!-- 11&#45;&gt;13 -->\r\n",
       "<g id=\"edge13\" class=\"edge\"><title>11&#45;&gt;13</title>\r\n",
       "<path fill=\"none\" stroke=\"black\" d=\"M567.478,-88.9485C576.19,-79.8005 585.648,-69.8697 594.369,-60.7126\"/>\r\n",
       "<polygon fill=\"black\" stroke=\"black\" points=\"597.127,-62.8919 601.489,-53.2367 592.058,-58.0643 597.127,-62.8919\"/>\r\n",
       "</g>\r\n",
       "<!-- 15 -->\r\n",
       "<g id=\"node16\" class=\"node\"><title>15</title>\r\n",
       "<polygon fill=\"none\" stroke=\"black\" points=\"969,-261 865,-261 865,-193 969,-193 969,-261\"/>\r\n",
       "<text text-anchor=\"middle\" x=\"917\" y=\"-245.8\" font-family=\"Times New Roman,serif\" font-size=\"14.00\">long &lt;= 0.318</text>\r\n",
       "<text text-anchor=\"middle\" x=\"917\" y=\"-230.8\" font-family=\"Times New Roman,serif\" font-size=\"14.00\">mse = 0.617</text>\r\n",
       "<text text-anchor=\"middle\" x=\"917\" y=\"-215.8\" font-family=\"Times New Roman,serif\" font-size=\"14.00\">samples = 2363</text>\r\n",
       "<text text-anchor=\"middle\" x=\"917\" y=\"-200.8\" font-family=\"Times New Roman,serif\" font-size=\"14.00\">value = 0.557</text>\r\n",
       "</g>\r\n",
       "<!-- 14&#45;&gt;15 -->\r\n",
       "<g id=\"edge15\" class=\"edge\"><title>14&#45;&gt;15</title>\r\n",
       "<path fill=\"none\" stroke=\"black\" d=\"M917,-296.884C917,-288.778 917,-279.982 917,-271.472\"/>\r\n",
       "<polygon fill=\"black\" stroke=\"black\" points=\"920.5,-271.299 917,-261.299 913.5,-271.299 920.5,-271.299\"/>\r\n",
       "</g>\r\n",
       "<!-- 22 -->\r\n",
       "<g id=\"node23\" class=\"node\"><title>22</title>\r\n",
       "<polygon fill=\"none\" stroke=\"black\" points=\"1312,-261 1184,-261 1184,-193 1312,-193 1312,-261\"/>\r\n",
       "<text text-anchor=\"middle\" x=\"1248\" y=\"-245.8\" font-family=\"Times New Roman,serif\" font-size=\"14.00\">sqft_living &lt;= &#45;0.63</text>\r\n",
       "<text text-anchor=\"middle\" x=\"1248\" y=\"-230.8\" font-family=\"Times New Roman,serif\" font-size=\"14.00\">mse = 0.222</text>\r\n",
       "<text text-anchor=\"middle\" x=\"1248\" y=\"-215.8\" font-family=\"Times New Roman,serif\" font-size=\"14.00\">samples = 672</text>\r\n",
       "<text text-anchor=\"middle\" x=\"1248\" y=\"-200.8\" font-family=\"Times New Roman,serif\" font-size=\"14.00\">value = &#45;0.017</text>\r\n",
       "</g>\r\n",
       "<!-- 14&#45;&gt;22 -->\r\n",
       "<g id=\"edge22\" class=\"edge\"><title>14&#45;&gt;22</title>\r\n",
       "<path fill=\"none\" stroke=\"black\" d=\"M971.658,-313.157C1027,-296.104 1112.94,-269.621 1174.28,-250.719\"/>\r\n",
       "<polygon fill=\"black\" stroke=\"black\" points=\"1175.38,-254.042 1183.9,-247.753 1173.31,-247.353 1175.38,-254.042\"/>\r\n",
       "</g>\r\n",
       "<!-- 16 -->\r\n",
       "<g id=\"node17\" class=\"node\"><title>16</title>\r\n",
       "<polygon fill=\"none\" stroke=\"black\" points=\"907.5,-157 794.5,-157 794.5,-89 907.5,-89 907.5,-157\"/>\r\n",
       "<text text-anchor=\"middle\" x=\"851\" y=\"-141.8\" font-family=\"Times New Roman,serif\" font-size=\"14.00\">log_lat &lt;= &#45;0.139</text>\r\n",
       "<text text-anchor=\"middle\" x=\"851\" y=\"-126.8\" font-family=\"Times New Roman,serif\" font-size=\"14.00\">mse = 0.679</text>\r\n",
       "<text text-anchor=\"middle\" x=\"851\" y=\"-111.8\" font-family=\"Times New Roman,serif\" font-size=\"14.00\">samples = 1565</text>\r\n",
       "<text text-anchor=\"middle\" x=\"851\" y=\"-96.8\" font-family=\"Times New Roman,serif\" font-size=\"14.00\">value = 0.754</text>\r\n",
       "</g>\r\n",
       "<!-- 15&#45;&gt;16 -->\r\n",
       "<g id=\"edge16\" class=\"edge\"><title>15&#45;&gt;16</title>\r\n",
       "<path fill=\"none\" stroke=\"black\" d=\"M895.572,-192.884C889.981,-184.243 883.883,-174.819 878.042,-165.793\"/>\r\n",
       "<polygon fill=\"black\" stroke=\"black\" points=\"880.918,-163.794 872.547,-157.299 875.041,-167.596 880.918,-163.794\"/>\r\n",
       "</g>\r\n",
       "<!-- 19 -->\r\n",
       "<g id=\"node20\" class=\"node\"><title>19</title>\r\n",
       "<polygon fill=\"none\" stroke=\"black\" points=\"1040.5,-157 925.5,-157 925.5,-89 1040.5,-89 1040.5,-157\"/>\r\n",
       "<text text-anchor=\"middle\" x=\"983\" y=\"-141.8\" font-family=\"Times New Roman,serif\" font-size=\"14.00\">waterfront &lt;= 0.5</text>\r\n",
       "<text text-anchor=\"middle\" x=\"983\" y=\"-126.8\" font-family=\"Times New Roman,serif\" font-size=\"14.00\">mse = 0.27</text>\r\n",
       "<text text-anchor=\"middle\" x=\"983\" y=\"-111.8\" font-family=\"Times New Roman,serif\" font-size=\"14.00\">samples = 798</text>\r\n",
       "<text text-anchor=\"middle\" x=\"983\" y=\"-96.8\" font-family=\"Times New Roman,serif\" font-size=\"14.00\">value = 0.172</text>\r\n",
       "</g>\r\n",
       "<!-- 15&#45;&gt;19 -->\r\n",
       "<g id=\"edge19\" class=\"edge\"><title>15&#45;&gt;19</title>\r\n",
       "<path fill=\"none\" stroke=\"black\" d=\"M938.428,-192.884C944.019,-184.243 950.117,-174.819 955.958,-165.793\"/>\r\n",
       "<polygon fill=\"black\" stroke=\"black\" points=\"958.959,-167.596 961.453,-157.299 953.082,-163.794 958.959,-167.596\"/>\r\n",
       "</g>\r\n",
       "<!-- 17 -->\r\n",
       "<g id=\"node18\" class=\"node\"><title>17</title>\r\n",
       "<polygon fill=\"none\" stroke=\"black\" points=\"788,-53 690,-53 690,-0 788,-0 788,-53\"/>\r\n",
       "<text text-anchor=\"middle\" x=\"739\" y=\"-37.8\" font-family=\"Times New Roman,serif\" font-size=\"14.00\">mse = 0.392</text>\r\n",
       "<text text-anchor=\"middle\" x=\"739\" y=\"-22.8\" font-family=\"Times New Roman,serif\" font-size=\"14.00\">samples = 323</text>\r\n",
       "<text text-anchor=\"middle\" x=\"739\" y=\"-7.8\" font-family=\"Times New Roman,serif\" font-size=\"14.00\">value = 0.133</text>\r\n",
       "</g>\r\n",
       "<!-- 16&#45;&gt;17 -->\r\n",
       "<g id=\"edge17\" class=\"edge\"><title>16&#45;&gt;17</title>\r\n",
       "<path fill=\"none\" stroke=\"black\" d=\"M811.828,-88.9485C800.66,-79.526 788.509,-69.2731 777.389,-59.8906\"/>\r\n",
       "<polygon fill=\"black\" stroke=\"black\" points=\"779.403,-57.0104 769.503,-53.2367 774.889,-62.3605 779.403,-57.0104\"/>\r\n",
       "</g>\r\n",
       "<!-- 18 -->\r\n",
       "<g id=\"node19\" class=\"node\"><title>18</title>\r\n",
       "<polygon fill=\"none\" stroke=\"black\" points=\"910,-53 806,-53 806,-0 910,-0 910,-53\"/>\r\n",
       "<text text-anchor=\"middle\" x=\"858\" y=\"-37.8\" font-family=\"Times New Roman,serif\" font-size=\"14.00\">mse = 0.628</text>\r\n",
       "<text text-anchor=\"middle\" x=\"858\" y=\"-22.8\" font-family=\"Times New Roman,serif\" font-size=\"14.00\">samples = 1242</text>\r\n",
       "<text text-anchor=\"middle\" x=\"858\" y=\"-7.8\" font-family=\"Times New Roman,serif\" font-size=\"14.00\">value = 0.916</text>\r\n",
       "</g>\r\n",
       "<!-- 16&#45;&gt;18 -->\r\n",
       "<g id=\"edge18\" class=\"edge\"><title>16&#45;&gt;18</title>\r\n",
       "<path fill=\"none\" stroke=\"black\" d=\"M853.448,-88.9485C854.058,-80.7153 854.715,-71.848 855.335,-63.4814\"/>\r\n",
       "<polygon fill=\"black\" stroke=\"black\" points=\"858.845,-63.468 856.094,-53.2367 851.864,-62.9508 858.845,-63.468\"/>\r\n",
       "</g>\r\n",
       "<!-- 20 -->\r\n",
       "<g id=\"node21\" class=\"node\"><title>20</title>\r\n",
       "<polygon fill=\"none\" stroke=\"black\" points=\"1026,-53 928,-53 928,-0 1026,-0 1026,-53\"/>\r\n",
       "<text text-anchor=\"middle\" x=\"977\" y=\"-37.8\" font-family=\"Times New Roman,serif\" font-size=\"14.00\">mse = 0.228</text>\r\n",
       "<text text-anchor=\"middle\" x=\"977\" y=\"-22.8\" font-family=\"Times New Roman,serif\" font-size=\"14.00\">samples = 793</text>\r\n",
       "<text text-anchor=\"middle\" x=\"977\" y=\"-7.8\" font-family=\"Times New Roman,serif\" font-size=\"14.00\">value = 0.156</text>\r\n",
       "</g>\r\n",
       "<!-- 19&#45;&gt;20 -->\r\n",
       "<g id=\"edge20\" class=\"edge\"><title>19&#45;&gt;20</title>\r\n",
       "<path fill=\"none\" stroke=\"black\" d=\"M980.901,-88.9485C980.379,-80.7153 979.816,-71.848 979.285,-63.4814\"/>\r\n",
       "<polygon fill=\"black\" stroke=\"black\" points=\"982.761,-62.9948 978.634,-53.2367 975.775,-63.4384 982.761,-62.9948\"/>\r\n",
       "</g>\r\n",
       "<!-- 21 -->\r\n",
       "<g id=\"node22\" class=\"node\"><title>21</title>\r\n",
       "<polygon fill=\"none\" stroke=\"black\" points=\"1136,-53 1044,-53 1044,-0 1136,-0 1136,-53\"/>\r\n",
       "<text text-anchor=\"middle\" x=\"1090\" y=\"-37.8\" font-family=\"Times New Roman,serif\" font-size=\"14.00\">mse = 0.814</text>\r\n",
       "<text text-anchor=\"middle\" x=\"1090\" y=\"-22.8\" font-family=\"Times New Roman,serif\" font-size=\"14.00\">samples = 5</text>\r\n",
       "<text text-anchor=\"middle\" x=\"1090\" y=\"-7.8\" font-family=\"Times New Roman,serif\" font-size=\"14.00\">value = 2.647</text>\r\n",
       "</g>\r\n",
       "<!-- 19&#45;&gt;21 -->\r\n",
       "<g id=\"edge21\" class=\"edge\"><title>19&#45;&gt;21</title>\r\n",
       "<path fill=\"none\" stroke=\"black\" d=\"M1020.42,-88.9485C1031.09,-79.526 1042.7,-69.2731 1053.32,-59.8906\"/>\r\n",
       "<polygon fill=\"black\" stroke=\"black\" points=\"1055.68,-62.4798 1060.86,-53.2367 1051.05,-57.2331 1055.68,-62.4798\"/>\r\n",
       "</g>\r\n",
       "<!-- 23 -->\r\n",
       "<g id=\"node24\" class=\"node\"><title>23</title>\r\n",
       "<polygon fill=\"none\" stroke=\"black\" points=\"1307.5,-157 1188.5,-157 1188.5,-89 1307.5,-89 1307.5,-157\"/>\r\n",
       "<text text-anchor=\"middle\" x=\"1248\" y=\"-141.8\" font-family=\"Times New Roman,serif\" font-size=\"14.00\">yr_built &lt;= &#45;0.076</text>\r\n",
       "<text text-anchor=\"middle\" x=\"1248\" y=\"-126.8\" font-family=\"Times New Roman,serif\" font-size=\"14.00\">mse = 0.209</text>\r\n",
       "<text text-anchor=\"middle\" x=\"1248\" y=\"-111.8\" font-family=\"Times New Roman,serif\" font-size=\"14.00\">samples = 107</text>\r\n",
       "<text text-anchor=\"middle\" x=\"1248\" y=\"-96.8\" font-family=\"Times New Roman,serif\" font-size=\"14.00\">value = 0.446</text>\r\n",
       "</g>\r\n",
       "<!-- 22&#45;&gt;23 -->\r\n",
       "<g id=\"edge23\" class=\"edge\"><title>22&#45;&gt;23</title>\r\n",
       "<path fill=\"none\" stroke=\"black\" d=\"M1248,-192.884C1248,-184.778 1248,-175.982 1248,-167.472\"/>\r\n",
       "<polygon fill=\"black\" stroke=\"black\" points=\"1251.5,-167.299 1248,-157.299 1244.5,-167.299 1251.5,-167.299\"/>\r\n",
       "</g>\r\n",
       "<!-- 26 -->\r\n",
       "<g id=\"node27\" class=\"node\"><title>26</title>\r\n",
       "<polygon fill=\"none\" stroke=\"black\" points=\"1472,-157 1374,-157 1374,-89 1472,-89 1472,-157\"/>\r\n",
       "<text text-anchor=\"middle\" x=\"1423\" y=\"-141.8\" font-family=\"Times New Roman,serif\" font-size=\"14.00\">view &lt;= 3.5</text>\r\n",
       "<text text-anchor=\"middle\" x=\"1423\" y=\"-126.8\" font-family=\"Times New Roman,serif\" font-size=\"14.00\">mse = 0.176</text>\r\n",
       "<text text-anchor=\"middle\" x=\"1423\" y=\"-111.8\" font-family=\"Times New Roman,serif\" font-size=\"14.00\">samples = 565</text>\r\n",
       "<text text-anchor=\"middle\" x=\"1423\" y=\"-96.8\" font-family=\"Times New Roman,serif\" font-size=\"14.00\">value = &#45;0.105</text>\r\n",
       "</g>\r\n",
       "<!-- 22&#45;&gt;26 -->\r\n",
       "<g id=\"edge26\" class=\"edge\"><title>22&#45;&gt;26</title>\r\n",
       "<path fill=\"none\" stroke=\"black\" d=\"M1304.82,-192.884C1324.12,-181.634 1345.7,-169.056 1365.08,-157.757\"/>\r\n",
       "<polygon fill=\"black\" stroke=\"black\" points=\"1366.94,-160.725 1373.82,-152.666 1363.42,-154.677 1366.94,-160.725\"/>\r\n",
       "</g>\r\n",
       "<!-- 24 -->\r\n",
       "<g id=\"node25\" class=\"node\"><title>24</title>\r\n",
       "<polygon fill=\"none\" stroke=\"black\" points=\"1245.5,-53 1154.5,-53 1154.5,-0 1245.5,-0 1245.5,-53\"/>\r\n",
       "<text text-anchor=\"middle\" x=\"1200\" y=\"-37.8\" font-family=\"Times New Roman,serif\" font-size=\"14.00\">mse = 0.178</text>\r\n",
       "<text text-anchor=\"middle\" x=\"1200\" y=\"-22.8\" font-family=\"Times New Roman,serif\" font-size=\"14.00\">samples = 81</text>\r\n",
       "<text text-anchor=\"middle\" x=\"1200\" y=\"-7.8\" font-family=\"Times New Roman,serif\" font-size=\"14.00\">value = 0.55</text>\r\n",
       "</g>\r\n",
       "<!-- 23&#45;&gt;24 -->\r\n",
       "<g id=\"edge24\" class=\"edge\"><title>23&#45;&gt;24</title>\r\n",
       "<path fill=\"none\" stroke=\"black\" d=\"M1231.21,-88.9485C1226.84,-80.3494 1222.12,-71.0586 1217.71,-62.3689\"/>\r\n",
       "<polygon fill=\"black\" stroke=\"black\" points=\"1220.72,-60.5675 1213.07,-53.2367 1214.48,-63.7376 1220.72,-60.5675\"/>\r\n",
       "</g>\r\n",
       "<!-- 25 -->\r\n",
       "<g id=\"node26\" class=\"node\"><title>25</title>\r\n",
       "<polygon fill=\"none\" stroke=\"black\" points=\"1356,-53 1264,-53 1264,-0 1356,-0 1356,-53\"/>\r\n",
       "<text text-anchor=\"middle\" x=\"1310\" y=\"-37.8\" font-family=\"Times New Roman,serif\" font-size=\"14.00\">mse = 0.169</text>\r\n",
       "<text text-anchor=\"middle\" x=\"1310\" y=\"-22.8\" font-family=\"Times New Roman,serif\" font-size=\"14.00\">samples = 26</text>\r\n",
       "<text text-anchor=\"middle\" x=\"1310\" y=\"-7.8\" font-family=\"Times New Roman,serif\" font-size=\"14.00\">value = 0.122</text>\r\n",
       "</g>\r\n",
       "<!-- 23&#45;&gt;25 -->\r\n",
       "<g id=\"edge25\" class=\"edge\"><title>23&#45;&gt;25</title>\r\n",
       "<path fill=\"none\" stroke=\"black\" d=\"M1269.68,-88.9485C1275.45,-80.1664 1281.68,-70.6629 1287.49,-61.815\"/>\r\n",
       "<polygon fill=\"black\" stroke=\"black\" points=\"1290.56,-63.5178 1293.11,-53.2367 1284.7,-59.6779 1290.56,-63.5178\"/>\r\n",
       "</g>\r\n",
       "<!-- 27 -->\r\n",
       "<g id=\"node28\" class=\"node\"><title>27</title>\r\n",
       "<polygon fill=\"none\" stroke=\"black\" points=\"1472,-53 1374,-53 1374,-0 1472,-0 1472,-53\"/>\r\n",
       "<text text-anchor=\"middle\" x=\"1423\" y=\"-37.8\" font-family=\"Times New Roman,serif\" font-size=\"14.00\">mse = 0.135</text>\r\n",
       "<text text-anchor=\"middle\" x=\"1423\" y=\"-22.8\" font-family=\"Times New Roman,serif\" font-size=\"14.00\">samples = 553</text>\r\n",
       "<text text-anchor=\"middle\" x=\"1423\" y=\"-7.8\" font-family=\"Times New Roman,serif\" font-size=\"14.00\">value = &#45;0.127</text>\r\n",
       "</g>\r\n",
       "<!-- 26&#45;&gt;27 -->\r\n",
       "<g id=\"edge27\" class=\"edge\"><title>26&#45;&gt;27</title>\r\n",
       "<path fill=\"none\" stroke=\"black\" d=\"M1423,-88.9485C1423,-80.7153 1423,-71.848 1423,-63.4814\"/>\r\n",
       "<polygon fill=\"black\" stroke=\"black\" points=\"1426.5,-63.2367 1423,-53.2367 1419.5,-63.2367 1426.5,-63.2367\"/>\r\n",
       "</g>\r\n",
       "<!-- 28 -->\r\n",
       "<g id=\"node29\" class=\"node\"><title>28</title>\r\n",
       "<polygon fill=\"none\" stroke=\"black\" points=\"1581.5,-53 1490.5,-53 1490.5,-0 1581.5,-0 1581.5,-53\"/>\r\n",
       "<text text-anchor=\"middle\" x=\"1536\" y=\"-37.8\" font-family=\"Times New Roman,serif\" font-size=\"14.00\">mse = 0.974</text>\r\n",
       "<text text-anchor=\"middle\" x=\"1536\" y=\"-22.8\" font-family=\"Times New Roman,serif\" font-size=\"14.00\">samples = 12</text>\r\n",
       "<text text-anchor=\"middle\" x=\"1536\" y=\"-7.8\" font-family=\"Times New Roman,serif\" font-size=\"14.00\">value = 0.93</text>\r\n",
       "</g>\r\n",
       "<!-- 26&#45;&gt;28 -->\r\n",
       "<g id=\"edge28\" class=\"edge\"><title>26&#45;&gt;28</title>\r\n",
       "<path fill=\"none\" stroke=\"black\" d=\"M1462.52,-88.9485C1473.79,-79.526 1486.05,-69.2731 1497.27,-59.8906\"/>\r\n",
       "<polygon fill=\"black\" stroke=\"black\" points=\"1499.8,-62.3368 1505.22,-53.2367 1495.31,-56.967 1499.8,-62.3368\"/>\r\n",
       "</g>\r\n",
       "</g>\r\n",
       "</svg>\r\n"
      ],
      "text/plain": [
       "<graphviz.files.Source at 0x20abbbd6278>"
      ]
     },
     "execution_count": 35,
     "metadata": {},
     "output_type": "execute_result"
    }
   ],
   "source": [
    "dot_data = tree.export_graphviz(clf, out_file=None,\n",
    "                               feature_names=x_str)\n",
    "graph = graphviz.Source(dot_data)\n",
    "graph"
   ]
  },
  {
   "cell_type": "markdown",
   "metadata": {},
   "source": [
    "An $R^2$ of ~0.5 (without cross validation) isn't a very promising start. However, it does give clues as to which will be important. It seems the realty mantra of \"Location, Location, Location\" seems to hold up, as LatLong seem to be the most import factors.  \n",
    "\n",
    "Now lets try refining a decision forest. I'll start with a validation curve to check how 'deep' each tree should be. I'll be using the default forest size of 10."
   ]
  },
  {
   "cell_type": "code",
   "execution_count": 37,
   "metadata": {},
   "outputs": [
    {
     "name": "stdout",
     "output_type": "stream",
     "text": [
      "[0.82248211]\n"
     ]
    },
    {
     "data": {
      "image/png": "[encoded data removed]",
      "text/plain": [
       "<Figure size 432x288 with 1 Axes>"
      ]
     },
     "metadata": {
      "needs_background": "light"
     },
     "output_type": "display_data"
    }
   ],
   "source": [
    "np.random.seed(867539)\n",
    "rfr = RFR(n_estimators=10)\n",
    "\n",
    "ks = np.arange(1,25)\n",
    "r2 = utils.val_cur( X, Y, rfr, 'max_depth', ks, reps=3)\n",
    "tree_lam = lambda a,b : utils.val_cur( a, b, rfr, 'max_depth', ks)\n",
    "r2 = utils.boot( X, Y, tree_lam, n = 10)\n",
    "\n",
    "plt.figure()\n",
    "plt.scatter(ks, np.mean(r2['train'], axis = 0), label='Train' )\n",
    "plt.scatter(ks, np.mean(r2['test'], axis = 0), label='Test')\n",
    "plt.legend()\n",
    "plt.title('$R^2$ over Depth of Forest (10 Trees)')\n",
    "plt.xlabel('Depth of Trees')\n",
    "plt.ylabel('$R^2$')\n",
    "print( np.mean(r2['test'], axis=0)[np.where(ks==16)] )"
   ]
  },
  {
   "cell_type": "markdown",
   "metadata": {},
   "source": [
    "It looks like the increase in $R^2$ seems to be diminished after about a depth of 16. However, an $R^2$ of over 0.8 is much better!  \n",
    "\n",
    "Now lets see how many trees we need in our forest to get a good result using a depth of 16."
   ]
  },
  {
   "cell_type": "code",
   "execution_count": 39,
   "metadata": {},
   "outputs": [
    {
     "name": "stdout",
     "output_type": "stream",
     "text": [
      "[0.83710039]\n"
     ]
    },
    {
     "data": {
      "image/png": "[encoded data removed]",
      "text/plain": [
       "<Figure size 432x288 with 1 Axes>"
      ]
     },
     "metadata": {
      "needs_background": "light"
     },
     "output_type": "display_data"
    }
   ],
   "source": [
    "np.random.seed(867539)\n",
    "rfr = RFR(max_depth=16)\n",
    "\n",
    "ks = np.arange(5,20)\n",
    "tree_lam = lambda a,b : utils.val_cur( a, b, rfr, 'n_estimators', ks)\n",
    "r2 = utils.boot( X, Y, tree_lam, n = 10)\n",
    "\n",
    "plt.figure()\n",
    "plt.scatter(ks, np.mean(r2['train'], axis = 0), label='Train' )\n",
    "plt.scatter(ks, np.mean(r2['test'], axis = 0), label='Test')\n",
    "plt.legend()\n",
    "plt.title('$R^2$ over Size of Forrest (16 Depth)')\n",
    "plt.xlabel('Number of Trees')\n",
    "plt.ylabel('$R^2$')\n",
    "print( np.mean(r2['test'],axis=0)[np.where(ks==15)] )\n"
   ]
  },
  {
   "cell_type": "markdown",
   "metadata": {},
   "source": [
    "We haven't seen it even off yet, so let's try over a larger range of values."
   ]
  },
  {
   "cell_type": "code",
   "execution_count": 40,
   "metadata": {},
   "outputs": [
    {
     "name": "stdout",
     "output_type": "stream",
     "text": [
      "[0.82955719]\n"
     ]
    },
    {
     "data": {
      "image/png": "[encoded data removed]",
      "text/plain": [
       "<Figure size 432x288 with 1 Axes>"
      ]
     },
     "metadata": {
      "needs_background": "light"
     },
     "output_type": "display_data"
    }
   ],
   "source": [
    "np.random.seed(867539)\n",
    "rfr = RFR(max_depth=16)\n",
    "\n",
    "ks = np.arange(10,101,10)\n",
    "tree_lam = lambda a,b : utils.val_cur( a, b, rfr, 'n_estimators', ks)\n",
    "r2 = utils.boot( X, Y, tree_lam, n = 10)\n",
    "\n",
    "plt.figure()\n",
    "plt.scatter(ks, np.mean(r2['train'], axis = 0), label='Train' )\n",
    "plt.scatter(ks, np.mean(r2['test'], axis = 0), label='Test')\n",
    "plt.legend()\n",
    "plt.title('$R^2$ over Size of Forrest (16 Depth)')\n",
    "plt.xlabel('Number of Trees')\n",
    "plt.ylabel('$R^2$')\n",
    "print( np.mean(r2['test'],axis=0)[np.where(ks==100)] )"
   ]
  },
  {
   "cell_type": "markdown",
   "metadata": {},
   "source": [
    "We're starting to see a pattern. It seems safe to use a forest size of 100 trees, and the model seems strong; on our test set we achieved an r-squared value of 0.83. We could probably improve on this by adding some features (as described above), but this served as a good use case of how we can iterate over a model to improve predictability."
   ]
  }
 ],
 "metadata": {
  "kernelspec": {
   "display_name": "Python 3",
   "language": "python",
   "name": "python3"
  },
  "language_info": {
   "codemirror_mode": {
    "name": "ipython",
    "version": 3
   },
   "file_extension": ".py",
   "mimetype": "text/x-python",
   "name": "python",
   "nbconvert_exporter": "python",
   "pygments_lexer": "ipython3",
   "version": "3.7.1"
  }
 },
 "nbformat": 4,
 "nbformat_minor": 2
}
