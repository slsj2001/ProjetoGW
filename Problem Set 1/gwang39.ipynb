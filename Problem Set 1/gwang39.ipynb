{
 "cells": [
  {
   "cell_type": "code",
   "execution_count": 1,
   "metadata": {},
   "outputs": [],
   "source": [
    "%matplotlib inline"
   ]
  },
  {
   "cell_type": "markdown",
   "metadata": {},
   "source": [
    "# Problem Set 1\n",
    "\n",
    "## Directions\n",
    "\n",
    "1. Show all work/steps/calculations using a combination of code and Markdown. You will submit only this notebook named: [jhed_id].ipynb back to Blackboard from whence you downloaded it.\n",
    "2. **All** work is to be your own. This is not a group project. You may, however, use code from the lectures and labs. Provide citations for any code that is not your own. You may also consult Stackoverflow, etc. This is not by any means \"closed book\" or anything like that. Basically, I need to see if *you* learned the concepts from the Lectures, *Fundamentals*, and Labs.\n",
    "3. Add whatever markdown or code cells you need in each part to explain and calculate your answers. Don't just provide answers but explain them as well. **Explain and interpret your results.**"
   ]
  },
  {
   "cell_type": "markdown",
   "metadata": {},
   "source": [
    "## Manipulating and Interpreting Probability\n",
    "\n",
    "Given the following *joint probability distribution*, $P(A,B)$, for $A$ and $B$,\n",
    "\n",
    "\n",
    "|        |    a1   |    a2   |\n",
    "\n",
    "|----    |------|------|\n",
    "\n",
    "| **b1** | 0.25 | 0.51 |\n",
    "\n",
    "| **b2** | 0.19 | ?    |\n",
    "\n",
    "\n",
    "Answer the following questions.\n",
    "\n",
    "**1\\. What is $P(A=a2, B=b2)$?**"
   ]
  },
  {
   "cell_type": "code",
   "execution_count": 2,
   "metadata": {},
   "outputs": [
    {
     "name": "stdout",
     "output_type": "stream",
     "text": [
      "P(A=a2,B=b2) = 1 - 0.25  - 0.51 - 0.19 = 0.05\n"
     ]
    }
   ],
   "source": [
    "print(\"P(A=a2,B=b2) = 1 - 0.25  - 0.51 - 0.19 = %.2f\" %(1 - 0.25 - 0.51 - 0.19))"
   ]
  },
  {
   "cell_type": "code",
   "execution_count": 3,
   "metadata": {},
   "outputs": [],
   "source": [
    "P = {\"a1\": {\"b1\": 0.25, \"b2\": 0.19}, \"a2\": {\"b1\": 0.51, \"b2\": 0.05}}"
   ]
  },
  {
   "cell_type": "markdown",
   "metadata": {},
   "source": [
    "**2\\. If I observe events from this probability distribution, what is the probability of seeing (a1, b1) then (a2, b2)?**"
   ]
  },
  {
   "cell_type": "code",
   "execution_count": 4,
   "metadata": {},
   "outputs": [
    {
     "name": "stdout",
     "output_type": "stream",
     "text": [
      "P((a1,b1)then(a2,b2)) = P(a1,b1) * P(a2,b2) = 0.01\n"
     ]
    }
   ],
   "source": [
    "print(\"P((a1,b1)then(a2,b2)) = P(a1,b1) * P(a2,b2) = %.2f\" %(P[\"a1\"][\"b1\"]*P[\"a2\"][\"b2\"]))"
   ]
  },
  {
   "cell_type": "markdown",
   "metadata": {},
   "source": [
    "**3\\. Calculate the marginal probability distribution, $P(A)$.**"
   ]
  },
  {
   "cell_type": "code",
   "execution_count": 5,
   "metadata": {},
   "outputs": [
    {
     "name": "stdout",
     "output_type": "stream",
     "text": [
      "P(a1) = 0.44\n",
      "P(a2) = 0.56\n"
     ]
    }
   ],
   "source": [
    "print(\"P(a1) = %.2f\" % (P[\"a1\"][\"b1\"] + P[\"a1\"][\"b2\"]))\n",
    "print(\"P(a2) = %.2f\" % (P[\"a2\"][\"b1\"] + P[\"a2\"][\"b2\"]))"
   ]
  },
  {
   "cell_type": "markdown",
   "metadata": {},
   "source": [
    "**4\\. Calculate the marginal probability distribution, $P(B)$.**"
   ]
  },
  {
   "cell_type": "code",
   "execution_count": 6,
   "metadata": {},
   "outputs": [
    {
     "name": "stdout",
     "output_type": "stream",
     "text": [
      "P(b1) = 0.76\n",
      "P(b2) = 0.24\n"
     ]
    }
   ],
   "source": [
    "print(\"P(b1) = %.2f\" % (P[\"a1\"][\"b1\"] + P[\"a2\"][\"b1\"]))\n",
    "print(\"P(b2) = %.2f\" % (P[\"a1\"][\"b2\"] + P[\"a2\"][\"b2\"]))"
   ]
  },
  {
   "cell_type": "markdown",
   "metadata": {},
   "source": [
    "**5\\. Calculate the conditional probability distribution, $P(A|B)$.**"
   ]
  },
  {
   "cell_type": "markdown",
   "metadata": {},
   "source": [
    "The formula for conditional probability is: P(A|B) = P(A,B)/P(B)"
   ]
  },
  {
   "cell_type": "code",
   "execution_count": 7,
   "metadata": {},
   "outputs": [
    {
     "name": "stdout",
     "output_type": "stream",
     "text": [
      "P(a1|b1) = P(a1,b1)/P(b1) = 0.33\n",
      "P(a2|b1) = P(a2,b1)/P(b1) = 0.67\n",
      "P(a1|b2) = P(a1,b2)/P(b2) = 0.79\n",
      "P(a2|b2) = P(a2,b2)/P(b2) = 0.21\n"
     ]
    }
   ],
   "source": [
    "print( \"P(a1|b1) = P(a1,b1)/P(b1) = %.2f\" % ((P[\"a1\"][\"b1\"])/(P[\"a1\"][\"b1\"] + P[\"a2\"][\"b1\"])))\n",
    "print( \"P(a2|b1) = P(a2,b1)/P(b1) = %.2f\" % ((P[\"a2\"][\"b1\"])/(P[\"a1\"][\"b1\"] + P[\"a2\"][\"b1\"])))\n",
    "print( \"P(a1|b2) = P(a1,b2)/P(b2) = %.2f\" % ((P[\"a1\"][\"b2\"])/(P[\"a1\"][\"b2\"] + P[\"a2\"][\"b2\"])))\n",
    "print( \"P(a2|b2) = P(a2,b2)/P(b2) = %.2f\" % ((P[\"a2\"][\"b2\"])/(P[\"a1\"][\"b2\"] + P[\"a2\"][\"b2\"])))"
   ]
  },
  {
   "cell_type": "markdown",
   "metadata": {},
   "source": [
    "**6\\. Calculate the conditional probability distribution, $P(B|A)$.**"
   ]
  },
  {
   "cell_type": "markdown",
   "metadata": {},
   "source": [
    "The formula for conditional probability is: P(B|A) = P(B,A)/P(A)"
   ]
  },
  {
   "cell_type": "code",
   "execution_count": 8,
   "metadata": {},
   "outputs": [
    {
     "name": "stdout",
     "output_type": "stream",
     "text": [
      "P(b1|a1) = P(b1,a1)/P(a1) = 0.57\n",
      "P(b2|a1) = P(b2,a1)/P(a1) = 0.43\n",
      "P(b1|a2) = P(b1,a2)/P(a2) = 0.91\n",
      "P(b2|a2) = P(b2,a2)/P(a2) = 0.09\n"
     ]
    }
   ],
   "source": [
    "print( \"P(b1|a1) = P(b1,a1)/P(a1) = %.2f\" % ((P[\"a1\"][\"b1\"])/(P[\"a1\"][\"b1\"] + P[\"a1\"][\"b2\"])))\n",
    "print( \"P(b2|a1) = P(b2,a1)/P(a1) = %.2f\" % ((P[\"a1\"][\"b2\"])/(P[\"a1\"][\"b1\"] + P[\"a1\"][\"b2\"])))\n",
    "print( \"P(b1|a2) = P(b1,a2)/P(a2) = %.2f\" % ((P[\"a2\"][\"b1\"])/(P[\"a2\"][\"b1\"] + P[\"a2\"][\"b2\"])))\n",
    "print( \"P(b2|a2) = P(b2,a2)/P(a2) = %.2f\" % ((P[\"a2\"][\"b2\"])/(P[\"a2\"][\"b1\"] + P[\"a2\"][\"b2\"])))"
   ]
  },
  {
   "cell_type": "markdown",
   "metadata": {},
   "source": [
    "**7\\. Does $P(A|B) = P(B|A)$? What do we call the belief that these are always equal?**"
   ]
  },
  {
   "cell_type": "markdown",
   "metadata": {},
   "source": [
    "The probably asks the various cases under P(A|B) = P(B|A)\n",
    "\n",
    "If we take one case: P(a1|b1) and P(b1,a1)\n",
    "\n",
    "Referring to answers to question 5 and 6 We can see:"
   ]
  },
  {
   "cell_type": "code",
   "execution_count": 9,
   "metadata": {},
   "outputs": [
    {
     "name": "stdout",
     "output_type": "stream",
     "text": [
      "P(a1|b1) = P(a1,b1)/P(b1) = 0.33\n",
      "P(b1|a1) = P(b1,a1)/P(a1) = 0.57\n"
     ]
    }
   ],
   "source": [
    "print( \"P(a1|b1) = P(a1,b1)/P(b1) = %.2f\" % ((P[\"a1\"][\"b1\"])/(P[\"a1\"][\"b1\"] + P[\"a2\"][\"b1\"])))\n",
    "print( \"P(b1|a1) = P(b1,a1)/P(a1) = %.2f\" % ((P[\"a1\"][\"b1\"])/(P[\"a1\"][\"b1\"] + P[\"a1\"][\"b2\"])))"
   ]
  },
  {
   "cell_type": "markdown",
   "metadata": {},
   "source": [
    "Therefore, P(A|B) does not always equal to P(B|A)\n",
    "\n",
    "The belief that P(A|B) and P(B|A) are always equal is called inverse probability fallacy"
   ]
  },
  {
   "cell_type": "markdown",
   "metadata": {},
   "source": [
    "**8\\. Does $P(A) = P(A|B)$? What does that mean about the independence of $A$ and $B$?**"
   ]
  },
  {
   "cell_type": "markdown",
   "metadata": {},
   "source": [
    "No, P(A) does not equal to P(A|B). Referring to answers above:"
   ]
  },
  {
   "cell_type": "code",
   "execution_count": 10,
   "metadata": {},
   "outputs": [
    {
     "name": "stdout",
     "output_type": "stream",
     "text": [
      "P(a1) = 0.44\n",
      "P(a1|b1) = 0.33\n"
     ]
    }
   ],
   "source": [
    "print(\"P(a1) = %.2f\" % (P[\"a1\"][\"b1\"] + P[\"a1\"][\"b2\"]))\n",
    "print( \"P(a1|b1) = %.2f\" % ((P[\"a1\"][\"b1\"])/(P[\"a1\"][\"b1\"] + P[\"a2\"][\"b1\"])))"
   ]
  },
  {
   "cell_type": "markdown",
   "metadata": {},
   "source": [
    "This means A and B are not independent"
   ]
  },
  {
   "cell_type": "markdown",
   "metadata": {},
   "source": [
    "**9\\. Using $P(A)$, $P(B|A)$, $P(B)$ from above, calculate,**\n",
    "\n",
    "$P(A|B) = \\frac{P(B|A)P(A)}{P(B)}$\n",
    "\n",
    "Does it match your previous calculation for $P(A|B)$?"
   ]
  },
  {
   "cell_type": "markdown",
   "metadata": {},
   "source": [
    "Yes, we can use P(a1|b1) to show the calculation as below:"
   ]
  },
  {
   "cell_type": "code",
   "execution_count": 11,
   "metadata": {},
   "outputs": [
    {
     "name": "stdout",
     "output_type": "stream",
     "text": [
      "P(a1|b1) = (P(b1,a1)*P(a1))/P(b1) = 0.33\n"
     ]
    }
   ],
   "source": [
    "print( \"P(a1|b1) = (P(b1,a1)*P(a1))/P(b1) = %.2f\" % ((((P[\"a1\"][\"b1\"])/(P[\"a1\"][\"b1\"] + P[\"a1\"][\"b2\"])*(P[\"a1\"][\"b1\"] + P[\"a1\"][\"b2\"])))/(P[\"a1\"][\"b1\"] + P[\"a2\"][\"b1\"])))"
   ]
  },
  {
   "cell_type": "markdown",
   "metadata": {
    "collapsed": true
   },
   "source": [
    "## Question 1 - Bayes Rule\n",
    "\n",
    "**Part 1.** There is a genetic condition that affects 2.3% of the population, C = {c, ~c}. Tests can detect the condition with 72.1% (true positive rate) but have a false positive rate of 20.3%, T={pos, neg}.\n",
    " \n",
    "If we want to know `P(C|T)`, write out Bayes Rule for this problem:"
   ]
  },
  {
   "cell_type": "markdown",
   "metadata": {},
   "source": [
    "$P(C|T) = \\frac{P(T|C) * P(C)}{P(T)}$"
   ]
  },
  {
   "cell_type": "markdown",
   "metadata": {},
   "source": [
    "Using the values supplied in the description of the problem, specify all priors and likelihoods for the version of Bayes Rule you just wrote out:"
   ]
  },
  {
   "cell_type": "markdown",
   "metadata": {},
   "source": [
    "P(C) is the prior for the genetic condition and is described as (0.023, 0.977)\n",
    "P(T|C) is the likelyhood of the condition detected given genetic condition\n",
    "Based on above, probability given in the question, we have"
   ]
  },
  {
   "cell_type": "code",
   "execution_count": 12,
   "metadata": {},
   "outputs": [
    {
     "name": "stdout",
     "output_type": "stream",
     "text": [
      "P(c) = 0.0230\n",
      "P(~c) = 0.9770\n",
      "P(t|c) = 0.7210\n",
      "P(~t|c) = 0.2790\n",
      "P(t|~c) = 0.2030\n",
      "P(~t|~c) = 0.7970\n"
     ]
    }
   ],
   "source": [
    "print(\"P(c) = %.4f\"%0.023)\n",
    "print(\"P(~c) = %.4f\"% (1-0.023))\n",
    "print(\"P(t|c) = %.4f\"%(0.721))\n",
    "print(\"P(~t|c) = %.4f\"%(1-0.721))\n",
    "print(\"P(t|~c) = %.4f\"%(0.203))\n",
    "print(\"P(~t|~c) = %.4f\"%(1-0.203))\n"
   ]
  },
  {
   "cell_type": "code",
   "execution_count": 13,
   "metadata": {},
   "outputs": [],
   "source": [
    "p1_prior = {\"c\": 0.023, \"~c\": 0.977}\n",
    "p1_likelihoods = {\"c\": {\"t\": 0.721, \"~t\": 0.279}, \"~c\": {\"t\": 0.203, \"~t\": 0.797}}"
   ]
  },
  {
   "cell_type": "markdown",
   "metadata": {
    "collapsed": true
   },
   "source": [
    "Calculate `P(C|T)`. Please explain each individual probability and the difference between the prior and the posterior and the reason for the difference."
   ]
  },
  {
   "cell_type": "markdown",
   "metadata": {
    "collapsed": true
   },
   "source": [
    "We can use the generic Bayes Rule code from Fundamentals and the lab for this calculation:"
   ]
  },
  {
   "cell_type": "code",
   "execution_count": 14,
   "metadata": {},
   "outputs": [],
   "source": [
    "def normalize(dist):\n",
    "    normalizer = sum( dist.values())\n",
    "    for k in dist.keys():\n",
    "        dist[ k] = dist[ k] / normalizer\n",
    "    return dist # don't need to do this.\n",
    "\n",
    "def query(prior, likelihoods, evidence):\n",
    "    posterior = {}\n",
    "    for k in prior.keys():\n",
    "        posterior[ k] = likelihoods[ k][ evidence] * prior[ k]\n",
    "    normalize( posterior)\n",
    "    return posterior"
   ]
  },
  {
   "cell_type": "markdown",
   "metadata": {},
   "source": [
    "Let's start with \"t\" condition detected as evidence"
   ]
  },
  {
   "cell_type": "code",
   "execution_count": 15,
   "metadata": {},
   "outputs": [
    {
     "name": "stdout",
     "output_type": "stream",
     "text": [
      "{'c': 0.07716109699693831, '~c': 0.9228389030030617}\n"
     ]
    }
   ],
   "source": [
    "print(query(p1_prior, p1_likelihoods, \"t\"))"
   ]
  },
  {
   "cell_type": "markdown",
   "metadata": {},
   "source": [
    "`P(c|t)` = 0.0772 is the probability of having the genetic condition if the test detects the condition. This is higher than prior with the positive test result.\n",
    "\n",
    "`P(~c|t)` = 0.9228 is the probability of not having the genetic condition if the test detects the condition. This is lower than prior with the positive test result.\n"
   ]
  },
  {
   "cell_type": "markdown",
   "metadata": {},
   "source": [
    "Now let's use \"~t\" condition not detected as evidence"
   ]
  },
  {
   "cell_type": "code",
   "execution_count": 16,
   "metadata": {},
   "outputs": [
    {
     "name": "stdout",
     "output_type": "stream",
     "text": [
      "{'c': 0.008173626838333635, '~c': 0.9918263731616663}\n"
     ]
    }
   ],
   "source": [
    "print(query(p1_prior, p1_likelihoods, \"~t\"))"
   ]
  },
  {
   "cell_type": "markdown",
   "metadata": {},
   "source": [
    "`P(c|~t)` = 0.0082 is the probability of having the genetic condition if the test does not detect the condition. This is lower than prior with the negative test result.\n",
    "\n",
    "`P(~c|~t)` = 0.9918 is the probability of not having the genetic condition if the test does not detect the condition. This is higher than prior with the negative test result."
   ]
  },
  {
   "cell_type": "markdown",
   "metadata": {},
   "source": [
    "**Part 2.** Assume the true positive rate is 97.3% but the false positive rate is 37.2%. Recalculate P(C|T) and describe how the posterior distribution changes between Part 1 and Part 2 and *why*.\n",
    "\n"
   ]
  },
  {
   "cell_type": "code",
   "execution_count": 17,
   "metadata": {},
   "outputs": [],
   "source": [
    "p2_prior = {\"c\": 0.023, \"~c\": 0.977}\n",
    "p2_likelihoods = {\"c\": {\"t\": 0.973, \"~t\": 0.027}, \"~c\": {\"t\": 0.372, \"~t\": 0.628}}"
   ]
  },
  {
   "cell_type": "markdown",
   "metadata": {},
   "source": [
    "Let's start with \"t\" condition detected as evidence"
   ]
  },
  {
   "cell_type": "code",
   "execution_count": 18,
   "metadata": {},
   "outputs": [
    {
     "name": "stdout",
     "output_type": "stream",
     "text": [
      "{'c': 0.058003281297382484, '~c': 0.9419967187026176}\n"
     ]
    }
   ],
   "source": [
    "print(query(p2_prior, p2_likelihoods, \"t\"))"
   ]
  },
  {
   "cell_type": "markdown",
   "metadata": {},
   "source": [
    "`P(c|t)` = 0.0580 is the probability of having the genetic condition if the test detects the condition. This is lower than part 1 which means if someone gets a positive test result, they have a lower probability having the genetic condition.\n",
    "\n",
    "`P(~c|t)` = 0.9420 is the probability of not having the genetic condition if the test detects the condition. This is higher than part 1 which means if someone gets a positive test result, they have a higher probability NOT having the genetic condition.\n"
   ]
  },
  {
   "cell_type": "markdown",
   "metadata": {},
   "source": [
    "Now let's use \"~t\" condition not detected as evidence"
   ]
  },
  {
   "cell_type": "code",
   "execution_count": 19,
   "metadata": {},
   "outputs": [
    {
     "name": "stdout",
     "output_type": "stream",
     "text": [
      "{'c': 0.001011109175368013, '~c': 0.998988890824632}\n"
     ]
    }
   ],
   "source": [
    "print(query(p2_prior, p2_likelihoods, \"~t\"))"
   ]
  },
  {
   "cell_type": "markdown",
   "metadata": {
    "collapsed": true
   },
   "source": [
    "`P(c|~t)` = 0.0010 is the probability of having the genetic condition if the test does not detect the condition. This is lower than part 1 which means if someone gets a negative test result, they have a higher probability having the genetic condition.\n",
    "\n",
    "`P(~c|~t)` = 0.9999 is the probability of not having the genetic condition if the test does not detect the condition. This is higher than part 1 which means if someone gets a negative test result, they have a higher probability NOT having the genetic condition."
   ]
  }
 ],
 "metadata": {
  "kernelspec": {
   "display_name": "Python 3",
   "language": "python",
   "name": "python3"
  },
  "language_info": {
   "codemirror_mode": {
    "name": "ipython",
    "version": 3
   },
   "file_extension": ".py",
   "mimetype": "text/x-python",
   "name": "python",
   "nbconvert_exporter": "python",
   "pygments_lexer": "ipython3",
   "version": "3.7.1"
  },
  "toc": {
   "colors": {
    "hover_highlight": "#DAA520",
    "navigate_num": "#000000",
    "navigate_text": "#333333",
    "running_highlight": "#FF0000",
    "selected_highlight": "#FFD700",
    "sidebar_border": "#EEEEEE",
    "wrapper_background": "#FFFFFF"
   },
   "moveMenuLeft": true,
   "nav_menu": {
    "height": "99px",
    "width": "252px"
   },
   "navigate_menu": true,
   "number_sections": true,
   "sideBar": true,
   "threshold": 4,
   "toc_cell": false,
   "toc_section_display": "block",
   "toc_window_display": false,
   "widenNotebook": false
  }
 },
 "nbformat": 4,
 "nbformat_minor": 1
}
