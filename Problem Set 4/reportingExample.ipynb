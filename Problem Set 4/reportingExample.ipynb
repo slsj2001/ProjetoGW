{
 "cells": [
  {
   "cell_type": "code",
   "execution_count": 1,
   "metadata": {},
   "outputs": [],
   "source": [
    "%matplotlib inline"
   ]
  },
  {
   "cell_type": "code",
   "execution_count": 2,
   "metadata": {},
   "outputs": [],
   "source": [
    "import numpy as np\n",
    "import scipy.stats as stats\n",
    "import seaborn as sns\n",
    "import matplotlib.pyplot as plt\n",
    "import pandas as pd\n",
    "\n",
    "sns.set(style=\"whitegrid\")\n",
    "\n",
    "pd.set_option('display.max_rows', 500)\n",
    "pd.set_option('display.max_columns', 500)\n",
    "pd.set_option('display.width', 200)"
   ]
  },
  {
   "cell_type": "markdown",
   "metadata": {},
   "source": [
    "# Email Provider Comparison\n",
    "\n",
    "Marketing engaged two email providers to provide sample email lists for a marketing test. Each email list had 50,000 email addresses. There was one duplicate email so there were only 99,999 sends.\n",
    "\n",
    "This analysis seeks to determine which of the two email list providers, Provider A or Provider B, supplied us with the better list.\n",
    "\n",
    "We will look at:\n",
    "\n",
    "* sends\n",
    "* opens (and open rate)\n",
    "* clicks (and click \"through\" rate)\n",
    "* purchases (and the purchase or conversion rate)\n",
    "\n",
    "We are also interested in our experience with each list compared to the industry benchmark of 14.92% open rate and a 2.3% click rate."
   ]
  },
  {
   "cell_type": "markdown",
   "metadata": {},
   "source": [
    "We'll start by loading the relevant data from the sends table: email, send_date, opened, opened_date, clicked:"
   ]
  },
  {
   "cell_type": "code",
   "execution_count": 3,
   "metadata": {},
   "outputs": [],
   "source": [
    "import sqlite3"
   ]
  },
  {
   "cell_type": "code",
   "execution_count": 4,
   "metadata": {},
   "outputs": [],
   "source": [
    "data = pd.read_sql_query(\"SELECT * FROM sends\", sqlite3.connect('reporting.db'))"
   ]
  },
  {
   "cell_type": "code",
   "execution_count": 5,
   "metadata": {},
   "outputs": [
    {
     "name": "stdout",
     "output_type": "stream",
     "text": [
      "<class 'pandas.core.frame.DataFrame'>\n",
      "RangeIndex: 99999 entries, 0 to 99998\n",
      "Data columns (total 6 columns):\n",
      "email         99999 non-null object\n",
      "send_date     99999 non-null object\n",
      "opened        99999 non-null int64\n",
      "open_date     99999 non-null object\n",
      "clicked       99999 non-null int64\n",
      "click_date    99999 non-null object\n",
      "dtypes: int64(2), object(4)\n",
      "memory usage: 4.6+ MB\n"
     ]
    }
   ],
   "source": [
    "data.info()"
   ]
  },
  {
   "cell_type": "markdown",
   "metadata": {},
   "source": [
    "As previously mentioned, there are 99,999 records for this test because there was one email address that was in both lists and we do not send the same email to the same person more than once.\n",
    "\n",
    "All the variables have the same counts so there are no missing values.\n",
    "\n",
    "Let's see a sampling of the data:"
   ]
  },
  {
   "cell_type": "code",
   "execution_count": 6,
   "metadata": {},
   "outputs": [
    {
     "data": {
      "text/html": [
       "<div>\n",
       "<style scoped>\n",
       "    .dataframe tbody tr th:only-of-type {\n",
       "        vertical-align: middle;\n",
       "    }\n",
       "\n",
       "    .dataframe tbody tr th {\n",
       "        vertical-align: top;\n",
       "    }\n",
       "\n",
       "    .dataframe thead th {\n",
       "        text-align: right;\n",
       "    }\n",
       "</style>\n",
       "<table border=\"1\" class=\"dataframe\">\n",
       "  <thead>\n",
       "    <tr style=\"text-align: right;\">\n",
       "      <th></th>\n",
       "      <th>email</th>\n",
       "      <th>send_date</th>\n",
       "      <th>opened</th>\n",
       "      <th>open_date</th>\n",
       "      <th>clicked</th>\n",
       "      <th>click_date</th>\n",
       "    </tr>\n",
       "  </thead>\n",
       "  <tbody>\n",
       "    <tr>\n",
       "      <th>0</th>\n",
       "      <td>allen.carter3056@gmail.com</td>\n",
       "      <td>2017-08-01</td>\n",
       "      <td>0</td>\n",
       "      <td></td>\n",
       "      <td>0</td>\n",
       "      <td></td>\n",
       "    </tr>\n",
       "    <tr>\n",
       "      <th>1</th>\n",
       "      <td>christina.ryan1627@gmail.com</td>\n",
       "      <td>2017-08-01</td>\n",
       "      <td>0</td>\n",
       "      <td></td>\n",
       "      <td>0</td>\n",
       "      <td></td>\n",
       "    </tr>\n",
       "    <tr>\n",
       "      <th>2</th>\n",
       "      <td>jose.woods6517@gmail.com</td>\n",
       "      <td>2017-08-01</td>\n",
       "      <td>0</td>\n",
       "      <td></td>\n",
       "      <td>0</td>\n",
       "      <td></td>\n",
       "    </tr>\n",
       "    <tr>\n",
       "      <th>3</th>\n",
       "      <td>kayla.miller5652@yahoo.com</td>\n",
       "      <td>2017-08-01</td>\n",
       "      <td>0</td>\n",
       "      <td></td>\n",
       "      <td>0</td>\n",
       "      <td></td>\n",
       "    </tr>\n",
       "    <tr>\n",
       "      <th>4</th>\n",
       "      <td>paul.rich5663@verizon.net</td>\n",
       "      <td>2017-08-01</td>\n",
       "      <td>0</td>\n",
       "      <td></td>\n",
       "      <td>0</td>\n",
       "      <td></td>\n",
       "    </tr>\n",
       "  </tbody>\n",
       "</table>\n",
       "</div>"
      ],
      "text/plain": [
       "                          email   send_date  opened open_date  clicked click_date\n",
       "0    allen.carter3056@gmail.com  2017-08-01       0                  0           \n",
       "1  christina.ryan1627@gmail.com  2017-08-01       0                  0           \n",
       "2      jose.woods6517@gmail.com  2017-08-01       0                  0           \n",
       "3    kayla.miller5652@yahoo.com  2017-08-01       0                  0           \n",
       "4     paul.rich5663@verizon.net  2017-08-01       0                  0           "
      ]
     },
     "execution_count": 6,
     "metadata": {},
     "output_type": "execute_result"
    }
   ],
   "source": [
    "data.head()"
   ]
  },
  {
   "cell_type": "markdown",
   "metadata": {},
   "source": [
    "We are mostly interested in the opened and clicked counts because they allow us to calculate the open and click rates. However, we will need to pull in information about which list they were on (\"campaigns\" table) and what they purchased, if anything (\"purchases\" table). \n",
    "\n",
    "Additionally, based on early discussions, it was suggested that the email provider of each person contains some information about them.\n",
    "\n",
    "Let's start by getting all the information we need from the database. The relevant tables are:\n",
    "\n",
    "```\n",
    "CREATE TABLE sends (\n",
    "  \"email\" TEXT,\n",
    "  \"send_date\" TEXT,\n",
    "  \"opened\" INT,\n",
    "  \"open_date\" TEXT,\n",
    "  \"clicked\" INT,\n",
    "  \"click_date\" TEXT\n",
    ");\n",
    "```\n",
    "\n",
    "```\n",
    "CREATE TABLE purchases(\n",
    "  \"email\" TEXT,\n",
    "  \"purchases\" INT,\n",
    "  \"unit_price\" REAL,\n",
    "  \"total\" REAL\n",
    ");\n",
    "```\n",
    "\n",
    "```\n",
    "CREATE TABLE campaigns(\n",
    "  \"first_name\" TEXT,\n",
    "  \"last_name\" TEXT,\n",
    "  \"email\" TEXT,\n",
    "  \"list_provider\" TEXT\n",
    ");\n",
    "```\n",
    "\n",
    "(There are a variety of different ways this could have been done but the easiest is probably to just pull the information all at once from the database):"
   ]
  },
  {
   "cell_type": "code",
   "execution_count": 7,
   "metadata": {},
   "outputs": [],
   "source": [
    "sql = \"\"\"\n",
    "SELECT s.*, c.list_provider, p.purchases, p.unit_price, p.total\n",
    "FROM sends s\n",
    "JOIN campaigns c ON s.email = c.email\n",
    "LEFT JOIN purchases p ON s.email = p.email\n",
    "\"\"\""
   ]
  },
  {
   "cell_type": "code",
   "execution_count": 8,
   "metadata": {},
   "outputs": [],
   "source": [
    "data = pd.read_sql_query(sql, sqlite3.connect('reporting.db'))"
   ]
  },
  {
   "cell_type": "code",
   "execution_count": 9,
   "metadata": {},
   "outputs": [
    {
     "name": "stdout",
     "output_type": "stream",
     "text": [
      "<class 'pandas.core.frame.DataFrame'>\n",
      "RangeIndex: 100000 entries, 0 to 99999\n",
      "Data columns (total 10 columns):\n",
      "email            100000 non-null object\n",
      "send_date        100000 non-null object\n",
      "opened           100000 non-null int64\n",
      "open_date        100000 non-null object\n",
      "clicked          100000 non-null int64\n",
      "click_date       100000 non-null object\n",
      "list_provider    100000 non-null object\n",
      "purchases        318 non-null float64\n",
      "unit_price       318 non-null float64\n",
      "total            318 non-null float64\n",
      "dtypes: float64(3), int64(2), object(5)\n",
      "memory usage: 7.6+ MB\n"
     ]
    }
   ],
   "source": [
    "data.info()"
   ]
  },
  {
   "cell_type": "markdown",
   "metadata": {},
   "source": [
    "Now we have a bit of a problem. Because we joined campaigns, we picked up our duplicate email address. What should we do about her? (You did make notes about who it was, right?)\n",
    "\n",
    "```\n",
    "Jessica,Kelley,jessica.kelley9303@gmail.com\n",
    "```\n",
    "\n",
    "Logically, if List A was sent out first (we checked with Engineering), then she only received the email as a member of List A and we can delete her from List B:"
   ]
  },
  {
   "cell_type": "code",
   "execution_count": 10,
   "metadata": {},
   "outputs": [],
   "source": [
    "data = data.drop(data[(data.email == 'jessica.kelley9303@gmail.com') & (data.list_provider == 'B')].index)"
   ]
  },
  {
   "cell_type": "code",
   "execution_count": 11,
   "metadata": {},
   "outputs": [
    {
     "name": "stdout",
     "output_type": "stream",
     "text": [
      "<class 'pandas.core.frame.DataFrame'>\n",
      "Int64Index: 99999 entries, 0 to 99999\n",
      "Data columns (total 10 columns):\n",
      "email            99999 non-null object\n",
      "send_date        99999 non-null object\n",
      "opened           99999 non-null int64\n",
      "open_date        99999 non-null object\n",
      "clicked          99999 non-null int64\n",
      "click_date       99999 non-null object\n",
      "list_provider    99999 non-null object\n",
      "purchases        318 non-null float64\n",
      "unit_price       318 non-null float64\n",
      "total            318 non-null float64\n",
      "dtypes: float64(3), int64(2), object(5)\n",
      "memory usage: 8.4+ MB\n"
     ]
    }
   ],
   "source": [
    "data.info()"
   ]
  },
  {
   "cell_type": "markdown",
   "metadata": {},
   "source": [
    "## Single Variable Analysis\n",
    "\n",
    "Before we start comparing the different variables against the List Provider, we will look at each variable individually and see if there are any overall problems or patterns. We'll start with sends:\n",
    "\n",
    "### sends\n",
    "\n",
    "The total sends is the number of rows of data:"
   ]
  },
  {
   "cell_type": "code",
   "execution_count": 12,
   "metadata": {},
   "outputs": [
    {
     "data": {
      "text/plain": [
       "99999"
      ]
     },
     "execution_count": 12,
     "metadata": {},
     "output_type": "execute_result"
    }
   ],
   "source": [
    "sends = data.send_date.size\n",
    "sends"
   ]
  },
  {
   "cell_type": "markdown",
   "metadata": {},
   "source": [
    "There were 99,999 total sends."
   ]
  },
  {
   "cell_type": "markdown",
   "metadata": {},
   "source": [
    "### opened\n",
    "\n",
    "Opens are the number of sends that were opened by their recipient, assuming that they received them."
   ]
  },
  {
   "cell_type": "code",
   "execution_count": 13,
   "metadata": {},
   "outputs": [
    {
     "data": {
      "text/plain": [
       "0    83700\n",
       "1    16299\n",
       "Name: opened, dtype: int64"
      ]
     },
     "execution_count": 13,
     "metadata": {},
     "output_type": "execute_result"
    }
   ],
   "source": [
    "data.opened.value_counts()"
   ]
  },
  {
   "cell_type": "markdown",
   "metadata": {},
   "source": [
    "The overall open *rate* is the relative frequency of opens:"
   ]
  },
  {
   "cell_type": "code",
   "execution_count": 14,
   "metadata": {},
   "outputs": [
    {
     "data": {
      "text/plain": [
       "0    0.837008\n",
       "1    0.162992\n",
       "Name: opened, dtype: float64"
      ]
     },
     "execution_count": 14,
     "metadata": {},
     "output_type": "execute_result"
    }
   ],
   "source": [
    "data.opened.value_counts(normalize=True)"
   ]
  },
  {
   "cell_type": "markdown",
   "metadata": {},
   "source": [
    "Our overall open rate was 16.3%"
   ]
  },
  {
   "cell_type": "markdown",
   "metadata": {},
   "source": [
    "### clicked\n",
    "\n",
    "Clicks are the number of emails that were opened and the recipient clicked something, taking them to our website."
   ]
  },
  {
   "cell_type": "code",
   "execution_count": 15,
   "metadata": {},
   "outputs": [
    {
     "data": {
      "text/plain": [
       "0    97794\n",
       "1     2205\n",
       "Name: clicked, dtype: int64"
      ]
     },
     "execution_count": 15,
     "metadata": {},
     "output_type": "execute_result"
    }
   ],
   "source": [
    "data.clicked.value_counts()"
   ]
  },
  {
   "cell_type": "markdown",
   "metadata": {},
   "source": [
    "The overall click *rate* is the relative frequency of clicks:"
   ]
  },
  {
   "cell_type": "code",
   "execution_count": 16,
   "metadata": {},
   "outputs": [
    {
     "data": {
      "text/plain": [
       "0    0.97795\n",
       "1    0.02205\n",
       "Name: clicked, dtype: float64"
      ]
     },
     "execution_count": 16,
     "metadata": {},
     "output_type": "execute_result"
    }
   ],
   "source": [
    "data.clicked.value_counts(normalize=True)"
   ]
  },
  {
   "cell_type": "markdown",
   "metadata": {},
   "source": [
    "The overall click rate is 2.2%"
   ]
  },
  {
   "cell_type": "markdown",
   "metadata": {},
   "source": [
    "### purchases\n",
    "\n",
    "The purchase variable represents how many items were purchased. This is a discrete numerical variable with bounded domain (10) because we limited the number of items anyone could buy. Typically, we'll see something like an exponential distribution with a large number buying 1 item, about half that number buying 2, etc (technically, a *geometric* distribution).\n",
    "\n",
    "We can first look just at the raw counts:"
   ]
  },
  {
   "cell_type": "code",
   "execution_count": 17,
   "metadata": {},
   "outputs": [
    {
     "data": {
      "text/plain": [
       "1.0     101\n",
       "2.0      50\n",
       "3.0      42\n",
       "4.0      40\n",
       "5.0      19\n",
       "6.0      10\n",
       "7.0       7\n",
       "8.0       4\n",
       "9.0       8\n",
       "10.0     37\n",
       "Name: purchases, dtype: int64"
      ]
     },
     "execution_count": 17,
     "metadata": {},
     "output_type": "execute_result"
    }
   ],
   "source": [
    "data.purchases.value_counts().sort_index()"
   ]
  },
  {
   "cell_type": "markdown",
   "metadata": {},
   "source": [
    "That's a little bit odd. Let's plot the data using a bar chart:"
   ]
  },
  {
   "cell_type": "code",
   "execution_count": 18,
   "metadata": {},
   "outputs": [
    {
     "data": {
      "image/png": "[encoded data removed]",
      "text/plain": [
       "<Figure size 720x432 with 1 Axes>"
      ]
     },
     "metadata": {},
     "output_type": "display_data"
    }
   ],
   "source": [
    "counts = data.purchases.value_counts().sort_index()\n",
    "x = range( len( counts))\n",
    "width = 1/1.5\n",
    "\n",
    "figure = plt.figure(figsize=(10, 6))\n",
    "\n",
    "axes = figure.add_subplot(1, 1, 1)\n",
    "axes.bar(x, counts, width, color=\"dimgray\", align=\"center\")\n",
    "axes.set_xticks(x)\n",
    "axes.set_xticklabels(counts.axes[0])\n",
    "axes.set_title( \"Counts of Items Purchased\")\n",
    "axes.set_xlabel(\"Items Purchased\")\n",
    "axes.set_ylabel( \"Counts\")\n",
    "axes.xaxis.grid(False)\n",
    "\n",
    "plt.show()\n",
    "plt.close()"
   ]
  },
  {
   "cell_type": "markdown",
   "metadata": {},
   "source": [
    "The overall distribution fits our expectations although it flattens a bit more than expected with 3-4 items. Additionally, there is a strange spike in purchases at 10 items. This is interesting but germane to the current question and so we'll leave it for later. Whenever data departs from a well known pattern it generally indicates that more than one process is present."
   ]
  },
  {
   "cell_type": "markdown",
   "metadata": {},
   "source": [
    "### Total\n",
    "\n",
    "The total purchase in dollars should follow approximately the same pattern as purchases."
   ]
  },
  {
   "cell_type": "code",
   "execution_count": 19,
   "metadata": {},
   "outputs": [
    {
     "data": {
      "text/plain": [
       "count    318.000000\n",
       "mean      31.419340\n",
       "std       23.278998\n",
       "min        9.990000\n",
       "25%        9.990000\n",
       "50%       26.970000\n",
       "75%       44.950000\n",
       "max       79.900000\n",
       "Name: total, dtype: float64"
      ]
     },
     "execution_count": 19,
     "metadata": {},
     "output_type": "execute_result"
    }
   ],
   "source": [
    "data.total.describe()"
   ]
  },
  {
   "cell_type": "markdown",
   "metadata": {},
   "source": [
    "The minimum is \\$9.99 which represents buying 1 item at the per unit price of \\$9.99. At the other extreme, the maximum total paid is 10 items at \\$7.99 each or \\$79.99. (Note that the `describe()` function dropped missing values).\n",
    "\n",
    "The 1st quartile is still \\$9.99 which support our intuition. The mean is \\$31.42 and the median is slightly smaller at \\$26.97.\n",
    "\n",
    "Let's plot a histogram of the values:"
   ]
  },
  {
   "cell_type": "code",
   "execution_count": 20,
   "metadata": {},
   "outputs": [
    {
     "data": {
      "image/png": "[encoded data removed]",
      "text/plain": [
       "<Figure size 720x432 with 1 Axes>"
      ]
     },
     "metadata": {},
     "output_type": "display_data"
    }
   ],
   "source": [
    "figure = plt.figure(figsize=(10, 6))\n",
    "\n",
    "axes = figure.add_subplot(1, 1, 1)\n",
    "\n",
    "axes.hist( data.purchases[data.purchases > 0], density=True, color=\"DimGray\")\n",
    "axes.set_ylabel( \"Density\")\n",
    "axes.set_xlabel( \"X\")\n",
    "axes.set_title(\"Density Histogram of Purchases; default bins\")\n",
    "\n",
    "plt.show()\n",
    "plt.close()"
   ]
  },
  {
   "cell_type": "markdown",
   "metadata": {},
   "source": [
    "### List Provider\n",
    "\n",
    "The final variable we need to look at is List Provider. As we have already seen, we expect the count for List A to be 50,000 and the count for List B to be 49,999:"
   ]
  },
  {
   "cell_type": "code",
   "execution_count": 21,
   "metadata": {},
   "outputs": [
    {
     "data": {
      "text/plain": [
       "A    50000\n",
       "B    49999\n",
       "Name: list_provider, dtype: int64"
      ]
     },
     "execution_count": 21,
     "metadata": {},
     "output_type": "execute_result"
    }
   ],
   "source": [
    "data.list_provider.value_counts()"
   ]
  },
  {
   "cell_type": "markdown",
   "metadata": {},
   "source": [
    "## New Variables\n",
    "\n",
    "There are two new variables we want to create from the data we already have. First, we want to create a true/false *purchased* variable to act just like the opened and clicked variables. Second, we want to create an email provider variable that indicates what kind of email the person has.\n",
    "\n",
    "### Purchased"
   ]
  },
  {
   "cell_type": "code",
   "execution_count": 22,
   "metadata": {},
   "outputs": [],
   "source": [
    "data[\"purchased\"] = data[\"purchases\"].apply(lambda x: 1 if x > 0 else 0)"
   ]
  },
  {
   "cell_type": "code",
   "execution_count": 23,
   "metadata": {},
   "outputs": [
    {
     "data": {
      "text/plain": [
       "0    99681\n",
       "1      318\n",
       "Name: purchased, dtype: int64"
      ]
     },
     "execution_count": 23,
     "metadata": {},
     "output_type": "execute_result"
    }
   ],
   "source": [
    "data.purchased.value_counts()"
   ]
  },
  {
   "cell_type": "markdown",
   "metadata": {},
   "source": [
    "gives us the same kind of boolean (Bernoulli trial) variable. We can also get the purchase or conversion rate from it:"
   ]
  },
  {
   "cell_type": "code",
   "execution_count": 24,
   "metadata": {},
   "outputs": [
    {
     "data": {
      "text/plain": [
       "0    0.99682\n",
       "1    0.00318\n",
       "Name: purchased, dtype: float64"
      ]
     },
     "execution_count": 24,
     "metadata": {},
     "output_type": "execute_result"
    }
   ],
   "source": [
    "data.purchased.value_counts(normalize=True)"
   ]
  },
  {
   "cell_type": "markdown",
   "metadata": {},
   "source": [
    "our conversion rate is about 0.3%"
   ]
  },
  {
   "cell_type": "markdown",
   "metadata": {},
   "source": [
    "### Provider\n",
    "\n",
    "Now we want to create a provider variable:"
   ]
  },
  {
   "cell_type": "code",
   "execution_count": 25,
   "metadata": {},
   "outputs": [],
   "source": [
    "data[\"provider\"] = data[\"email\"].apply(lambda x: x[x.index('@')+1:])"
   ]
  },
  {
   "cell_type": "markdown",
   "metadata": {},
   "source": [
    "What distribution do we expect to see? More gmail addresses than the others."
   ]
  },
  {
   "cell_type": "code",
   "execution_count": 26,
   "metadata": {},
   "outputs": [
    {
     "data": {
      "text/plain": [
       "gmail.com      42267\n",
       "yahoo.com      35390\n",
       "aol.com         9066\n",
       "msn.com         5456\n",
       "comcast.net     4398\n",
       "verizon.net     3422\n",
       "Name: provider, dtype: int64"
      ]
     },
     "execution_count": 26,
     "metadata": {},
     "output_type": "execute_result"
    }
   ],
   "source": [
    "data.provider.value_counts()"
   ]
  },
  {
   "cell_type": "markdown",
   "metadata": {},
   "source": [
    "Gmail is the most common but Yahoo is not far away, at least in this data set. There are also some AOL and MSN emails as well as the internet providers, Comcast and Verizon. Let's look at the percentages:"
   ]
  },
  {
   "cell_type": "code",
   "execution_count": 27,
   "metadata": {},
   "outputs": [
    {
     "data": {
      "image/png": "[encoded data removed]",
      "text/plain": [
       "<Figure size 720x432 with 1 Axes>"
      ]
     },
     "metadata": {},
     "output_type": "display_data"
    }
   ],
   "source": [
    "percents = data.provider.value_counts(normalize=True)\n",
    "x = range( len( percents))\n",
    "width = 1/1.5\n",
    "\n",
    "figure = plt.figure(figsize=(10, 6))\n",
    "\n",
    "axes = figure.add_subplot(1, 1, 1)\n",
    "axes.bar(x, percents, width, color=\"dimgray\", align=\"center\")\n",
    "axes.set_xticks(x)\n",
    "axes.set_xticklabels(percents.axes[0])\n",
    "axes.set_title( \"Distribution of Providers\")\n",
    "axes.set_xlabel(\"Providers\")\n",
    "axes.set_ylabel( \"Percents\")\n",
    "axes.xaxis.grid(False)\n",
    "\n",
    "plt.show()\n",
    "plt.close()"
   ]
  },
  {
   "cell_type": "markdown",
   "metadata": {},
   "source": [
    "The providers are dominated by gmail and yahoo. The other providers account about 20% of the recipients."
   ]
  },
  {
   "cell_type": "markdown",
   "metadata": {},
   "source": [
    "## From Overall to List Provider\n",
    "\n",
    "The previous analysis focused on the overall data but Marketing is interested in comparing the rates between the two List Providers. In the following analysis, we look at the rates by List Provider. We start with opens:"
   ]
  },
  {
   "cell_type": "code",
   "execution_count": 28,
   "metadata": {},
   "outputs": [],
   "source": [
    "def bootstrap(series, f, resamples=100):\n",
    "    n = series.size\n",
    "    results = []\n",
    "    for _ in range(0, resamples):\n",
    "        resample = series.sample(n=n, replace=True)\n",
    "        result = f(resample)\n",
    "        results.append(result)\n",
    "    return pd.Series(results)"
   ]
  },
  {
   "cell_type": "markdown",
   "metadata": {},
   "source": [
    "## Open Rates by List Provider\n",
    "\n",
    "We look at a crosstab of frequencies to get the open rates per provider:"
   ]
  },
  {
   "cell_type": "code",
   "execution_count": 29,
   "metadata": {},
   "outputs": [
    {
     "name": "stdout",
     "output_type": "stream",
     "text": [
      "list_provider        A         B\n",
      "opened                          \n",
      "0              0.82584  0.848177\n",
      "1              0.17416  0.151823\n"
     ]
    }
   ],
   "source": [
    "frequencies = pd.crosstab( data.opened, data.list_provider).apply(lambda r: r/r.sum(), axis=0)\n",
    "print( frequencies)"
   ]
  },
  {
   "cell_type": "markdown",
   "metadata": {},
   "source": [
    "The open rate was 17.4% for List A and 15.2% for List B, a difference of 2.2 percentage *points* or a *lift* of 14.5%. \n",
    "\n",
    "The observed open rate is 17.4% for List A and 15.2% for List B with a difference of 2.2 percentage points. But these are just estimates. All we really observed were sends and opens for particular lists. The observed data (*opens*) is consistent with a variety of actual open *rates*. \n",
    "\n",
    "1. How confident are we in possible values of the open rate for each list?\n",
    "2. What is the probability that the difference between the two lists greater than zero?\n",
    "3. What is the probability that the open rate is different from the industry standard of 14.92 if we take 14-16% as a Region of Practical Equivalence?\n",
    "\n",
    "We can answer these questions by calculating bootstrap samples.\n",
    "\n",
    "(Setting the seed like this is not necessary in general but it is necessary if you're to get the same results I did)"
   ]
  },
  {
   "cell_type": "code",
   "execution_count": 30,
   "metadata": {},
   "outputs": [],
   "source": [
    "np.random.seed(746475)"
   ]
  },
  {
   "cell_type": "code",
   "execution_count": 31,
   "metadata": {},
   "outputs": [],
   "source": [
    "inference = {}\n",
    "inference[\"opened\"] = {}"
   ]
  },
  {
   "cell_type": "code",
   "execution_count": 32,
   "metadata": {},
   "outputs": [
    {
     "data": {
      "text/plain": [
       "count    100.000000\n",
       "mean       0.174006\n",
       "std        0.001634\n",
       "min        0.169380\n",
       "25%        0.172820\n",
       "50%        0.174050\n",
       "75%        0.175085\n",
       "max        0.178840\n",
       "dtype: float64"
      ]
     },
     "execution_count": 32,
     "metadata": {},
     "output_type": "execute_result"
    }
   ],
   "source": [
    "inference[\"opened\"][\"A\"] = bootstrap(data[data.list_provider == \"A\"][\"opened\"], np.mean)\n",
    "inference[\"opened\"][\"A\"].describe()"
   ]
  },
  {
   "cell_type": "markdown",
   "metadata": {},
   "source": [
    "The mean should be about the open rate we observed for List A."
   ]
  },
  {
   "cell_type": "code",
   "execution_count": 33,
   "metadata": {},
   "outputs": [
    {
     "data": {
      "text/plain": [
       "count    100.000000\n",
       "mean       0.151769\n",
       "std        0.001605\n",
       "min        0.148663\n",
       "25%        0.150508\n",
       "50%        0.151823\n",
       "75%        0.152908\n",
       "max        0.157263\n",
       "dtype: float64"
      ]
     },
     "execution_count": 33,
     "metadata": {},
     "output_type": "execute_result"
    }
   ],
   "source": [
    "inference[\"opened\"][\"B\"] = bootstrap(data[data.list_provider == \"B\"][\"opened\"], np.mean)\n",
    "inference[\"opened\"][\"B\"].describe()"
   ]
  },
  {
   "cell_type": "code",
   "execution_count": 34,
   "metadata": {},
   "outputs": [
    {
     "data": {
      "text/plain": [
       "count    100.000000\n",
       "mean       0.022237\n",
       "std        0.002203\n",
       "min        0.016857\n",
       "25%        0.020807\n",
       "50%        0.022437\n",
       "75%        0.023842\n",
       "max        0.027397\n",
       "dtype: float64"
      ]
     },
     "execution_count": 34,
     "metadata": {},
     "output_type": "execute_result"
    }
   ],
   "source": [
    "inference[\"opened\"][\"difference\"] = inference[\"opened\"][\"A\"] - inference[\"opened\"][\"B\"]\n",
    "inference[\"opened\"][\"difference\"].describe()"
   ]
  },
  {
   "cell_type": "code",
   "execution_count": 35,
   "metadata": {},
   "outputs": [
    {
     "data": {
      "image/png": "[encoded data removed]",
      "text/plain": [
       "<Figure size 1440x432 with 3 Axes>"
      ]
     },
     "metadata": {},
     "output_type": "display_data"
    }
   ],
   "source": [
    "ys, bins = np.histogram(inference[\"opened\"][\"A\"], bins=10, density=True)\n",
    "width = 0.7*(bins[ 1] - bins[ 0])\n",
    "center = (bins[ :-1]+bins[1:])/2\n",
    "\n",
    "figure = plt.figure(figsize=(20,6))\n",
    "\n",
    "axes = figure.add_subplot(1, 3, 1)\n",
    "\n",
    "axes.bar( center, ys, align='center', width=width, color=\"dimgray\", alpha=0.8)\n",
    "axes.set_xlim([0.14, 0.18])\n",
    "axes.set_xlabel( r\"$p_1$\")\n",
    "axes.set_title( \"List A\")\n",
    "\n",
    "ys, bins = np.histogram(inference[\"opened\"][\"B\"], bins=10, density=True)\n",
    "width = 0.7*(bins[ 1] - bins[ 0])\n",
    "center = (bins[ :-1]+bins[1:])/2\n",
    "\n",
    "axes = figure.add_subplot(1, 3, 2)\n",
    "\n",
    "axes.bar( center, ys, align='center', width=width, color=\"dimgray\", alpha=0.8)\n",
    "axes.set_xlim([0.14, 0.18])\n",
    "axes.set_xlabel( r\"$p_2$\")\n",
    "axes.set_title( \"List B\")\n",
    "\n",
    "ys, bins = np.histogram(inference[\"opened\"][\"difference\"], bins=10, density=True)\n",
    "width = 0.7*(bins[ 1] - bins[ 0])\n",
    "center = (bins[ :-1]+bins[1:])/2\n",
    "\n",
    "axes = figure.add_subplot(1, 3, 3)\n",
    "\n",
    "axes.bar( center, ys, align='center', width=width, color=\"dimgray\", alpha=0.8)\n",
    "axes.set_xlim([0.01, 0.03])\n",
    "axes.set_xlabel( r\"$p_1 - p_2$\")\n",
    "axes.set_title( \"Difference\")\n",
    "\n",
    "plt.show()\n",
    "plt.close()"
   ]
  },
  {
   "cell_type": "markdown",
   "metadata": {},
   "source": [
    "We can now answer the questions we posed above.\n",
    "\n",
    "**1. How confident are we in possible values of the open rate for each list?**\n",
    "\n",
    "The 95% credible intervals for each open rate are:"
   ]
  },
  {
   "cell_type": "code",
   "execution_count": 36,
   "metadata": {},
   "outputs": [
    {
     "name": "stdout",
     "output_type": "stream",
     "text": [
      "List A open rate (95% CI) [0.1709344 0.1767952]\n",
      "List B open rate (95% CI) [0.14890298 0.15440679]\n"
     ]
    }
   ],
   "source": [
    "print(\"List A open rate (95% CI)\", stats.mstats.mquantiles(inference[\"opened\"][\"A\"], [0.025, 0.975]))\n",
    "print(\"List B open rate (95% CI)\", stats.mstats.mquantiles(inference[\"opened\"][\"B\"], [0.025, 0.975]))"
   ]
  },
  {
   "cell_type": "markdown",
   "metadata": {},
   "source": [
    "Based on the data, there is a 95% probability that the List A open rate is between 17.1% and 17.7%. There is a 95% probability that the List B open rate is between 14.9% and 15.4%."
   ]
  },
  {
   "cell_type": "markdown",
   "metadata": {},
   "source": [
    "**2. How what is the probability that the difference between the two lists greater than zero?**\n",
    "\n",
    "There are a number of ways of answering this question. We could define a ROPE of say -0.5 to 0.5 and ask \"what is the probability of the difference being in that range\". However, since we have observed that List A's open rate is larger than List B's open rate, it's probably easiest to simply answer the questions, what is the probability that List A's open rate is lower than List B's?"
   ]
  },
  {
   "cell_type": "code",
   "execution_count": 37,
   "metadata": {},
   "outputs": [
    {
     "name": "stdout",
     "output_type": "stream",
     "text": [
      "P(difference < 0) 0.0\n"
     ]
    }
   ],
   "source": [
    "print( \"P(difference < 0)\", np.mean(inference[\"opened\"][\"difference\"] < 0))"
   ]
  },
  {
   "cell_type": "markdown",
   "metadata": {},
   "source": [
    "What we can say here is, based on the data the probability that List A's open rate is lower than List B's is vanishingly small."
   ]
  },
  {
   "cell_type": "markdown",
   "metadata": {},
   "source": [
    "**3. What is the probability that the open rate is different from the industry standard of 14.93 if we take 14-16% as a Region of Practical Equivalence?**\n",
    "\n",
    "Here we can look at each posterior distribution and see what the probability of this ROPE is:"
   ]
  },
  {
   "cell_type": "code",
   "execution_count": 38,
   "metadata": {},
   "outputs": [
    {
     "name": "stdout",
     "output_type": "stream",
     "text": [
      "List A P(14% <= open rate <= 16%) 0.0\n",
      "List B P(14% <= open rate <= 16%) 1.0\n"
     ]
    }
   ],
   "source": [
    "print(\"List A P(14% <= open rate <= 16%)\", np.mean((0.14 <= inference[\"opened\"][\"A\"]) & (inference[\"opened\"][\"A\"] <= 0.16)))\n",
    "print(\"List B P(14% <= open rate <= 16%)\", np.mean((0.14 <= inference[\"opened\"][\"B\"]) & (inference[\"opened\"][\"B\"] <= 0.16)))"
   ]
  },
  {
   "cell_type": "markdown",
   "metadata": {},
   "source": [
    "For List A, it's almost certain that the open rate is greater than the industry standard of 14.93%. However, for List B, we are almost certain that the open rate is at the industry standard."
   ]
  },
  {
   "cell_type": "markdown",
   "metadata": {},
   "source": [
    "### Click Rates by List Provider\n",
    "\n",
    "Above, List A had the higher open rate, but List B may still have a higher click rate:"
   ]
  },
  {
   "cell_type": "code",
   "execution_count": 39,
   "metadata": {},
   "outputs": [
    {
     "name": "stdout",
     "output_type": "stream",
     "text": [
      "list_provider        A        B\n",
      "clicked                        \n",
      "0              0.97528  0.98062\n",
      "1              0.02472  0.01938\n"
     ]
    }
   ],
   "source": [
    "frequencies = pd.crosstab( data.clicked, data.list_provider).apply(lambda r: r/r.sum(), axis=0)\n",
    "print( frequencies)"
   ]
  },
  {
   "cell_type": "markdown",
   "metadata": {},
   "source": [
    "List A has the higher click rate but not by much. We'll have to see if the difference is *meaningful* in a moment."
   ]
  },
  {
   "cell_type": "code",
   "execution_count": 40,
   "metadata": {},
   "outputs": [],
   "source": [
    "inference[\"clicked\"] = {}"
   ]
  },
  {
   "cell_type": "code",
   "execution_count": 41,
   "metadata": {},
   "outputs": [],
   "source": [
    "inference[\"clicked\"][\"A\"] = bootstrap(data[data.list_provider == \"A\"][\"clicked\"], np.mean)\n",
    "inference[\"clicked\"][\"B\"] = bootstrap(data[data.list_provider == \"B\"][\"clicked\"], np.mean)\n",
    "inference[\"clicked\"][\"difference\"] = inference[\"clicked\"][\"A\"] - inference[\"clicked\"][\"B\"]"
   ]
  },
  {
   "cell_type": "code",
   "execution_count": 42,
   "metadata": {},
   "outputs": [
    {
     "data": {
      "image/png": "[encoded data removed]",
      "text/plain": [
       "<Figure size 1440x432 with 3 Axes>"
      ]
     },
     "metadata": {},
     "output_type": "display_data"
    }
   ],
   "source": [
    "ys, bins = np.histogram(inference[\"clicked\"][\"A\"], bins=10, density=True)\n",
    "width = 0.7*(bins[ 1] - bins[ 0])\n",
    "center = (bins[ :-1]+bins[1:])/2\n",
    "\n",
    "figure = plt.figure(figsize=(20,6))\n",
    "\n",
    "axes = figure.add_subplot(1, 3, 1)\n",
    "\n",
    "axes.bar( center, ys, align='center', width=width, color=\"dimgray\", alpha=0.8)\n",
    "axes.set_xlim([0.018, 0.027])\n",
    "axes.set_xlabel( r\"$p_1$\")\n",
    "axes.set_title( \"List A\")\n",
    "\n",
    "ys, bins = np.histogram(inference[\"clicked\"][\"B\"], bins=10, density=True)\n",
    "width = 0.7*(bins[ 1] - bins[ 0])\n",
    "center = (bins[ :-1]+bins[1:])/2\n",
    "\n",
    "axes = figure.add_subplot(1, 3, 2)\n",
    "\n",
    "axes.bar( center, ys, align='center', width=width, color=\"dimgray\", alpha=0.8)\n",
    "axes.set_xlim([0.018, 0.027])\n",
    "axes.set_xlabel( r\"$p_2$\")\n",
    "axes.set_title( \"List B\")\n",
    "\n",
    "ys, bins = np.histogram(inference[\"clicked\"][\"difference\"], bins=10, density=True)\n",
    "width = 0.7*(bins[ 1] - bins[ 0])\n",
    "center = (bins[ :-1]+bins[1:])/2\n",
    "\n",
    "axes = figure.add_subplot(1, 3, 3)\n",
    "\n",
    "axes.bar( center, ys, align='center', width=width, color=\"dimgray\", alpha=0.8)\n",
    "axes.set_xlim([0.001, 0.008])\n",
    "axes.set_xlabel( r\"$p_1 - p_2$\")\n",
    "axes.set_title( \"Difference\")\n",
    "\n",
    "plt.show()\n",
    "plt.close()"
   ]
  },
  {
   "cell_type": "markdown",
   "metadata": {},
   "source": [
    "We have the same questions for the click rate that we had for the open rate:\n",
    "\n",
    "**1. How confident are we in possible values of the click rate for each list?**"
   ]
  },
  {
   "cell_type": "code",
   "execution_count": 43,
   "metadata": {},
   "outputs": [
    {
     "name": "stdout",
     "output_type": "stream",
     "text": [
      "List A click rate (95% CI) [0.0234553 0.0259095]\n",
      "List B click rate (95% CI) [0.01827277 0.02072801]\n"
     ]
    }
   ],
   "source": [
    "print(\"List A click rate (95% CI)\", stats.mstats.mquantiles(inference[\"clicked\"][\"A\"], [0.025, 0.975]))\n",
    "print(\"List B click rate (95% CI)\", stats.mstats.mquantiles(inference[\"clicked\"][\"B\"], [0.025, 0.975]))"
   ]
  },
  {
   "cell_type": "markdown",
   "metadata": {},
   "source": [
    "Given the data, there is a 95% probability that the List A click rate is between 2.3% and 2.6% whereas there is 95% probability that the List B click rate is between 1.8% and 2.1%.\n",
    "\n",
    "**2. How what is the probability that the difference between the two lists greater than zero?**\n"
   ]
  },
  {
   "cell_type": "code",
   "execution_count": 44,
   "metadata": {},
   "outputs": [
    {
     "name": "stdout",
     "output_type": "stream",
     "text": [
      "P(difference < 0) 0.0\n"
     ]
    }
   ],
   "source": [
    "print( \"P(difference < 0)\", np.mean(inference[\"clicked\"][\"difference\"] < 0))"
   ]
  },
  {
   "cell_type": "markdown",
   "metadata": {},
   "source": [
    "It is very unlikely that the click rate of List A is less than List B's.\n"
   ]
  },
  {
   "cell_type": "markdown",
   "metadata": {},
   "source": [
    "**3. What is the probability that the open rate is different from the industry standard of 2.3% if we take 2-2.5% as a Region of Practical Equivalence?**"
   ]
  },
  {
   "cell_type": "code",
   "execution_count": 45,
   "metadata": {},
   "outputs": [
    {
     "name": "stdout",
     "output_type": "stream",
     "text": [
      "List A P(2% <= click rate <= 2.5%) 0.66\n",
      "List B P(2% <= click rate <= 2.5%) 0.14\n"
     ]
    }
   ],
   "source": [
    "print(\"List A P(2% <= click rate <= 2.5%)\", np.mean((0.02 <= inference[\"clicked\"][\"A\"]) & (inference[\"clicked\"][\"A\"] <= 0.025)))\n",
    "print(\"List B P(2% <= click rate <= 2.5%)\", np.mean((0.02 <= inference[\"clicked\"][\"B\"]) & (inference[\"clicked\"][\"B\"] <= 0.025)))"
   ]
  },
  {
   "cell_type": "markdown",
   "metadata": {},
   "source": [
    "There is a 66% probability that the List A click rate is at the industry standard whereas there is only a 14% probability that List B is at the industry standard. This makes sense. The observed click rate for List A was 2.3% whereas the observed click rate for List B was 1.9%. Perhaps a better question is, what is the probability that List A's click rate is above the industry average and what is the probability that List B's rate is below the industry average."
   ]
  },
  {
   "cell_type": "markdown",
   "metadata": {},
   "source": [
    "Since we considered 2-2.5% to \"equivalent\" we can ask, what's the probability that List A's click rate is above this ROPE?"
   ]
  },
  {
   "cell_type": "code",
   "execution_count": 46,
   "metadata": {},
   "outputs": [
    {
     "name": "stdout",
     "output_type": "stream",
     "text": [
      "List A P(click rate > 2.5) 0.34\n"
     ]
    }
   ],
   "source": [
    "print(\"List A P(click rate > 2.5)\", np.mean(0.025 < inference[\"clicked\"][\"A\"]))"
   ]
  },
  {
   "cell_type": "markdown",
   "metadata": {},
   "source": [
    "Given the data, there is a 34% probability that List A's click rate is above the industry average.\n",
    "\n",
    "We can do the same thing for List B but *below* the ROPE:"
   ]
  },
  {
   "cell_type": "code",
   "execution_count": 47,
   "metadata": {},
   "outputs": [
    {
     "name": "stdout",
     "output_type": "stream",
     "text": [
      "List B P(click rate < 2.0) 0.86\n"
     ]
    }
   ],
   "source": [
    "print(\"List B P(click rate < 2.0)\", np.mean(0.02 > inference[\"clicked\"][\"B\"]))"
   ]
  },
  {
   "cell_type": "markdown",
   "metadata": {},
   "source": [
    "Given the data, there is an 86% probability that List B's click rate is below the industry average."
   ]
  },
  {
   "cell_type": "markdown",
   "metadata": {},
   "source": [
    "### Purchase Rates by List Provider\n",
    "\n",
    "Finally, we'll look at the purchase rates by List provider:"
   ]
  },
  {
   "cell_type": "code",
   "execution_count": 48,
   "metadata": {},
   "outputs": [
    {
     "name": "stdout",
     "output_type": "stream",
     "text": [
      "list_provider       A        B\n",
      "purchased                     \n",
      "0              0.9965  0.99714\n",
      "1              0.0035  0.00286\n"
     ]
    }
   ],
   "source": [
    "frequencies = pd.crosstab( data.purchased, data.list_provider).apply(lambda r: r/r.sum(), axis=0)\n",
    "print( frequencies)"
   ]
  },
  {
   "cell_type": "markdown",
   "metadata": {},
   "source": [
    "List A has the higher purchase rate as well, 0.35% versus 0.29%. Overall, it looks like List A may be the better of the two providers. But what if the people on List B bought twice as many items?"
   ]
  },
  {
   "cell_type": "markdown",
   "metadata": {},
   "source": [
    "### Items per Send\n",
    "\n",
    "Let's look at the distribution of purchases (items purchased) per List and see if this idea has any support or if we could just work with purchases as a boolean variable (purchased).\n",
    "\n",
    "Below we have a crosstab of purchases and the two lists:"
   ]
  },
  {
   "cell_type": "code",
   "execution_count": 49,
   "metadata": {},
   "outputs": [
    {
     "name": "stdout",
     "output_type": "stream",
     "text": [
      "list_provider   A   B\n",
      "purchases            \n",
      "1.0            55  46\n",
      "2.0            32  18\n",
      "3.0            18  24\n",
      "4.0            24  16\n",
      "5.0            10   9\n",
      "6.0             8   2\n",
      "7.0             2   5\n",
      "8.0             2   2\n",
      "9.0             6   2\n",
      "10.0           18  19\n"
     ]
    }
   ],
   "source": [
    "counts = pd.crosstab(data.purchases, data.list_provider)#.apply(lambda r: r/r.sum(), axis=0)\n",
    "print(counts)"
   ]
  },
  {
   "cell_type": "markdown",
   "metadata": {},
   "source": [
    "They're fairly similar except for the 2 item purchases where the total for List A is nearly twice that of List B. But does List B \"catch up\" with the 3 item purchases? We really want to see average items per purchase by list provider:"
   ]
  },
  {
   "cell_type": "code",
   "execution_count": 50,
   "metadata": {},
   "outputs": [
    {
     "name": "stdout",
     "output_type": "stream",
     "text": [
      "               count      mean       std  min  25%  50%  75%   max\n",
      "list_provider                                                     \n",
      "A              175.0  3.605714  2.939812  1.0  1.0  3.0  5.0  10.0\n",
      "B              143.0  3.734266  3.058010  1.0  1.0  3.0  5.0  10.0\n"
     ]
    }
   ],
   "source": [
    "grouped = data.groupby( \"list_provider\")\n",
    "grouped_y = grouped[\"purchases\"].describe()\n",
    "print(grouped_y)"
   ]
  },
  {
   "cell_type": "markdown",
   "metadata": {},
   "source": [
    "It would appear at first blush that we need to do some kind of statistical test but in this case, we can just use logic. Because the lists are the same size (save Jessica), we don't need to do any normalization and can work directly with the counts. For every 50,000 emails, we can expect 175 or 143 purchases and those purchases will have 3.6 or 3.73 items on average (respectively):"
   ]
  },
  {
   "cell_type": "code",
   "execution_count": 51,
   "metadata": {},
   "outputs": [
    {
     "name": "stdout",
     "output_type": "stream",
     "text": [
      "List A items purchased per send:  0.0126\n",
      "List B items purchased per send:  0.010668013360267205\n"
     ]
    }
   ],
   "source": [
    "print(\"List A items purchased per send: \", (175*3.6)/50000)\n",
    "print(\"List B items purchased per send: \", (143*3.73)/49999)"
   ]
  },
  {
   "cell_type": "code",
   "execution_count": 52,
   "metadata": {},
   "outputs": [
    {
     "data": {
      "text/html": [
       "<div>\n",
       "<style scoped>\n",
       "    .dataframe tbody tr th:only-of-type {\n",
       "        vertical-align: middle;\n",
       "    }\n",
       "\n",
       "    .dataframe tbody tr th {\n",
       "        vertical-align: top;\n",
       "    }\n",
       "\n",
       "    .dataframe thead th {\n",
       "        text-align: right;\n",
       "    }\n",
       "</style>\n",
       "<table border=\"1\" class=\"dataframe\">\n",
       "  <thead>\n",
       "    <tr style=\"text-align: right;\">\n",
       "      <th></th>\n",
       "      <th>total</th>\n",
       "    </tr>\n",
       "    <tr>\n",
       "      <th>list_provider</th>\n",
       "      <th></th>\n",
       "    </tr>\n",
       "  </thead>\n",
       "  <tbody>\n",
       "    <tr>\n",
       "      <th>A</th>\n",
       "      <td>5415.69</td>\n",
       "    </tr>\n",
       "    <tr>\n",
       "      <th>B</th>\n",
       "      <td>4575.66</td>\n",
       "    </tr>\n",
       "  </tbody>\n",
       "</table>\n",
       "</div>"
      ],
      "text/plain": [
       "                 total\n",
       "list_provider         \n",
       "A              5415.69\n",
       "B              4575.66"
      ]
     },
     "execution_count": 52,
     "metadata": {},
     "output_type": "execute_result"
    }
   ],
   "source": [
    "data[[\"list_provider\", \"total\"]].groupby('list_provider').sum()"
   ]
  },
  {
   "cell_type": "code",
   "execution_count": 53,
   "metadata": {},
   "outputs": [],
   "source": [
    "inference[\"purchased\"] = {}"
   ]
  },
  {
   "cell_type": "code",
   "execution_count": 54,
   "metadata": {},
   "outputs": [],
   "source": [
    "inference[\"purchased\"][\"A\"] = bootstrap(data[data.list_provider == \"A\"][\"purchased\"], np.mean)\n",
    "inference[\"purchased\"][\"B\"] = bootstrap(data[data.list_provider == \"B\"][\"purchased\"], np.mean)\n",
    "inference[\"purchased\"][\"difference\"] = inference[\"purchased\"][\"A\"] - inference[\"purchased\"][\"B\"]"
   ]
  },
  {
   "cell_type": "code",
   "execution_count": 55,
   "metadata": {},
   "outputs": [
    {
     "data": {
      "text/plain": [
       "count    100.000000\n",
       "mean       0.003461\n",
       "std        0.000260\n",
       "min        0.002840\n",
       "25%        0.003300\n",
       "50%        0.003450\n",
       "75%        0.003645\n",
       "max        0.003980\n",
       "dtype: float64"
      ]
     },
     "execution_count": 55,
     "metadata": {},
     "output_type": "execute_result"
    }
   ],
   "source": [
    "inference[\"purchased\"][\"A\"].describe()"
   ]
  },
  {
   "cell_type": "code",
   "execution_count": 56,
   "metadata": {},
   "outputs": [
    {
     "data": {
      "text/plain": [
       "count    100.000000\n",
       "mean       0.002841\n",
       "std        0.000241\n",
       "min        0.002340\n",
       "25%        0.002660\n",
       "50%        0.002830\n",
       "75%        0.003000\n",
       "max        0.003420\n",
       "dtype: float64"
      ]
     },
     "execution_count": 56,
     "metadata": {},
     "output_type": "execute_result"
    }
   ],
   "source": [
    "inference[\"purchased\"][\"B\"].describe()"
   ]
  },
  {
   "cell_type": "code",
   "execution_count": 57,
   "metadata": {},
   "outputs": [
    {
     "data": {
      "image/png": "[encoded data removed]",
      "text/plain": [
       "<Figure size 1440x432 with 3 Axes>"
      ]
     },
     "metadata": {},
     "output_type": "display_data"
    }
   ],
   "source": [
    "ys, bins = np.histogram(inference[\"purchased\"][\"A\"], bins=10, density=True)\n",
    "width = 0.7*(bins[ 1] - bins[ 0])\n",
    "center = (bins[ :-1]+bins[1:])/2\n",
    "\n",
    "figure = plt.figure(figsize=(20,6))\n",
    "\n",
    "axes = figure.add_subplot(1, 3, 1)\n",
    "\n",
    "axes.bar( center, ys, align='center', width=width, color=\"dimgray\", alpha=0.8)\n",
    "axes.set_xlim([0.0024, 0.004])\n",
    "axes.set_xlabel( r\"$p_1$\")\n",
    "axes.set_title( \"List A\")\n",
    "\n",
    "ys, bins = np.histogram(inference[\"purchased\"][\"B\"], bins=10, density=True)\n",
    "width = 0.7*(bins[ 1] - bins[ 0])\n",
    "center = (bins[ :-1]+bins[1:])/2\n",
    "\n",
    "axes = figure.add_subplot(1, 3, 2)\n",
    "\n",
    "axes.bar( center, ys, align='center', width=width, color=\"dimgray\", alpha=0.8)\n",
    "axes.set_xlim([0.0022, 0.004])\n",
    "axes.set_xlabel( r\"$p_2$\")\n",
    "axes.set_title( \"List B\")\n",
    "\n",
    "ys, bins = np.histogram(inference[\"purchased\"][\"difference\"], bins=10, density=True)\n",
    "width = 0.7*(bins[ 1] - bins[ 0])\n",
    "center = (bins[ :-1]+bins[1:])/2\n",
    "\n",
    "axes = figure.add_subplot(1, 3, 3)\n",
    "\n",
    "axes.bar( center, ys, align='center', width=width, color=\"dimgray\", alpha=0.8)\n",
    "axes.set_xlim([-0.0004, 0.0014])\n",
    "axes.set_xlabel( r\"$p_1 - p_2$\")\n",
    "axes.set_title( \"Difference\")\n",
    "\n",
    "plt.show()\n",
    "plt.close()"
   ]
  },
  {
   "cell_type": "markdown",
   "metadata": {},
   "source": [
    "The first two of our three questions is the same for this data as well.\n",
    "\n",
    "\n",
    "**1. How confident are we in possible values of the purchase rate for each list?**"
   ]
  },
  {
   "cell_type": "code",
   "execution_count": 58,
   "metadata": {},
   "outputs": [
    {
     "name": "stdout",
     "output_type": "stream",
     "text": [
      "List A purchase rate (95% CI) [0.0029181 0.0039419]\n",
      "List B purchase rate (95% CI) [0.00237815 0.00328577]\n"
     ]
    }
   ],
   "source": [
    "print(\"List A purchase rate (95% CI)\", stats.mstats.mquantiles(inference[\"purchased\"][\"A\"], [0.025, 0.975]))\n",
    "print(\"List B purchase rate (95% CI)\", stats.mstats.mquantiles(inference[\"purchased\"][\"B\"], [0.025, 0.975]))"
   ]
  },
  {
   "cell_type": "markdown",
   "metadata": {},
   "source": [
    "**2. How what is the probability that the difference between the two lists greater than zero?**\n"
   ]
  },
  {
   "cell_type": "code",
   "execution_count": 59,
   "metadata": {},
   "outputs": [
    {
     "name": "stdout",
     "output_type": "stream",
     "text": [
      "P(difference < 0) 0.03\n"
     ]
    }
   ],
   "source": [
    "print( \"P(difference < 0)\", np.mean(inference[\"purchased\"][\"difference\"] < 0))"
   ]
  },
  {
   "cell_type": "markdown",
   "metadata": {},
   "source": [
    "Based on the data, there is a 97% probability that List A's purchase rate is greater than List B's."
   ]
  },
  {
   "cell_type": "markdown",
   "metadata": {},
   "source": [
    "## Further Analysis\n",
    "\n",
    "At this point we have answered the questions that Marketing asked us to answer. We have a sense of which list provider is likely to do better in the future. Of course, this comes with caveats. They have to send us the same kind of list each time, this can't have been their best performers. The economy in general has to stay steady although if there were a downturn, we'd expect the same hit to both lists.\n",
    "\n",
    "There are some unanswered questions, though, that might be important in the longer run.\n",
    "\n",
    "1. What caused the \"blip\" in purchases at the 10 item level?\n",
    "2. Do purchase rates differ by (email) provider?\n",
    "3. What are the confidence bounds for revenue per send?\n",
    "\n",
    "Additionally, given a industry standard of 14.93% and 2.3% for the open and click rates respectively, we could have used those as priors for our statistical analysis. We might repeat our basic statistical analysis using this prior and MCMC.|"
   ]
  },
  {
   "cell_type": "markdown",
   "metadata": {},
   "source": [
    "# Report\n",
    "\n",
    "Marketing recently conducted a test email campaign of two list providers. They, along with engineering, supplied list, send, and purchase information for this test and asked us to evaluate the experiment. We were tasked with answering two basic questions:\n",
    "\n",
    "1. Did the open and click rates of the two lists differ from industry experience (14.93% and 2.3% respectively)?\n",
    "2. Based on the purchase rates of the two lists, which provider was better?\n",
    "\n",
    "Looking at the data, we observed the following rates:\n",
    "\n",
    "|          | open  | click | purchase |\n",
    "|----------|-------|-------|----------|\n",
    "| industry | 14.93 | 2.3   | -        |\n",
    "| List A   | 17.4  | 2.5   | 0.0035   |\n",
    "| List B   | 15.2  | 1.9   | 0.0029   |\n",
    "| A - B    |  2.2  | 0.6   | 0.0006   |\n",
    "\n",
    "For all three rates, List A performed better than List B. Statistical analysis showed List A was almost certainly better than List B for open and click rates and that there was a 97% probability it was better on purchase rate. Comparing List A to industry standards, it was nearly certain that List A has a higher open rate than industry standards but there was a 66% probability that the click rate was at industry standards (34% probability that it is above).\n",
    "\n",
    "The confidence intervals for the List A open rate was [0.171, 0.177], the click rate was [0.023, 0.026], and the purchase rate was [0.0029, 0.0039]. These metrics should be monitored if we move forward with provider A.\n",
    "\n",
    "During the course of the analysis, we uncovered additional questions Marketing might want answered. First, there was a large spike in purchases in at the 10 item limit. Second, we did not investigate the effect that email provider might have had on the performance of the respective lists."
   ]
  },
  {
   "cell_type": "code",
   "execution_count": null,
   "metadata": {},
   "outputs": [],
   "source": []
  }
 ],
 "metadata": {
  "kernelspec": {
   "display_name": "Python 3",
   "language": "python",
   "name": "python3"
  },
  "language_info": {
   "codemirror_mode": {
    "name": "ipython",
    "version": 3
   },
   "file_extension": ".py",
   "mimetype": "text/x-python",
   "name": "python",
   "nbconvert_exporter": "python",
   "pygments_lexer": "ipython3",
   "version": "3.7.1"
  },
  "toc": {
   "colors": {
    "hover_highlight": "#DAA520",
    "navigate_num": "#000000",
    "navigate_text": "#333333",
    "running_highlight": "#FF0000",
    "selected_highlight": "#FFD700",
    "sidebar_border": "#EEEEEE",
    "wrapper_background": "#FFFFFF"
   },
   "moveMenuLeft": true,
   "nav_menu": {
    "height": "30px",
    "width": "252px"
   },
   "navigate_menu": true,
   "number_sections": true,
   "sideBar": true,
   "threshold": 4,
   "toc_cell": false,
   "toc_section_display": "block",
   "toc_window_display": false,
   "widenNotebook": false
  }
 },
 "nbformat": 4,
 "nbformat_minor": 2
}
