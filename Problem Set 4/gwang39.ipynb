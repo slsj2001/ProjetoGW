{
 "cells": [
  {
   "cell_type": "code",
   "execution_count": 1,
   "metadata": {},
   "outputs": [],
   "source": [
    "%matplotlib inline"
   ]
  },
  {
   "cell_type": "code",
   "execution_count": 2,
   "metadata": {},
   "outputs": [],
   "source": [
    "import numpy as np\n",
    "import time\n",
    "import seaborn as sns\n",
    "import matplotlib.pyplot as plt\n",
    "import scipy.stats as stats\n",
    "\n",
    "sns.set(style=\"whitegrid\")"
   ]
  },
  {
   "cell_type": "markdown",
   "metadata": {},
   "source": [
    "# Problem Set 4 (covers Lab 7)\n",
    "\n",
    "## Directions\n",
    "\n",
    "1. Show all work/steps/calculations using a combination of code and Markdown. You will submit only this notebook named: [jhed_id].ipynb back to Blackboard from whence you downloaded it. Do not return the data to me.\n",
    "2. **All** work is to be your own. This is not a group project. You may, however, use code from the lectures and labs. Provide citations for any code that is not your own. You may also consult Stackoverflow, etc. This is not by any means \"closed book\" or anything like that. Basically, I need to see if *you* learned the concepts from the Lectures, *Fundamentals*, and Labs.\n",
    "3. Add whatever markdown or code cells you need in each part to explain and calculate your answers. Don't just provide answers but explain them as well. **Explain and interpret your results.**"
   ]
  },
  {
   "cell_type": "markdown",
   "metadata": {},
   "source": [
    "## Introduction\n",
    "\n",
    "Lab 7 was all about statistical inference, specifically, Bayesian statistical inference. You will use Bayesian inference on four  problems for this Problem Set [Goto Q1](#q1). You can paste all your code here:"
   ]
  },
  {
   "cell_type": "code",
   "execution_count": 3,
   "metadata": {},
   "outputs": [],
   "source": [
    "def bootstrap_sample( data, f, n=100):\n",
    "    result = []\n",
    "    m = len( data)\n",
    "    for _ in range( n):\n",
    "        sample = np.random.choice( data, len(data), replace=True)\n",
    "        r = f( sample)\n",
    "        result.append( r)\n",
    "    return np.array( result)\n"
   ]
  },
  {
   "cell_type": "markdown",
   "metadata": {},
   "source": [
    "<a id=\"q1\"></a>\n",
    "**Question 1.**\n",
    "\n",
    "Fifteen volunteers were put on the Supper Dooper Human Kibble Diet(tm) for a month. They were weighed before and after 30 days. The makers of Supper Dooper Human Kibble Diet(tm) are anxious to see the results of this study because they are planning to offer a money back guarantee of \"Lose 10 Pounds in 30 days or your money back!\".\n",
    "\n",
    "Based on the data, \n",
    "\n",
    "1. what is the probability that this claim can be made? \n",
    "2. If daily weight fluctuations can equal 5 pounds (in either direction). How probable is it that the diet doesn't work?\n",
    "3. Is there a positive claim can be made with at least ~66% belief?"
   ]
  },
  {
   "cell_type": "code",
   "execution_count": 4,
   "metadata": {},
   "outputs": [],
   "source": [
    "data1 = {}\n",
    "data1[\"start\"] = [129, 174, 200, 229, 205, 133, 143, 222, 161, 201, 194, 181, 185, 126, 212]\n",
    "data1[\"end\"] = [134, 171, 190, 227, 206, 130, 129, 218, 138, 187, 191, 177, 183, 124, 205]"
   ]
  },
  {
   "cell_type": "markdown",
   "metadata": {},
   "source": [
    "- Calculate the main statistics of the sample data"
   ]
  },
  {
   "cell_type": "code",
   "execution_count": 5,
   "metadata": {},
   "outputs": [
    {
     "name": "stdout",
     "output_type": "stream",
     "text": [
      "weight - start mean = 179.67\n",
      "weight - end mean = 174.00\n",
      "difference = 5.67\n"
     ]
    }
   ],
   "source": [
    "start_mean = np.mean(data1[\"start\"])\n",
    "end_mean = np.mean( data1[\"end\"])\n",
    "print( \"weight - start mean = %.2f\" %(start_mean))\n",
    "print( \"weight - end mean = %.2f\" %(end_mean))\n",
    "print( \"difference = %.2f\" %(start_mean - end_mean))"
   ]
  },
  {
   "cell_type": "markdown",
   "metadata": {},
   "source": [
    "- Generate the bootstrap data for each\n",
    "\n",
    "The Bootstrap samples are an estimation of the posterior distribution, usually arrived at using Bayes Rule:"
   ]
  },
  {
   "cell_type": "code",
   "execution_count": 6,
   "metadata": {},
   "outputs": [],
   "source": [
    "start_posterior = bootstrap_sample( data1[\"start\"], np.mean, 1000)\n",
    "end_posterior = bootstrap_sample( data1[\"end\"], np.mean, 1000)"
   ]
  },
  {
   "cell_type": "markdown",
   "metadata": {},
   "source": [
    "- Calculate the difference\n",
    "\n",
    "Each element of each posterior is just a different possible theta. If we match each of the possible thetas by index, we have a possible index. As a result, we have generated a bootstrap sample of the *differences*."
   ]
  },
  {
   "cell_type": "code",
   "execution_count": 7,
   "metadata": {},
   "outputs": [],
   "source": [
    "difference = start_posterior - end_posterior"
   ]
  },
  {
   "cell_type": "markdown",
   "metadata": {},
   "source": [
    "4. Plot the posterior distributions"
   ]
  },
  {
   "cell_type": "code",
   "execution_count": 8,
   "metadata": {},
   "outputs": [
    {
     "data": {
      "image/png": "[encoded data removed]",
      "text/plain": [
       "<Figure size 1440x432 with 3 Axes>"
      ]
     },
     "metadata": {},
     "output_type": "display_data"
    }
   ],
   "source": [
    "figure = plt.figure(figsize=(20, 6))\n",
    "\n",
    "axes = figure.add_subplot(1, 3, 1)\n",
    "\n",
    "axes.hist( start_posterior, density=True)\n",
    "axes.set_ylabel( \"Density\")\n",
    "axes.set_xlabel( \"$\\hat{theta}$\")\n",
    "axes.set_title( \"Posterior Distribution of Start $\\hat{theta}$\")\n",
    "\n",
    "axes = figure.add_subplot(1, 3, 2)\n",
    "\n",
    "axes.hist( end_posterior, density=True)\n",
    "axes.set_ylabel( \"Density\")\n",
    "axes.set_xlabel( \"$\\hat{theta}$\")\n",
    "axes.set_title( \"Posterior Distribution of End $\\hat{theta}$\")\n",
    "\n",
    "axes = figure.add_subplot(1, 3, 3)\n",
    "\n",
    "axes.hist( difference, density=True)\n",
    "axes.set_ylabel( \"Density\")\n",
    "axes.set_xlabel( \"difference in $\\hat{theta}$\")\n",
    "axes.set_title( \"Posterior Distribution of Difference in $\\hat{theta}$s\")\n",
    "\n",
    "plt.show()\n",
    "plt.close()"
   ]
  },
  {
   "cell_type": "markdown",
   "metadata": {},
   "source": [
    "- 90% BCI"
   ]
  },
  {
   "cell_type": "code",
   "execution_count": 9,
   "metadata": {},
   "outputs": [
    {
     "name": "stdout",
     "output_type": "stream",
     "text": [
      "90% BCI for start theta: [165.46666667 193.706     ]\n",
      "90% BCI for end theta: [160.12133333 188.03933333]\n",
      "90% BCI for difference: [-14.06666667  26.09066667]\n"
     ]
    }
   ],
   "source": [
    "print( \"90% BCI for start theta:\", stats.mstats.mquantiles( start_posterior, [0.05, 0.95]))\n",
    "print( \"90% BCI for end theta:\", stats.mstats.mquantiles( end_posterior, [0.05, 0.95]))\n",
    "print( \"90% BCI for difference:\", stats.mstats.mquantiles( difference, [0.05, 0.95]))"
   ]
  },
  {
   "cell_type": "code",
   "execution_count": 10,
   "metadata": {
    "scrolled": true
   },
   "outputs": [
    {
     "name": "stdout",
     "output_type": "stream",
     "text": [
      "5.488066666666667\n"
     ]
    }
   ],
   "source": [
    "theta_est = np.mean(difference)\n",
    "print(theta_est)"
   ]
  },
  {
   "cell_type": "markdown",
   "metadata": {},
   "source": [
    "Q1 what is the probability that this claim can be made? "
   ]
  },
  {
   "cell_type": "code",
   "execution_count": 11,
   "metadata": {},
   "outputs": [
    {
     "name": "stdout",
     "output_type": "stream",
     "text": [
      "P(weight loss > 10) =  0.345\n"
     ]
    }
   ],
   "source": [
    "print (\"P(weight loss > 10) = \", np.mean(difference >=10))"
   ]
  },
  {
   "cell_type": "markdown",
   "metadata": {},
   "source": [
    "There are 34.5% chance that the claim (over 10 pounds weight loss within 30 days) can be made"
   ]
  },
  {
   "cell_type": "markdown",
   "metadata": {},
   "source": [
    "Q2 If daily weight fluctuations can equal 5 pounds (in either direction). How probable is it that the diet doesn't work?"
   ]
  },
  {
   "cell_type": "markdown",
   "metadata": {},
   "source": [
    "Based on professor's blackboard comments, here we assume 5 pounds fluctuation in either direction means +/- 2.5 pounds"
   ]
  },
  {
   "cell_type": "code",
   "execution_count": 12,
   "metadata": {},
   "outputs": [
    {
     "name": "stdout",
     "output_type": "stream",
     "text": [
      "P(weight loss < 7.5) =  0.566\n"
     ]
    }
   ],
   "source": [
    "print (\"P(weight loss < 7.5) = \", np.mean(difference < 7.5))"
   ]
  },
  {
   "cell_type": "markdown",
   "metadata": {},
   "source": [
    "If the weight fluctuations can be +/- 2.5, weight loss needs to be less than 7.5 to be shown not working.\n",
    "\n",
    "Therefore, there is 56.6% chance that the diet doesn't work"
   ]
  },
  {
   "cell_type": "markdown",
   "metadata": {},
   "source": [
    "Q3 Is there a positive claim can be made with at least ~66% belief?"
   ]
  },
  {
   "cell_type": "code",
   "execution_count": 13,
   "metadata": {},
   "outputs": [
    {
     "name": "stdout",
     "output_type": "stream",
     "text": [
      "66% BCI for difference: [-6.1044 17.2   ]\n"
     ]
    }
   ],
   "source": [
    "print( \"66% BCI for difference:\", stats.mstats.mquantiles( difference, [0.17, 0.83]))"
   ]
  },
  {
   "cell_type": "markdown",
   "metadata": {},
   "source": [
    "66% BCI for difference gives us -6.11 for lowerbound. Therefore, any  weight loss more than 4 pounds can potentially be a positive claims be made with 66% belief. In that case, 4 out of 15 people can be a positive claims made with at least 66% belief"
   ]
  },
  {
   "cell_type": "markdown",
   "metadata": {},
   "source": [
    "**Question 2.**\n",
    "\n",
    "The Acme Company has developed a new battery. The engineer in charge claims that the new battery will operate continuously for at least 7 minutes longer than the old battery.\n",
    "\n",
    "To test the claim, the company selects a simple random sample of 100 new batteries and 100 old batteries. The data is provided below.\n",
    "\n",
    "Based on the data,\n",
    "\n",
    "1. Test the engineer's claim that the new batteries run at least 7 minutes longer than the old. \n",
    "2. If plus or minus 5 minutes is \"equivalent\", what is the probability that the batteries have the same operating life?"
   ]
  },
  {
   "cell_type": "code",
   "execution_count": 14,
   "metadata": {},
   "outputs": [],
   "source": [
    "data2 = {}\n",
    "data2[\"old\"] = [161, 184, 138, 178, 188, 175, 195, 214, 183, 184, 195, 196, 150, 206, 185, 202, 216, 186, 153, 174, 217, 217, 178, 172, 205, 192, 172, 222, 197, 174, 163, 206, 176, 176, 230, 202, 267, 186, 190, 200, 182, 160, 225, 185, 205, 213, 189, 171, 166, 239, 170, 198, 198, 198, 211, 194, 197, 212, 194, 236, 163, 218, 221, 189, 182, 182, 202, 172, 165, 180, 214, 186, 191, 179, 191, 204, 209, 212, 141, 188, 193, 192, 185, 199, 144, 146, 231, 201, 177, 191, 197, 182, 174, 231, 202, 195, 161, 187, 181, 186]\n",
    "data2[\"new\"] = [196, 245, 196, 243, 181, 161, 173, 151, 148, 195, 247, 164, 167, 234, 200, 215, 204, 190, 148, 127, 174, 135, 231, 199, 125, 138, 140, 206, 139, 177, 260, 231, 173, 172, 178, 224, 186, 115, 144, 222, 189, 107, 239, 124, 216, 169, 212, 262, 145, 221, 179, 192, 142, 232, 171, 233, 287, 216, 188, 156, 169, 238, 128, 155, 202, 174, 229, 198, 192, 169, 156, 238, 178, 220, 177, 191, 234, 251, 166, 123, 144, 127, 203, 230, 203, 188, 185, 255, 239, 227, 173, 196, 208, 236, 194, 204, 217, 252, 169, 166]"
   ]
  },
  {
   "cell_type": "markdown",
   "metadata": {},
   "source": [
    "- Calculate the main statistics of the sample data"
   ]
  },
  {
   "cell_type": "code",
   "execution_count": 15,
   "metadata": {},
   "outputs": [
    {
     "name": "stdout",
     "output_type": "stream",
     "text": [
      "new mean = 190.38\n",
      "old mean = 190.92\n",
      "difference = -0.54\n"
     ]
    }
   ],
   "source": [
    "new_mean = np.mean( data2[\"new\"])\n",
    "old_mean = np.mean(data2[\"old\"])\n",
    "print( \"new mean = %.2f\" %(new_mean))\n",
    "print( \"old mean = %.2f\" %(old_mean))\n",
    "print( \"difference = %.2f\" %(new_mean - old_mean))"
   ]
  },
  {
   "cell_type": "markdown",
   "metadata": {},
   "source": [
    "- Generate the bootstrap data for each"
   ]
  },
  {
   "cell_type": "code",
   "execution_count": 16,
   "metadata": {},
   "outputs": [],
   "source": [
    "new_posterior = bootstrap_sample( data2[\"new\"], np.mean, 1000)\n",
    "old_posterior = bootstrap_sample( data2[\"old\"], np.mean, 1000)"
   ]
  },
  {
   "cell_type": "markdown",
   "metadata": {},
   "source": [
    "- Calculate the difference"
   ]
  },
  {
   "cell_type": "code",
   "execution_count": 17,
   "metadata": {},
   "outputs": [],
   "source": [
    "difference2 = new_posterior - old_posterior"
   ]
  },
  {
   "cell_type": "markdown",
   "metadata": {},
   "source": [
    "- Plot the posterior distributions"
   ]
  },
  {
   "cell_type": "code",
   "execution_count": 18,
   "metadata": {},
   "outputs": [
    {
     "data": {
      "image/png": "[encoded data removed]",
      "text/plain": [
       "<Figure size 1440x432 with 3 Axes>"
      ]
     },
     "metadata": {},
     "output_type": "display_data"
    }
   ],
   "source": [
    "figure = plt.figure(figsize=(20, 6))\n",
    "\n",
    "axes = figure.add_subplot(1, 3, 1)\n",
    "\n",
    "axes.hist( new_posterior, density=True)\n",
    "axes.set_ylabel( \"Density\")\n",
    "axes.set_xlabel( \"$\\hat{theta}$\")\n",
    "axes.set_title( \"Posterior Distribution of New $\\hat{theta}$\")\n",
    "\n",
    "axes = figure.add_subplot(1, 3, 2)\n",
    "\n",
    "axes.hist( old_posterior, density=True)\n",
    "axes.set_ylabel( \"Density\")\n",
    "axes.set_xlabel( \"$\\hat{theta}$\")\n",
    "axes.set_title( \"Posterior Distribution of Old $\\hat{theta}$\")\n",
    "\n",
    "axes = figure.add_subplot(1, 3, 3)\n",
    "\n",
    "axes.hist( difference2, density=True)\n",
    "axes.set_ylabel( \"Density\")\n",
    "axes.set_xlabel( \"difference in $\\hat{theta}$\")\n",
    "axes.set_title( \"Posterior Distribution of Difference in $\\hat{theta}$s\")\n",
    "\n",
    "plt.show()\n",
    "plt.close()"
   ]
  },
  {
   "cell_type": "code",
   "execution_count": 19,
   "metadata": {},
   "outputs": [
    {
     "name": "stdout",
     "output_type": "stream",
     "text": [
      "90% BCI for new theta: [184.0492 196.8654]\n",
      "90% BCI for old theta: [187.2441 194.5077]\n",
      "90% BCI for difference: [-7.9003  6.6895]\n"
     ]
    }
   ],
   "source": [
    "print( \"90% BCI for new theta:\", stats.mstats.mquantiles( new_posterior, [0.05, 0.95]))\n",
    "print( \"90% BCI for old theta:\", stats.mstats.mquantiles( old_posterior, [0.05, 0.95]))\n",
    "print( \"90% BCI for difference:\", stats.mstats.mquantiles( difference2, [0.05, 0.95]))"
   ]
  },
  {
   "cell_type": "code",
   "execution_count": 20,
   "metadata": {},
   "outputs": [
    {
     "name": "stdout",
     "output_type": "stream",
     "text": [
      "-0.5012199999999992\n"
     ]
    }
   ],
   "source": [
    "theta_est = np.mean(difference2)\n",
    "print(theta_est)"
   ]
  },
  {
   "cell_type": "markdown",
   "metadata": {},
   "source": [
    "Q1 Test the engineer's claim that the new batteries run at least 7 minutes longer than the old."
   ]
  },
  {
   "cell_type": "code",
   "execution_count": 21,
   "metadata": {},
   "outputs": [
    {
     "name": "stdout",
     "output_type": "stream",
     "text": [
      "P(new batteries run at least 7 mins longer) =  0.042\n"
     ]
    }
   ],
   "source": [
    "print (\"P(new batteries run at least 7 mins longer) = \",np.mean(difference2 >=7))"
   ]
  },
  {
   "cell_type": "markdown",
   "metadata": {},
   "source": [
    "There is 4.2% chance the claim is true"
   ]
  },
  {
   "cell_type": "markdown",
   "metadata": {},
   "source": [
    "Q2 If plus or minus 5 minutes is \"equivalent\", what is the probability that the batteries have the same operating life"
   ]
  },
  {
   "cell_type": "code",
   "execution_count": 22,
   "metadata": {},
   "outputs": [
    {
     "name": "stdout",
     "output_type": "stream",
     "text": [
      "P(batteries have the same life) =  0.709\n"
     ]
    }
   ],
   "source": [
    "print (\"P(batteries have the same life) = \", np.mean((-5 <= difference2) & (difference2 <= 5)))"
   ]
  },
  {
   "cell_type": "markdown",
   "metadata": {},
   "source": [
    "There is a 70.9%chance that batteries have the same operating life if +/- 5 is considered equivalent"
   ]
  },
  {
   "cell_type": "markdown",
   "metadata": {},
   "source": [
    "**Question 3.**\n",
    "\n",
    "In a recent survey, on an important question of economic revitalization, men and women responded as follows:\n",
    "\n",
    "```\n",
    "                   Response\n",
    "                     Yes  No  Total\n",
    "       Gender    Men  30  70  100\n",
    "               Women  45  55  100\n",
    "```\n",
    "\n",
    "Based on the data, what is the probability that the women were in favor of the question? "
   ]
  },
  {
   "cell_type": "markdown",
   "metadata": {},
   "source": [
    "- Generate Data"
   ]
  },
  {
   "cell_type": "code",
   "execution_count": 23,
   "metadata": {},
   "outputs": [
    {
     "name": "stdout",
     "output_type": "stream",
     "text": [
      "men's data:  [0, 0, 0, 0, 0, 1, 0, 0, 0, 0, 0, 0, 0, 0, 1, 0, 1, 0, 1, 1]\n",
      "women's data:  [1, 1, 0, 1, 1, 1, 0, 1, 1, 0, 1, 1, 0, 1, 1, 0, 1, 1, 0, 0]\n"
     ]
    }
   ],
   "source": [
    "np.random.seed([19921102])\n",
    "\n",
    "men_theta = 0.30\n",
    "men_data = [1] * 30 + [0] * 70\n",
    "np.random.shuffle( men_data)\n",
    "print( \"men's data: \", men_data[0:20])\n",
    "\n",
    "women_theta = 0.45\n",
    "women_data = [1] * 45 + [0] * 55\n",
    "np.random.shuffle( women_data)\n",
    "print( \"women's data: \", women_data[0:20])"
   ]
  },
  {
   "cell_type": "markdown",
   "metadata": {},
   "source": [
    "- Generate the bootstrap data for each"
   ]
  },
  {
   "cell_type": "code",
   "execution_count": 24,
   "metadata": {},
   "outputs": [
    {
     "name": "stdout",
     "output_type": "stream",
     "text": [
      "men's mean= 0.3\n",
      "women's mean= 0.45\n",
      "difference= 0.15000000000000002\n"
     ]
    }
   ],
   "source": [
    "mens_mean = np.mean( men_data)\n",
    "print( \"men's mean=\", mens_mean)\n",
    "womens_mean = np.mean( women_data)\n",
    "print( \"women's mean=\", womens_mean)\n",
    "print( \"difference=\", womens_mean - mens_mean)"
   ]
  },
  {
   "cell_type": "code",
   "execution_count": 25,
   "metadata": {},
   "outputs": [],
   "source": [
    "men_posterior = bootstrap_sample( men_data, np.mean, 1000)\n",
    "women_posterior = bootstrap_sample( women_data, np.mean, 1000)"
   ]
  },
  {
   "cell_type": "markdown",
   "metadata": {},
   "source": [
    "- Calculate the difference"
   ]
  },
  {
   "cell_type": "code",
   "execution_count": 26,
   "metadata": {},
   "outputs": [],
   "source": [
    "difference3 = women_posterior - men_posterior"
   ]
  },
  {
   "cell_type": "markdown",
   "metadata": {},
   "source": [
    "- Plot the posterior distributions"
   ]
  },
  {
   "cell_type": "code",
   "execution_count": 27,
   "metadata": {},
   "outputs": [
    {
     "data": {
      "image/png": "[encoded data removed]",
      "text/plain": [
       "<Figure size 1440x432 with 3 Axes>"
      ]
     },
     "metadata": {},
     "output_type": "display_data"
    }
   ],
   "source": [
    "figure = plt.figure(figsize=(20, 6)) # first element is width, second is height.\n",
    "\n",
    "axes = figure.add_subplot(1, 3, 1)\n",
    "axes.hist( women_posterior, density=True)\n",
    "axes.set_ylabel( \"Density\")\n",
    "axes.set_xlabel( \"$\\hat{theta}$\")\n",
    "axes.set_title( \"Posterior Distribution of Women's $\\hat{theta}$\")\n",
    "\n",
    "\n",
    "axes = figure.add_subplot(1, 3, 2)\n",
    "\n",
    "axes.hist( men_posterior, density=True)\n",
    "axes.set_ylabel( \"Density\")\n",
    "axes.set_xlabel( \"$\\hat{theta}$\")\n",
    "axes.set_title( \"Posterior Distribution of Men's $\\hat{theta}$\")\n",
    "\n",
    "axes = figure.add_subplot(1, 3, 3)\n",
    "\n",
    "axes.hist( difference3, density=True)\n",
    "axes.set_ylabel( \"Density\")\n",
    "axes.set_xlabel( \"difference in $\\hat{theta}$\")\n",
    "axes.set_title( \"Posterior Distribution of Difference in $\\hat{theta}$s\")\n",
    "\n",
    "plt.show()\n",
    "plt.close()"
   ]
  },
  {
   "cell_type": "markdown",
   "metadata": {},
   "source": [
    "- 90% BCI"
   ]
  },
  {
   "cell_type": "code",
   "execution_count": 28,
   "metadata": {},
   "outputs": [
    {
     "name": "stdout",
     "output_type": "stream",
     "text": [
      "90% BCI for men's theta: [0.23 0.37]\n",
      "90% BCI for women's theta: [0.37 0.54]\n",
      "90% BCI for difference: [-14.06666667  26.09066667]\n"
     ]
    }
   ],
   "source": [
    "print( \"90% BCI for men's theta:\", stats.mstats.mquantiles( men_posterior, [0.05, 0.95]))\n",
    "print( \"90% BCI for women's theta:\", stats.mstats.mquantiles( women_posterior, [0.05, 0.95]))\n",
    "print( \"90% BCI for difference:\", stats.mstats.mquantiles( difference, [0.05, 0.95]))"
   ]
  },
  {
   "cell_type": "markdown",
   "metadata": {},
   "source": [
    "Question: based on the data, what is the probability that the women were in favor of the question? "
   ]
  },
  {
   "cell_type": "code",
   "execution_count": 29,
   "metadata": {},
   "outputs": [
    {
     "name": "stdout",
     "output_type": "stream",
     "text": [
      "P(women are in favour of the question) =  0.983\n"
     ]
    }
   ],
   "source": [
    "print (\"P(women are in favour of the question) = \",np.mean(difference3>0))"
   ]
  },
  {
   "cell_type": "markdown",
   "metadata": {},
   "source": [
    "Therefore, there is a 98.3% chance that women were in favor of the question"
   ]
  },
  {
   "cell_type": "markdown",
   "metadata": {},
   "source": [
    "**Question 4.**\n",
    "\n",
    "In the above question you were able to regenerate the data. In the case of a continuous numeric variable, we're not exactly able to do this. However, given a parameterization and some assumptions about the underlying distribution, there are two possible approaches to solving this problem.\n",
    "\n",
    "1. We could generate a single sample of size N from the distribution and do M bootstrap samples. (Method 1).\n",
    "2. We could generate M samples of size N directly from the distribution. (Method 2).\n",
    "\n",
    "Compare these approaches with the following problem:\n",
    "\n",
    "\"Within a school district, students were randomly assigned to one of two Math teachers - Mrs. Smith and Mrs. Jones. After the assignment, Mrs. Smith had 30 students, and Mrs. Jones had 25 students.\n",
    "\n",
    "\"At the end of the year, each class took the same standardized test. Mrs. Smith's students had an average test score of 78, with a standard deviation of 10; and Mrs. Jones' students had an average test score of 85, with a standard deviation of 15.\n",
    "\n",
    "\"What is the probability that Mrs. Smith and Mrs. Jones are equally effective teachers.\"\n",
    "\n",
    "Using N = 100 and M = 100:\n",
    "\n",
    "1. Define what \"equally effective might mean\".\n",
    "2. Answer the question using Method 1.\n",
    "3. Answer the question using Method 2.\n",
    "4. Comment on any observed similarities or differences between the two results."
   ]
  },
  {
   "cell_type": "markdown",
   "metadata": {},
   "source": [
    "1. Define what \"equally effective might mean\"."
   ]
  },
  {
   "cell_type": "markdown",
   "metadata": {},
   "source": [
    "In Bayesian Statistics, we often identify a range of possible values for a parameter that we consider the same. This is known as the ROPE (Region of Practical Equivalance). For our question, \"equially effective\" might mean ROPE for the difference between two class is centered at 0 and we can assume +/- 2.5 to be considered about zero. Therefore +/- 2.5 is our ROPE for the difference in the marks, if the difference is within this range, we would consider two teachers are equally effective."
   ]
  },
  {
   "cell_type": "markdown",
   "metadata": {},
   "source": [
    "2. Answer the question using Method 1.\n",
    "\n",
    "Method: We could generate a single sample of size N from the distribution and do M bootstrap samples. (Method 1)."
   ]
  },
  {
   "cell_type": "code",
   "execution_count": 30,
   "metadata": {},
   "outputs": [],
   "source": [
    "np.random.seed(19921101)"
   ]
  },
  {
   "cell_type": "markdown",
   "metadata": {},
   "source": [
    "- Generate single sample of size 100"
   ]
  },
  {
   "cell_type": "code",
   "execution_count": 31,
   "metadata": {},
   "outputs": [
    {
     "name": "stdout",
     "output_type": "stream",
     "text": [
      "s class mean:  77.15154244649801\n",
      "j class mean:  83.68779008372188\n"
     ]
    }
   ],
   "source": [
    "s_mu = 78\n",
    "s_s = 10\n",
    "s_n = 30\n",
    "\n",
    "j_mu = 85\n",
    "j_s = 15\n",
    "j_n = 25\n",
    "\n",
    "data4 = {}\n",
    "\n",
    "data4[\"sclass\"] = np.random.normal( s_mu, s_s, 100)\n",
    "data4[\"jclass\"] = np.random.normal( j_mu, j_s, 100)\n",
    "\n",
    "print(\"s class mean: \", np.mean(data4[\"sclass\"]))\n",
    "print(\"j class mean: \", np.mean(data4[\"jclass\"]))\n",
    "\n"
   ]
  },
  {
   "cell_type": "markdown",
   "metadata": {},
   "source": [
    "- Generate the 100 bootstrap data for each"
   ]
  },
  {
   "cell_type": "code",
   "execution_count": 32,
   "metadata": {},
   "outputs": [],
   "source": [
    "s_posterior = bootstrap_sample(data4[\"sclass\"], np.mean, 100)\n",
    "j_posterior = bootstrap_sample(data4[\"jclass\"], np.mean, 100)"
   ]
  },
  {
   "cell_type": "markdown",
   "metadata": {},
   "source": [
    "- Calculate the difference"
   ]
  },
  {
   "cell_type": "code",
   "execution_count": 33,
   "metadata": {},
   "outputs": [],
   "source": [
    "difference5 = s_posterior - j_posterior"
   ]
  },
  {
   "cell_type": "markdown",
   "metadata": {},
   "source": [
    "- Plot the posterior distributions"
   ]
  },
  {
   "cell_type": "code",
   "execution_count": 34,
   "metadata": {},
   "outputs": [
    {
     "data": {
      "image/png": "[encoded data removed]",
      "text/plain": [
       "<Figure size 1440x432 with 3 Axes>"
      ]
     },
     "metadata": {},
     "output_type": "display_data"
    }
   ],
   "source": [
    "figure = plt.figure(figsize=(20, 6))\n",
    "\n",
    "axes = figure.add_subplot(1, 3, 1)\n",
    "axes.hist( s_posterior, density=True)\n",
    "axes.set_ylabel( \"Density\")\n",
    "axes.set_xlabel( \"$\\hat{theta}$\")\n",
    "axes.set_title( \"Posterior Distribution of Smith Class $\\hat{theta}$\")\n",
    "\n",
    "\n",
    "axes = figure.add_subplot(1, 3, 2)\n",
    "\n",
    "axes.hist( j_posterior, density=True)\n",
    "axes.set_ylabel( \"Density\")\n",
    "axes.set_xlabel( \"$\\hat{theta}$\")\n",
    "axes.set_title( \"Posterior Distribution of Jones class $\\hat{theta}$\")\n",
    "\n",
    "axes = figure.add_subplot(1, 3, 3)\n",
    "\n",
    "axes.hist( difference5, density=True)\n",
    "axes.set_ylabel( \"Density\")\n",
    "axes.set_xlabel( \"difference in $\\hat{theta}$\")\n",
    "axes.set_title( \"Posterior Distribution of Difference in $\\hat{theta}$s\")\n",
    "\n",
    "plt.show()\n",
    "plt.close()"
   ]
  },
  {
   "cell_type": "markdown",
   "metadata": {},
   "source": [
    "- 90% BCI"
   ]
  },
  {
   "cell_type": "code",
   "execution_count": 35,
   "metadata": {},
   "outputs": [
    {
     "name": "stdout",
     "output_type": "stream",
     "text": [
      "90% BCI for smith class theta: [75.79802775 78.83363345]\n",
      "90% BCI for jones class theta: [81.41025078 85.56810158]\n",
      "90% BCI for difference: [-8.59408259 -3.5580456 ]\n"
     ]
    }
   ],
   "source": [
    "print( \"90% BCI for smith class theta:\", stats.mstats.mquantiles( s_posterior, [0.05, 0.95]))\n",
    "print( \"90% BCI for jones class theta:\", stats.mstats.mquantiles( j_posterior, [0.05, 0.95]))\n",
    "print( \"90% BCI for difference:\", stats.mstats.mquantiles( difference5, [0.05, 0.95]))"
   ]
  },
  {
   "cell_type": "markdown",
   "metadata": {},
   "source": [
    "Q - What is the probability that Mrs. Smith and Mrs. Jones are equally effective teachers."
   ]
  },
  {
   "cell_type": "code",
   "execution_count": 36,
   "metadata": {},
   "outputs": [
    {
     "name": "stdout",
     "output_type": "stream",
     "text": [
      "P(two teachers are equally effective) =  0.02\n"
     ]
    }
   ],
   "source": [
    "print (\"P(two teachers are equally effective) = \",np.mean((-2.5 <= difference5) & (difference5 <= 2.5)))"
   ]
  },
  {
   "cell_type": "markdown",
   "metadata": {},
   "source": [
    "There are 2% chance that two teacherrs are equally effective"
   ]
  },
  {
   "cell_type": "markdown",
   "metadata": {},
   "source": [
    "3. Answer the question using Method 2.\n",
    "\n",
    "Method: We could generate M samples of size N directly from the distribution. (Method 2)."
   ]
  },
  {
   "cell_type": "markdown",
   "metadata": {},
   "source": [
    "- generate 100 samples of size 100"
   ]
  },
  {
   "cell_type": "code",
   "execution_count": 37,
   "metadata": {},
   "outputs": [],
   "source": [
    "np.random.seed(19921101)\n",
    "sclassdata = []\n",
    "\n",
    "sclassdata = np.array(np.random.normal( s_mu, s_s, 100*100))\n",
    "jclassdata = np.array(np.random.normal( j_mu, j_s, 100*100))\n",
    "\n",
    "difference6 =  sclassdata - jclassdata \n",
    "\n"
   ]
  },
  {
   "cell_type": "markdown",
   "metadata": {},
   "source": [
    "- Plot"
   ]
  },
  {
   "cell_type": "code",
   "execution_count": 38,
   "metadata": {},
   "outputs": [
    {
     "data": {
      "image/png": "[encoded data removed]",
      "text/plain": [
       "<Figure size 1440x432 with 3 Axes>"
      ]
     },
     "metadata": {},
     "output_type": "display_data"
    }
   ],
   "source": [
    "figure = plt.figure(figsize=(20, 6))\n",
    "\n",
    "axes = figure.add_subplot(1, 3, 1)\n",
    "axes.hist( sclassdata, density=True)\n",
    "axes.set_ylabel( \"Density\")\n",
    "axes.set_xlabel( \"$\\hat{theta}$\")\n",
    "axes.set_title( \"Posterior Distribution of Smith Class $\\hat{theta}$\")\n",
    "\n",
    "\n",
    "axes = figure.add_subplot(1, 3, 2)\n",
    "\n",
    "axes.hist( jclassdata, density=True)\n",
    "axes.set_ylabel( \"Density\")\n",
    "axes.set_xlabel( \"$\\hat{theta}$\")\n",
    "axes.set_title( \"Posterior Distribution of Jones class $\\hat{theta}$\")\n",
    "\n",
    "axes = figure.add_subplot(1, 3, 3)\n",
    "\n",
    "axes.hist( difference6, density=True)\n",
    "axes.set_ylabel( \"Density\")\n",
    "axes.set_xlabel( \"difference in $\\hat{theta}$\")\n",
    "axes.set_title( \"Posterior Distribution of Difference in $\\hat{theta}$s\")\n",
    "\n",
    "plt.show()\n",
    "plt.close()"
   ]
  },
  {
   "cell_type": "markdown",
   "metadata": {},
   "source": [
    "90% BCI"
   ]
  },
  {
   "cell_type": "code",
   "execution_count": 40,
   "metadata": {},
   "outputs": [
    {
     "name": "stdout",
     "output_type": "stream",
     "text": [
      "90% BCI for smith class theta: [61.54004256 94.43740018]\n",
      "90% BCI for jones class theta: [ 60.00341868 109.49017395]\n",
      "90% BCI for difference: [-36.34937601  22.88502663]\n"
     ]
    }
   ],
   "source": [
    "print( \"90% BCI for smith class theta:\", stats.mstats.mquantiles( sclassdata, [0.05, 0.95]))\n",
    "print( \"90% BCI for jones class theta:\", stats.mstats.mquantiles( jclassdata, [0.05, 0.95]))\n",
    "print( \"90% BCI for difference:\", stats.mstats.mquantiles( difference6, [0.05, 0.95]))"
   ]
  },
  {
   "cell_type": "markdown",
   "metadata": {},
   "source": [
    "Q - What is the probability that Mrs. Smith and Mrs. Jones are equally effective teachers."
   ]
  },
  {
   "cell_type": "code",
   "execution_count": 41,
   "metadata": {},
   "outputs": [
    {
     "name": "stdout",
     "output_type": "stream",
     "text": [
      "P(two teachers are equally effective) =  0.1019\n"
     ]
    }
   ],
   "source": [
    "print (\"P(two teachers are equally effective) = \",np.mean((-2.5 <= difference6) & (difference6 <= 2.5)))"
   ]
  },
  {
   "cell_type": "markdown",
   "metadata": {},
   "source": [
    "There are 10% chance that two teachers are equally effective"
   ]
  },
  {
   "cell_type": "raw",
   "metadata": {},
   "source": [
    "4. Comment on any observed similarities or differences between the two results."
   ]
  },
  {
   "cell_type": "markdown",
   "metadata": {},
   "source": [
    "Method 1"
   ]
  },
  {
   "cell_type": "code",
   "execution_count": 42,
   "metadata": {},
   "outputs": [
    {
     "name": "stdout",
     "output_type": "stream",
     "text": [
      "mean of smith class:  77.13052986158641\n",
      "mean of jones class:  83.50501177751329\n",
      "mean of difference:  -6.374481915926871\n",
      "std of smith class:  0.8640055360429832\n",
      "std of jones class:  1.2625838358991535\n",
      "std of difference:  1.5190633194511807\n",
      "90% BCI for smith class theta: [75.79802775 78.83363345]\n",
      "90% BCI for jones class theta: [81.41025078 85.56810158]\n",
      "90% BCI for difference: [-8.59408259 -3.5580456 ]\n"
     ]
    }
   ],
   "source": [
    "print( \"mean of smith class: \", np.mean(s_posterior))\n",
    "print( \"mean of jones class: \", np.mean(j_posterior))\n",
    "print( \"mean of difference: \", np.mean(difference5))\n",
    "print( \"std of smith class: \", np.std(s_posterior))\n",
    "print( \"std of jones class: \", np.std(j_posterior))\n",
    "print( \"std of difference: \", np.std(difference5))\n",
    "print( \"90% BCI for smith class theta:\", stats.mstats.mquantiles( s_posterior, [0.05, 0.95]))\n",
    "print( \"90% BCI for jones class theta:\", stats.mstats.mquantiles( j_posterior, [0.05, 0.95]))\n",
    "print( \"90% BCI for difference:\", stats.mstats.mquantiles( difference5, [0.05, 0.95]))"
   ]
  },
  {
   "cell_type": "markdown",
   "metadata": {},
   "source": [
    "Method 2"
   ]
  },
  {
   "cell_type": "code",
   "execution_count": 43,
   "metadata": {},
   "outputs": [
    {
     "name": "stdout",
     "output_type": "stream",
     "text": [
      "mean of smith class:  77.88053714486142\n",
      "mean of jones class:  84.7901637450364\n",
      "mean of difference:  -6.909626600174972\n",
      "std of smith class:  10.05506751705388\n",
      "std of jones class:  15.111254983110687\n",
      "std of difference:  18.087398731258947\n",
      "90% BCI for smith class theta: [61.54004256 94.43740018]\n",
      "90% BCI for jones class theta: [ 60.00341868 109.49017395]\n",
      "90% BCI for difference: [-36.34937601  22.88502663]\n"
     ]
    }
   ],
   "source": [
    "print( \"mean of smith class: \", np.mean(sclassdata))\n",
    "print( \"mean of jones class: \", np.mean(jclassdata))\n",
    "print( \"mean of difference: \", np.mean(difference6))\n",
    "print( \"std of smith class: \", np.std(sclassdata))\n",
    "print( \"std of jones class: \", np.std(jclassdata))\n",
    "print( \"std of difference: \", np.std(difference6))\n",
    "print( \"90% BCI for smith class theta:\", stats.mstats.mquantiles( sclassdata, [0.05, 0.95]))\n",
    "print( \"90% BCI for jones class theta:\", stats.mstats.mquantiles( jclassdata, [0.05, 0.95]))\n",
    "print( \"90% BCI for difference:\", stats.mstats.mquantiles( difference6, [0.05, 0.95]))"
   ]
  },
  {
   "cell_type": "markdown",
   "metadata": {},
   "source": [
    "Based on above statistics and results, both results have a similar mean for the class marks and mark differences. However, methods 2 gives much wider BCI range and higher standard deviations. From the plot, we see method 1 gives a bit skewed normal distribution as it always bootstrap on a similar data set whereas method 2 gives a non-skewed normal distribution with much wider range. As a result, method 1 gives 2% probability whereas method 2 gives 10% probability."
   ]
  }
 ],
 "metadata": {
  "kernelspec": {
   "display_name": "Python 3",
   "language": "python",
   "name": "python3"
  },
  "language_info": {
   "codemirror_mode": {
    "name": "ipython",
    "version": 3
   },
   "file_extension": ".py",
   "mimetype": "text/x-python",
   "name": "python",
   "nbconvert_exporter": "python",
   "pygments_lexer": "ipython3",
   "version": "3.7.1"
  },
  "toc": {
   "colors": {
    "hover_highlight": "#DAA520",
    "navigate_num": "#000000",
    "navigate_text": "#333333",
    "running_highlight": "#FF0000",
    "selected_highlight": "#FFD700",
    "sidebar_border": "#EEEEEE",
    "wrapper_background": "#FFFFFF"
   },
   "moveMenuLeft": true,
   "nav_menu": {
    "height": "66px",
    "width": "252px"
   },
   "navigate_menu": true,
   "number_sections": true,
   "sideBar": true,
   "threshold": 4,
   "toc_cell": false,
   "toc_section_display": "block",
   "toc_window_display": false,
   "widenNotebook": false
  }
 },
 "nbformat": 4,
 "nbformat_minor": 2
}
