{
 "cells": [
  {
   "cell_type": "code",
   "execution_count": 1,
   "metadata": {
    "collapsed": true
   },
   "outputs": [],
   "source": [
    "%matplotlib inline"
   ]
  },
  {
   "cell_type": "code",
   "execution_count": 2,
   "metadata": {
    "collapsed": true
   },
   "outputs": [],
   "source": [
    "import numpy as np\n",
    "import scipy.stats as stats\n",
    "import seaborn as sns\n",
    "import matplotlib.pyplot as plt\n",
    "import pandas as pd\n",
    "\n",
    "sns.set(style=\"darkgrid\")"
   ]
  },
  {
   "cell_type": "markdown",
   "metadata": {
    "collapsed": true
   },
   "source": [
    "# The Frequentist Approach to Statistical Inference\n",
    "\n",
    "## Contents\n",
    "1. [Background](#Background)\n",
    "2. [Sampling Distribution](#Sampling-Distribution)\n",
    "3. [p-value](#p-value)\n",
    "4. [Confidence Intervals](#Confidence-Intervals)\n",
    "5. [Hypothesis Testing](#Hypothesis-Testing)\n",
    "6. [The Modern Synthesis](#The-Modern-Synthesis)\n",
    "7. [Summary](#Summary)"
   ]
  },
  {
   "cell_type": "markdown",
   "metadata": {},
   "source": [
    "## [Background](#Contents)\n",
    "\n",
    "Frequentist statistics starts with the beginning of the last century, nearly 100 years ago now. The main players were R. A. Fisher on the one hand and Jerzey Neyman & Egon Pearson on the other. Fisher had a long running feud with Pearson's father and let's just say the two groups didn't get along. From all accounts, Fisher was a difficult person. They were all eugenicists.\n",
    "\n",
    "Now, inference is still inference...neither the Frequentist nor the Bayesian approaches to statistical inference \"solve\" the problem of induction. They simply make different suggestions as to how we might deal with the problem. For Bayesians, we deal with the problem by assigning probability distributions to everything and using Bayes Rule. The Bayesian Approach is the only one with a solid theoretical foundations.\n",
    "\n",
    "The Frequentist Approach describes a process whereby we should, theoretically, make fewer errors over time when making inferences than if we did not follow this process. The Frequentist Approach is largely a collection (of sometimes not entirely compatible) of rules of thumb. It was, however, before the advent of the modern computer the easiest approach to calculate for the typical scientist. And in an age of \"Scientific Communism\", anything that smacked of subjectivity (Bayesian Priors) wasn't going to fly either.\n",
    "\n",
    "The funny thing is that in the end, most Bayesians assume uniform/uninformative priors and it turns out that under those conditions, Bayesian and Frequentist approaches often--but not always--end up with the same *decision*. This is important. If all you want is a yes or no answer, the two approaches often result in the same answer but they are not the same thing. Discussions about Bayesian v. Frequentism often lose this point.\n",
    "\n",
    "So let us start off with a little history, because it explains why we have what we have..."
   ]
  },
  {
   "cell_type": "markdown",
   "metadata": {},
   "source": [
    "## [Sampling Distribution](#Contents)\n",
    "\n",
    "According to the Frequentist interpretation of statistical inference, our goal is to infer the (fixed) property of the population from a single random sample. That property is a parameter or parameters ($\\theta$) of interest just like in Bayesian statistics. \n",
    "\n",
    "There are a few differences, however. First, only the data is treated as a random variable because of this, Frequentists are interested only in the likelihood $P(D|\\theta)$. Second, the problem must be one in which *repeated* sampling is at least theoretically possible. We will see later that Frequentists stretch this requirement to the incredulous in some cases but in most situations, the assumption is not problematics.\n",
    "\n",
    "As a result of the last requirement, the key theoretical constructu in Frequentist statistics is the **sampling distribution.** What is a sampling distribution? Glad you asked!\n",
    "\n",
    "Suppose we have 10,000 head of cattle and we want to get a sense of how much money we'll get when they're brought to market. In order to do this, we want to estimate the average weight, $\\mu$. (Canonically, the average of a population is called $\\mu$ but you can continue to think of it as $\\theta$). Now, we don't want to weigh all 10,000 head, cowboys and cowgirls ain't got time for that. Instead the cow data scientist suggests taking a random sample of 40 cattle and calculating their average weight as an estimator of the population's average weight.\n",
    "\n",
    "We will skip some complexities here but consider...how does one get a random sample of 40 cattle? If you only pick the ones you can get to easily, that's a convenience sample. We will have more to say about this. Suppose instead that all cattle are numbered, 40 numbers are drawn at random, GPS in their cow bells locates them and a helicopter swoops down and humanely lifts them into the air, weighs them, sets them back down and gives them some nice cracked corn.\n",
    "\n",
    "Let's assume the weights of our cows are as follows:"
   ]
  },
  {
   "cell_type": "code",
   "execution_count": 3,
   "metadata": {
    "collapsed": true
   },
   "outputs": [],
   "source": [
    "cows = [1466.2, 1486.3, 1478.1, 1574.8,\n",
    "        1521.7, 1499.7, 1517.7, 1495.2,\n",
    "        1426.9, 1491.2, 1468.9, 1479.5,\n",
    "        1465.7, 1543.4, 1477.1, 1447.2,\n",
    "        1476.0, 1495.8, 1466.7, 1508.2,\n",
    "        1491.2, 1473.3, 1456.9, 1434.8,\n",
    "        1547.3, 1502.6, 1503.9, 1443.3,\n",
    "        1396.1, 1456.3, 1616.7, 1529.3,\n",
    "        1499.7, 1461.3, 1399.8, 1415.2,\n",
    "        1536.5, 1529.1, 1440.6, 1473.7]"
   ]
  },
  {
   "cell_type": "code",
   "execution_count": 4,
   "metadata": {},
   "outputs": [
    {
     "data": {
      "text/plain": [
       "(array([  3.,   2.,   6.,  10.,   9.,   3.,   5.,   0.,   1.,   1.]),\n",
       " array([ 1396.1 ,  1418.16,  1440.22,  1462.28,  1484.34,  1506.4 ,\n",
       "         1528.46,  1550.52,  1572.58,  1594.64,  1616.7 ]),\n",
       " <a list of 10 Patch objects>)"
      ]
     },
     "execution_count": 4,
     "metadata": {},
     "output_type": "execute_result"
    },
    {
     "data": {
      "image/png": "[encoded data removed]",
      "text/plain": [
       "<matplotlib.figure.Figure at 0x109df69d0>"
      ]
     },
     "metadata": {},
     "output_type": "display_data"
    }
   ],
   "source": [
    "figure = plt.figure(figsize=(10,6))\n",
    "\n",
    "axes = figure.add_subplot(1, 1, 1)\n",
    "\n",
    "axes.set_title( r\"Distribution of Cow Weights\")\n",
    "axes.set_xlabel( r\"Weight\")\n",
    "axes.set_ylabel( \"Count\")\n",
    "axes.hist( cows)"
   ]
  },
  {
   "cell_type": "markdown",
   "metadata": {},
   "source": [
    "So here's a distribution of cow weights from the single sample. The x-axis is weight, the actual variable or factor. The y-axis is counts although I could convert it to percentages (relative frequencies) or even a density. It looks vaguely normal (which may not always be the case even though I used techniques from a previous lecture to sample from a normal distribution).\n",
    "\n",
    "The mean of the sample, called $\\bar{x}$ is:"
   ]
  },
  {
   "cell_type": "code",
   "execution_count": 5,
   "metadata": {},
   "outputs": [
    {
     "name": "stdout",
     "output_type": "stream",
     "text": [
      "mean cow weight = 1484.8475 lbs.\n"
     ]
    }
   ],
   "source": [
    "print \"mean cow weight =\", np.mean( cows), \"lbs.\""
   ]
  },
  {
   "cell_type": "markdown",
   "metadata": {},
   "source": [
    "So imagine if I repeated this sampling infinitely many times and calculate the mean each time. I would end up with a seondary data set--a data set like any other--that would be composed of mean cow weights. I could take the average of *that* data, I could also plot a distribution for it:"
   ]
  },
  {
   "cell_type": "code",
   "execution_count": 6,
   "metadata": {
    "collapsed": true
   },
   "outputs": [],
   "source": [
    "from numpy.random import normal"
   ]
  },
  {
   "cell_type": "code",
   "execution_count": 7,
   "metadata": {},
   "outputs": [],
   "source": [
    "mean_cow_weights = []\n",
    "for i in xrange( 10000):\n",
    "    cow_weights = normal( 1500.0, 50.0, 40)\n",
    "    mean_cow_weights.append( np.mean( cow_weights))"
   ]
  },
  {
   "cell_type": "code",
   "execution_count": 8,
   "metadata": {},
   "outputs": [
    {
     "data": {
      "text/plain": [
       "(array([   11.,   102.,   412.,  1268.,  2268.,  2653.,  2056.,   912.,\n",
       "          272.,    46.]),\n",
       " array([ 1470.92101926,  1476.36755021,  1481.81408115,  1487.2606121 ,\n",
       "         1492.70714304,  1498.15367398,  1503.60020493,  1509.04673587,\n",
       "         1514.49326682,  1519.93979776,  1525.38632871]),\n",
       " <a list of 10 Patch objects>)"
      ]
     },
     "execution_count": 8,
     "metadata": {},
     "output_type": "execute_result"
    },
    {
     "data": {
      "image/png": "[encoded data removed]",
      "text/plain": [
       "<matplotlib.figure.Figure at 0x109e9d490>"
      ]
     },
     "metadata": {},
     "output_type": "display_data"
    }
   ],
   "source": [
    "figure = plt.figure(figsize=(10,6))\n",
    "\n",
    "axes = figure.add_subplot(1, 1, 1)\n",
    "\n",
    "axes.set_title( r\"Distribution of Mean Cow Weights\")\n",
    "axes.set_xlabel( r\"Mean Weight\")\n",
    "axes.set_ylabel( \"Count\")\n",
    "axes.hist( mean_cow_weights)"
   ]
  },
  {
   "cell_type": "markdown",
   "metadata": {},
   "source": [
    "This is a sampling distribution. It's just a distribution of parameter estimates (mean cow weights) rather than the raw data (cow weights). The importance of the sampling distribution is that it tells us how spread out our estimate of the mean of the population $\\mu$ is going to be based on repeated sampling and our particular estimator. As you might have guessed, $\\mu=1500$ but our first sample mean was $\\bar{x} = 1484$. Is that expected?"
   ]
  },
  {
   "cell_type": "markdown",
   "metadata": {},
   "source": [
    "## [p-value](#Contents)\n",
    "\n",
    "Well, we have the data for the sampling distribution...we can see how often 1484 came up. Well, no, actually we can't because in a *density* (and these are usually densities) the probability of a single value is always 0...let's ask something slightly different. How often did does a mean of 1484 pounds or *lower* show up?\n",
    "\n",
    "Let's count them:"
   ]
  },
  {
   "cell_type": "code",
   "execution_count": 30,
   "metadata": {},
   "outputs": [
    {
     "name": "stdout",
     "output_type": "stream",
     "text": [
      "0.0268 probability of seeing sample mean of that value or lower\n"
     ]
    }
   ],
   "source": [
    "sample_mean =  np.mean( cows)\n",
    "lower_counts = [1.0 if mean <= sample_mean else 0.0 for mean in mean_cow_weights]\n",
    "print np.sum( lower_counts)/10000.0, \"probability of seeing sample mean of that value or lower\""
   ]
  },
  {
   "cell_type": "markdown",
   "metadata": {},
   "source": [
    "so if the population mean really is 1500 pounds, then seeing a result as low as 1484 pounds or lower is pretty unlikely...our sampling distribution says it only happens 2.7% of the time.\n",
    "\n",
    "As it turns out, the statement \"if the population mean really is 1500 pounds\" is our **null hypothesis**. The \"it only happens 2.7% of the time\" is our **p-value**. It is very, **very** important to note that the p-value:\n",
    "\n",
    "1. Only makes sense in the context of the null hypothesis.\n",
    "2. Depends on the estimator, the sampling design, how the data was collected, etc.\n",
    "3. covers the result we saw from our sample *or more extreme*.\n",
    "4. Is *not* the probability that the null hypothesis is true. That would be $P(\\mu|D)$ and we're only dealing with $P(D|\\mu)$.\n",
    "\n",
    "Additionally, before the experiment even started, we needed to have specified a threshold of statistical significance. We might have said, \"Our threshold is going to be 1%, we will only entertain outcomes that happen at least 1 in 100 times relative to the null hypothesis.\" This is often where the \"by chance\" part sneaks in. There is really nothing about \"by chance\" in Frequentist statistics.\n",
    "\n",
    "This is Fisher's test of statistical significance but there is a problem (well, more than one but a very specific one)...if we do not take infinitely many samples, where does the sampling distribution come from? The answer is, we estimate it from the sample we did take. \n",
    "\n",
    "If this sounds circular to you, you're not alone. We want to know how likely it is to observe the result we observed from our sample. In order to do so, we need to know the sampling distribution but we don't. So we use the very same data to estimate the sampling distribution that is then used to calculate how likely it is to observe the result we observed.\n",
    "\n",
    "In order to estimate the sampling distribution, we calculate the sample standard deviation:\n",
    "\n",
    "$s = \\sqrt{\\frac{1}{n}\\sum (x_i - \\bar{x})^2}$"
   ]
  },
  {
   "cell_type": "code",
   "execution_count": 15,
   "metadata": {},
   "outputs": [
    {
     "name": "stdout",
     "output_type": "stream",
     "text": [
      "44.3458340067 pounds\n"
     ]
    }
   ],
   "source": [
    "print np.std( cows), \"pounds\""
   ]
  },
  {
   "cell_type": "markdown",
   "metadata": {},
   "source": [
    "Now, all distributions have variances and standard deviations but the standard deviation of the sampling distribution is called the **standard error**. We estimate like like so:\n",
    "\n",
    "$se = \\frac{s}{\\sqrt{n}}$"
   ]
  },
  {
   "cell_type": "code",
   "execution_count": 18,
   "metadata": {},
   "outputs": [
    {
     "name": "stdout",
     "output_type": "stream",
     "text": [
      "se = 7.01169201005\n"
     ]
    }
   ],
   "source": [
    "se = np.std( cows)/np.sqrt( 40)\n",
    "print \"se =\", se"
   ]
  },
  {
   "cell_type": "markdown",
   "metadata": {},
   "source": [
    "Next we calculate the \"standard score\"...except we don't. Standard scores \"in general\" are a normalization of the difference in the observed mean and the null hypothesis to the standard normal distribution with $(\\mu=0, \\sigma=1)$. Originally, we needed to do this because there were no computers and we had to look up the probabilities (and interpolate them) using tables.\n",
    "\n",
    "$z\\_score = \\frac{\\bar{x}-\\mu}{se}$\n",
    "\n",
    "where we can let $\\mu$ be our null hypothesis. As it turns out, using the normal distribution was problematic for the data sizes of the day, usually $n < 30$, so a distribution with thicker tails was needed. This distribution...the t-distribution is similar in general shape to the normal but has \"fatter\" tails. It was developed by William Sealy Gosset at Guinness Brewing. True to form, Fisher had Gosset calculate the tables for the t-distribution for Fisher's upcoming book (this had to be done by hand). Fisher then copyrighted them.\n",
    "\n",
    "The formula for a *t-score* is not different, we just use a different reference distribution:\n",
    "\n",
    "$t\\_score = \\frac{\\bar{x}-\\mu}{se}$"
   ]
  },
  {
   "cell_type": "code",
   "execution_count": 20,
   "metadata": {},
   "outputs": [
    {
     "name": "stdout",
     "output_type": "stream",
     "text": [
      "-2.16780771007\n"
     ]
    }
   ],
   "source": [
    "t_score = (1484.8 - 1500.0)/se\n",
    "print t_score"
   ]
  },
  {
   "cell_type": "markdown",
   "metadata": {},
   "source": [
    "Standard distributions are useful because they give problem independent frames of reference. Since 95% of all values for a normal distribution lie within 1.96 standard deviations of the mean, and the standard deviation is 1 for the standard normal distribution, we can compare -2.16 directly to -1.96 (because we're below the mean) to know that something *might* be up. This is, in fact, Neyman-Pearson's Method which we'll discuss in a bit.\n",
    "\n",
    "What remains now is to discover the p-value for the t-score we just calculated. We can do with with SciPy:"
   ]
  },
  {
   "cell_type": "code",
   "execution_count": 21,
   "metadata": {
    "collapsed": true
   },
   "outputs": [],
   "source": [
    "import scipy.stats as stats"
   ]
  },
  {
   "cell_type": "code",
   "execution_count": 29,
   "metadata": {},
   "outputs": [
    {
     "name": "stdout",
     "output_type": "stream",
     "text": [
      "p-value is 0.0181692397873\n"
     ]
    }
   ],
   "source": [
    "p_value = stats.t.sf(np.abs( t_score), 39) # degrees of freedom is n - 1 or 40 - 1 = 39.\n",
    "print \"p-value is\", p_value"
   ]
  },
  {
   "cell_type": "markdown",
   "metadata": {},
   "source": [
    "This is not quite the same as before but you need to remember that 1. we are estimating the parameters of the sampling distribution and 2. before, since we had the sampling distribution, we used the normal distribution instead of the t-distribution.\n",
    "\n",
    "Everything else still holds. This is the probability of observing a result at least as extreme as the result we observed (1484 lbs.) if the null hypothesis is true, (the population mean is 1500 lbs), under the test (how we calculated our data, the estimator used, etc.).\n",
    "\n",
    "This is a one-tailed test. We didn't entertain the possibility that the observed mean might be higher. If we did, we would multiple the result by 2.\n",
    "\n",
    "This seems more complicated than it really is because we went over the derivation and logic behind Fisher's approach. Really, you:\n",
    "\n",
    "1. Design an experiment including a null hypothesis.\n",
    "2. Indicate a threshold of statistical significance.\n",
    "3. Collect a random sample and calculate the estimator.\n",
    "4. Calculate the p-value.\n",
    "5. Is the result important/meaningful?\n",
    "6. Is the result statistically significant?\n",
    "\n",
    "Although we'll talk about the problems later, Step 5 is part of where it all goes wrong. People misinterpret the p-value all the time...the definition doesn't just roll off the tongue. In Bayesian statistics, we can say, \"based on the data, there is a 93.7% probability that the bias of the coin is between 0.45 and 0.55\" whereas you simply cannot say this in Frequentist statistics. The Bayesian answer is almost always the one you want. Finally, the modern way the p-value is used is not Fisher's intent at all. He only meant for the p-value to indicate whethere something should be investigated further. There are a few other things to note:\n",
    "\n",
    "1. If we weigh another 40 cattle, the data cannot be combined. This is a new experiment. This stands in contrast to Bayesian methods.\n",
    "2. If a \"legitimate\" prior existed, Fisher and most all the Frequentists completely agree with Bayesian methods. They had a problem with *subjective* priors.\n",
    "\n",
    "Speaking of things that are difficult to define, let's talk about Confidence Intervals."
   ]
  },
  {
   "cell_type": "markdown",
   "metadata": {},
   "source": [
    "## [Confidence Intervals](#Contents)\n",
    "\n",
    "We have probably all heard of a \"95% Confidence Interval\" but I doubt that most know what that really means. In order to understand where confidence intervals come from, we go back to the idea of a sampling distribution and the standard error.\n",
    "\n",
    "As previously noted, if we look at a standard normal distribution with $(\\mu=0, \\sigma=1)$, then 95% of the observations lie on a range of plus or minus 1.96. Just as with the t-score (or z-score) where we scaled down our problem to the standard normal (or t) distribution, we can also \"scale up\".\n",
    "\n",
    "For our cow problem we have a mean of 1484 and a standard error of 7.01 so the 95% confidence interval is simply a substitution of those values for 0 and 1 in the above formula:"
   ]
  },
  {
   "cell_type": "code",
   "execution_count": 31,
   "metadata": {},
   "outputs": [
    {
     "name": "stdout",
     "output_type": "stream",
     "text": [
      "95% confidence interval =  1470.2604 1497.7396\n"
     ]
    }
   ],
   "source": [
    "print \"95% confidence interval = \", (1484 - 1.96 * 7.01), (1484 + 1.96 * 7.01)"
   ]
  },
  {
   "cell_type": "markdown",
   "metadata": {},
   "source": [
    "What does this mean? What it does *not* mean is that there is a 95% chance that the population mean lies in the confidence interval. It's kind of difficult to describe why...basically, the confidence interval is not a thing but a process. What it really means is that if we repeat the process of constructing a confidence interval in this way, 95% of the time, it will include the population mean ($\\mu$). However, for a given confidence interval, it either contains the population mean or it doesn't and we don't know which!\n",
    "\n",
    "Let's simulate this.\n",
    "\n",
    "Just as before, we can simulate 10,000 samples, calculate the confidence interval and see if it contains the population mean and we can tally up the number of times that it does."
   ]
  },
  {
   "cell_type": "code",
   "execution_count": 34,
   "metadata": {},
   "outputs": [
    {
     "name": "stdout",
     "output_type": "stream",
     "text": [
      "95% confidence interval contains population mean 93.94 % of the time.\n"
     ]
    }
   ],
   "source": [
    "contains_mean = []\n",
    "for i in xrange( 10000):\n",
    "    cow_weights = normal( 1500.0, 50.0, 40)\n",
    "    cow_mean = np.mean( cow_weights)\n",
    "    cow_std = np.std( cow_weights)\n",
    "    cow_se = cow_std / np.sqrt( 40)\n",
    "    lower = cow_mean - 1.96 * cow_se\n",
    "    upper = cow_mean + 1.96 * cow_se\n",
    "    contains_mean.append( lower <= 1500.0 <= upper)\n",
    "print \"95% confidence interval contains population mean\", (np.sum(contains_mean)/10000.0)*100.0, \"% of the time.\""
   ]
  },
  {
   "cell_type": "markdown",
   "metadata": {},
   "source": [
    "And there you go...not a bad approximation for only 10,000 samples (it's supposed to be infinite). The main point here is that the \"95%\" applies to the process not a particular confidence interval."
   ]
  },
  {
   "cell_type": "markdown",
   "metadata": {},
   "source": [
    "## [Hypothesis Testing](#Contents)\n",
    "\n",
    "As I mentioned before, Team Fisher and Team Neyson (Neyman/Pearson) feuded in the journals of statistics for decades about the proper way of doing statistical inference. So far, I have only described Fisher's approach. Now we turn to Neyman/Pearson's approach. It sees a lot less use today because, ironically, of computer software that can easily calculate p-values but the language of modern Frequentist statistics comes mostly from Team Neyson so we need to investigate a bit about what they going on about.\n",
    "\n",
    "For one thing, they more or less dispensed with probability statements entirely. This was their method:\n",
    "\n",
    "1. Specify a hypothesis (\"alternative hypothesis\") and a null hypothesis.\n",
    "2. Set a level of statistical significance, called $\\alpha$.\n",
    "3. Determine which test statistic is appropriate for your experiment (estimator and score).\n",
    "4. Set the *power* of the test, $\\beta$, which determined sample size and thus the size of effect you could identify.\n",
    "4. Collect the data as a random sample.\n",
    "5. Calculate the test statistic.\n",
    "\n",
    "There are certainly similarities. For Hypothesis Testing, $\\alpha$ is the threshold of statistical significance although Neyman/Pearson didn't use that language. Let's see how Hypothesis Testing works for our cows. We can write our hypotheses as follows:\n",
    "\n",
    "$H_0: \\bar{x} - \\mu = 0$\n",
    "\n",
    "$H_A: \\bar{x} - \\mu <> 0$\n",
    "\n",
    "Now we settle on a level of significance. These days this is often field specific. Ranging from $\\alpha = 0.10$ in some social sciences to $\\alpha=0.0001$ in astrophysics, $\\alpha=0.05$ is a very common value. In Hypothesis Testing, there are four possibilities:\n",
    "\n",
    "1. Reject $H_0$ when it is false. Good!\n",
    "2. Reject $H_0$ when it is true. Type I error. Bad!\n",
    "3. Fail to Reject $H_0$ when it is true. Good!\n",
    "4. Fail to Reject $H_0$ when it is false. Type II error. Bad!\n",
    "\n",
    "$\\alpha$ controls the rate of Type I error. $\\beta$ controls the rate of Type II error. Depending on the fashions of the philosophy of science, \"Fail to Reject\" may be \"Accept\". In a strict Positivist interpretation of science, we never accept or prove anything, we simply fail to *disprove* it.\n",
    "\n",
    "So how do we reject or fail to reject? First, we look up (or calculate these days), the \"critical value\" for our $\\alpha$. We've already talked about it, it's either -1.96 or 1.96 depending on which side of the distribution we end up on.\n",
    "\n",
    "Then we calculate the t-score:\n",
    "\n",
    "$t\\_score = \\frac{\\bar{x}- \\mu}{se}$\n",
    "\n",
    "which we have already done, it was -2.16.\n",
    "\n",
    "Because -2.16 is less than -1.96, we **reject** the null hypothesis that our sample mean is equal to the population mean.\n",
    "\n",
    "Again, this approach is a statement about *process*. We following this process we will do the right thing about 19 times out of 20 (if we always use an $\\alpha$ of 0.05). It says nothing about the probability of particular results.\n",
    "\n",
    "And people hated that."
   ]
  },
  {
   "cell_type": "markdown",
   "metadata": {},
   "source": [
    "## [The Modern Synthesis](#Contents)\n",
    "\n",
    "While Team Fisher (well, he was Team of 1) and Team Neyson fought over whose method was superior (and it wasn't always civilized), scientists in the field needed to do *something* and textbook writers and methodologists needed to do something. At first, lacking computers, Hypothesis Testing carried the day. At some point, people wanted to make some probability statement about their specific experiment not all experiments in general as long as this process was followed and Fisher's p-value was shoved into Hypothesis Testing.\n",
    "\n",
    "Over the years, things have started to go awry.\n",
    "\n",
    "1. Ioannidis [2005] showed that most published findings were false. There has been a lot of back and forth on this issue but a subsequent report by Bayer showed that nearly two-thirds of published medical research results were not reproducible.\n",
    "2. Journals have concentrated on publishing statistically significant results at the expense of meaningful results.\n",
    "3. Authors have engaged in \"p-hacking\", that is finding tests, hypotheses, or interpretations that *are* statistically significant.\n",
    "\n",
    "As a result, some journals require authors to demonstrate the meaningfulness of results or to publish confidence intervals instead of p-values.\n",
    "\n",
    "It has gotten so bad that the American Statistical Association had to publish guidelines on p-values in March 2016. Notice how carefully everthing needs to be worded:\n",
    "\n",
    "1. P-values can indicate how incompatible the data are with a specified statistical model.\n",
    "2. P-values do not measure the probability that the studied hypothesis is true, or the probability that the data were produced by random chance alone.\n",
    "3. Scientific conclusions and business or policy decisions should not be based only on whether a p-value passes a specific threshold.\n",
    "4. Proper inference requires full reporting and transparency.\n",
    "5. A p-value, or statistical significance, does not measure the size of an effect or the importance of a result.\n",
    "6. By itself, a p-value does not provide a good measure of evidence regarding a model or hypothesis.\n",
    "\n",
    "At which point one has to really ask oneself, why use them? They go on,\n",
    "\n",
    "> In light of misuses of and misconceptions concerning p-values, the statement notes that statisticians often supplement or even replace p-values with other approaches. These include methods “that emphasize estimation over testing such as confidence, credibility, or prediction intervals; Bayesian methods; alternative measures of evidence such as likelihood ratios or Bayes factors; and other approaches such as decision-theoretic modeling and false discovery rates.”"
   ]
  },
  {
   "cell_type": "markdown",
   "metadata": {},
   "source": [
    "## [Summary](#Contents)\n",
    "\n",
    "The kicker is that if you are looking for a yes/no answer to the result of an experiment, with an uniformative prior, Bayesian results and Frequentist results are *usually* the same. That is, if you look at a 95% credible interval which does have a probabilistic interpretation and a 95% confidence interval that does not, you will generally find that they have approximately the same values and you will come to the same conclusion.\n",
    "\n",
    "People often say this proves that it just doesn't matter and that Bayesians are zealots. So why use Bayesian approaches?\n",
    "\n",
    "1. The results are easier to explain. Much, much easier to explain especially if you have to give your reasoning for the yes or no decision.\n",
    "1. The resulting model is richer. You really shouldn't be sending yes/no answers: inferences about reality include error bars.\n",
    "2. They are applicable to a wider variety of problems.\n",
    "3. They're just not that hard anymore.\n",
    "\n",
    "Team Bayes."
   ]
  },
  {
   "cell_type": "code",
   "execution_count": null,
   "metadata": {
    "collapsed": true
   },
   "outputs": [],
   "source": []
  }
 ],
 "metadata": {
  "kernelspec": {
   "display_name": "Python 3",
   "language": "python",
   "name": "python3"
  },
  "language_info": {
   "codemirror_mode": {
    "name": "ipython",
    "version": 3
   },
   "file_extension": ".py",
   "mimetype": "text/x-python",
   "name": "python",
   "nbconvert_exporter": "python",
   "pygments_lexer": "ipython3",
   "version": "3.7.1"
  }
 },
 "nbformat": 4,
 "nbformat_minor": 1
}
