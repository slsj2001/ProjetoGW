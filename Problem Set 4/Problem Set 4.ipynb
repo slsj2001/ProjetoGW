{
 "cells": [
  {
   "cell_type": "code",
   "execution_count": 1,
   "metadata": {},
   "outputs": [],
   "source": [
    "%matplotlib inline"
   ]
  },
  {
   "cell_type": "code",
   "execution_count": 2,
   "metadata": {},
   "outputs": [],
   "source": [
    "import numpy as np\n",
    "import time\n",
    "import seaborn as sns\n",
    "import matplotlib.pyplot as plt\n",
    "import scipy.stats as stats\n",
    "\n",
    "sns.set(style=\"whitegrid\")"
   ]
  },
  {
   "cell_type": "markdown",
   "metadata": {},
   "source": [
    "# Problem Set 4 (covers Lab 7)\n",
    "\n",
    "## Directions\n",
    "\n",
    "1. Show all work/steps/calculations using a combination of code and Markdown. You will submit only this notebook named: [jhed_id].ipynb back to Blackboard from whence you downloaded it. Do not return the data to me.\n",
    "2. **All** work is to be your own. This is not a group project. You may, however, use code from the lectures and labs. Provide citations for any code that is not your own. You may also consult Stackoverflow, etc. This is not by any means \"closed book\" or anything like that. Basically, I need to see if *you* learned the concepts from the Lectures, *Fundamentals*, and Labs.\n",
    "3. Add whatever markdown or code cells you need in each part to explain and calculate your answers. Don't just provide answers but explain them as well. **Explain and interpret your results.**"
   ]
  },
  {
   "cell_type": "markdown",
   "metadata": {},
   "source": [
    "## Introduction\n",
    "\n",
    "Lab 7 was all about statistical inference, specifically, Bayesian statistical inference. You will use Bayesian inference on four  problems for this Problem Set [Goto Q1](#q1). You can paste all your code here:"
   ]
  },
  {
   "cell_type": "code",
   "execution_count": null,
   "metadata": {},
   "outputs": [],
   "source": []
  },
  {
   "cell_type": "markdown",
   "metadata": {},
   "source": [
    "<a id=\"q1\"></a>\n",
    "**Question 1.**\n",
    "\n",
    "Fifteen volunteers were put on the Supper Dooper Human Kibble Diet(tm) for a month. They were weighed before and after 30 days. The makers of Supper Dooper Human Kibble Diet(tm) are anxious to see the results of this study because they are planning to offer a money back guarantee of \"Lose 10 Pounds in 30 days or your money back!\".\n",
    "\n",
    "Based on the data, \n",
    "\n",
    "1. what is the probability that this claim can be made? \n",
    "2. If daily weight fluctuations can equal 5 pounds (in either direction). How probable is it that the diet doesn't work?\n",
    "3. Is there a positive claim can be made with at least ~66% belief?"
   ]
  },
  {
   "cell_type": "code",
   "execution_count": 3,
   "metadata": {},
   "outputs": [],
   "source": [
    "data1 = {}\n",
    "data1[\"start\"] = [129, 174, 200, 229, 205, 133, 143, 222, 161, 201, 194, 181, 185, 126, 212]\n",
    "data1[\"end\"] = [134, 171, 190, 227, 206, 130, 129, 218, 138, 187, 191, 177, 183, 124, 205]"
   ]
  },
  {
   "cell_type": "markdown",
   "metadata": {},
   "source": [
    "**Question 2.**\n",
    "\n",
    "The Acme Company has developed a new battery. The engineer in charge claims that the new battery will operate continuously for at least 7 minutes longer than the old battery.\n",
    "\n",
    "To test the claim, the company selects a simple random sample of 100 new batteries and 100 old batteries. The data is provided below.\n",
    "\n",
    "Based on the data,\n",
    "\n",
    "1. Test the engineer's claim that the new batteries run at least 7 minutes longer than the old. \n",
    "2. If plus or minus 5 minutes is \"equivalent\", what is the probability that the batteries have the same operating life?"
   ]
  },
  {
   "cell_type": "code",
   "execution_count": 4,
   "metadata": {},
   "outputs": [],
   "source": [
    "data2 = {}\n",
    "data2[\"old\"] = [161, 184, 138, 178, 188, 175, 195, 214, 183, 184, 195, 196, 150, 206, 185, 202, 216, 186, 153, 174, 217, 217, 178, 172, 205, 192, 172, 222, 197, 174, 163, 206, 176, 176, 230, 202, 267, 186, 190, 200, 182, 160, 225, 185, 205, 213, 189, 171, 166, 239, 170, 198, 198, 198, 211, 194, 197, 212, 194, 236, 163, 218, 221, 189, 182, 182, 202, 172, 165, 180, 214, 186, 191, 179, 191, 204, 209, 212, 141, 188, 193, 192, 185, 199, 144, 146, 231, 201, 177, 191, 197, 182, 174, 231, 202, 195, 161, 187, 181, 186]\n",
    "data2[\"new\"] = [196, 245, 196, 243, 181, 161, 173, 151, 148, 195, 247, 164, 167, 234, 200, 215, 204, 190, 148, 127, 174, 135, 231, 199, 125, 138, 140, 206, 139, 177, 260, 231, 173, 172, 178, 224, 186, 115, 144, 222, 189, 107, 239, 124, 216, 169, 212, 262, 145, 221, 179, 192, 142, 232, 171, 233, 287, 216, 188, 156, 169, 238, 128, 155, 202, 174, 229, 198, 192, 169, 156, 238, 178, 220, 177, 191, 234, 251, 166, 123, 144, 127, 203, 230, 203, 188, 185, 255, 239, 227, 173, 196, 208, 236, 194, 204, 217, 252, 169, 166]"
   ]
  },
  {
   "cell_type": "markdown",
   "metadata": {},
   "source": [
    "**Question 3.**\n",
    "\n",
    "In a recent survey, on an important question of economic revitalization, men and women responded as follows:\n",
    "\n",
    "```\n",
    "                   Response\n",
    "                     Yes  No  Total\n",
    "       Gender    Men  30  70  100\n",
    "               Women  45  55  100\n",
    "```\n",
    "\n",
    "Based on the data, what is the probability that the women were in favor of the question? "
   ]
  },
  {
   "cell_type": "code",
   "execution_count": null,
   "metadata": {},
   "outputs": [],
   "source": []
  },
  {
   "cell_type": "markdown",
   "metadata": {},
   "source": [
    "**Question 4.**\n",
    "\n",
    "In the above question you were able to regenerate the data. In the case of a continuous numeric variable, we're not exactly able to do this. However, given a parameterization and some assumptions about the underlying distribution, there are two possible approaches to solving this problem.\n",
    "\n",
    "1. We could generate a single sample of size N from the distribution and do M bootstrap samples. (Method 1).\n",
    "2. We could generate M samples of size N directly from the distribution. (Method 2).\n",
    "\n",
    "Compare these approaches with the following problem:\n",
    "\n",
    "\"Within a school district, students were randomly assigned to one of two Math teachers - Mrs. Smith and Mrs. Jones. After the assignment, Mrs. Smith had 30 students, and Mrs. Jones had 25 students.\n",
    "\n",
    "\"At the end of the year, each class took the same standardized test. Mrs. Smith's students had an average test score of 78, with a standard deviation of 10; and Mrs. Jones' students had an average test score of 85, with a standard deviation of 15.\n",
    "\n",
    "\"What is the probability that Mrs. Smith and Mrs. Jones are equally effective teachers.\"\n",
    "\n",
    "Using N = 100 and M = 100:\n",
    "\n",
    "1. Define what \"equally effective might mean\".\n",
    "2. Answer the question using Method 1.\n",
    "3. Answer the question using Method 2.\n",
    "4. Comment on any observed similarities or differences between the two results."
   ]
  },
  {
   "cell_type": "code",
   "execution_count": null,
   "metadata": {},
   "outputs": [],
   "source": []
  }
 ],
 "metadata": {
  "kernelspec": {
   "display_name": "Python 3",
   "language": "python",
   "name": "python3"
  },
  "language_info": {
   "codemirror_mode": {
    "name": "ipython",
    "version": 3
   },
   "file_extension": ".py",
   "mimetype": "text/x-python",
   "name": "python",
   "nbconvert_exporter": "python",
   "pygments_lexer": "ipython3",
   "version": "3.7.1"
  },
  "toc": {
   "colors": {
    "hover_highlight": "#DAA520",
    "navigate_num": "#000000",
    "navigate_text": "#333333",
    "running_highlight": "#FF0000",
    "selected_highlight": "#FFD700",
    "sidebar_border": "#EEEEEE",
    "wrapper_background": "#FFFFFF"
   },
   "moveMenuLeft": true,
   "nav_menu": {
    "height": "66px",
    "width": "252px"
   },
   "navigate_menu": true,
   "number_sections": true,
   "sideBar": true,
   "threshold": 4,
   "toc_cell": false,
   "toc_section_display": "block",
   "toc_window_display": false,
   "widenNotebook": false
  }
 },
 "nbformat": 4,
 "nbformat_minor": 2
}
