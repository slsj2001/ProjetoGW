{
 "cells": [
  {
   "cell_type": "markdown",
   "metadata": {},
   "source": [
    "# Lab 5 - Exploratory Data Analysis"
   ]
  },
  {
   "cell_type": "code",
   "execution_count": 1,
   "metadata": {},
   "outputs": [
    {
     "name": "stderr",
     "output_type": "stream",
     "text": [
      "UsageError: Line magic function `%` not found.\n"
     ]
    }
   ],
   "source": [
    "% matplotlib inline"
   ]
  },
  {
   "cell_type": "markdown",
   "metadata": {},
   "source": [
    "## Directions\n",
    "\n",
    "**Failure to follow the directions will result in a \"0\"**\n",
    "\n",
    "The due dates for each are indicated in the Syllabus and the course calendar. If anything is unclear, please email EN605.448@gmail.com the official email for the course or ask questions in the Lab discussion area on Blackboard.\n",
    "\n",
    "The Labs also present technical material that augments the lectures and \"book\".  You should read through the entire lab at the start of each module.\n",
    "\n",
    "### General Instructions\n",
    "\n",
    "1.  You will be submitting your assignment to Blackboard. If there are no accompanying files, you should submit *only* your notebook and it should be named using *only* your JHED id: fsmith79.ipynb for example if your JHED id were \"fsmith79\". If the assignment requires additional files, you should name the *folder/directory* your JHED id and put all items in that folder/directory, ZIP it up (only ZIP...no other compression), and submit it to Blackboard.\n",
    "    \n",
    "    * do **not** use absolute paths in your notebooks. All resources should appear in the same directory as the rest of your assignments.\n",
    "    * the directory **must** be named your JHED id and **only** your JHED id.\n",
    "    \n",
    "2. Data Science is as much about what you write (communicating) as the code you execute (researching). In many places, you will be required to execute code and discuss both the purpose and the result. Additionally, Data Science is about reproducibility and transparency. This includes good communication with your team and possibly with yourself. Therefore, you must show **all** work.\n",
    "\n",
    "3. Avail yourself of the Markdown/Codecell nature of the notebook. If you don't know about Markdown, look it up. Your notebooks should not look like ransom notes. Don't make everything bold. Clearly indicate what question you are answering.\n",
    "\n",
    "4. Submit a cleanly executed notebook. It should say `In [1]` for the first codecell and increase by 1 throughout."
   ]
  },
  {
   "cell_type": "markdown",
   "metadata": {},
   "source": [
    "## Exploratory Data Analysis\n",
    "\n",
    "In this Module, we partitioned the problem of EDA using a taxonomy with the following characteristics:\n",
    "\n",
    "* **Data Type**: Numerical or Categorical.\n",
    "* **Number of Variables**: 1 or many.\n",
    "* **Technique**: descriptive statistics, tables or charts.\n",
    "\n",
    "we will skip \"goal\" for now.\n",
    "\n",
    "And we came up with a general set of tools for analyzing data, not all of them applicable to all the cases:\n",
    "\n",
    "* Descriptive Statistics\n",
    "* Frequency Table (absolute and relative)\n",
    "* Histograms\n",
    "* Boxplots Plot\n",
    "* Bar chart\n",
    "* Dot chart\n",
    "* Heat map\n",
    "* Scatter Plot\n",
    "\n",
    "This does not exhaust all the chart types, though. We also have the following basic chart types that we talked about in the Visualization Module:\n",
    "\n",
    "* Points\n",
    "* Lines\n",
    "* Lines and points\n",
    "\n",
    "The goal for this lab is to get you acquainted with most of these tools by analyzing a real data set. Follow the general directions in this Module for *methodical* EDA including:\n",
    "\n",
    "1. Single Variable Exploration.\n",
    "2. Correlation or Problem driven Exploration of Pairwise Relationships.\n",
    "\n",
    "Because we don't really have a problem or question here, we may have to be exhaustive. There are 21 comparisons possible, start with any 5 of them and then use what you discover to add 5 more.\n",
    "\n",
    "And for each case, try different visualizations. What does a histogram tell you that a box-and-whiskers plot does not and vice versa? What about different bin sizes? And the most important bit: you must write something for every single chart you produce. The emphasis here is on *science*. At every juncture, you must say:\n",
    "\n",
    "1. **Why am I trying this?** \"I'm going to look at this data using a box and whiskers plot to explore its general shape.\" \"I am trying more bins to see if the histogram reveals any interesting characteristics.\"\n",
    "2. **Do it.**\n",
    "3. **What did I learn?** \"Although I know the data is generated from a normal distribution, it doesn't look normally distributed. The sample mean is X while the true mean is Y.\"\n",
    "\n",
    "In EDA, you should generally never just *change* anything. You should copy your code, explain why you're making some change to the parameters, make the change and then note what happens.\n",
    "\n",
    "Be inventive and creative."
   ]
  },
  {
   "cell_type": "code",
   "execution_count": 2,
   "metadata": {},
   "outputs": [],
   "source": [
    "import numpy as np\n",
    "import random as py_random\n",
    "import numpy.random as np_random\n",
    "import time\n",
    "import seaborn as sns\n",
    "import matplotlib.pyplot as plt\n",
    "import pandas as pd\n",
    "import scipy.stats as stats\n",
    "\n",
    "\n",
    "sns.set(style=\"whitegrid\")"
   ]
  },
  {
   "cell_type": "markdown",
   "metadata": {},
   "source": [
    "# Answer"
   ]
  },
  {
   "cell_type": "markdown",
   "metadata": {},
   "source": [
    "### Overview"
   ]
  },
  {
   "cell_type": "markdown",
   "metadata": {},
   "source": [
    "In this analysis, I would focus on how charges of the insurance is impacted by different factors including age, sex, bmi, children, smoker, region based on the insurance dataset. I would first look into the single variable exploration for all variables and then do a EDA between charges and each of those categorical/numerical variables."
   ]
  },
  {
   "cell_type": "code",
   "execution_count": 3,
   "metadata": {},
   "outputs": [],
   "source": [
    "data = pd.read_csv('insurance.csv')\n",
    "#data.head()"
   ]
  },
  {
   "cell_type": "markdown",
   "metadata": {},
   "source": [
    "#### Age"
   ]
  },
  {
   "cell_type": "code",
   "execution_count": 4,
   "metadata": {},
   "outputs": [
    {
     "data": {
      "text/plain": [
       "count    1338.0\n",
       "mean       39.0\n",
       "std        14.0\n",
       "min        18.0\n",
       "25%        27.0\n",
       "50%        39.0\n",
       "75%        51.0\n",
       "max        64.0\n",
       "Name: age, dtype: float64"
      ]
     },
     "execution_count": 4,
     "metadata": {},
     "output_type": "execute_result"
    }
   ],
   "source": [
    "#Descriptive Statistics\n",
    "data.age.describe().round()"
   ]
  },
  {
   "cell_type": "code",
   "execution_count": 5,
   "metadata": {},
   "outputs": [
    {
     "data": {
      "image/png": "[encoded data removed]",
      "text/plain": [
       "<Figure size 720x432 with 1 Axes>"
      ]
     },
     "metadata": {
      "needs_background": "light"
     },
     "output_type": "display_data"
    }
   ],
   "source": [
    "#Age Distribution\n",
    "figure = plt.figure(figsize=(10, 6))\n",
    "axes = figure.add_subplot(1, 1, 1)\n",
    "axes.hist(data.age, color=\"steelblue\")\n",
    "axes.set_title(\"Age Distribution\")\n",
    "axes.set_xlabel(\"Age\")\n",
    "axes.set_ylabel(\"Counts\")\n",
    "axes.yaxis.grid( b=True, which=\"major\")\n",
    "axes.xaxis.grid(False)\n",
    "plt.show()\n",
    "plt.close()"
   ]
  },
  {
   "cell_type": "markdown",
   "metadata": {},
   "source": [
    "Summary: age distribution has minimum at 18 and maximum at 64 with age 20 has the most counts and mean at age 39."
   ]
  },
  {
   "cell_type": "markdown",
   "metadata": {},
   "source": [
    "#### Gender"
   ]
  },
  {
   "cell_type": "code",
   "execution_count": 6,
   "metadata": {},
   "outputs": [
    {
     "data": {
      "text/plain": [
       "count     1338\n",
       "unique       2\n",
       "top       male\n",
       "freq       676\n",
       "Name: sex, dtype: object"
      ]
     },
     "execution_count": 6,
     "metadata": {},
     "output_type": "execute_result"
    }
   ],
   "source": [
    "data.sex.describe()"
   ]
  },
  {
   "cell_type": "code",
   "execution_count": 7,
   "metadata": {},
   "outputs": [
    {
     "data": {
      "text/html": [
       "<div>\n",
       "<style scoped>\n",
       "    .dataframe tbody tr th:only-of-type {\n",
       "        vertical-align: middle;\n",
       "    }\n",
       "\n",
       "    .dataframe tbody tr th {\n",
       "        vertical-align: top;\n",
       "    }\n",
       "\n",
       "    .dataframe thead th {\n",
       "        text-align: right;\n",
       "    }\n",
       "</style>\n",
       "<table border=\"1\" class=\"dataframe\">\n",
       "  <thead>\n",
       "    <tr style=\"text-align: right;\">\n",
       "      <th></th>\n",
       "      <th>sex</th>\n",
       "    </tr>\n",
       "  </thead>\n",
       "  <tbody>\n",
       "    <tr>\n",
       "      <th>female</th>\n",
       "      <td>662</td>\n",
       "    </tr>\n",
       "    <tr>\n",
       "      <th>male</th>\n",
       "      <td>676</td>\n",
       "    </tr>\n",
       "  </tbody>\n",
       "</table>\n",
       "</div>"
      ],
      "text/plain": [
       "        sex\n",
       "female  662\n",
       "male    676"
      ]
     },
     "execution_count": 7,
     "metadata": {},
     "output_type": "execute_result"
    }
   ],
   "source": [
    "pd.DataFrame(data.sex.value_counts().sort_index())"
   ]
  },
  {
   "cell_type": "code",
   "execution_count": 8,
   "metadata": {},
   "outputs": [
    {
     "data": {
      "text/html": [
       "<div>\n",
       "<style scoped>\n",
       "    .dataframe tbody tr th:only-of-type {\n",
       "        vertical-align: middle;\n",
       "    }\n",
       "\n",
       "    .dataframe tbody tr th {\n",
       "        vertical-align: top;\n",
       "    }\n",
       "\n",
       "    .dataframe thead th {\n",
       "        text-align: right;\n",
       "    }\n",
       "</style>\n",
       "<table border=\"1\" class=\"dataframe\">\n",
       "  <thead>\n",
       "    <tr style=\"text-align: right;\">\n",
       "      <th></th>\n",
       "      <th>sex</th>\n",
       "    </tr>\n",
       "  </thead>\n",
       "  <tbody>\n",
       "    <tr>\n",
       "      <th>female</th>\n",
       "      <td>0.494768</td>\n",
       "    </tr>\n",
       "    <tr>\n",
       "      <th>male</th>\n",
       "      <td>0.505232</td>\n",
       "    </tr>\n",
       "  </tbody>\n",
       "</table>\n",
       "</div>"
      ],
      "text/plain": [
       "             sex\n",
       "female  0.494768\n",
       "male    0.505232"
      ]
     },
     "execution_count": 8,
     "metadata": {},
     "output_type": "execute_result"
    }
   ],
   "source": [
    "pd.DataFrame(data.sex.value_counts( normalize=True).sort_index())"
   ]
  },
  {
   "cell_type": "code",
   "execution_count": 9,
   "metadata": {},
   "outputs": [
    {
     "data": {
      "image/png": "[encoded data removed]",
      "text/plain": [
       "<Figure size 720x432 with 2 Axes>"
      ]
     },
     "metadata": {
      "needs_background": "light"
     },
     "output_type": "display_data"
    }
   ],
   "source": [
    "counts = data.sex.value_counts().sort_index()\n",
    "proportions = data.sex.value_counts(normalize=True).sort_index()\n",
    "x = range( len( counts))\n",
    "width = 1/1.5\n",
    "figure = plt.figure(figsize=(10, 6))\n",
    "axes = figure.add_subplot(1, 2, 1)\n",
    "axes.bar(x, counts, width, color=\"steelblue\", align=\"center\")\n",
    "axes.set_xticks([0, 1])\n",
    "axes.set_xticklabels(counts.axes[0])\n",
    "axes.set_title( \"Gender Counts\")\n",
    "axes.set_ylabel( \"Counts\")\n",
    "axes.xaxis.grid(False)\n",
    "\n",
    "axes = figure.add_subplot(1, 2, 2)\n",
    "axes.bar(x, proportions, width, color=\"steelblue\", align=\"center\")\n",
    "axes.set_xticks([0, 1])\n",
    "axes.set_xticklabels(proportions.axes[0])\n",
    "axes.set_title( \"Gender Percentage\")\n",
    "axes.set_ylabel( \"Percent\")\n",
    "axes.xaxis.grid(False)\n",
    "\n"
   ]
  },
  {
   "cell_type": "markdown",
   "metadata": {},
   "source": [
    "Summary: Gender has fairly even distribution with 49% female and 51% male"
   ]
  },
  {
   "cell_type": "markdown",
   "metadata": {},
   "source": [
    "#### BMI"
   ]
  },
  {
   "cell_type": "code",
   "execution_count": 10,
   "metadata": {},
   "outputs": [
    {
     "data": {
      "text/plain": [
       "count    1338.000000\n",
       "mean       30.663397\n",
       "std         6.098187\n",
       "min        15.960000\n",
       "25%        26.296250\n",
       "50%        30.400000\n",
       "75%        34.693750\n",
       "max        53.130000\n",
       "Name: bmi, dtype: float64"
      ]
     },
     "execution_count": 10,
     "metadata": {},
     "output_type": "execute_result"
    }
   ],
   "source": [
    "data.bmi.describe()"
   ]
  },
  {
   "cell_type": "code",
   "execution_count": 11,
   "metadata": {},
   "outputs": [
    {
     "data": {
      "image/png": "[encoded data removed]",
      "text/plain": [
       "<Figure size 720x432 with 1 Axes>"
      ]
     },
     "metadata": {
      "needs_background": "light"
     },
     "output_type": "display_data"
    }
   ],
   "source": [
    "#Age Distribution\n",
    "figure = plt.figure(figsize=(10, 6))\n",
    "axes = figure.add_subplot(1, 1, 1)\n",
    "axes.hist(data.bmi, color=\"steelblue\")\n",
    "axes.set_title(\"BMI Distribution\")\n",
    "axes.set_xlabel(\"BMI\")\n",
    "axes.set_ylabel(\"Counts\")\n",
    "axes.yaxis.grid( b=True, which=\"major\")\n",
    "axes.xaxis.grid(False)\n",
    "plt.show()\n",
    "plt.close()"
   ]
  },
  {
   "cell_type": "markdown",
   "metadata": {},
   "source": [
    "Summary: BMI has a normal distribution with the mean at 30 and range between 16 and 53"
   ]
  },
  {
   "cell_type": "markdown",
   "metadata": {},
   "source": [
    "#### Children"
   ]
  },
  {
   "cell_type": "code",
   "execution_count": 12,
   "metadata": {},
   "outputs": [
    {
     "data": {
      "text/plain": [
       "count    1338.000000\n",
       "mean        1.094918\n",
       "std         1.205493\n",
       "min         0.000000\n",
       "25%         0.000000\n",
       "50%         1.000000\n",
       "75%         2.000000\n",
       "max         5.000000\n",
       "Name: children, dtype: float64"
      ]
     },
     "execution_count": 12,
     "metadata": {},
     "output_type": "execute_result"
    }
   ],
   "source": [
    "data.children.describe()"
   ]
  },
  {
   "cell_type": "code",
   "execution_count": 13,
   "metadata": {},
   "outputs": [
    {
     "data": {
      "text/html": [
       "<div>\n",
       "<style scoped>\n",
       "    .dataframe tbody tr th:only-of-type {\n",
       "        vertical-align: middle;\n",
       "    }\n",
       "\n",
       "    .dataframe tbody tr th {\n",
       "        vertical-align: top;\n",
       "    }\n",
       "\n",
       "    .dataframe thead th {\n",
       "        text-align: right;\n",
       "    }\n",
       "</style>\n",
       "<table border=\"1\" class=\"dataframe\">\n",
       "  <thead>\n",
       "    <tr style=\"text-align: right;\">\n",
       "      <th></th>\n",
       "      <th>children</th>\n",
       "    </tr>\n",
       "  </thead>\n",
       "  <tbody>\n",
       "    <tr>\n",
       "      <th>0</th>\n",
       "      <td>574</td>\n",
       "    </tr>\n",
       "    <tr>\n",
       "      <th>1</th>\n",
       "      <td>324</td>\n",
       "    </tr>\n",
       "    <tr>\n",
       "      <th>2</th>\n",
       "      <td>240</td>\n",
       "    </tr>\n",
       "    <tr>\n",
       "      <th>3</th>\n",
       "      <td>157</td>\n",
       "    </tr>\n",
       "    <tr>\n",
       "      <th>4</th>\n",
       "      <td>25</td>\n",
       "    </tr>\n",
       "    <tr>\n",
       "      <th>5</th>\n",
       "      <td>18</td>\n",
       "    </tr>\n",
       "  </tbody>\n",
       "</table>\n",
       "</div>"
      ],
      "text/plain": [
       "   children\n",
       "0       574\n",
       "1       324\n",
       "2       240\n",
       "3       157\n",
       "4        25\n",
       "5        18"
      ]
     },
     "execution_count": 13,
     "metadata": {},
     "output_type": "execute_result"
    }
   ],
   "source": [
    "pd.DataFrame(data.children.value_counts().sort_index())"
   ]
  },
  {
   "cell_type": "code",
   "execution_count": 14,
   "metadata": {},
   "outputs": [
    {
     "data": {
      "text/html": [
       "<div>\n",
       "<style scoped>\n",
       "    .dataframe tbody tr th:only-of-type {\n",
       "        vertical-align: middle;\n",
       "    }\n",
       "\n",
       "    .dataframe tbody tr th {\n",
       "        vertical-align: top;\n",
       "    }\n",
       "\n",
       "    .dataframe thead th {\n",
       "        text-align: right;\n",
       "    }\n",
       "</style>\n",
       "<table border=\"1\" class=\"dataframe\">\n",
       "  <thead>\n",
       "    <tr style=\"text-align: right;\">\n",
       "      <th></th>\n",
       "      <th>children</th>\n",
       "    </tr>\n",
       "  </thead>\n",
       "  <tbody>\n",
       "    <tr>\n",
       "      <th>0</th>\n",
       "      <td>0.428999</td>\n",
       "    </tr>\n",
       "    <tr>\n",
       "      <th>1</th>\n",
       "      <td>0.242152</td>\n",
       "    </tr>\n",
       "    <tr>\n",
       "      <th>2</th>\n",
       "      <td>0.179372</td>\n",
       "    </tr>\n",
       "    <tr>\n",
       "      <th>3</th>\n",
       "      <td>0.117339</td>\n",
       "    </tr>\n",
       "    <tr>\n",
       "      <th>4</th>\n",
       "      <td>0.018685</td>\n",
       "    </tr>\n",
       "    <tr>\n",
       "      <th>5</th>\n",
       "      <td>0.013453</td>\n",
       "    </tr>\n",
       "  </tbody>\n",
       "</table>\n",
       "</div>"
      ],
      "text/plain": [
       "   children\n",
       "0  0.428999\n",
       "1  0.242152\n",
       "2  0.179372\n",
       "3  0.117339\n",
       "4  0.018685\n",
       "5  0.013453"
      ]
     },
     "execution_count": 14,
     "metadata": {},
     "output_type": "execute_result"
    }
   ],
   "source": [
    "pd.DataFrame(data.children.value_counts( normalize=True).sort_index())"
   ]
  },
  {
   "cell_type": "code",
   "execution_count": 15,
   "metadata": {},
   "outputs": [
    {
     "data": {
      "image/png": "[encoded data removed]",
      "text/plain": [
       "<Figure size 1080x432 with 2 Axes>"
      ]
     },
     "metadata": {
      "needs_background": "light"
     },
     "output_type": "display_data"
    }
   ],
   "source": [
    "counts = data.children.value_counts().sort_index()\n",
    "proportions = data.children.value_counts(normalize=True).sort_index()\n",
    "x = range( len( counts))\n",
    "width = 1/1.5\n",
    "figure = plt.figure(figsize=(15, 6))\n",
    "axes = figure.add_subplot(1, 2, 1)\n",
    "axes.bar(x, counts, width, color=\"steelblue\", align=\"center\")\n",
    "axes.set_xticks([0, 1 , 2, 3, 4, 5])\n",
    "axes.set_xticklabels(counts.axes[0])\n",
    "axes.set_title( \"Children Counts\")\n",
    "axes.set_xlabel( \"Number of Children\")\n",
    "axes.set_ylabel( \"Counts\")\n",
    "axes.xaxis.grid(False)\n",
    "\n",
    "axes = figure.add_subplot(1, 2, 2)\n",
    "axes.bar(x, proportions, width, color=\"steelblue\", align=\"center\")\n",
    "axes.set_xticks([0, 1 , 2, 3, 4, 5])\n",
    "axes.set_xticklabels(proportions.axes[0])\n",
    "axes.set_title( \"Children Percentage\")\n",
    "axes.set_xlabel( \"Number of Children\")\n",
    "axes.set_ylabel( \"Percent\")\n",
    "axes.xaxis.grid(False)\n"
   ]
  },
  {
   "cell_type": "markdown",
   "metadata": {},
   "source": [
    "Summary: in the data, we have 43% people with children and 57% people with children. Also, the counts decreases significantly as children counts increases."
   ]
  },
  {
   "cell_type": "markdown",
   "metadata": {},
   "source": [
    "#### Smoker"
   ]
  },
  {
   "cell_type": "code",
   "execution_count": 16,
   "metadata": {},
   "outputs": [
    {
     "data": {
      "text/plain": [
       "count     1338\n",
       "unique       2\n",
       "top         no\n",
       "freq      1064\n",
       "Name: smoker, dtype: object"
      ]
     },
     "execution_count": 16,
     "metadata": {},
     "output_type": "execute_result"
    }
   ],
   "source": [
    "data.smoker.describe()"
   ]
  },
  {
   "cell_type": "code",
   "execution_count": 17,
   "metadata": {},
   "outputs": [
    {
     "data": {
      "text/html": [
       "<div>\n",
       "<style scoped>\n",
       "    .dataframe tbody tr th:only-of-type {\n",
       "        vertical-align: middle;\n",
       "    }\n",
       "\n",
       "    .dataframe tbody tr th {\n",
       "        vertical-align: top;\n",
       "    }\n",
       "\n",
       "    .dataframe thead th {\n",
       "        text-align: right;\n",
       "    }\n",
       "</style>\n",
       "<table border=\"1\" class=\"dataframe\">\n",
       "  <thead>\n",
       "    <tr style=\"text-align: right;\">\n",
       "      <th></th>\n",
       "      <th>smoker</th>\n",
       "    </tr>\n",
       "  </thead>\n",
       "  <tbody>\n",
       "    <tr>\n",
       "      <th>no</th>\n",
       "      <td>1064</td>\n",
       "    </tr>\n",
       "    <tr>\n",
       "      <th>yes</th>\n",
       "      <td>274</td>\n",
       "    </tr>\n",
       "  </tbody>\n",
       "</table>\n",
       "</div>"
      ],
      "text/plain": [
       "     smoker\n",
       "no     1064\n",
       "yes     274"
      ]
     },
     "execution_count": 17,
     "metadata": {},
     "output_type": "execute_result"
    }
   ],
   "source": [
    "pd.DataFrame(data.smoker.value_counts().sort_index())"
   ]
  },
  {
   "cell_type": "code",
   "execution_count": 18,
   "metadata": {},
   "outputs": [
    {
     "data": {
      "text/html": [
       "<div>\n",
       "<style scoped>\n",
       "    .dataframe tbody tr th:only-of-type {\n",
       "        vertical-align: middle;\n",
       "    }\n",
       "\n",
       "    .dataframe tbody tr th {\n",
       "        vertical-align: top;\n",
       "    }\n",
       "\n",
       "    .dataframe thead th {\n",
       "        text-align: right;\n",
       "    }\n",
       "</style>\n",
       "<table border=\"1\" class=\"dataframe\">\n",
       "  <thead>\n",
       "    <tr style=\"text-align: right;\">\n",
       "      <th></th>\n",
       "      <th>smoker</th>\n",
       "    </tr>\n",
       "  </thead>\n",
       "  <tbody>\n",
       "    <tr>\n",
       "      <th>no</th>\n",
       "      <td>0.795217</td>\n",
       "    </tr>\n",
       "    <tr>\n",
       "      <th>yes</th>\n",
       "      <td>0.204783</td>\n",
       "    </tr>\n",
       "  </tbody>\n",
       "</table>\n",
       "</div>"
      ],
      "text/plain": [
       "       smoker\n",
       "no   0.795217\n",
       "yes  0.204783"
      ]
     },
     "execution_count": 18,
     "metadata": {},
     "output_type": "execute_result"
    }
   ],
   "source": [
    "pd.DataFrame(data.smoker.value_counts( normalize=True).sort_index())"
   ]
  },
  {
   "cell_type": "code",
   "execution_count": 19,
   "metadata": {},
   "outputs": [
    {
     "data": {
      "image/png": "[encoded data removed]",
      "text/plain": [
       "<Figure size 720x432 with 2 Axes>"
      ]
     },
     "metadata": {
      "needs_background": "light"
     },
     "output_type": "display_data"
    }
   ],
   "source": [
    "counts = data.smoker.value_counts().sort_index()\n",
    "proportions = data.smoker.value_counts(normalize=True).sort_index()\n",
    "x = range( len( counts))\n",
    "width = 1/1.5\n",
    "figure = plt.figure(figsize=(10, 6))\n",
    "axes = figure.add_subplot(1, 2, 1)\n",
    "axes.bar(x, counts, width, color=\"steelblue\", align=\"center\")\n",
    "axes.set_xticks([0, 1])\n",
    "axes.set_xticklabels(counts.axes[0])\n",
    "axes.set_title( \"Smoker Status Counts\")\n",
    "axes.set_ylabel( \"Counts\")\n",
    "axes.xaxis.grid(False)\n",
    "\n",
    "axes = figure.add_subplot(1, 2, 2)\n",
    "axes.bar(x, proportions, width, color=\"steelblue\", align=\"center\")\n",
    "axes.set_xticks([0, 1])\n",
    "axes.set_xticklabels(proportions.axes[0])\n",
    "axes.set_title( \"Relative Frequency of Smoker\")\n",
    "axes.set_ylabel( \"Percent\")\n",
    "axes.xaxis.grid(False)\n",
    "\n",
    "\n"
   ]
  },
  {
   "cell_type": "markdown",
   "metadata": {},
   "source": [
    "Summary: we have 80% non-smokers and 20% smokers in our insurance data"
   ]
  },
  {
   "cell_type": "markdown",
   "metadata": {},
   "source": [
    "#### Relationships between charges and age"
   ]
  },
  {
   "cell_type": "code",
   "execution_count": 20,
   "metadata": {},
   "outputs": [
    {
     "data": {
      "image/png": "[encoded data removed]",
      "text/plain": [
       "<Figure size 720x432 with 1 Axes>"
      ]
     },
     "metadata": {
      "needs_background": "light"
     },
     "output_type": "display_data"
    }
   ],
   "source": [
    "figure = plt.figure(figsize=(10, 6))\n",
    "\n",
    "axes = figure.add_subplot(1, 1, 1)\n",
    "axes.scatter(data.age, data.charges, marker=\"o\", color=\"steelblue\")\n",
    "\n",
    "axes.set_ylabel(\"Charges\")\n",
    "axes.set_xlabel(\"Age\")\n",
    "axes.set_title(\"Charges vs. Age\")\n",
    "\n",
    "plt.show()\n",
    "plt.close()"
   ]
  },
  {
   "cell_type": "markdown",
   "metadata": {},
   "source": [
    "Summary: Charges seem to increase with the increase in age, especially for the minimum charges."
   ]
  },
  {
   "cell_type": "markdown",
   "metadata": {},
   "source": [
    "#### Relationships between charges and sex"
   ]
  },
  {
   "cell_type": "code",
   "execution_count": 21,
   "metadata": {},
   "outputs": [
    {
     "name": "stdout",
     "output_type": "stream",
     "text": [
      "        count          mean           std        min        25%         50%  \\\n",
      "sex                                                                           \n",
      "female  662.0  12569.578844  11128.703801  1607.5101  4885.1587  9412.96250   \n",
      "male    676.0  13956.751178  12971.025915  1121.8739  4619.1340  9369.61575   \n",
      "\n",
      "                 75%          max  \n",
      "sex                                \n",
      "female  14454.691825  63770.42801  \n",
      "male    18989.590250  62592.87309  \n"
     ]
    }
   ],
   "source": [
    "grouped = data.groupby( \"sex\")\n",
    "grouped_y = grouped[\"charges\"].describe()\n",
    "print(grouped_y)\n"
   ]
  },
  {
   "cell_type": "code",
   "execution_count": 22,
   "metadata": {},
   "outputs": [
    {
     "data": {
      "image/png": "[encoded data removed]",
      "text/plain": [
       "<Figure size 720x432 with 1 Axes>"
      ]
     },
     "metadata": {
      "needs_background": "light"
     },
     "output_type": "display_data"
    }
   ],
   "source": [
    "figure = plt.figure(figsize=(10, 6))\n",
    "axes = figure.add_subplot(1, 1, 1)\n",
    "labels = pd.unique(data[\"sex\"].values)\n",
    "grouped_data = [grouped[ \"charges\"].get_group( k) for k in labels]\n",
    "patch = axes.boxplot( grouped_data, labels=labels, patch_artist=True, zorder=1)\n",
    "#for i, k in enumerate(labels):\n",
    "#    subdata = grouped[ \"charges\"].get_group( k)\n",
    "#    x = np.random.normal(i + 1, 0.01, size=len(subdata))\n",
    "#    axes.plot(x, subdata, 'o', alpha=0.4, color=\"none\", zorder=2)\n",
    "axes.set_xlabel(\"sex\")\n",
    "axes.set_ylabel(\"charges\")\n",
    "axes.set_title(\"Distribution of charges by sex\")\n",
    "plt.show()\n",
    "plt.close()\n"
   ]
  },
  {
   "cell_type": "markdown",
   "metadata": {},
   "source": [
    "Summary: charges for female and male are fairly close with female at 12570 and male at 13957. However, male seem to have bigger interquartile range for the charges."
   ]
  },
  {
   "cell_type": "markdown",
   "metadata": {},
   "source": [
    "#### Relationships between charges and bmi"
   ]
  },
  {
   "cell_type": "code",
   "execution_count": 23,
   "metadata": {},
   "outputs": [
    {
     "data": {
      "image/png": "[encoded data removed]",
      "text/plain": [
       "<Figure size 720x432 with 1 Axes>"
      ]
     },
     "metadata": {
      "needs_background": "light"
     },
     "output_type": "display_data"
    }
   ],
   "source": [
    "figure = plt.figure(figsize=(10, 6))\n",
    "\n",
    "axes = figure.add_subplot(1, 1, 1)\n",
    "axes.scatter(data.bmi, data.charges, marker=\"o\", color=\"steelblue\")\n",
    "\n",
    "axes.set_ylabel(\"Charges\")\n",
    "axes.set_xlabel(\"BMI\")\n",
    "axes.set_title(\"Charges vs. BMI\")\n",
    "\n",
    "plt.show()\n",
    "plt.close()"
   ]
  },
  {
   "cell_type": "markdown",
   "metadata": {},
   "source": [
    "Summary: there is not a clear relationship but we can see there are more higher charges at higher BMI zone."
   ]
  },
  {
   "cell_type": "markdown",
   "metadata": {},
   "source": [
    "#### Relationships between charges and children"
   ]
  },
  {
   "cell_type": "code",
   "execution_count": 24,
   "metadata": {},
   "outputs": [
    {
     "name": "stdout",
     "output_type": "stream",
     "text": [
      "          count          mean           std        min          25%  \\\n",
      "children                                                              \n",
      "0         574.0  12365.975602  12023.293942  1121.8739  2734.421150   \n",
      "1         324.0  12731.171832  11823.631451  1711.0268  4791.643175   \n",
      "2         240.0  15073.563734  12891.368347  2304.0022  6284.939438   \n",
      "3         157.0  15355.318367  12330.869484  3443.0640  6652.528800   \n",
      "4          25.0  13850.656311   9139.223321  4504.6624  7512.267000   \n",
      "5          18.0   8786.035247   3808.435525  4687.7970  5874.973900   \n",
      "\n",
      "                  50%           75%          max  \n",
      "children                                          \n",
      "0          9856.95190  14440.123825  63770.42801  \n",
      "1          8483.87015  15632.052050  58571.07448  \n",
      "2          9264.97915  20379.276748  49577.66240  \n",
      "3         10600.54830  19199.944000  60021.39897  \n",
      "4         11033.66170  17128.426080  40182.24600  \n",
      "5          8589.56505  10019.943975  19023.26000  \n"
     ]
    }
   ],
   "source": [
    "grouped = data.groupby( \"children\")\n",
    "grouped_y = grouped[\"charges\"].describe()\n",
    "print(grouped_y)"
   ]
  },
  {
   "cell_type": "code",
   "execution_count": 25,
   "metadata": {},
   "outputs": [
    {
     "data": {
      "image/png": "[encoded data removed]",
      "text/plain": [
       "<Figure size 720x432 with 1 Axes>"
      ]
     },
     "metadata": {
      "needs_background": "light"
     },
     "output_type": "display_data"
    }
   ],
   "source": [
    "figure = plt.figure(figsize=(10, 6))\n",
    "axes = figure.add_subplot(1, 1, 1)\n",
    "labels = pd.unique(data[\"children\"].values)\n",
    "grouped_data = [grouped[ \"charges\"].get_group( k) for k in labels]\n",
    "patch = axes.boxplot( grouped_data, labels=labels, patch_artist=True, zorder=1)\n",
    "#for i, k in enumerate(labels):\n",
    "#    subdata = grouped[ \"charges\"].get_group( k)\n",
    "#    x = np.random.normal(i + 1, 0.01, size=len(subdata))\n",
    "#    axes.plot(x, subdata, 'o', alpha=0.4, color=\"none\", zorder=2)\n",
    "axes.set_xlabel(\"children\")\n",
    "axes.set_ylabel(\"charges\")\n",
    "axes.set_title(\"Distribution of charges by children\")\n",
    "plt.show()\n",
    "plt.close()"
   ]
  },
  {
   "cell_type": "markdown",
   "metadata": {},
   "source": [
    "Summary: mean and distribution of charges by children counts are fairly consistent. 5 children has much smaller range, it is probably due to small sample size."
   ]
  },
  {
   "cell_type": "markdown",
   "metadata": {},
   "source": [
    "#### Relationships between charges and smoker"
   ]
  },
  {
   "cell_type": "code",
   "execution_count": 26,
   "metadata": {},
   "outputs": [
    {
     "name": "stdout",
     "output_type": "stream",
     "text": [
      "         count          mean           std         min           25%  \\\n",
      "smoker                                                                 \n",
      "no      1064.0   8434.268298   5993.781819   1121.8739   3986.438700   \n",
      "yes      274.0  32050.231832  11541.547176  12829.4551  20826.244213   \n",
      "\n",
      "                50%           75%          max  \n",
      "smoker                                          \n",
      "no       7345.40530  11362.887050  36910.60803  \n",
      "yes     34456.34845  41019.207275  63770.42801  \n"
     ]
    }
   ],
   "source": [
    "grouped = data.groupby( \"smoker\")\n",
    "grouped_y = grouped[\"charges\"].describe()\n",
    "print(grouped_y)"
   ]
  },
  {
   "cell_type": "code",
   "execution_count": 27,
   "metadata": {},
   "outputs": [
    {
     "data": {
      "image/png": "[encoded data removed]",
      "text/plain": [
       "<Figure size 720x432 with 1 Axes>"
      ]
     },
     "metadata": {
      "needs_background": "light"
     },
     "output_type": "display_data"
    }
   ],
   "source": [
    "figure = plt.figure(figsize=(10, 6))\n",
    "axes = figure.add_subplot(1, 1, 1)\n",
    "labels = pd.unique(data[\"smoker\"].values)\n",
    "grouped_data = [grouped[ \"charges\"].get_group( k) for k in labels]\n",
    "patch = axes.boxplot( grouped_data, labels=labels, patch_artist=True, zorder=1)\n",
    "#for i, k in enumerate(labels):\n",
    "#    subdata = grouped[ \"charges\"].get_group( k)\n",
    "#    x = np.random.normal(i + 1, 0.01, size=len(subdata))\n",
    "#    axes.plot(x, subdata, 'o', alpha=0.4, color=\"none\", zorder=2)\n",
    "axes.set_xlabel(\"smoker\")\n",
    "axes.set_ylabel(\"charges\")\n",
    "axes.set_title(\"Distribution of charges by smoker status\")\n",
    "plt.show()\n",
    "plt.close()"
   ]
  },
  {
   "cell_type": "markdown",
   "metadata": {},
   "source": [
    "Summary: Smoker pays higher charges compared to non-smokers with smoker's average charge at 32050 and non-smoker at 8434."
   ]
  }
 ],
 "metadata": {
  "kernelspec": {
   "display_name": "Python 3",
   "language": "python",
   "name": "python3"
  },
  "language_info": {
   "codemirror_mode": {
    "name": "ipython",
    "version": 3
   },
   "file_extension": ".py",
   "mimetype": "text/x-python",
   "name": "python",
   "nbconvert_exporter": "python",
   "pygments_lexer": "ipython3",
   "version": "3.7.1"
  },
  "toc": {
   "colors": {
    "hover_highlight": "#DAA520",
    "navigate_num": "#000000",
    "navigate_text": "#333333",
    "running_highlight": "#FF0000",
    "selected_highlight": "#FFD700",
    "sidebar_border": "#EEEEEE",
    "wrapper_background": "#FFFFFF"
   },
   "moveMenuLeft": true,
   "nav_menu": {
    "height": "156px",
    "width": "252px"
   },
   "navigate_menu": true,
   "number_sections": true,
   "sideBar": true,
   "threshold": 4,
   "toc_cell": false,
   "toc_section_display": "block",
   "toc_window_display": false,
   "widenNotebook": false
  }
 },
 "nbformat": 4,
 "nbformat_minor": 1
}
