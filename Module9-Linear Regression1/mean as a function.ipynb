{
 "cells": [
  {
   "cell_type": "code",
   "execution_count": null,
   "metadata": {},
   "outputs": [],
   "source": [
    "import warnings\n",
    "warnings.filterwarnings('ignore')"
   ]
  },
  {
   "cell_type": "code",
   "execution_count": null,
   "metadata": {},
   "outputs": [],
   "source": [
    "%matplotlib inline"
   ]
  },
  {
   "cell_type": "code",
   "execution_count": null,
   "metadata": {},
   "outputs": [],
   "source": [
    "import numpy as np\n",
    "import scipy.stats as stats\n",
    "import seaborn as sns\n",
    "import matplotlib.pyplot as plt\n",
    "import pandas as pd\n",
    "import random\n",
    "import patsy\n",
    "import sklearn.linear_model as linear\n",
    "\n",
    "sns.set(style=\"whitegrid\")"
   ]
  },
  {
   "cell_type": "markdown",
   "metadata": {},
   "source": [
    "## The Mean as a Function\n",
    "\n",
    "In this section, I want to build intuition for the math that shows us that linear models are linear models of the *mean*. For the real data, you can find all of it in the *Fundamentals* zip under resources.\n",
    "\n",
    "Let's start by looking at some synthetic data:"
   ]
  },
  {
   "cell_type": "code",
   "execution_count": null,
   "metadata": {},
   "outputs": [],
   "source": [
    "np.random.seed(8472385)"
   ]
  },
  {
   "cell_type": "code",
   "execution_count": null,
   "metadata": {},
   "outputs": [],
   "source": [
    "data = {}\n",
    "data[\"x\"] = stats.norm.rvs(10.0, 1, 100)\n",
    "data[\"e\"] = stats.norm.rvs(0, 1, 100)\n",
    "data[\"y\"] = data[\"x\"] * 2.5 + data[\"e\"]\n",
    "data = pd.DataFrame(data)"
   ]
  },
  {
   "cell_type": "code",
   "execution_count": null,
   "metadata": {},
   "outputs": [],
   "source": [
    "beta_0 = data.y.mean()\n",
    "beta_0"
   ]
  },
  {
   "cell_type": "code",
   "execution_count": null,
   "metadata": {},
   "outputs": [],
   "source": [
    "figure = plt.figure(figsize=(4,3))\n",
    "\n",
    "axes = figure.add_subplot(1, 1, 1)\n",
    "axes.scatter( data.x, data.y, color=\"dimgray\", alpha=0.8)\n",
    "axes.axhline(beta_0, color=\"firebrick\")\n",
    "\n",
    "axes.set_ylabel(r\"$y$\")\n",
    "axes.set_xlabel(r\"$x$\")\n",
    "axes.set_title(r\"Plot of $y$ v. $x$\")\n",
    "\n",
    "plt.show()\n",
    "plt.close()"
   ]
  },
  {
   "cell_type": "code",
   "execution_count": null,
   "metadata": {},
   "outputs": [],
   "source": [
    "min = data.x.min()\n",
    "max = data.x.max()"
   ]
  },
  {
   "cell_type": "code",
   "execution_count": null,
   "metadata": {},
   "outputs": [],
   "source": [
    "buckets = 1\n",
    "\n",
    "data[\"groups\"] = data.x.apply(lambda x: np.round(((x - min) / (max - min)) / (1/buckets)))\n",
    "\n",
    "grouped_data = data.groupby( \"groups\")\n",
    "grouped_means = grouped_data[ \"y\"].mean()\n",
    "\n",
    "xs = np.linspace(min, max, len(grouped_means))\n",
    "figure = plt.figure(figsize=(10,6))\n",
    "axes = figure.add_subplot(1, 1, 1)\n",
    "axes.scatter( data.x, data.y, color=\"dimgray\", alpha=0.5)\n",
    "axes.scatter( xs, grouped_means, color=\"firebrick\")\n",
    "\n",
    "axes.set_ylabel(r\"$y$\")\n",
    "axes.set_xlabel(r\"$x$\")\n",
    "axes.set_title(r\"Plot of $y$ v. $x$\")\n",
    "\n",
    "plt.show()\n",
    "plt.close()\n"
   ]
  },
  {
   "cell_type": "code",
   "execution_count": null,
   "metadata": {},
   "outputs": [],
   "source": [
    "wells = pd.read_csv( \"arsenic.wells.tsv\", sep=\" \")"
   ]
  },
  {
   "cell_type": "code",
   "execution_count": null,
   "metadata": {},
   "outputs": [],
   "source": [
    "wells.switch.mean()"
   ]
  },
  {
   "cell_type": "code",
   "execution_count": null,
   "metadata": {},
   "outputs": [],
   "source": [
    "wells[\"dist10\"] = wells[ \"dist\"] // 10"
   ]
  },
  {
   "cell_type": "code",
   "execution_count": null,
   "metadata": {},
   "outputs": [],
   "source": [
    "grouped_wells = wells.groupby( \"dist10\")\n",
    "relfreq_switching = grouped_wells[ \"switch\"].mean()\n",
    "\n",
    "figure = plt.figure(figsize=(10,6))\n",
    "\n",
    "axes = figure.add_subplot(1, 1, 1)\n",
    "\n",
    "xs = list(range( 0, len( relfreq_switching)))\n",
    "ys = relfreq_switching\n",
    "axes.scatter( xs, ys, color=\"steelblue\", alpha=0.75)\n",
    "axes.set_title( \"Relative Frequency of Switching by Distance (10s of meters)\")\n",
    "axes.set_xlabel(\"distance (10s of meters)\")\n",
    "axes.set_ylabel(\"Relative Frequence of Switching\")\n",
    "\n",
    "plt.show()\n",
    "plt.close()"
   ]
  },
  {
   "cell_type": "code",
   "execution_count": null,
   "metadata": {},
   "outputs": [],
   "source": []
  }
 ],
 "metadata": {
  "kernelspec": {
   "display_name": "Python 3",
   "language": "python",
   "name": "python3"
  },
  "language_info": {
   "codemirror_mode": {
    "name": "ipython",
    "version": 3
   },
   "file_extension": ".py",
   "mimetype": "text/x-python",
   "name": "python",
   "nbconvert_exporter": "python",
   "pygments_lexer": "ipython3",
   "version": "3.7.1"
  },
  "toc": {
   "colors": {
    "hover_highlight": "#DAA520",
    "navigate_num": "#000000",
    "navigate_text": "#333333",
    "running_highlight": "#FF0000",
    "selected_highlight": "#FFD700",
    "sidebar_border": "#EEEEEE",
    "wrapper_background": "#FFFFFF"
   },
   "moveMenuLeft": true,
   "nav_menu": {
    "height": "30px",
    "width": "252px"
   },
   "navigate_menu": true,
   "number_sections": true,
   "sideBar": true,
   "threshold": 4,
   "toc_cell": false,
   "toc_section_display": "block",
   "toc_window_display": false,
   "widenNotebook": false
  }
 },
 "nbformat": 4,
 "nbformat_minor": 2
}
